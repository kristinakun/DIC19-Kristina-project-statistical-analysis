{
 "cells": [
  {
   "cell_type": "markdown",
   "metadata": {
    "toc": true
   },
   "source": [
    "<h1>Table of Contents<span class=\"tocSkip\"></span></h1>\n",
    "<div class=\"toc\"><ul class=\"toc-item\"><li><span><a href=\"#Cleaning-data\" data-toc-modified-id=\"Cleaning-data-1\"><span class=\"toc-item-num\">1&nbsp;&nbsp;</span>Cleaning data</a></span><ul class=\"toc-item\"><li><span><a href=\"#Missing-values\" data-toc-modified-id=\"Missing-values-1.1\"><span class=\"toc-item-num\">1.1&nbsp;&nbsp;</span>Missing values</a></span><ul class=\"toc-item\"><li><span><a href=\"#Deleting-columns-with-more-than-20%-missing-values\" data-toc-modified-id=\"Deleting-columns-with-more-than-20%-missing-values-1.1.1\"><span class=\"toc-item-num\">1.1.1&nbsp;&nbsp;</span>Deleting columns with more than 20% missing values</a></span></li><li><span><a href=\"#Filtering-only-necessary-columns\" data-toc-modified-id=\"Filtering-only-necessary-columns-1.1.2\"><span class=\"toc-item-num\">1.1.2&nbsp;&nbsp;</span>Filtering only necessary columns</a></span></li><li><span><a href=\"#Deleting-rows-that-have-null-values\" data-toc-modified-id=\"Deleting-rows-that-have-null-values-1.1.3\"><span class=\"toc-item-num\">1.1.3&nbsp;&nbsp;</span>Deleting rows that have null values</a></span></li></ul></li><li><span><a href=\"#Cleaning-price\" data-toc-modified-id=\"Cleaning-price-1.2\"><span class=\"toc-item-num\">1.2&nbsp;&nbsp;</span>Cleaning price</a></span><ul class=\"toc-item\"><li><span><a href=\"#Deleting-pound-symbol\" data-toc-modified-id=\"Deleting-pound-symbol-1.2.1\"><span class=\"toc-item-num\">1.2.1&nbsp;&nbsp;</span>Deleting pound symbol</a></span></li><li><span><a href=\"#Deleting-comma-from-the-price\" data-toc-modified-id=\"Deleting-comma-from-the-price-1.2.2\"><span class=\"toc-item-num\">1.2.2&nbsp;&nbsp;</span>Deleting comma from the price</a></span></li><li><span><a href=\"#Converting-double-prices-to-average-price\" data-toc-modified-id=\"Converting-double-prices-to-average-price-1.2.3\"><span class=\"toc-item-num\">1.2.3&nbsp;&nbsp;</span>Converting double prices to average price</a></span></li><li><span><a href=\"#Converting-price-to-numeric\" data-toc-modified-id=\"Converting-price-to-numeric-1.2.4\"><span class=\"toc-item-num\">1.2.4&nbsp;&nbsp;</span>Converting price to numeric</a></span></li></ul></li><li><span><a href=\"#Cleaning-average-review-column\" data-toc-modified-id=\"Cleaning-average-review-column-1.3\"><span class=\"toc-item-num\">1.3&nbsp;&nbsp;</span>Cleaning average review column</a></span></li></ul></li><li><span><a href=\"#Understanding-and-manipulating-data\" data-toc-modified-id=\"Understanding-and-manipulating-data-2\"><span class=\"toc-item-num\">2&nbsp;&nbsp;</span>Understanding and manipulating data</a></span><ul class=\"toc-item\"><li><span><a href=\"#Renaming-columns\" data-toc-modified-id=\"Renaming-columns-2.1\"><span class=\"toc-item-num\">2.1&nbsp;&nbsp;</span>Renaming columns</a></span></li><li><span><a href=\"#Checking-values-per-column\" data-toc-modified-id=\"Checking-values-per-column-2.2\"><span class=\"toc-item-num\">2.2&nbsp;&nbsp;</span>Checking values per column</a></span><ul class=\"toc-item\"><li><span><a href=\"#How-many-different-products?\" data-toc-modified-id=\"How-many-different-products?-2.2.1\"><span class=\"toc-item-num\">2.2.1&nbsp;&nbsp;</span>How many different products?</a></span></li><li><span><a href=\"#How-many-different-manufacturers?\" data-toc-modified-id=\"How-many-different-manufacturers?-2.2.2\"><span class=\"toc-item-num\">2.2.2&nbsp;&nbsp;</span>How many different manufacturers?</a></span></li><li><span><a href=\"#How-many-different-categories?\" data-toc-modified-id=\"How-many-different-categories?-2.2.3\"><span class=\"toc-item-num\">2.2.3&nbsp;&nbsp;</span>How many different categories?</a></span></li><li><span><a href=\"#How-many-different-average-reviews?\" data-toc-modified-id=\"How-many-different-average-reviews?-2.2.4\"><span class=\"toc-item-num\">2.2.4&nbsp;&nbsp;</span>How many different average reviews?</a></span></li></ul></li><li><span><a href=\"#Splitting-to-main-and-sub-categories\" data-toc-modified-id=\"Splitting-to-main-and-sub-categories-2.3\"><span class=\"toc-item-num\">2.3&nbsp;&nbsp;</span>Splitting to main and sub categories</a></span></li><li><span><a href=\"#Changing-types-of-columns-(final-check)\" data-toc-modified-id=\"Changing-types-of-columns-(final-check)-2.4\"><span class=\"toc-item-num\">2.4&nbsp;&nbsp;</span>Changing types of columns (final check)</a></span></li></ul></li><li><span><a href=\"#EDA\" data-toc-modified-id=\"EDA-3\"><span class=\"toc-item-num\">3&nbsp;&nbsp;</span>EDA</a></span></li></ul></div>"
   ]
  },
  {
   "cell_type": "code",
   "execution_count": 1,
   "metadata": {
    "ExecuteTime": {
     "end_time": "2020-03-25T18:40:04.308443Z",
     "start_time": "2020-03-25T18:40:03.200618Z"
    }
   },
   "outputs": [],
   "source": [
    "import numpy as np\n",
    "import pandas as pd\n",
    "import seaborn as sns\n",
    "import matplotlib.pyplot as plt"
   ]
  },
  {
   "cell_type": "code",
   "execution_count": 2,
   "metadata": {
    "ExecuteTime": {
     "end_time": "2020-03-25T18:40:04.313957Z",
     "start_time": "2020-03-25T18:40:04.310964Z"
    }
   },
   "outputs": [],
   "source": [
    "#option to see more data\n",
    "\n",
    "#pd.set_option('display.max_rows', None)\n",
    "#pd.set_option('display.max_columns', None)"
   ]
  },
  {
   "cell_type": "code",
   "execution_count": 3,
   "metadata": {
    "ExecuteTime": {
     "end_time": "2020-03-25T18:40:04.643783Z",
     "start_time": "2020-03-25T18:40:04.315952Z"
    }
   },
   "outputs": [],
   "source": [
    "data = pd.read_csv('../data/amazon_co-ecommerce_sample.csv')"
   ]
  },
  {
   "cell_type": "code",
   "execution_count": 4,
   "metadata": {
    "ExecuteTime": {
     "end_time": "2020-03-25T18:40:04.650378Z",
     "start_time": "2020-03-25T18:40:04.645359Z"
    }
   },
   "outputs": [
    {
     "data": {
      "text/plain": [
       "(10000, 17)"
      ]
     },
     "execution_count": 4,
     "metadata": {},
     "output_type": "execute_result"
    }
   ],
   "source": [
    "data.shape"
   ]
  },
  {
   "cell_type": "code",
   "execution_count": 5,
   "metadata": {
    "ExecuteTime": {
     "end_time": "2020-03-25T18:40:04.674290Z",
     "start_time": "2020-03-25T18:40:04.651338Z"
    },
    "scrolled": true
   },
   "outputs": [
    {
     "data": {
      "text/html": [
       "<div>\n",
       "<style scoped>\n",
       "    .dataframe tbody tr th:only-of-type {\n",
       "        vertical-align: middle;\n",
       "    }\n",
       "\n",
       "    .dataframe tbody tr th {\n",
       "        vertical-align: top;\n",
       "    }\n",
       "\n",
       "    .dataframe thead th {\n",
       "        text-align: right;\n",
       "    }\n",
       "</style>\n",
       "<table border=\"1\" class=\"dataframe\">\n",
       "  <thead>\n",
       "    <tr style=\"text-align: right;\">\n",
       "      <th></th>\n",
       "      <th>uniq_id</th>\n",
       "      <th>product_name</th>\n",
       "      <th>manufacturer</th>\n",
       "      <th>price</th>\n",
       "      <th>number_available_in_stock</th>\n",
       "      <th>number_of_reviews</th>\n",
       "      <th>number_of_answered_questions</th>\n",
       "      <th>average_review_rating</th>\n",
       "      <th>amazon_category_and_sub_category</th>\n",
       "      <th>customers_who_bought_this_item_also_bought</th>\n",
       "      <th>description</th>\n",
       "      <th>product_information</th>\n",
       "      <th>product_description</th>\n",
       "      <th>items_customers_buy_after_viewing_this_item</th>\n",
       "      <th>customer_questions_and_answers</th>\n",
       "      <th>customer_reviews</th>\n",
       "      <th>sellers</th>\n",
       "    </tr>\n",
       "  </thead>\n",
       "  <tbody>\n",
       "    <tr>\n",
       "      <td>0</td>\n",
       "      <td>eac7efa5dbd3d667f26eb3d3ab504464</td>\n",
       "      <td>Hornby 2014 Catalogue</td>\n",
       "      <td>Hornby</td>\n",
       "      <td>£3.42</td>\n",
       "      <td>5 new</td>\n",
       "      <td>15</td>\n",
       "      <td>1.0</td>\n",
       "      <td>4.9 out of 5 stars</td>\n",
       "      <td>Hobbies &gt; Model Trains &amp; Railway Sets &gt; Rail V...</td>\n",
       "      <td>http://www.amazon.co.uk/Hornby-R8150-Catalogue...</td>\n",
       "      <td>Product Description Hornby 2014 Catalogue Box ...</td>\n",
       "      <td>Technical Details Item Weight640 g Product Dim...</td>\n",
       "      <td>Product Description Hornby 2014 Catalogue Box ...</td>\n",
       "      <td>http://www.amazon.co.uk/Hornby-R8150-Catalogue...</td>\n",
       "      <td>Does this catalogue detail all the previous Ho...</td>\n",
       "      <td>Worth Buying For The Pictures Alone (As Ever) ...</td>\n",
       "      <td>{\"seller\"=&gt;[{\"Seller_name_1\"=&gt;\"Amazon.co.uk\", ...</td>\n",
       "    </tr>\n",
       "    <tr>\n",
       "      <td>1</td>\n",
       "      <td>b17540ef7e86e461d37f3ae58b7b72ac</td>\n",
       "      <td>FunkyBuys® Large Christmas Holiday Express Fes...</td>\n",
       "      <td>FunkyBuys</td>\n",
       "      <td>£16.99</td>\n",
       "      <td>NaN</td>\n",
       "      <td>2</td>\n",
       "      <td>1.0</td>\n",
       "      <td>4.5 out of 5 stars</td>\n",
       "      <td>Hobbies &gt; Model Trains &amp; Railway Sets &gt; Rail V...</td>\n",
       "      <td>http://www.amazon.co.uk/Christmas-Holiday-Expr...</td>\n",
       "      <td>Size Name:Large FunkyBuys® Large Christmas Hol...</td>\n",
       "      <td>Technical Details Manufacturer recommended age...</td>\n",
       "      <td>Size Name:Large FunkyBuys® Large Christmas Hol...</td>\n",
       "      <td>http://www.amazon.co.uk/Christmas-Holiday-Expr...</td>\n",
       "      <td>can you turn off sounds // hi no you cant turn...</td>\n",
       "      <td>Four Stars // 4.0 // 18 Dec. 2015 // By\\n    \\...</td>\n",
       "      <td>{\"seller\"=&gt;{\"Seller_name_1\"=&gt;\"UHD WHOLESALE\", ...</td>\n",
       "    </tr>\n",
       "  </tbody>\n",
       "</table>\n",
       "</div>"
      ],
      "text/plain": [
       "                            uniq_id  \\\n",
       "0  eac7efa5dbd3d667f26eb3d3ab504464   \n",
       "1  b17540ef7e86e461d37f3ae58b7b72ac   \n",
       "\n",
       "                                        product_name manufacturer   price  \\\n",
       "0                              Hornby 2014 Catalogue       Hornby   £3.42   \n",
       "1  FunkyBuys® Large Christmas Holiday Express Fes...    FunkyBuys  £16.99   \n",
       "\n",
       "  number_available_in_stock number_of_reviews  number_of_answered_questions  \\\n",
       "0                     5 new                15                           1.0   \n",
       "1                       NaN                 2                           1.0   \n",
       "\n",
       "  average_review_rating                   amazon_category_and_sub_category  \\\n",
       "0    4.9 out of 5 stars  Hobbies > Model Trains & Railway Sets > Rail V...   \n",
       "1    4.5 out of 5 stars  Hobbies > Model Trains & Railway Sets > Rail V...   \n",
       "\n",
       "          customers_who_bought_this_item_also_bought  \\\n",
       "0  http://www.amazon.co.uk/Hornby-R8150-Catalogue...   \n",
       "1  http://www.amazon.co.uk/Christmas-Holiday-Expr...   \n",
       "\n",
       "                                         description  \\\n",
       "0  Product Description Hornby 2014 Catalogue Box ...   \n",
       "1  Size Name:Large FunkyBuys® Large Christmas Hol...   \n",
       "\n",
       "                                 product_information  \\\n",
       "0  Technical Details Item Weight640 g Product Dim...   \n",
       "1  Technical Details Manufacturer recommended age...   \n",
       "\n",
       "                                 product_description  \\\n",
       "0  Product Description Hornby 2014 Catalogue Box ...   \n",
       "1  Size Name:Large FunkyBuys® Large Christmas Hol...   \n",
       "\n",
       "         items_customers_buy_after_viewing_this_item  \\\n",
       "0  http://www.amazon.co.uk/Hornby-R8150-Catalogue...   \n",
       "1  http://www.amazon.co.uk/Christmas-Holiday-Expr...   \n",
       "\n",
       "                      customer_questions_and_answers  \\\n",
       "0  Does this catalogue detail all the previous Ho...   \n",
       "1  can you turn off sounds // hi no you cant turn...   \n",
       "\n",
       "                                    customer_reviews  \\\n",
       "0  Worth Buying For The Pictures Alone (As Ever) ...   \n",
       "1  Four Stars // 4.0 // 18 Dec. 2015 // By\\n    \\...   \n",
       "\n",
       "                                             sellers  \n",
       "0  {\"seller\"=>[{\"Seller_name_1\"=>\"Amazon.co.uk\", ...  \n",
       "1  {\"seller\"=>{\"Seller_name_1\"=>\"UHD WHOLESALE\", ...  "
      ]
     },
     "execution_count": 5,
     "metadata": {},
     "output_type": "execute_result"
    }
   ],
   "source": [
    "data.head(2)"
   ]
  },
  {
   "cell_type": "markdown",
   "metadata": {},
   "source": [
    "## Cleaning data"
   ]
  },
  {
   "cell_type": "markdown",
   "metadata": {},
   "source": [
    "### Missing values"
   ]
  },
  {
   "cell_type": "code",
   "execution_count": 6,
   "metadata": {
    "ExecuteTime": {
     "end_time": "2020-03-25T18:40:04.707882Z",
     "start_time": "2020-03-25T18:40:04.675275Z"
    }
   },
   "outputs": [
    {
     "data": {
      "text/plain": [
       "customer_questions_and_answers                 90.86\n",
       "sellers                                        30.82\n",
       "items_customers_buy_after_viewing_this_item    30.65\n",
       "number_available_in_stock                      25.00\n",
       "price                                          14.35\n",
       "customers_who_bought_this_item_also_bought     10.62\n",
       "number_of_answered_questions                    7.65\n",
       "amazon_category_and_sub_category                6.90\n",
       "description                                     6.51\n",
       "product_description                             6.51\n",
       "product_information                             0.58\n",
       "customer_reviews                                0.21\n",
       "average_review_rating                           0.18\n",
       "number_of_reviews                               0.18\n",
       "manufacturer                                    0.07\n",
       "product_name                                    0.00\n",
       "uniq_id                                         0.00\n",
       "dtype: float64"
      ]
     },
     "execution_count": 6,
     "metadata": {},
     "output_type": "execute_result"
    }
   ],
   "source": [
    "#checking missing values\n",
    "\n",
    "percent_missing = data.isnull().sum() * 100 / len(data)\n",
    "percent_missing.sort_values(ascending=False)"
   ]
  },
  {
   "cell_type": "markdown",
   "metadata": {},
   "source": [
    "#### Deleting columns with more than 20% missing values"
   ]
  },
  {
   "cell_type": "code",
   "execution_count": 7,
   "metadata": {
    "ExecuteTime": {
     "end_time": "2020-03-25T18:40:04.728828Z",
     "start_time": "2020-03-25T18:40:04.707882Z"
    }
   },
   "outputs": [],
   "source": [
    "missing_value_df = pd.DataFrame({'column_name': data.columns,\n",
    "                                 'percent_missing': percent_missing})\n",
    "\n",
    "df_missing_20 = missing_value_df.loc[missing_value_df.percent_missing > 20]\n",
    "\n",
    "col_drop = df_missing_20.column_name\n",
    "\n",
    "for col in col_drop:\n",
    "    data = data.drop(col, axis=1)\n"
   ]
  },
  {
   "cell_type": "code",
   "execution_count": 8,
   "metadata": {
    "ExecuteTime": {
     "end_time": "2020-03-25T18:40:04.736806Z",
     "start_time": "2020-03-25T18:40:04.731821Z"
    }
   },
   "outputs": [
    {
     "data": {
      "text/plain": [
       "(10000, 13)"
      ]
     },
     "execution_count": 8,
     "metadata": {},
     "output_type": "execute_result"
    }
   ],
   "source": [
    "data.shape"
   ]
  },
  {
   "cell_type": "code",
   "execution_count": 9,
   "metadata": {
    "ExecuteTime": {
     "end_time": "2020-03-25T18:40:04.754759Z",
     "start_time": "2020-03-25T18:40:04.738801Z"
    }
   },
   "outputs": [
    {
     "data": {
      "text/plain": [
       "price                                         14.35\n",
       "customers_who_bought_this_item_also_bought    10.62\n",
       "number_of_answered_questions                   7.65\n",
       "amazon_category_and_sub_category               6.90\n",
       "product_description                            6.51\n",
       "description                                    6.51\n",
       "product_information                            0.58\n",
       "customer_reviews                               0.21\n",
       "average_review_rating                          0.18\n",
       "number_of_reviews                              0.18\n",
       "manufacturer                                   0.07\n",
       "product_name                                   0.00\n",
       "uniq_id                                        0.00\n",
       "dtype: float64"
      ]
     },
     "execution_count": 9,
     "metadata": {},
     "output_type": "execute_result"
    }
   ],
   "source": [
    "percent_missing = data.isnull().sum() * 100 / len(data)\n",
    "percent_missing.sort_values(ascending=False)"
   ]
  },
  {
   "cell_type": "markdown",
   "metadata": {},
   "source": [
    "#### Filtering only necessary columns"
   ]
  },
  {
   "cell_type": "code",
   "execution_count": 10,
   "metadata": {
    "ExecuteTime": {
     "end_time": "2020-03-25T18:40:04.760744Z",
     "start_time": "2020-03-25T18:40:04.755756Z"
    }
   },
   "outputs": [],
   "source": [
    "df = data.loc[:,['uniq_id', 'product_name', 'manufacturer', 'price', 'number_of_reviews',\n",
    "       'number_of_answered_questions', 'average_review_rating', 'amazon_category_and_sub_category']]"
   ]
  },
  {
   "cell_type": "code",
   "execution_count": 11,
   "metadata": {
    "ExecuteTime": {
     "end_time": "2020-03-25T18:40:04.768725Z",
     "start_time": "2020-03-25T18:40:04.762736Z"
    }
   },
   "outputs": [
    {
     "data": {
      "text/plain": [
       "(10000, 8)"
      ]
     },
     "execution_count": 11,
     "metadata": {},
     "output_type": "execute_result"
    }
   ],
   "source": [
    "df.shape"
   ]
  },
  {
   "cell_type": "markdown",
   "metadata": {},
   "source": [
    "#### Deleting rows that have null values"
   ]
  },
  {
   "cell_type": "code",
   "execution_count": 12,
   "metadata": {
    "ExecuteTime": {
     "end_time": "2020-03-25T18:40:04.778699Z",
     "start_time": "2020-03-25T18:40:04.770716Z"
    }
   },
   "outputs": [],
   "source": [
    "#how=any for any NaN to delete rows\n",
    "\n",
    "df.dropna(axis=0, how='any', inplace=True)"
   ]
  },
  {
   "cell_type": "code",
   "execution_count": 13,
   "metadata": {
    "ExecuteTime": {
     "end_time": "2020-03-25T18:40:04.785677Z",
     "start_time": "2020-03-25T18:40:04.780692Z"
    }
   },
   "outputs": [
    {
     "data": {
      "text/plain": [
       "(7366, 8)"
      ]
     },
     "execution_count": 13,
     "metadata": {},
     "output_type": "execute_result"
    }
   ],
   "source": [
    "df.shape"
   ]
  },
  {
   "cell_type": "markdown",
   "metadata": {},
   "source": [
    "### Cleaning price"
   ]
  },
  {
   "cell_type": "code",
   "execution_count": 14,
   "metadata": {
    "ExecuteTime": {
     "end_time": "2020-03-25T18:40:04.793673Z",
     "start_time": "2020-03-25T18:40:04.786673Z"
    }
   },
   "outputs": [
    {
     "data": {
      "text/plain": [
       "£9.99     158\n",
       "£4.99     126\n",
       "£14.99    117\n",
       "£12.99    111\n",
       "£5.99     108\n",
       "Name: price, dtype: int64"
      ]
     },
     "execution_count": 14,
     "metadata": {},
     "output_type": "execute_result"
    }
   ],
   "source": [
    "df.price.value_counts().head()"
   ]
  },
  {
   "cell_type": "markdown",
   "metadata": {},
   "source": [
    "#### Deleting pound symbol"
   ]
  },
  {
   "cell_type": "code",
   "execution_count": 15,
   "metadata": {
    "ExecuteTime": {
     "end_time": "2020-03-25T18:40:04.805622Z",
     "start_time": "2020-03-25T18:40:04.795649Z"
    }
   },
   "outputs": [],
   "source": [
    "df['price'] = df['price'].str.replace('£', '')"
   ]
  },
  {
   "cell_type": "markdown",
   "metadata": {},
   "source": [
    "#### Deleting comma from the price"
   ]
  },
  {
   "cell_type": "code",
   "execution_count": 16,
   "metadata": {
    "ExecuteTime": {
     "end_time": "2020-03-25T18:40:04.814599Z",
     "start_time": "2020-03-25T18:40:04.806620Z"
    }
   },
   "outputs": [],
   "source": [
    "df['price'] = df['price'].str.replace(',', '')"
   ]
  },
  {
   "cell_type": "markdown",
   "metadata": {},
   "source": [
    "#### Converting double prices to average price"
   ]
  },
  {
   "cell_type": "code",
   "execution_count": 17,
   "metadata": {
    "ExecuteTime": {
     "end_time": "2020-03-25T18:40:04.831552Z",
     "start_time": "2020-03-25T18:40:04.816593Z"
    }
   },
   "outputs": [],
   "source": [
    "#splitting double prices to two columns\n",
    "\n",
    "df[['price1', 'price2']] = df.price.str.split(' - ', expand = True)"
   ]
  },
  {
   "cell_type": "code",
   "execution_count": 18,
   "metadata": {
    "ExecuteTime": {
     "end_time": "2020-03-25T18:40:04.851501Z",
     "start_time": "2020-03-25T18:40:04.832549Z"
    }
   },
   "outputs": [
    {
     "data": {
      "text/html": [
       "<div>\n",
       "<style scoped>\n",
       "    .dataframe tbody tr th:only-of-type {\n",
       "        vertical-align: middle;\n",
       "    }\n",
       "\n",
       "    .dataframe tbody tr th {\n",
       "        vertical-align: top;\n",
       "    }\n",
       "\n",
       "    .dataframe thead th {\n",
       "        text-align: right;\n",
       "    }\n",
       "</style>\n",
       "<table border=\"1\" class=\"dataframe\">\n",
       "  <thead>\n",
       "    <tr style=\"text-align: right;\">\n",
       "      <th></th>\n",
       "      <th>uniq_id</th>\n",
       "      <th>product_name</th>\n",
       "      <th>manufacturer</th>\n",
       "      <th>price</th>\n",
       "      <th>number_of_reviews</th>\n",
       "      <th>number_of_answered_questions</th>\n",
       "      <th>average_review_rating</th>\n",
       "      <th>amazon_category_and_sub_category</th>\n",
       "      <th>price1</th>\n",
       "      <th>price2</th>\n",
       "    </tr>\n",
       "  </thead>\n",
       "  <tbody>\n",
       "    <tr>\n",
       "      <td>1808</td>\n",
       "      <td>e429e677677a754741ef6c75141cb4f2</td>\n",
       "      <td>TAVERN WENCH ADULT FANCY DRESS COSTUME LADIES ...</td>\n",
       "      <td>Sancto</td>\n",
       "      <td>22.39 - 41.23</td>\n",
       "      <td>6</td>\n",
       "      <td>1.0</td>\n",
       "      <td>4.3 out of 5 stars</td>\n",
       "      <td>Fancy Dress &gt; Accessories &gt; Sets &amp; Kits</td>\n",
       "      <td>22.39</td>\n",
       "      <td>41.23</td>\n",
       "    </tr>\n",
       "    <tr>\n",
       "      <td>1814</td>\n",
       "      <td>52de34eff5c983e74c2cd3be60bb76cf</td>\n",
       "      <td>HEAVY FABRIC CARDINAL FANCY DRESS COSTUME MENS...</td>\n",
       "      <td>Sancto</td>\n",
       "      <td>25.34 - 56.44</td>\n",
       "      <td>5</td>\n",
       "      <td>3.0</td>\n",
       "      <td>4.6 out of 5 stars</td>\n",
       "      <td>Fancy Dress &gt; Costumes &gt; Adults</td>\n",
       "      <td>25.34</td>\n",
       "      <td>56.44</td>\n",
       "    </tr>\n",
       "    <tr>\n",
       "      <td>1837</td>\n",
       "      <td>6fdbfde4f2bc42a4671164f418066ca2</td>\n",
       "      <td>Mr Incredible - Adult Fancy Dress Costume</td>\n",
       "      <td>RUBBIES FRANCE</td>\n",
       "      <td>39.94 - 76.46</td>\n",
       "      <td>15</td>\n",
       "      <td>1.0</td>\n",
       "      <td>4.7 out of 5 stars</td>\n",
       "      <td>Fancy Dress &gt; Accessories &gt; Sets &amp; Kits</td>\n",
       "      <td>39.94</td>\n",
       "      <td>76.46</td>\n",
       "    </tr>\n",
       "    <tr>\n",
       "      <td>3178</td>\n",
       "      <td>58f68b5d440489e0582a1e40ebd3fac0</td>\n",
       "      <td>MEN'S HORROR FILM SCREAMER HALLOWEEN FANCY DRE...</td>\n",
       "      <td>Wicked</td>\n",
       "      <td>9.95 - 16.95</td>\n",
       "      <td>1</td>\n",
       "      <td>2.0</td>\n",
       "      <td>5.0 out of 5 stars</td>\n",
       "      <td>Fancy Dress &gt; Costumes &gt; Adults</td>\n",
       "      <td>9.95</td>\n",
       "      <td>16.95</td>\n",
       "    </tr>\n",
       "    <tr>\n",
       "      <td>3235</td>\n",
       "      <td>cb7e11d70bebee92013e45699700fc39</td>\n",
       "      <td>Smiffy's Roman Warrior Deluxe Costume</td>\n",
       "      <td>Smiffy's</td>\n",
       "      <td>23.94 - 46.50</td>\n",
       "      <td>4</td>\n",
       "      <td>1.0</td>\n",
       "      <td>4.3 out of 5 stars</td>\n",
       "      <td>Fancy Dress &gt; Costumes</td>\n",
       "      <td>23.94</td>\n",
       "      <td>46.50</td>\n",
       "    </tr>\n",
       "  </tbody>\n",
       "</table>\n",
       "</div>"
      ],
      "text/plain": [
       "                               uniq_id  \\\n",
       "1808  e429e677677a754741ef6c75141cb4f2   \n",
       "1814  52de34eff5c983e74c2cd3be60bb76cf   \n",
       "1837  6fdbfde4f2bc42a4671164f418066ca2   \n",
       "3178  58f68b5d440489e0582a1e40ebd3fac0   \n",
       "3235  cb7e11d70bebee92013e45699700fc39   \n",
       "\n",
       "                                           product_name    manufacturer  \\\n",
       "1808  TAVERN WENCH ADULT FANCY DRESS COSTUME LADIES ...          Sancto   \n",
       "1814  HEAVY FABRIC CARDINAL FANCY DRESS COSTUME MENS...          Sancto   \n",
       "1837          Mr Incredible - Adult Fancy Dress Costume  RUBBIES FRANCE   \n",
       "3178  MEN'S HORROR FILM SCREAMER HALLOWEEN FANCY DRE...          Wicked   \n",
       "3235              Smiffy's Roman Warrior Deluxe Costume        Smiffy's   \n",
       "\n",
       "              price number_of_reviews  number_of_answered_questions  \\\n",
       "1808  22.39 - 41.23                 6                           1.0   \n",
       "1814  25.34 - 56.44                 5                           3.0   \n",
       "1837  39.94 - 76.46                15                           1.0   \n",
       "3178   9.95 - 16.95                 1                           2.0   \n",
       "3235  23.94 - 46.50                 4                           1.0   \n",
       "\n",
       "     average_review_rating         amazon_category_and_sub_category price1  \\\n",
       "1808    4.3 out of 5 stars  Fancy Dress > Accessories > Sets & Kits  22.39   \n",
       "1814    4.6 out of 5 stars          Fancy Dress > Costumes > Adults  25.34   \n",
       "1837    4.7 out of 5 stars  Fancy Dress > Accessories > Sets & Kits  39.94   \n",
       "3178    5.0 out of 5 stars          Fancy Dress > Costumes > Adults   9.95   \n",
       "3235    4.3 out of 5 stars                   Fancy Dress > Costumes  23.94   \n",
       "\n",
       "     price2  \n",
       "1808  41.23  \n",
       "1814  56.44  \n",
       "1837  76.46  \n",
       "3178  16.95  \n",
       "3235  46.50  "
      ]
     },
     "execution_count": 18,
     "metadata": {},
     "output_type": "execute_result"
    }
   ],
   "source": [
    "#checking only the prices with -\n",
    "\n",
    "df.loc[df['price'].str.contains('-')].head()"
   ]
  },
  {
   "cell_type": "code",
   "execution_count": 19,
   "metadata": {
    "ExecuteTime": {
     "end_time": "2020-03-25T18:40:04.856487Z",
     "start_time": "2020-03-25T18:40:04.852495Z"
    }
   },
   "outputs": [],
   "source": [
    "#function to change column to numeric\n",
    "\n",
    "def price_to_numeric(x):\n",
    "    df[x] = pd.to_numeric(df[x])"
   ]
  },
  {
   "cell_type": "code",
   "execution_count": 20,
   "metadata": {
    "ExecuteTime": {
     "end_time": "2020-03-25T18:40:04.868456Z",
     "start_time": "2020-03-25T18:40:04.858482Z"
    }
   },
   "outputs": [],
   "source": [
    "#changing types to numeric to be able to calculate mean\n",
    "\n",
    "price_to_numeric('price1')\n",
    "price_to_numeric('price2')"
   ]
  },
  {
   "cell_type": "code",
   "execution_count": 21,
   "metadata": {
    "ExecuteTime": {
     "end_time": "2020-03-25T18:40:04.875435Z",
     "start_time": "2020-03-25T18:40:04.869452Z"
    }
   },
   "outputs": [
    {
     "data": {
      "text/plain": [
       "numpy.float64"
      ]
     },
     "execution_count": 21,
     "metadata": {},
     "output_type": "execute_result"
    }
   ],
   "source": [
    "#checking the type\n",
    "\n",
    "type(df.price1[0])"
   ]
  },
  {
   "cell_type": "code",
   "execution_count": 22,
   "metadata": {
    "ExecuteTime": {
     "end_time": "2020-03-25T18:40:04.884412Z",
     "start_time": "2020-03-25T18:40:04.877430Z"
    }
   },
   "outputs": [],
   "source": [
    "#creating new column with final prices: apply mean for the rows with double price\n",
    "\n",
    "df['new_price'] = np.where(df['price2'].notnull(), (df['price1']+df['price2'])/2, df['price1'])"
   ]
  },
  {
   "cell_type": "code",
   "execution_count": 23,
   "metadata": {
    "ExecuteTime": {
     "end_time": "2020-03-25T18:40:04.896379Z",
     "start_time": "2020-03-25T18:40:04.889398Z"
    }
   },
   "outputs": [],
   "source": [
    "#Deleting additional columns, leaving one clean price\n",
    "\n",
    "df.drop(['price', 'price1', 'price2'], axis=1, inplace=True)"
   ]
  },
  {
   "cell_type": "code",
   "execution_count": 24,
   "metadata": {
    "ExecuteTime": {
     "end_time": "2020-03-25T18:40:04.908348Z",
     "start_time": "2020-03-25T18:40:04.898375Z"
    }
   },
   "outputs": [
    {
     "data": {
      "text/html": [
       "<div>\n",
       "<style scoped>\n",
       "    .dataframe tbody tr th:only-of-type {\n",
       "        vertical-align: middle;\n",
       "    }\n",
       "\n",
       "    .dataframe tbody tr th {\n",
       "        vertical-align: top;\n",
       "    }\n",
       "\n",
       "    .dataframe thead th {\n",
       "        text-align: right;\n",
       "    }\n",
       "</style>\n",
       "<table border=\"1\" class=\"dataframe\">\n",
       "  <thead>\n",
       "    <tr style=\"text-align: right;\">\n",
       "      <th></th>\n",
       "      <th>uniq_id</th>\n",
       "      <th>product_name</th>\n",
       "      <th>manufacturer</th>\n",
       "      <th>number_of_reviews</th>\n",
       "      <th>number_of_answered_questions</th>\n",
       "      <th>average_review_rating</th>\n",
       "      <th>amazon_category_and_sub_category</th>\n",
       "      <th>new_price</th>\n",
       "    </tr>\n",
       "  </thead>\n",
       "  <tbody>\n",
       "    <tr>\n",
       "      <td>0</td>\n",
       "      <td>eac7efa5dbd3d667f26eb3d3ab504464</td>\n",
       "      <td>Hornby 2014 Catalogue</td>\n",
       "      <td>Hornby</td>\n",
       "      <td>15</td>\n",
       "      <td>1.0</td>\n",
       "      <td>4.9 out of 5 stars</td>\n",
       "      <td>Hobbies &gt; Model Trains &amp; Railway Sets &gt; Rail V...</td>\n",
       "      <td>3.42</td>\n",
       "    </tr>\n",
       "    <tr>\n",
       "      <td>1</td>\n",
       "      <td>b17540ef7e86e461d37f3ae58b7b72ac</td>\n",
       "      <td>FunkyBuys® Large Christmas Holiday Express Fes...</td>\n",
       "      <td>FunkyBuys</td>\n",
       "      <td>2</td>\n",
       "      <td>1.0</td>\n",
       "      <td>4.5 out of 5 stars</td>\n",
       "      <td>Hobbies &gt; Model Trains &amp; Railway Sets &gt; Rail V...</td>\n",
       "      <td>16.99</td>\n",
       "    </tr>\n",
       "    <tr>\n",
       "      <td>2</td>\n",
       "      <td>348f344247b0c1a935b1223072ef9d8a</td>\n",
       "      <td>CLASSIC TOY TRAIN SET TRACK CARRIAGES LIGHT EN...</td>\n",
       "      <td>ccf</td>\n",
       "      <td>17</td>\n",
       "      <td>2.0</td>\n",
       "      <td>3.9 out of 5 stars</td>\n",
       "      <td>Hobbies &gt; Model Trains &amp; Railway Sets &gt; Rail V...</td>\n",
       "      <td>9.99</td>\n",
       "    </tr>\n",
       "    <tr>\n",
       "      <td>3</td>\n",
       "      <td>e12b92dbb8eaee78b22965d2a9bbbd9f</td>\n",
       "      <td>HORNBY Coach R4410A BR Hawksworth Corridor 3rd</td>\n",
       "      <td>Hornby</td>\n",
       "      <td>1</td>\n",
       "      <td>2.0</td>\n",
       "      <td>5.0 out of 5 stars</td>\n",
       "      <td>Hobbies &gt; Model Trains &amp; Railway Sets &gt; Rail V...</td>\n",
       "      <td>39.99</td>\n",
       "    </tr>\n",
       "    <tr>\n",
       "      <td>4</td>\n",
       "      <td>e33a9adeed5f36840ccc227db4682a36</td>\n",
       "      <td>Hornby 00 Gauge 0-4-0 Gildenlow Salt Co. Steam...</td>\n",
       "      <td>Hornby</td>\n",
       "      <td>3</td>\n",
       "      <td>2.0</td>\n",
       "      <td>4.7 out of 5 stars</td>\n",
       "      <td>Hobbies &gt; Model Trains &amp; Railway Sets &gt; Rail V...</td>\n",
       "      <td>32.19</td>\n",
       "    </tr>\n",
       "  </tbody>\n",
       "</table>\n",
       "</div>"
      ],
      "text/plain": [
       "                            uniq_id  \\\n",
       "0  eac7efa5dbd3d667f26eb3d3ab504464   \n",
       "1  b17540ef7e86e461d37f3ae58b7b72ac   \n",
       "2  348f344247b0c1a935b1223072ef9d8a   \n",
       "3  e12b92dbb8eaee78b22965d2a9bbbd9f   \n",
       "4  e33a9adeed5f36840ccc227db4682a36   \n",
       "\n",
       "                                        product_name manufacturer  \\\n",
       "0                              Hornby 2014 Catalogue       Hornby   \n",
       "1  FunkyBuys® Large Christmas Holiday Express Fes...    FunkyBuys   \n",
       "2  CLASSIC TOY TRAIN SET TRACK CARRIAGES LIGHT EN...          ccf   \n",
       "3     HORNBY Coach R4410A BR Hawksworth Corridor 3rd       Hornby   \n",
       "4  Hornby 00 Gauge 0-4-0 Gildenlow Salt Co. Steam...       Hornby   \n",
       "\n",
       "  number_of_reviews  number_of_answered_questions average_review_rating  \\\n",
       "0                15                           1.0    4.9 out of 5 stars   \n",
       "1                 2                           1.0    4.5 out of 5 stars   \n",
       "2                17                           2.0    3.9 out of 5 stars   \n",
       "3                 1                           2.0    5.0 out of 5 stars   \n",
       "4                 3                           2.0    4.7 out of 5 stars   \n",
       "\n",
       "                    amazon_category_and_sub_category  new_price  \n",
       "0  Hobbies > Model Trains & Railway Sets > Rail V...       3.42  \n",
       "1  Hobbies > Model Trains & Railway Sets > Rail V...      16.99  \n",
       "2  Hobbies > Model Trains & Railway Sets > Rail V...       9.99  \n",
       "3  Hobbies > Model Trains & Railway Sets > Rail V...      39.99  \n",
       "4  Hobbies > Model Trains & Railway Sets > Rail V...      32.19  "
      ]
     },
     "execution_count": 24,
     "metadata": {},
     "output_type": "execute_result"
    }
   ],
   "source": [
    "df.head()"
   ]
  },
  {
   "cell_type": "markdown",
   "metadata": {},
   "source": [
    "#### Converting price to numeric"
   ]
  },
  {
   "cell_type": "code",
   "execution_count": 25,
   "metadata": {
    "ExecuteTime": {
     "end_time": "2020-03-25T18:40:04.915329Z",
     "start_time": "2020-03-25T18:40:04.909346Z"
    }
   },
   "outputs": [],
   "source": [
    "price_to_numeric('new_price')"
   ]
  },
  {
   "cell_type": "code",
   "execution_count": 26,
   "metadata": {
    "ExecuteTime": {
     "end_time": "2020-03-25T18:40:04.921313Z",
     "start_time": "2020-03-25T18:40:04.916326Z"
    }
   },
   "outputs": [
    {
     "data": {
      "text/plain": [
       "numpy.float64"
      ]
     },
     "execution_count": 26,
     "metadata": {},
     "output_type": "execute_result"
    }
   ],
   "source": [
    "type(df['new_price'][0])"
   ]
  },
  {
   "cell_type": "markdown",
   "metadata": {},
   "source": [
    "### Cleaning average review column"
   ]
  },
  {
   "cell_type": "code",
   "execution_count": 27,
   "metadata": {
    "ExecuteTime": {
     "end_time": "2020-03-25T18:40:04.928294Z",
     "start_time": "2020-03-25T18:40:04.922310Z"
    }
   },
   "outputs": [
    {
     "data": {
      "text/plain": [
       "5.0 out of 5 stars    3793\n",
       "4.0 out of 5 stars     957\n",
       "4.5 out of 5 stars     523\n",
       "4.8 out of 5 stars     418\n",
       "4.7 out of 5 stars     393\n",
       "4.3 out of 5 stars     305\n",
       "4.6 out of 5 stars     297\n",
       "4.4 out of 5 stars     220\n",
       "4.9 out of 5 stars     168\n",
       "4.2 out of 5 stars     163\n",
       "4.1 out of 5 stars     115\n",
       "3.9 out of 5 stars       5\n",
       "3.6 out of 5 stars       2\n",
       "3.5 out of 5 stars       2\n",
       "3.3 out of 5 stars       2\n",
       "2.3 out of 5 stars       1\n",
       "3.7 out of 5 stars       1\n",
       "3.0 out of 5 stars       1\n",
       "Name: average_review_rating, dtype: int64"
      ]
     },
     "execution_count": 27,
     "metadata": {},
     "output_type": "execute_result"
    }
   ],
   "source": [
    "df.average_review_rating.value_counts()"
   ]
  },
  {
   "cell_type": "code",
   "execution_count": 28,
   "metadata": {
    "ExecuteTime": {
     "end_time": "2020-03-25T18:40:04.942256Z",
     "start_time": "2020-03-25T18:40:04.929290Z"
    }
   },
   "outputs": [],
   "source": [
    "#extracting only the evaluation from the string\n",
    "\n",
    "df['ave_review_rating'] = df.average_review_rating.str.extract('(\\d+\\.?\\d+)', expand=False)"
   ]
  },
  {
   "cell_type": "code",
   "execution_count": 29,
   "metadata": {
    "ExecuteTime": {
     "end_time": "2020-03-25T18:40:04.949239Z",
     "start_time": "2020-03-25T18:40:04.943254Z"
    }
   },
   "outputs": [],
   "source": [
    "#converting to numeric\n",
    "\n",
    "price_to_numeric('ave_review_rating')"
   ]
  },
  {
   "cell_type": "code",
   "execution_count": 30,
   "metadata": {
    "ExecuteTime": {
     "end_time": "2020-03-25T18:40:04.955222Z",
     "start_time": "2020-03-25T18:40:04.950236Z"
    }
   },
   "outputs": [
    {
     "data": {
      "text/plain": [
       "numpy.float64"
      ]
     },
     "execution_count": 30,
     "metadata": {},
     "output_type": "execute_result"
    }
   ],
   "source": [
    "type(df['ave_review_rating'][0])"
   ]
  },
  {
   "cell_type": "code",
   "execution_count": 31,
   "metadata": {
    "ExecuteTime": {
     "end_time": "2020-03-25T18:40:04.961206Z",
     "start_time": "2020-03-25T18:40:04.956220Z"
    }
   },
   "outputs": [],
   "source": [
    "#deleting old column\n",
    "\n",
    "df.drop('average_review_rating', axis=1, inplace=True)"
   ]
  },
  {
   "cell_type": "markdown",
   "metadata": {},
   "source": [
    "## Understanding and manipulating data"
   ]
  },
  {
   "cell_type": "markdown",
   "metadata": {},
   "source": [
    "### Renaming columns"
   ]
  },
  {
   "cell_type": "code",
   "execution_count": 32,
   "metadata": {
    "ExecuteTime": {
     "end_time": "2020-03-25T18:40:04.967190Z",
     "start_time": "2020-03-25T18:40:04.962204Z"
    }
   },
   "outputs": [],
   "source": [
    "colnames = ['uniq_id', 'product_name', 'manufacturer', 'num_reviews',\n",
    "       'num_answ_questions', 'cat_and_subcat', 'price', 'ave_review_rating']"
   ]
  },
  {
   "cell_type": "code",
   "execution_count": 33,
   "metadata": {
    "ExecuteTime": {
     "end_time": "2020-03-25T18:40:04.973174Z",
     "start_time": "2020-03-25T18:40:04.969186Z"
    }
   },
   "outputs": [],
   "source": [
    "df.columns=colnames"
   ]
  },
  {
   "cell_type": "code",
   "execution_count": 34,
   "metadata": {
    "ExecuteTime": {
     "end_time": "2020-03-25T18:40:04.986362Z",
     "start_time": "2020-03-25T18:40:04.975169Z"
    }
   },
   "outputs": [
    {
     "data": {
      "text/html": [
       "<div>\n",
       "<style scoped>\n",
       "    .dataframe tbody tr th:only-of-type {\n",
       "        vertical-align: middle;\n",
       "    }\n",
       "\n",
       "    .dataframe tbody tr th {\n",
       "        vertical-align: top;\n",
       "    }\n",
       "\n",
       "    .dataframe thead th {\n",
       "        text-align: right;\n",
       "    }\n",
       "</style>\n",
       "<table border=\"1\" class=\"dataframe\">\n",
       "  <thead>\n",
       "    <tr style=\"text-align: right;\">\n",
       "      <th></th>\n",
       "      <th>uniq_id</th>\n",
       "      <th>product_name</th>\n",
       "      <th>manufacturer</th>\n",
       "      <th>num_reviews</th>\n",
       "      <th>num_answ_questions</th>\n",
       "      <th>cat_and_subcat</th>\n",
       "      <th>price</th>\n",
       "      <th>ave_review_rating</th>\n",
       "    </tr>\n",
       "  </thead>\n",
       "  <tbody>\n",
       "    <tr>\n",
       "      <td>0</td>\n",
       "      <td>eac7efa5dbd3d667f26eb3d3ab504464</td>\n",
       "      <td>Hornby 2014 Catalogue</td>\n",
       "      <td>Hornby</td>\n",
       "      <td>15</td>\n",
       "      <td>1.0</td>\n",
       "      <td>Hobbies &gt; Model Trains &amp; Railway Sets &gt; Rail V...</td>\n",
       "      <td>3.42</td>\n",
       "      <td>4.9</td>\n",
       "    </tr>\n",
       "    <tr>\n",
       "      <td>1</td>\n",
       "      <td>b17540ef7e86e461d37f3ae58b7b72ac</td>\n",
       "      <td>FunkyBuys® Large Christmas Holiday Express Fes...</td>\n",
       "      <td>FunkyBuys</td>\n",
       "      <td>2</td>\n",
       "      <td>1.0</td>\n",
       "      <td>Hobbies &gt; Model Trains &amp; Railway Sets &gt; Rail V...</td>\n",
       "      <td>16.99</td>\n",
       "      <td>4.5</td>\n",
       "    </tr>\n",
       "    <tr>\n",
       "      <td>2</td>\n",
       "      <td>348f344247b0c1a935b1223072ef9d8a</td>\n",
       "      <td>CLASSIC TOY TRAIN SET TRACK CARRIAGES LIGHT EN...</td>\n",
       "      <td>ccf</td>\n",
       "      <td>17</td>\n",
       "      <td>2.0</td>\n",
       "      <td>Hobbies &gt; Model Trains &amp; Railway Sets &gt; Rail V...</td>\n",
       "      <td>9.99</td>\n",
       "      <td>3.9</td>\n",
       "    </tr>\n",
       "    <tr>\n",
       "      <td>3</td>\n",
       "      <td>e12b92dbb8eaee78b22965d2a9bbbd9f</td>\n",
       "      <td>HORNBY Coach R4410A BR Hawksworth Corridor 3rd</td>\n",
       "      <td>Hornby</td>\n",
       "      <td>1</td>\n",
       "      <td>2.0</td>\n",
       "      <td>Hobbies &gt; Model Trains &amp; Railway Sets &gt; Rail V...</td>\n",
       "      <td>39.99</td>\n",
       "      <td>5.0</td>\n",
       "    </tr>\n",
       "    <tr>\n",
       "      <td>4</td>\n",
       "      <td>e33a9adeed5f36840ccc227db4682a36</td>\n",
       "      <td>Hornby 00 Gauge 0-4-0 Gildenlow Salt Co. Steam...</td>\n",
       "      <td>Hornby</td>\n",
       "      <td>3</td>\n",
       "      <td>2.0</td>\n",
       "      <td>Hobbies &gt; Model Trains &amp; Railway Sets &gt; Rail V...</td>\n",
       "      <td>32.19</td>\n",
       "      <td>4.7</td>\n",
       "    </tr>\n",
       "  </tbody>\n",
       "</table>\n",
       "</div>"
      ],
      "text/plain": [
       "                            uniq_id  \\\n",
       "0  eac7efa5dbd3d667f26eb3d3ab504464   \n",
       "1  b17540ef7e86e461d37f3ae58b7b72ac   \n",
       "2  348f344247b0c1a935b1223072ef9d8a   \n",
       "3  e12b92dbb8eaee78b22965d2a9bbbd9f   \n",
       "4  e33a9adeed5f36840ccc227db4682a36   \n",
       "\n",
       "                                        product_name manufacturer num_reviews  \\\n",
       "0                              Hornby 2014 Catalogue       Hornby          15   \n",
       "1  FunkyBuys® Large Christmas Holiday Express Fes...    FunkyBuys           2   \n",
       "2  CLASSIC TOY TRAIN SET TRACK CARRIAGES LIGHT EN...          ccf          17   \n",
       "3     HORNBY Coach R4410A BR Hawksworth Corridor 3rd       Hornby           1   \n",
       "4  Hornby 00 Gauge 0-4-0 Gildenlow Salt Co. Steam...       Hornby           3   \n",
       "\n",
       "   num_answ_questions                                     cat_and_subcat  \\\n",
       "0                 1.0  Hobbies > Model Trains & Railway Sets > Rail V...   \n",
       "1                 1.0  Hobbies > Model Trains & Railway Sets > Rail V...   \n",
       "2                 2.0  Hobbies > Model Trains & Railway Sets > Rail V...   \n",
       "3                 2.0  Hobbies > Model Trains & Railway Sets > Rail V...   \n",
       "4                 2.0  Hobbies > Model Trains & Railway Sets > Rail V...   \n",
       "\n",
       "   price  ave_review_rating  \n",
       "0   3.42                4.9  \n",
       "1  16.99                4.5  \n",
       "2   9.99                3.9  \n",
       "3  39.99                5.0  \n",
       "4  32.19                4.7  "
      ]
     },
     "execution_count": 34,
     "metadata": {},
     "output_type": "execute_result"
    }
   ],
   "source": [
    "df.head()"
   ]
  },
  {
   "cell_type": "markdown",
   "metadata": {},
   "source": [
    "### Checking values per column"
   ]
  },
  {
   "cell_type": "markdown",
   "metadata": {},
   "source": [
    "#### How many different products?"
   ]
  },
  {
   "cell_type": "code",
   "execution_count": 35,
   "metadata": {
    "ExecuteTime": {
     "end_time": "2020-03-25T18:40:04.994341Z",
     "start_time": "2020-03-25T18:40:04.987361Z"
    }
   },
   "outputs": [
    {
     "data": {
      "text/plain": [
       "7341"
      ]
     },
     "execution_count": 35,
     "metadata": {},
     "output_type": "execute_result"
    }
   ],
   "source": [
    "len(df.product_name.unique())\n",
    "\n",
    "#almost all products in the dataset are different"
   ]
  },
  {
   "cell_type": "markdown",
   "metadata": {},
   "source": [
    "#### How many different manufacturers?"
   ]
  },
  {
   "cell_type": "code",
   "execution_count": 36,
   "metadata": {
    "ExecuteTime": {
     "end_time": "2020-03-25T18:40:05.004314Z",
     "start_time": "2020-03-25T18:40:04.995340Z"
    },
    "scrolled": true
   },
   "outputs": [
    {
     "name": "stdout",
     "output_type": "stream",
     "text": [
      "2089\n",
      "Oxford Diecast                      145\n",
      "Disney                              128\n",
      "The Puppet Company                   95\n",
      "Star Wars                            87\n",
      "Playmobil                            80\n",
      "                                   ... \n",
      "Transformers Prime Beast Hunters      1\n",
      "TNK                                   1\n",
      "Redakai                               1\n",
      "Pipkits                               1\n",
      "Pintoy                                1\n",
      "Name: manufacturer, Length: 2089, dtype: int64\n"
     ]
    }
   ],
   "source": [
    "print(len(df.manufacturer.unique()))\n",
    "print(df.manufacturer.value_counts())\n",
    "\n",
    "#could do some analysis per manufacturers (take top 10 or smth)"
   ]
  },
  {
   "cell_type": "markdown",
   "metadata": {},
   "source": [
    "#### How many different categories?"
   ]
  },
  {
   "cell_type": "code",
   "execution_count": 37,
   "metadata": {
    "ExecuteTime": {
     "end_time": "2020-03-25T18:40:05.012293Z",
     "start_time": "2020-03-25T18:40:05.005312Z"
    }
   },
   "outputs": [
    {
     "name": "stdout",
     "output_type": "stream",
     "text": [
      "232\n",
      "Die-Cast & Toy Vehicles > Toy Vehicles & Accessories > Scaled Models > Vehicles    732\n",
      "Figures & Playsets > Science Fiction & Fantasy                                     340\n",
      "Characters & Brands > Disney > Toys                                                272\n",
      "Arts & Crafts > Children's Craft Kits > Bead Art & Jewellery-Making                267\n",
      "Party Supplies > Banners, Stickers & Confetti > Banners                            256\n",
      "                                                                                  ... \n",
      "Pens, Pencils & Writing Supplies > Markers & Highlighters > Art Markers              1\n",
      "Sports Toys & Outdoor > Cup & Ball Games                                             1\n",
      "Sports Toys & Outdoor > Racket Games                                                 1\n",
      "Hobbies > Trading Cards & Accessories                                                1\n",
      "Baby & Toddler Toys > Activity Centres                                               1\n",
      "Name: cat_and_subcat, Length: 232, dtype: int64\n"
     ]
    }
   ],
   "source": [
    "print(len(df.cat_and_subcat.unique()))\n",
    "print(df.cat_and_subcat.value_counts())\n",
    "\n",
    "#will split to main and sub categories"
   ]
  },
  {
   "cell_type": "markdown",
   "metadata": {},
   "source": [
    "#### How many different average reviews?"
   ]
  },
  {
   "cell_type": "code",
   "execution_count": 38,
   "metadata": {
    "ExecuteTime": {
     "end_time": "2020-03-25T18:40:05.019274Z",
     "start_time": "2020-03-25T18:40:05.013291Z"
    }
   },
   "outputs": [
    {
     "name": "stdout",
     "output_type": "stream",
     "text": [
      "18\n",
      "5.0    3793\n",
      "4.0     957\n",
      "4.5     523\n",
      "4.8     418\n",
      "4.7     393\n",
      "4.3     305\n",
      "4.6     297\n",
      "4.4     220\n",
      "4.9     168\n",
      "4.2     163\n",
      "4.1     115\n",
      "3.9       5\n",
      "3.3       2\n",
      "3.6       2\n",
      "3.5       2\n",
      "3.0       1\n",
      "2.3       1\n",
      "3.7       1\n",
      "Name: ave_review_rating, dtype: int64\n"
     ]
    }
   ],
   "source": [
    "print(len(df.ave_review_rating.unique()))\n",
    "print(df.ave_review_rating.value_counts())\n",
    "\n",
    "#all reviews out of 5, can delete this part to have a numeric column"
   ]
  },
  {
   "cell_type": "markdown",
   "metadata": {},
   "source": [
    "### Splitting to main and sub categories"
   ]
  },
  {
   "cell_type": "code",
   "execution_count": 39,
   "metadata": {
    "ExecuteTime": {
     "end_time": "2020-03-25T18:40:05.039191Z",
     "start_time": "2020-03-25T18:40:05.021270Z"
    }
   },
   "outputs": [],
   "source": [
    "df[['main_cat', 'sub_cat1', 'sub_cat2', 'sub_cat3', 'sub_cat4']] = df.cat_and_subcat.str.split(' > ', expand = True)"
   ]
  },
  {
   "cell_type": "code",
   "execution_count": 40,
   "metadata": {
    "ExecuteTime": {
     "end_time": "2020-03-25T18:40:05.052156Z",
     "start_time": "2020-03-25T18:40:05.040189Z"
    }
   },
   "outputs": [
    {
     "data": {
      "text/html": [
       "<div>\n",
       "<style scoped>\n",
       "    .dataframe tbody tr th:only-of-type {\n",
       "        vertical-align: middle;\n",
       "    }\n",
       "\n",
       "    .dataframe tbody tr th {\n",
       "        vertical-align: top;\n",
       "    }\n",
       "\n",
       "    .dataframe thead th {\n",
       "        text-align: right;\n",
       "    }\n",
       "</style>\n",
       "<table border=\"1\" class=\"dataframe\">\n",
       "  <thead>\n",
       "    <tr style=\"text-align: right;\">\n",
       "      <th></th>\n",
       "      <th>uniq_id</th>\n",
       "      <th>product_name</th>\n",
       "      <th>manufacturer</th>\n",
       "      <th>num_reviews</th>\n",
       "      <th>num_answ_questions</th>\n",
       "      <th>cat_and_subcat</th>\n",
       "      <th>price</th>\n",
       "      <th>ave_review_rating</th>\n",
       "      <th>main_cat</th>\n",
       "      <th>sub_cat1</th>\n",
       "      <th>sub_cat2</th>\n",
       "      <th>sub_cat3</th>\n",
       "      <th>sub_cat4</th>\n",
       "    </tr>\n",
       "  </thead>\n",
       "  <tbody>\n",
       "    <tr>\n",
       "      <td>0</td>\n",
       "      <td>eac7efa5dbd3d667f26eb3d3ab504464</td>\n",
       "      <td>Hornby 2014 Catalogue</td>\n",
       "      <td>Hornby</td>\n",
       "      <td>15</td>\n",
       "      <td>1.0</td>\n",
       "      <td>Hobbies &gt; Model Trains &amp; Railway Sets &gt; Rail V...</td>\n",
       "      <td>3.42</td>\n",
       "      <td>4.9</td>\n",
       "      <td>Hobbies</td>\n",
       "      <td>Model Trains &amp; Railway Sets</td>\n",
       "      <td>Rail Vehicles</td>\n",
       "      <td>Trains</td>\n",
       "      <td>None</td>\n",
       "    </tr>\n",
       "    <tr>\n",
       "      <td>1</td>\n",
       "      <td>b17540ef7e86e461d37f3ae58b7b72ac</td>\n",
       "      <td>FunkyBuys® Large Christmas Holiday Express Fes...</td>\n",
       "      <td>FunkyBuys</td>\n",
       "      <td>2</td>\n",
       "      <td>1.0</td>\n",
       "      <td>Hobbies &gt; Model Trains &amp; Railway Sets &gt; Rail V...</td>\n",
       "      <td>16.99</td>\n",
       "      <td>4.5</td>\n",
       "      <td>Hobbies</td>\n",
       "      <td>Model Trains &amp; Railway Sets</td>\n",
       "      <td>Rail Vehicles</td>\n",
       "      <td>Trains</td>\n",
       "      <td>None</td>\n",
       "    </tr>\n",
       "    <tr>\n",
       "      <td>2</td>\n",
       "      <td>348f344247b0c1a935b1223072ef9d8a</td>\n",
       "      <td>CLASSIC TOY TRAIN SET TRACK CARRIAGES LIGHT EN...</td>\n",
       "      <td>ccf</td>\n",
       "      <td>17</td>\n",
       "      <td>2.0</td>\n",
       "      <td>Hobbies &gt; Model Trains &amp; Railway Sets &gt; Rail V...</td>\n",
       "      <td>9.99</td>\n",
       "      <td>3.9</td>\n",
       "      <td>Hobbies</td>\n",
       "      <td>Model Trains &amp; Railway Sets</td>\n",
       "      <td>Rail Vehicles</td>\n",
       "      <td>Trains</td>\n",
       "      <td>None</td>\n",
       "    </tr>\n",
       "  </tbody>\n",
       "</table>\n",
       "</div>"
      ],
      "text/plain": [
       "                            uniq_id  \\\n",
       "0  eac7efa5dbd3d667f26eb3d3ab504464   \n",
       "1  b17540ef7e86e461d37f3ae58b7b72ac   \n",
       "2  348f344247b0c1a935b1223072ef9d8a   \n",
       "\n",
       "                                        product_name manufacturer num_reviews  \\\n",
       "0                              Hornby 2014 Catalogue       Hornby          15   \n",
       "1  FunkyBuys® Large Christmas Holiday Express Fes...    FunkyBuys           2   \n",
       "2  CLASSIC TOY TRAIN SET TRACK CARRIAGES LIGHT EN...          ccf          17   \n",
       "\n",
       "   num_answ_questions                                     cat_and_subcat  \\\n",
       "0                 1.0  Hobbies > Model Trains & Railway Sets > Rail V...   \n",
       "1                 1.0  Hobbies > Model Trains & Railway Sets > Rail V...   \n",
       "2                 2.0  Hobbies > Model Trains & Railway Sets > Rail V...   \n",
       "\n",
       "   price  ave_review_rating main_cat                     sub_cat1  \\\n",
       "0   3.42                4.9  Hobbies  Model Trains & Railway Sets   \n",
       "1  16.99                4.5  Hobbies  Model Trains & Railway Sets   \n",
       "2   9.99                3.9  Hobbies  Model Trains & Railway Sets   \n",
       "\n",
       "        sub_cat2 sub_cat3 sub_cat4  \n",
       "0  Rail Vehicles   Trains     None  \n",
       "1  Rail Vehicles   Trains     None  \n",
       "2  Rail Vehicles   Trains     None  "
      ]
     },
     "execution_count": 40,
     "metadata": {},
     "output_type": "execute_result"
    }
   ],
   "source": [
    "df.head(3)"
   ]
  },
  {
   "cell_type": "code",
   "execution_count": 41,
   "metadata": {
    "ExecuteTime": {
     "end_time": "2020-03-25T18:40:05.060134Z",
     "start_time": "2020-03-25T18:40:05.053154Z"
    }
   },
   "outputs": [],
   "source": [
    "#deleting old column\n",
    "\n",
    "df.drop('cat_and_subcat', axis=1, inplace=True)"
   ]
  },
  {
   "cell_type": "code",
   "execution_count": 42,
   "metadata": {
    "ExecuteTime": {
     "end_time": "2020-03-25T18:40:05.072104Z",
     "start_time": "2020-03-25T18:40:05.061132Z"
    }
   },
   "outputs": [
    {
     "data": {
      "text/html": [
       "<div>\n",
       "<style scoped>\n",
       "    .dataframe tbody tr th:only-of-type {\n",
       "        vertical-align: middle;\n",
       "    }\n",
       "\n",
       "    .dataframe tbody tr th {\n",
       "        vertical-align: top;\n",
       "    }\n",
       "\n",
       "    .dataframe thead th {\n",
       "        text-align: right;\n",
       "    }\n",
       "</style>\n",
       "<table border=\"1\" class=\"dataframe\">\n",
       "  <thead>\n",
       "    <tr style=\"text-align: right;\">\n",
       "      <th></th>\n",
       "      <th>uniq_id</th>\n",
       "      <th>product_name</th>\n",
       "      <th>manufacturer</th>\n",
       "      <th>num_reviews</th>\n",
       "      <th>num_answ_questions</th>\n",
       "      <th>price</th>\n",
       "      <th>ave_review_rating</th>\n",
       "      <th>main_cat</th>\n",
       "      <th>sub_cat1</th>\n",
       "      <th>sub_cat2</th>\n",
       "      <th>sub_cat3</th>\n",
       "      <th>sub_cat4</th>\n",
       "    </tr>\n",
       "  </thead>\n",
       "  <tbody>\n",
       "    <tr>\n",
       "      <td>0</td>\n",
       "      <td>eac7efa5dbd3d667f26eb3d3ab504464</td>\n",
       "      <td>Hornby 2014 Catalogue</td>\n",
       "      <td>Hornby</td>\n",
       "      <td>15</td>\n",
       "      <td>1.0</td>\n",
       "      <td>3.42</td>\n",
       "      <td>4.9</td>\n",
       "      <td>Hobbies</td>\n",
       "      <td>Model Trains &amp; Railway Sets</td>\n",
       "      <td>Rail Vehicles</td>\n",
       "      <td>Trains</td>\n",
       "      <td>None</td>\n",
       "    </tr>\n",
       "    <tr>\n",
       "      <td>1</td>\n",
       "      <td>b17540ef7e86e461d37f3ae58b7b72ac</td>\n",
       "      <td>FunkyBuys® Large Christmas Holiday Express Fes...</td>\n",
       "      <td>FunkyBuys</td>\n",
       "      <td>2</td>\n",
       "      <td>1.0</td>\n",
       "      <td>16.99</td>\n",
       "      <td>4.5</td>\n",
       "      <td>Hobbies</td>\n",
       "      <td>Model Trains &amp; Railway Sets</td>\n",
       "      <td>Rail Vehicles</td>\n",
       "      <td>Trains</td>\n",
       "      <td>None</td>\n",
       "    </tr>\n",
       "  </tbody>\n",
       "</table>\n",
       "</div>"
      ],
      "text/plain": [
       "                            uniq_id  \\\n",
       "0  eac7efa5dbd3d667f26eb3d3ab504464   \n",
       "1  b17540ef7e86e461d37f3ae58b7b72ac   \n",
       "\n",
       "                                        product_name manufacturer num_reviews  \\\n",
       "0                              Hornby 2014 Catalogue       Hornby          15   \n",
       "1  FunkyBuys® Large Christmas Holiday Express Fes...    FunkyBuys           2   \n",
       "\n",
       "   num_answ_questions  price  ave_review_rating main_cat  \\\n",
       "0                 1.0   3.42                4.9  Hobbies   \n",
       "1                 1.0  16.99                4.5  Hobbies   \n",
       "\n",
       "                      sub_cat1       sub_cat2 sub_cat3 sub_cat4  \n",
       "0  Model Trains & Railway Sets  Rail Vehicles   Trains     None  \n",
       "1  Model Trains & Railway Sets  Rail Vehicles   Trains     None  "
      ]
     },
     "execution_count": 42,
     "metadata": {},
     "output_type": "execute_result"
    }
   ],
   "source": [
    "df.head(2)"
   ]
  },
  {
   "cell_type": "markdown",
   "metadata": {},
   "source": [
    "### Changing types of columns (final check)"
   ]
  },
  {
   "cell_type": "code",
   "execution_count": 43,
   "metadata": {
    "ExecuteTime": {
     "end_time": "2020-03-25T18:40:05.082078Z",
     "start_time": "2020-03-25T18:40:05.073101Z"
    }
   },
   "outputs": [
    {
     "name": "stdout",
     "output_type": "stream",
     "text": [
      "<class 'pandas.core.frame.DataFrame'>\n",
      "Int64Index: 7366 entries, 0 to 9999\n",
      "Data columns (total 12 columns):\n",
      "uniq_id               7366 non-null object\n",
      "product_name          7366 non-null object\n",
      "manufacturer          7366 non-null object\n",
      "num_reviews           7366 non-null object\n",
      "num_answ_questions    7366 non-null float64\n",
      "price                 7366 non-null float64\n",
      "ave_review_rating     7366 non-null float64\n",
      "main_cat              7366 non-null object\n",
      "sub_cat1              7366 non-null object\n",
      "sub_cat2              4278 non-null object\n",
      "sub_cat3              1156 non-null object\n",
      "sub_cat4              75 non-null object\n",
      "dtypes: float64(3), object(9)\n",
      "memory usage: 1.0+ MB\n"
     ]
    }
   ],
   "source": [
    "df.info()\n",
    "\n",
    "#only need to change num:reviews to numeric"
   ]
  },
  {
   "cell_type": "code",
   "execution_count": 44,
   "metadata": {
    "ExecuteTime": {
     "end_time": "2020-03-25T18:40:05.090055Z",
     "start_time": "2020-03-25T18:40:05.083086Z"
    }
   },
   "outputs": [],
   "source": [
    "#deleting comma from number of reviews\n",
    "\n",
    "df['num_reviews'] = df['num_reviews'].str.replace(',', '')"
   ]
  },
  {
   "cell_type": "code",
   "execution_count": 45,
   "metadata": {
    "ExecuteTime": {
     "end_time": "2020-03-25T18:40:05.099030Z",
     "start_time": "2020-03-25T18:40:05.091054Z"
    }
   },
   "outputs": [],
   "source": [
    "#converting to numeric\n",
    "\n",
    "price_to_numeric('num_reviews')"
   ]
  },
  {
   "cell_type": "code",
   "execution_count": 46,
   "metadata": {
    "ExecuteTime": {
     "end_time": "2020-03-25T18:40:05.108008Z",
     "start_time": "2020-03-25T18:40:05.100029Z"
    },
    "scrolled": true
   },
   "outputs": [
    {
     "name": "stdout",
     "output_type": "stream",
     "text": [
      "<class 'pandas.core.frame.DataFrame'>\n",
      "Int64Index: 7366 entries, 0 to 9999\n",
      "Data columns (total 12 columns):\n",
      "uniq_id               7366 non-null object\n",
      "product_name          7366 non-null object\n",
      "manufacturer          7366 non-null object\n",
      "num_reviews           7366 non-null int64\n",
      "num_answ_questions    7366 non-null float64\n",
      "price                 7366 non-null float64\n",
      "ave_review_rating     7366 non-null float64\n",
      "main_cat              7366 non-null object\n",
      "sub_cat1              7366 non-null object\n",
      "sub_cat2              4278 non-null object\n",
      "sub_cat3              1156 non-null object\n",
      "sub_cat4              75 non-null object\n",
      "dtypes: float64(3), int64(1), object(8)\n",
      "memory usage: 1.0+ MB\n"
     ]
    }
   ],
   "source": [
    "df.info()\n",
    "\n",
    "#now all numeric columns have a correct type"
   ]
  },
  {
   "cell_type": "markdown",
   "metadata": {},
   "source": [
    "## EDA"
   ]
  },
  {
   "cell_type": "code",
   "execution_count": 47,
   "metadata": {
    "ExecuteTime": {
     "end_time": "2020-03-25T18:40:05.115986Z",
     "start_time": "2020-03-25T18:40:05.109005Z"
    }
   },
   "outputs": [
    {
     "data": {
      "text/plain": [
       "count    7366.000000\n",
       "mean       20.845872\n",
       "std        48.988619\n",
       "min         0.010000\n",
       "25%         4.990000\n",
       "50%        10.875000\n",
       "75%        20.045000\n",
       "max      2439.920000\n",
       "Name: price, dtype: float64"
      ]
     },
     "execution_count": 47,
     "metadata": {},
     "output_type": "execute_result"
    }
   ],
   "source": [
    "#descriptive statistics summary\n",
    "\n",
    "df['price'].describe()"
   ]
  },
  {
   "cell_type": "code",
   "execution_count": 48,
   "metadata": {
    "ExecuteTime": {
     "end_time": "2020-03-25T18:40:05.296502Z",
     "start_time": "2020-03-25T18:40:05.116984Z"
    }
   },
   "outputs": [
    {
     "data": {
      "text/plain": [
       "<matplotlib.axes._subplots.AxesSubplot at 0x239907d6808>"
      ]
     },
     "execution_count": 48,
     "metadata": {},
     "output_type": "execute_result"
    },
    {
     "data": {
      "image/png": "[encoded data removed]",
      "text/plain": [
       "<Figure size 432x288 with 1 Axes>"
      ]
     },
     "metadata": {
      "needs_background": "light"
     },
     "output_type": "display_data"
    }
   ],
   "source": [
    "#histogram\n",
    "\n",
    "sns.distplot(df['price'])"
   ]
  },
  {
   "cell_type": "markdown",
   "metadata": {},
   "source": [
    "We can see that there are a lot of prices with the value close to zero"
   ]
  },
  {
   "cell_type": "code",
   "execution_count": 49,
   "metadata": {
    "ExecuteTime": {
     "end_time": "2020-03-25T18:40:05.466443Z",
     "start_time": "2020-03-25T18:40:05.297500Z"
    }
   },
   "outputs": [
    {
     "data": {
      "text/plain": [
       "<matplotlib.axes._subplots.AxesSubplot at 0x2399071ca88>"
      ]
     },
     "execution_count": 49,
     "metadata": {},
     "output_type": "execute_result"
    },
    {
     "data": {
      "image/png": "[encoded data removed]",
      "text/plain": [
       "<Figure size 432x288 with 1 Axes>"
      ]
     },
     "metadata": {
      "needs_background": "light"
     },
     "output_type": "display_data"
    }
   ],
   "source": [
    "#histogram of the prices higher than 100 and lower than 1000\n",
    "\n",
    "filt = df.loc[(df.price > 100) & (df.price < 1000)]\n",
    "sns.distplot(filt['price'], bins=50)"
   ]
  },
  {
   "cell_type": "markdown",
   "metadata": {},
   "source": [
    "We can see that price distribution deviates from the normal distribution. Also, it's right-skewed."
   ]
  },
  {
   "cell_type": "code",
   "execution_count": 50,
   "metadata": {
    "ExecuteTime": {
     "end_time": "2020-03-25T18:40:05.474421Z",
     "start_time": "2020-03-25T18:40:05.467440Z"
    },
    "scrolled": true
   },
   "outputs": [
    {
     "data": {
      "text/plain": [
       "main_cat\n",
       "Hobbies                             36.721633\n",
       "Electronic Toys                     34.656667\n",
       "Baby & Toddler Toys                 27.992222\n",
       "Figures & Playsets                  27.133132\n",
       "Die-Cast & Toy Vehicles             26.973907\n",
       "Dogs                                24.985000\n",
       "Pretend Play                        24.163947\n",
       "Sports Toys & Outdoor               22.317214\n",
       "Educational Toys                    22.300000\n",
       "Characters & Brands                 21.904921\n",
       "Musical Toy Instruments             20.723333\n",
       "Worlds Apart                        17.976667\n",
       "Puppets & Puppet Theatres           17.971234\n",
       "Games                               15.561824\n",
       "Laundry, Storage & Organisation     13.990000\n",
       "Fancy Dress                         13.610372\n",
       "Sex & Sensuality                    13.510000\n",
       "Dolls & Accessories                 13.374091\n",
       "Supporters' Gear                    12.970000\n",
       "Jigsaws & Puzzles                   12.717569\n",
       "Medication & Remedies               11.245000\n",
       "Men                                 10.170000\n",
       "Indoor Lighting                      8.990000\n",
       "Home Accessories                     8.978000\n",
       "Sweets, Chocolate & Gum              8.010000\n",
       "Women                                7.990000\n",
       "Bedding & Linens                     7.490000\n",
       "Bags                                 7.467500\n",
       "Arts & Crafts                        6.819775\n",
       "Novelty & Special Use                6.740000\n",
       "Cooking & Dining                     6.183333\n",
       "Office Supplies                      5.964000\n",
       "Jams, Honey & Spreads                5.950000\n",
       "Gardening                            5.480000\n",
       "Pens, Pencils & Writing Supplies     5.020000\n",
       "Camping & Hiking                     4.150000\n",
       "Handbags & Shoulder Bags             3.990000\n",
       "Party Supplies                       3.342572\n",
       "Storage, Cleaning & Ring Sizers      2.620000\n",
       "Novelty Jewellery                    1.600000\n",
       "Name: price, dtype: float64"
      ]
     },
     "execution_count": 50,
     "metadata": {},
     "output_type": "execute_result"
    }
   ],
   "source": [
    "df.groupby('main_cat')['price'].mean().sort_values(ascending=False)"
   ]
  },
  {
   "cell_type": "code",
   "execution_count": 51,
   "metadata": {
    "ExecuteTime": {
     "end_time": "2020-03-25T18:40:05.606763Z",
     "start_time": "2020-03-25T18:40:05.475419Z"
    }
   },
   "outputs": [
    {
     "data": {
      "text/plain": [
       "<matplotlib.axes._subplots.AxesSubplot at 0x2398e027808>"
      ]
     },
     "execution_count": 51,
     "metadata": {},
     "output_type": "execute_result"
    },
    {
     "data": {
      "image/png": "[encoded data removed]",
      "text/plain": [
       "<Figure size 432x288 with 1 Axes>"
      ]
     },
     "metadata": {
      "needs_background": "light"
     },
     "output_type": "display_data"
    }
   ],
   "source": [
    "df.groupby('main_cat')['price'].mean().sort_values(ascending=False).hist()"
   ]
  },
  {
   "cell_type": "code",
   "execution_count": 52,
   "metadata": {
    "ExecuteTime": {
     "end_time": "2020-03-25T18:40:05.756637Z",
     "start_time": "2020-03-25T18:40:05.607762Z"
    }
   },
   "outputs": [
    {
     "data": {
      "text/plain": [
       "<matplotlib.axes._subplots.AxesSubplot at 0x2398dfa7448>"
      ]
     },
     "execution_count": 52,
     "metadata": {},
     "output_type": "execute_result"
    },
    {
     "data": {
      "image/png": "[encoded data removed]",
      "text/plain": [
       "<Figure size 432x288 with 2 Axes>"
      ]
     },
     "metadata": {
      "needs_background": "light"
     },
     "output_type": "display_data"
    }
   ],
   "source": [
    "sns.heatmap(df.corr(), cmap=\"YlGnBu\")"
   ]
  },
  {
   "cell_type": "code",
   "execution_count": 53,
   "metadata": {
    "ExecuteTime": {
     "end_time": "2020-03-25T18:40:05.774624Z",
     "start_time": "2020-03-25T18:40:05.757636Z"
    },
    "scrolled": true
   },
   "outputs": [
    {
     "data": {
      "text/html": [
       "<div>\n",
       "<style scoped>\n",
       "    .dataframe tbody tr th:only-of-type {\n",
       "        vertical-align: middle;\n",
       "    }\n",
       "\n",
       "    .dataframe tbody tr th {\n",
       "        vertical-align: top;\n",
       "    }\n",
       "\n",
       "    .dataframe thead th {\n",
       "        text-align: right;\n",
       "    }\n",
       "</style>\n",
       "<table border=\"1\" class=\"dataframe\">\n",
       "  <thead>\n",
       "    <tr style=\"text-align: right;\">\n",
       "      <th></th>\n",
       "      <th>sales</th>\n",
       "      <th>min_price</th>\n",
       "      <th>max_price</th>\n",
       "      <th>ave_price</th>\n",
       "    </tr>\n",
       "    <tr>\n",
       "      <th>main_cat</th>\n",
       "      <th></th>\n",
       "      <th></th>\n",
       "      <th></th>\n",
       "      <th></th>\n",
       "    </tr>\n",
       "  </thead>\n",
       "  <tbody>\n",
       "    <tr>\n",
       "      <td>Hobbies</td>\n",
       "      <td>1151</td>\n",
       "      <td>0.38</td>\n",
       "      <td>2439.92</td>\n",
       "      <td>36.721633</td>\n",
       "    </tr>\n",
       "    <tr>\n",
       "      <td>Die-Cast &amp; Toy Vehicles</td>\n",
       "      <td>1006</td>\n",
       "      <td>2.10</td>\n",
       "      <td>648.95</td>\n",
       "      <td>26.973907</td>\n",
       "    </tr>\n",
       "    <tr>\n",
       "      <td>Figures &amp; Playsets</td>\n",
       "      <td>843</td>\n",
       "      <td>0.29</td>\n",
       "      <td>719.95</td>\n",
       "      <td>27.133132</td>\n",
       "    </tr>\n",
       "    <tr>\n",
       "      <td>Games</td>\n",
       "      <td>751</td>\n",
       "      <td>0.90</td>\n",
       "      <td>409.96</td>\n",
       "      <td>15.561824</td>\n",
       "    </tr>\n",
       "    <tr>\n",
       "      <td>Characters &amp; Brands</td>\n",
       "      <td>695</td>\n",
       "      <td>0.96</td>\n",
       "      <td>374.96</td>\n",
       "      <td>21.904921</td>\n",
       "    </tr>\n",
       "    <tr>\n",
       "      <td>Arts &amp; Crafts</td>\n",
       "      <td>623</td>\n",
       "      <td>0.37</td>\n",
       "      <td>89.21</td>\n",
       "      <td>6.819775</td>\n",
       "    </tr>\n",
       "    <tr>\n",
       "      <td>Party Supplies</td>\n",
       "      <td>587</td>\n",
       "      <td>0.01</td>\n",
       "      <td>42.88</td>\n",
       "      <td>3.342572</td>\n",
       "    </tr>\n",
       "    <tr>\n",
       "      <td>Fancy Dress</td>\n",
       "      <td>484</td>\n",
       "      <td>0.89</td>\n",
       "      <td>324.84</td>\n",
       "      <td>13.610372</td>\n",
       "    </tr>\n",
       "    <tr>\n",
       "      <td>Sports Toys &amp; Outdoor</td>\n",
       "      <td>323</td>\n",
       "      <td>0.50</td>\n",
       "      <td>449.99</td>\n",
       "      <td>22.317214</td>\n",
       "    </tr>\n",
       "    <tr>\n",
       "      <td>Dolls &amp; Accessories</td>\n",
       "      <td>264</td>\n",
       "      <td>0.80</td>\n",
       "      <td>214.99</td>\n",
       "      <td>13.374091</td>\n",
       "    </tr>\n",
       "    <tr>\n",
       "      <td>Puppets &amp; Puppet Theatres</td>\n",
       "      <td>235</td>\n",
       "      <td>0.99</td>\n",
       "      <td>171.52</td>\n",
       "      <td>17.971234</td>\n",
       "    </tr>\n",
       "    <tr>\n",
       "      <td>Jigsaws &amp; Puzzles</td>\n",
       "      <td>218</td>\n",
       "      <td>1.43</td>\n",
       "      <td>153.91</td>\n",
       "      <td>12.717569</td>\n",
       "    </tr>\n",
       "    <tr>\n",
       "      <td>Baby &amp; Toddler Toys</td>\n",
       "      <td>72</td>\n",
       "      <td>1.01</td>\n",
       "      <td>219.00</td>\n",
       "      <td>27.992222</td>\n",
       "    </tr>\n",
       "    <tr>\n",
       "      <td>Pretend Play</td>\n",
       "      <td>38</td>\n",
       "      <td>3.99</td>\n",
       "      <td>89.95</td>\n",
       "      <td>24.163947</td>\n",
       "    </tr>\n",
       "    <tr>\n",
       "      <td>Musical Toy Instruments</td>\n",
       "      <td>12</td>\n",
       "      <td>2.66</td>\n",
       "      <td>74.99</td>\n",
       "      <td>20.723333</td>\n",
       "    </tr>\n",
       "    <tr>\n",
       "      <td>Novelty &amp; Special Use</td>\n",
       "      <td>10</td>\n",
       "      <td>1.29</td>\n",
       "      <td>43.99</td>\n",
       "      <td>6.740000</td>\n",
       "    </tr>\n",
       "    <tr>\n",
       "      <td>Pens, Pencils &amp; Writing Supplies</td>\n",
       "      <td>7</td>\n",
       "      <td>1.97</td>\n",
       "      <td>12.00</td>\n",
       "      <td>5.020000</td>\n",
       "    </tr>\n",
       "    <tr>\n",
       "      <td>Office Supplies</td>\n",
       "      <td>5</td>\n",
       "      <td>3.13</td>\n",
       "      <td>9.99</td>\n",
       "      <td>5.964000</td>\n",
       "    </tr>\n",
       "    <tr>\n",
       "      <td>Home Accessories</td>\n",
       "      <td>5</td>\n",
       "      <td>1.20</td>\n",
       "      <td>25.72</td>\n",
       "      <td>8.978000</td>\n",
       "    </tr>\n",
       "    <tr>\n",
       "      <td>Bags</td>\n",
       "      <td>4</td>\n",
       "      <td>4.99</td>\n",
       "      <td>8.99</td>\n",
       "      <td>7.467500</td>\n",
       "    </tr>\n",
       "    <tr>\n",
       "      <td>Worlds Apart</td>\n",
       "      <td>3</td>\n",
       "      <td>5.95</td>\n",
       "      <td>29.99</td>\n",
       "      <td>17.976667</td>\n",
       "    </tr>\n",
       "    <tr>\n",
       "      <td>Gardening</td>\n",
       "      <td>3</td>\n",
       "      <td>3.95</td>\n",
       "      <td>6.99</td>\n",
       "      <td>5.480000</td>\n",
       "    </tr>\n",
       "    <tr>\n",
       "      <td>Electronic Toys</td>\n",
       "      <td>3</td>\n",
       "      <td>6.99</td>\n",
       "      <td>75.99</td>\n",
       "      <td>34.656667</td>\n",
       "    </tr>\n",
       "    <tr>\n",
       "      <td>Educational Toys</td>\n",
       "      <td>3</td>\n",
       "      <td>12.95</td>\n",
       "      <td>38.00</td>\n",
       "      <td>22.300000</td>\n",
       "    </tr>\n",
       "    <tr>\n",
       "      <td>Cooking &amp; Dining</td>\n",
       "      <td>3</td>\n",
       "      <td>4.05</td>\n",
       "      <td>7.99</td>\n",
       "      <td>6.183333</td>\n",
       "    </tr>\n",
       "    <tr>\n",
       "      <td>Dogs</td>\n",
       "      <td>2</td>\n",
       "      <td>9.99</td>\n",
       "      <td>39.98</td>\n",
       "      <td>24.985000</td>\n",
       "    </tr>\n",
       "    <tr>\n",
       "      <td>Medication &amp; Remedies</td>\n",
       "      <td>2</td>\n",
       "      <td>5.00</td>\n",
       "      <td>17.49</td>\n",
       "      <td>11.245000</td>\n",
       "    </tr>\n",
       "    <tr>\n",
       "      <td>Women</td>\n",
       "      <td>2</td>\n",
       "      <td>2.99</td>\n",
       "      <td>12.99</td>\n",
       "      <td>7.990000</td>\n",
       "    </tr>\n",
       "    <tr>\n",
       "      <td>Sex &amp; Sensuality</td>\n",
       "      <td>1</td>\n",
       "      <td>13.51</td>\n",
       "      <td>13.51</td>\n",
       "      <td>13.510000</td>\n",
       "    </tr>\n",
       "    <tr>\n",
       "      <td>Sweets, Chocolate &amp; Gum</td>\n",
       "      <td>1</td>\n",
       "      <td>8.01</td>\n",
       "      <td>8.01</td>\n",
       "      <td>8.010000</td>\n",
       "    </tr>\n",
       "    <tr>\n",
       "      <td>Supporters' Gear</td>\n",
       "      <td>1</td>\n",
       "      <td>12.97</td>\n",
       "      <td>12.97</td>\n",
       "      <td>12.970000</td>\n",
       "    </tr>\n",
       "    <tr>\n",
       "      <td>Storage, Cleaning &amp; Ring Sizers</td>\n",
       "      <td>1</td>\n",
       "      <td>2.62</td>\n",
       "      <td>2.62</td>\n",
       "      <td>2.620000</td>\n",
       "    </tr>\n",
       "    <tr>\n",
       "      <td>Bedding &amp; Linens</td>\n",
       "      <td>1</td>\n",
       "      <td>7.49</td>\n",
       "      <td>7.49</td>\n",
       "      <td>7.490000</td>\n",
       "    </tr>\n",
       "    <tr>\n",
       "      <td>Indoor Lighting</td>\n",
       "      <td>1</td>\n",
       "      <td>8.99</td>\n",
       "      <td>8.99</td>\n",
       "      <td>8.990000</td>\n",
       "    </tr>\n",
       "    <tr>\n",
       "      <td>Camping &amp; Hiking</td>\n",
       "      <td>1</td>\n",
       "      <td>4.15</td>\n",
       "      <td>4.15</td>\n",
       "      <td>4.150000</td>\n",
       "    </tr>\n",
       "    <tr>\n",
       "      <td>Laundry, Storage &amp; Organisation</td>\n",
       "      <td>1</td>\n",
       "      <td>13.99</td>\n",
       "      <td>13.99</td>\n",
       "      <td>13.990000</td>\n",
       "    </tr>\n",
       "    <tr>\n",
       "      <td>Novelty Jewellery</td>\n",
       "      <td>1</td>\n",
       "      <td>1.60</td>\n",
       "      <td>1.60</td>\n",
       "      <td>1.600000</td>\n",
       "    </tr>\n",
       "    <tr>\n",
       "      <td>Handbags &amp; Shoulder Bags</td>\n",
       "      <td>1</td>\n",
       "      <td>3.99</td>\n",
       "      <td>3.99</td>\n",
       "      <td>3.990000</td>\n",
       "    </tr>\n",
       "    <tr>\n",
       "      <td>Men</td>\n",
       "      <td>1</td>\n",
       "      <td>10.17</td>\n",
       "      <td>10.17</td>\n",
       "      <td>10.170000</td>\n",
       "    </tr>\n",
       "    <tr>\n",
       "      <td>Jams, Honey &amp; Spreads</td>\n",
       "      <td>1</td>\n",
       "      <td>5.95</td>\n",
       "      <td>5.95</td>\n",
       "      <td>5.950000</td>\n",
       "    </tr>\n",
       "  </tbody>\n",
       "</table>\n",
       "</div>"
      ],
      "text/plain": [
       "                                  sales  min_price  max_price  ave_price\n",
       "main_cat                                                                \n",
       "Hobbies                            1151       0.38    2439.92  36.721633\n",
       "Die-Cast & Toy Vehicles            1006       2.10     648.95  26.973907\n",
       "Figures & Playsets                  843       0.29     719.95  27.133132\n",
       "Games                               751       0.90     409.96  15.561824\n",
       "Characters & Brands                 695       0.96     374.96  21.904921\n",
       "Arts & Crafts                       623       0.37      89.21   6.819775\n",
       "Party Supplies                      587       0.01      42.88   3.342572\n",
       "Fancy Dress                         484       0.89     324.84  13.610372\n",
       "Sports Toys & Outdoor               323       0.50     449.99  22.317214\n",
       "Dolls & Accessories                 264       0.80     214.99  13.374091\n",
       "Puppets & Puppet Theatres           235       0.99     171.52  17.971234\n",
       "Jigsaws & Puzzles                   218       1.43     153.91  12.717569\n",
       "Baby & Toddler Toys                  72       1.01     219.00  27.992222\n",
       "Pretend Play                         38       3.99      89.95  24.163947\n",
       "Musical Toy Instruments              12       2.66      74.99  20.723333\n",
       "Novelty & Special Use                10       1.29      43.99   6.740000\n",
       "Pens, Pencils & Writing Supplies      7       1.97      12.00   5.020000\n",
       "Office Supplies                       5       3.13       9.99   5.964000\n",
       "Home Accessories                      5       1.20      25.72   8.978000\n",
       "Bags                                  4       4.99       8.99   7.467500\n",
       "Worlds Apart                          3       5.95      29.99  17.976667\n",
       "Gardening                             3       3.95       6.99   5.480000\n",
       "Electronic Toys                       3       6.99      75.99  34.656667\n",
       "Educational Toys                      3      12.95      38.00  22.300000\n",
       "Cooking & Dining                      3       4.05       7.99   6.183333\n",
       "Dogs                                  2       9.99      39.98  24.985000\n",
       "Medication & Remedies                 2       5.00      17.49  11.245000\n",
       "Women                                 2       2.99      12.99   7.990000\n",
       "Sex & Sensuality                      1      13.51      13.51  13.510000\n",
       "Sweets, Chocolate & Gum               1       8.01       8.01   8.010000\n",
       "Supporters' Gear                      1      12.97      12.97  12.970000\n",
       "Storage, Cleaning & Ring Sizers       1       2.62       2.62   2.620000\n",
       "Bedding & Linens                      1       7.49       7.49   7.490000\n",
       "Indoor Lighting                       1       8.99       8.99   8.990000\n",
       "Camping & Hiking                      1       4.15       4.15   4.150000\n",
       "Laundry, Storage & Organisation       1      13.99      13.99  13.990000\n",
       "Novelty Jewellery                     1       1.60       1.60   1.600000\n",
       "Handbags & Shoulder Bags              1       3.99       3.99   3.990000\n",
       "Men                                   1      10.17      10.17  10.170000\n",
       "Jams, Honey & Spreads                 1       5.95       5.95   5.950000"
      ]
     },
     "execution_count": 53,
     "metadata": {},
     "output_type": "execute_result"
    }
   ],
   "source": [
    "# creating new df, sales and price per category\n",
    "\n",
    "cat_df = df.groupby('main_cat').price.agg(['count', 'min', 'max', 'mean'])\n",
    "colnames = ['sales', 'min_price', 'max_price', 'ave_price']\n",
    "cat_df.columns=colnames\n",
    "cat_df.sort_values('sales', ascending=False)"
   ]
  },
  {
   "cell_type": "code",
   "execution_count": 54,
   "metadata": {
    "ExecuteTime": {
     "end_time": "2020-03-25T18:40:05.899254Z",
     "start_time": "2020-03-25T18:40:05.775585Z"
    }
   },
   "outputs": [
    {
     "data": {
      "text/plain": [
       "<matplotlib.axes._subplots.AxesSubplot at 0x23990d35288>"
      ]
     },
     "execution_count": 54,
     "metadata": {},
     "output_type": "execute_result"
    },
    {
     "data": {
      "image/png": "[encoded data removed]",
      "text/plain": [
       "<Figure size 432x288 with 2 Axes>"
      ]
     },
     "metadata": {
      "needs_background": "light"
     },
     "output_type": "display_data"
    }
   ],
   "source": [
    "sns.heatmap(cat_df.corr(), cmap=\"YlGnBu\")"
   ]
  },
  {
   "cell_type": "code",
   "execution_count": 55,
   "metadata": {
    "ExecuteTime": {
     "end_time": "2020-03-25T18:40:05.905241Z",
     "start_time": "2020-03-25T18:40:05.900252Z"
    }
   },
   "outputs": [
    {
     "data": {
      "text/plain": [
       "Index(['uniq_id', 'product_name', 'manufacturer', 'num_reviews',\n",
       "       'num_answ_questions', 'price', 'ave_review_rating', 'main_cat',\n",
       "       'sub_cat1', 'sub_cat2', 'sub_cat3', 'sub_cat4'],\n",
       "      dtype='object')"
      ]
     },
     "execution_count": 55,
     "metadata": {},
     "output_type": "execute_result"
    }
   ],
   "source": [
    "df.columns"
   ]
  },
  {
   "cell_type": "code",
   "execution_count": null,
   "metadata": {},
   "outputs": [],
   "source": []
  },
  {
   "cell_type": "code",
   "execution_count": 80,
   "metadata": {
    "ExecuteTime": {
     "end_time": "2020-03-25T19:03:08.799784Z",
     "start_time": "2020-03-25T19:03:08.778841Z"
    },
    "scrolled": true
   },
   "outputs": [
    {
     "data": {
      "text/html": [
       "<div>\n",
       "<style scoped>\n",
       "    .dataframe tbody tr th:only-of-type {\n",
       "        vertical-align: middle;\n",
       "    }\n",
       "\n",
       "    .dataframe tbody tr th {\n",
       "        vertical-align: top;\n",
       "    }\n",
       "\n",
       "    .dataframe thead th {\n",
       "        text-align: right;\n",
       "    }\n",
       "</style>\n",
       "<table border=\"1\" class=\"dataframe\">\n",
       "  <thead>\n",
       "    <tr style=\"text-align: right;\">\n",
       "      <th></th>\n",
       "      <th>total_sales</th>\n",
       "      <th>ave_price</th>\n",
       "      <th>ave_num_review</th>\n",
       "      <th>ave_num_answ_questions</th>\n",
       "      <th>ave_review_rating</th>\n",
       "    </tr>\n",
       "    <tr>\n",
       "      <th>main_cat</th>\n",
       "      <th></th>\n",
       "      <th></th>\n",
       "      <th></th>\n",
       "      <th></th>\n",
       "      <th></th>\n",
       "    </tr>\n",
       "  </thead>\n",
       "  <tbody>\n",
       "    <tr>\n",
       "      <td>Hobbies</td>\n",
       "      <td>1151</td>\n",
       "      <td>2.848859</td>\n",
       "      <td>4.503910</td>\n",
       "      <td>1.805387</td>\n",
       "      <td>4.747871</td>\n",
       "    </tr>\n",
       "    <tr>\n",
       "      <td>Die-Cast &amp; Toy Vehicles</td>\n",
       "      <td>1006</td>\n",
       "      <td>2.792808</td>\n",
       "      <td>4.728628</td>\n",
       "      <td>1.657058</td>\n",
       "      <td>4.763121</td>\n",
       "    </tr>\n",
       "    <tr>\n",
       "      <td>Figures &amp; Playsets</td>\n",
       "      <td>843</td>\n",
       "      <td>2.733836</td>\n",
       "      <td>7.354686</td>\n",
       "      <td>1.670225</td>\n",
       "      <td>4.721827</td>\n",
       "    </tr>\n",
       "    <tr>\n",
       "      <td>Games</td>\n",
       "      <td>751</td>\n",
       "      <td>2.225482</td>\n",
       "      <td>16.727031</td>\n",
       "      <td>1.621838</td>\n",
       "      <td>4.673103</td>\n",
       "    </tr>\n",
       "    <tr>\n",
       "      <td>Characters &amp; Brands</td>\n",
       "      <td>695</td>\n",
       "      <td>2.587284</td>\n",
       "      <td>13.541007</td>\n",
       "      <td>1.800000</td>\n",
       "      <td>4.683597</td>\n",
       "    </tr>\n",
       "    <tr>\n",
       "      <td>Arts &amp; Crafts</td>\n",
       "      <td>623</td>\n",
       "      <td>1.422938</td>\n",
       "      <td>11.656501</td>\n",
       "      <td>2.926164</td>\n",
       "      <td>4.695024</td>\n",
       "    </tr>\n",
       "    <tr>\n",
       "      <td>Party Supplies</td>\n",
       "      <td>587</td>\n",
       "      <td>0.941906</td>\n",
       "      <td>8.022147</td>\n",
       "      <td>1.770017</td>\n",
       "      <td>4.714821</td>\n",
       "    </tr>\n",
       "    <tr>\n",
       "      <td>Fancy Dress</td>\n",
       "      <td>484</td>\n",
       "      <td>2.066477</td>\n",
       "      <td>11.452479</td>\n",
       "      <td>1.822314</td>\n",
       "      <td>4.604545</td>\n",
       "    </tr>\n",
       "    <tr>\n",
       "      <td>Sports Toys &amp; Outdoor</td>\n",
       "      <td>323</td>\n",
       "      <td>2.541513</td>\n",
       "      <td>14.111455</td>\n",
       "      <td>2.309598</td>\n",
       "      <td>4.591331</td>\n",
       "    </tr>\n",
       "    <tr>\n",
       "      <td>Dolls &amp; Accessories</td>\n",
       "      <td>264</td>\n",
       "      <td>2.025882</td>\n",
       "      <td>3.609848</td>\n",
       "      <td>1.825758</td>\n",
       "      <td>4.805682</td>\n",
       "    </tr>\n",
       "    <tr>\n",
       "      <td>Puppets &amp; Puppet Theatres</td>\n",
       "      <td>235</td>\n",
       "      <td>2.635310</td>\n",
       "      <td>16.408511</td>\n",
       "      <td>1.229787</td>\n",
       "      <td>4.730213</td>\n",
       "    </tr>\n",
       "    <tr>\n",
       "      <td>Jigsaws &amp; Puzzles</td>\n",
       "      <td>218</td>\n",
       "      <td>2.295769</td>\n",
       "      <td>6.385321</td>\n",
       "      <td>1.417431</td>\n",
       "      <td>4.738991</td>\n",
       "    </tr>\n",
       "    <tr>\n",
       "      <td>Baby &amp; Toddler Toys</td>\n",
       "      <td>72</td>\n",
       "      <td>2.645925</td>\n",
       "      <td>12.180556</td>\n",
       "      <td>1.847222</td>\n",
       "      <td>4.619444</td>\n",
       "    </tr>\n",
       "    <tr>\n",
       "      <td>Pretend Play</td>\n",
       "      <td>38</td>\n",
       "      <td>2.766183</td>\n",
       "      <td>26.000000</td>\n",
       "      <td>2.657895</td>\n",
       "      <td>4.668421</td>\n",
       "    </tr>\n",
       "    <tr>\n",
       "      <td>Musical Toy Instruments</td>\n",
       "      <td>12</td>\n",
       "      <td>2.545494</td>\n",
       "      <td>18.083333</td>\n",
       "      <td>1.250000</td>\n",
       "      <td>4.541667</td>\n",
       "    </tr>\n",
       "    <tr>\n",
       "      <td>Novelty &amp; Special Use</td>\n",
       "      <td>10</td>\n",
       "      <td>1.081598</td>\n",
       "      <td>1.100000</td>\n",
       "      <td>1.500000</td>\n",
       "      <td>4.900000</td>\n",
       "    </tr>\n",
       "    <tr>\n",
       "      <td>Pens, Pencils &amp; Writing Supplies</td>\n",
       "      <td>7</td>\n",
       "      <td>1.422101</td>\n",
       "      <td>25.142857</td>\n",
       "      <td>2.428571</td>\n",
       "      <td>4.385714</td>\n",
       "    </tr>\n",
       "    <tr>\n",
       "      <td>Office Supplies</td>\n",
       "      <td>5</td>\n",
       "      <td>1.668104</td>\n",
       "      <td>3.000000</td>\n",
       "      <td>2.000000</td>\n",
       "      <td>4.560000</td>\n",
       "    </tr>\n",
       "    <tr>\n",
       "      <td>Home Accessories</td>\n",
       "      <td>5</td>\n",
       "      <td>1.759973</td>\n",
       "      <td>2.800000</td>\n",
       "      <td>1.600000</td>\n",
       "      <td>4.460000</td>\n",
       "    </tr>\n",
       "    <tr>\n",
       "      <td>Bags</td>\n",
       "      <td>4</td>\n",
       "      <td>1.987151</td>\n",
       "      <td>12.500000</td>\n",
       "      <td>1.500000</td>\n",
       "      <td>4.600000</td>\n",
       "    </tr>\n",
       "    <tr>\n",
       "      <td>Worlds Apart</td>\n",
       "      <td>3</td>\n",
       "      <td>2.691357</td>\n",
       "      <td>5.000000</td>\n",
       "      <td>1.000000</td>\n",
       "      <td>4.666667</td>\n",
       "    </tr>\n",
       "    <tr>\n",
       "      <td>Gardening</td>\n",
       "      <td>3</td>\n",
       "      <td>1.674315</td>\n",
       "      <td>3.000000</td>\n",
       "      <td>1.333333</td>\n",
       "      <td>4.833333</td>\n",
       "    </tr>\n",
       "    <tr>\n",
       "      <td>Electronic Toys</td>\n",
       "      <td>3</td>\n",
       "      <td>3.106376</td>\n",
       "      <td>6.000000</td>\n",
       "      <td>3.666667</td>\n",
       "      <td>4.200000</td>\n",
       "    </tr>\n",
       "    <tr>\n",
       "      <td>Educational Toys</td>\n",
       "      <td>3</td>\n",
       "      <td>2.989380</td>\n",
       "      <td>2.666667</td>\n",
       "      <td>1.333333</td>\n",
       "      <td>4.433333</td>\n",
       "    </tr>\n",
       "    <tr>\n",
       "      <td>Cooking &amp; Dining</td>\n",
       "      <td>3</td>\n",
       "      <td>1.783416</td>\n",
       "      <td>5.000000</td>\n",
       "      <td>3.333333</td>\n",
       "      <td>4.566667</td>\n",
       "    </tr>\n",
       "    <tr>\n",
       "      <td>Dogs</td>\n",
       "      <td>2</td>\n",
       "      <td>2.994982</td>\n",
       "      <td>1.000000</td>\n",
       "      <td>3.500000</td>\n",
       "      <td>5.000000</td>\n",
       "    </tr>\n",
       "    <tr>\n",
       "      <td>Medication &amp; Remedies</td>\n",
       "      <td>2</td>\n",
       "      <td>2.235534</td>\n",
       "      <td>10.500000</td>\n",
       "      <td>1.000000</td>\n",
       "      <td>4.500000</td>\n",
       "    </tr>\n",
       "    <tr>\n",
       "      <td>Women</td>\n",
       "      <td>2</td>\n",
       "      <td>1.829727</td>\n",
       "      <td>5.500000</td>\n",
       "      <td>2.500000</td>\n",
       "      <td>4.000000</td>\n",
       "    </tr>\n",
       "    <tr>\n",
       "      <td>Sex &amp; Sensuality</td>\n",
       "      <td>1</td>\n",
       "      <td>2.603430</td>\n",
       "      <td>2.000000</td>\n",
       "      <td>1.000000</td>\n",
       "      <td>4.000000</td>\n",
       "    </tr>\n",
       "    <tr>\n",
       "      <td>Sweets, Chocolate &amp; Gum</td>\n",
       "      <td>1</td>\n",
       "      <td>2.080691</td>\n",
       "      <td>7.000000</td>\n",
       "      <td>2.000000</td>\n",
       "      <td>4.400000</td>\n",
       "    </tr>\n",
       "    <tr>\n",
       "      <td>Supporters' Gear</td>\n",
       "      <td>1</td>\n",
       "      <td>2.562639</td>\n",
       "      <td>1.000000</td>\n",
       "      <td>2.000000</td>\n",
       "      <td>4.000000</td>\n",
       "    </tr>\n",
       "    <tr>\n",
       "      <td>Storage, Cleaning &amp; Ring Sizers</td>\n",
       "      <td>1</td>\n",
       "      <td>0.963174</td>\n",
       "      <td>802.000000</td>\n",
       "      <td>23.000000</td>\n",
       "      <td>4.500000</td>\n",
       "    </tr>\n",
       "    <tr>\n",
       "      <td>Bedding &amp; Linens</td>\n",
       "      <td>1</td>\n",
       "      <td>2.013569</td>\n",
       "      <td>299.000000</td>\n",
       "      <td>39.000000</td>\n",
       "      <td>4.100000</td>\n",
       "    </tr>\n",
       "    <tr>\n",
       "      <td>Indoor Lighting</td>\n",
       "      <td>1</td>\n",
       "      <td>2.196113</td>\n",
       "      <td>4.000000</td>\n",
       "      <td>1.000000</td>\n",
       "      <td>5.000000</td>\n",
       "    </tr>\n",
       "    <tr>\n",
       "      <td>Camping &amp; Hiking</td>\n",
       "      <td>1</td>\n",
       "      <td>1.423108</td>\n",
       "      <td>77.000000</td>\n",
       "      <td>11.000000</td>\n",
       "      <td>4.200000</td>\n",
       "    </tr>\n",
       "    <tr>\n",
       "      <td>Laundry, Storage &amp; Organisation</td>\n",
       "      <td>1</td>\n",
       "      <td>2.638343</td>\n",
       "      <td>1.000000</td>\n",
       "      <td>1.000000</td>\n",
       "      <td>5.000000</td>\n",
       "    </tr>\n",
       "    <tr>\n",
       "      <td>Novelty Jewellery</td>\n",
       "      <td>1</td>\n",
       "      <td>0.470004</td>\n",
       "      <td>2.000000</td>\n",
       "      <td>2.000000</td>\n",
       "      <td>5.000000</td>\n",
       "    </tr>\n",
       "    <tr>\n",
       "      <td>Handbags &amp; Shoulder Bags</td>\n",
       "      <td>1</td>\n",
       "      <td>1.383791</td>\n",
       "      <td>2.000000</td>\n",
       "      <td>1.000000</td>\n",
       "      <td>4.000000</td>\n",
       "    </tr>\n",
       "    <tr>\n",
       "      <td>Men</td>\n",
       "      <td>1</td>\n",
       "      <td>2.319442</td>\n",
       "      <td>18.000000</td>\n",
       "      <td>3.000000</td>\n",
       "      <td>4.100000</td>\n",
       "    </tr>\n",
       "    <tr>\n",
       "      <td>Jams, Honey &amp; Spreads</td>\n",
       "      <td>1</td>\n",
       "      <td>1.783391</td>\n",
       "      <td>1.000000</td>\n",
       "      <td>1.000000</td>\n",
       "      <td>4.000000</td>\n",
       "    </tr>\n",
       "  </tbody>\n",
       "</table>\n",
       "</div>"
      ],
      "text/plain": [
       "                                  total_sales  ave_price  ave_num_review  \\\n",
       "main_cat                                                                   \n",
       "Hobbies                                  1151   2.848859        4.503910   \n",
       "Die-Cast & Toy Vehicles                  1006   2.792808        4.728628   \n",
       "Figures & Playsets                        843   2.733836        7.354686   \n",
       "Games                                     751   2.225482       16.727031   \n",
       "Characters & Brands                       695   2.587284       13.541007   \n",
       "Arts & Crafts                             623   1.422938       11.656501   \n",
       "Party Supplies                            587   0.941906        8.022147   \n",
       "Fancy Dress                               484   2.066477       11.452479   \n",
       "Sports Toys & Outdoor                     323   2.541513       14.111455   \n",
       "Dolls & Accessories                       264   2.025882        3.609848   \n",
       "Puppets & Puppet Theatres                 235   2.635310       16.408511   \n",
       "Jigsaws & Puzzles                         218   2.295769        6.385321   \n",
       "Baby & Toddler Toys                        72   2.645925       12.180556   \n",
       "Pretend Play                               38   2.766183       26.000000   \n",
       "Musical Toy Instruments                    12   2.545494       18.083333   \n",
       "Novelty & Special Use                      10   1.081598        1.100000   \n",
       "Pens, Pencils & Writing Supplies            7   1.422101       25.142857   \n",
       "Office Supplies                             5   1.668104        3.000000   \n",
       "Home Accessories                            5   1.759973        2.800000   \n",
       "Bags                                        4   1.987151       12.500000   \n",
       "Worlds Apart                                3   2.691357        5.000000   \n",
       "Gardening                                   3   1.674315        3.000000   \n",
       "Electronic Toys                             3   3.106376        6.000000   \n",
       "Educational Toys                            3   2.989380        2.666667   \n",
       "Cooking & Dining                            3   1.783416        5.000000   \n",
       "Dogs                                        2   2.994982        1.000000   \n",
       "Medication & Remedies                       2   2.235534       10.500000   \n",
       "Women                                       2   1.829727        5.500000   \n",
       "Sex & Sensuality                            1   2.603430        2.000000   \n",
       "Sweets, Chocolate & Gum                     1   2.080691        7.000000   \n",
       "Supporters' Gear                            1   2.562639        1.000000   \n",
       "Storage, Cleaning & Ring Sizers             1   0.963174      802.000000   \n",
       "Bedding & Linens                            1   2.013569      299.000000   \n",
       "Indoor Lighting                             1   2.196113        4.000000   \n",
       "Camping & Hiking                            1   1.423108       77.000000   \n",
       "Laundry, Storage & Organisation             1   2.638343        1.000000   \n",
       "Novelty Jewellery                           1   0.470004        2.000000   \n",
       "Handbags & Shoulder Bags                    1   1.383791        2.000000   \n",
       "Men                                         1   2.319442       18.000000   \n",
       "Jams, Honey & Spreads                       1   1.783391        1.000000   \n",
       "\n",
       "                                  ave_num_answ_questions  ave_review_rating  \n",
       "main_cat                                                                     \n",
       "Hobbies                                         1.805387           4.747871  \n",
       "Die-Cast & Toy Vehicles                         1.657058           4.763121  \n",
       "Figures & Playsets                              1.670225           4.721827  \n",
       "Games                                           1.621838           4.673103  \n",
       "Characters & Brands                             1.800000           4.683597  \n",
       "Arts & Crafts                                   2.926164           4.695024  \n",
       "Party Supplies                                  1.770017           4.714821  \n",
       "Fancy Dress                                     1.822314           4.604545  \n",
       "Sports Toys & Outdoor                           2.309598           4.591331  \n",
       "Dolls & Accessories                             1.825758           4.805682  \n",
       "Puppets & Puppet Theatres                       1.229787           4.730213  \n",
       "Jigsaws & Puzzles                               1.417431           4.738991  \n",
       "Baby & Toddler Toys                             1.847222           4.619444  \n",
       "Pretend Play                                    2.657895           4.668421  \n",
       "Musical Toy Instruments                         1.250000           4.541667  \n",
       "Novelty & Special Use                           1.500000           4.900000  \n",
       "Pens, Pencils & Writing Supplies                2.428571           4.385714  \n",
       "Office Supplies                                 2.000000           4.560000  \n",
       "Home Accessories                                1.600000           4.460000  \n",
       "Bags                                            1.500000           4.600000  \n",
       "Worlds Apart                                    1.000000           4.666667  \n",
       "Gardening                                       1.333333           4.833333  \n",
       "Electronic Toys                                 3.666667           4.200000  \n",
       "Educational Toys                                1.333333           4.433333  \n",
       "Cooking & Dining                                3.333333           4.566667  \n",
       "Dogs                                            3.500000           5.000000  \n",
       "Medication & Remedies                           1.000000           4.500000  \n",
       "Women                                           2.500000           4.000000  \n",
       "Sex & Sensuality                                1.000000           4.000000  \n",
       "Sweets, Chocolate & Gum                         2.000000           4.400000  \n",
       "Supporters' Gear                                2.000000           4.000000  \n",
       "Storage, Cleaning & Ring Sizers                23.000000           4.500000  \n",
       "Bedding & Linens                               39.000000           4.100000  \n",
       "Indoor Lighting                                 1.000000           5.000000  \n",
       "Camping & Hiking                               11.000000           4.200000  \n",
       "Laundry, Storage & Organisation                 1.000000           5.000000  \n",
       "Novelty Jewellery                               2.000000           5.000000  \n",
       "Handbags & Shoulder Bags                        1.000000           4.000000  \n",
       "Men                                             3.000000           4.100000  \n",
       "Jams, Honey & Spreads                           1.000000           4.000000  "
      ]
     },
     "execution_count": 80,
     "metadata": {},
     "output_type": "execute_result"
    }
   ],
   "source": [
    "# creating new df, sales and price per category\n",
    "\n",
    "new_df = df.groupby('main_cat').agg({'price': ['count', 'mean'], 'num_reviews': ['mean'], 'num_answ_questions': ['mean'], \n",
    "                            'ave_review_rating': ['mean']})\n",
    "\n",
    "colnames = ['total_sales','ave_price','ave_num_review','ave_num_answ_questions','ave_review_rating']\n",
    "new_df.columns=colnames\n",
    "new_df.sort_values('total_sales', ascending=False)"
   ]
  },
  {
   "cell_type": "code",
   "execution_count": 104,
   "metadata": {
    "ExecuteTime": {
     "end_time": "2020-03-25T19:26:38.786138Z",
     "start_time": "2020-03-25T19:26:38.773151Z"
    },
    "scrolled": true
   },
   "outputs": [
    {
     "data": {
      "text/html": [
       "<div>\n",
       "<style scoped>\n",
       "    .dataframe tbody tr th:only-of-type {\n",
       "        vertical-align: middle;\n",
       "    }\n",
       "\n",
       "    .dataframe tbody tr th {\n",
       "        vertical-align: top;\n",
       "    }\n",
       "\n",
       "    .dataframe thead th {\n",
       "        text-align: right;\n",
       "    }\n",
       "</style>\n",
       "<table border=\"1\" class=\"dataframe\">\n",
       "  <thead>\n",
       "    <tr style=\"text-align: right;\">\n",
       "      <th></th>\n",
       "      <th>index</th>\n",
       "      <th>main_cat</th>\n",
       "      <th>total_sales</th>\n",
       "      <th>ave_price</th>\n",
       "      <th>ave_num_review</th>\n",
       "      <th>ave_num_answ_questions</th>\n",
       "      <th>ave_review_rating</th>\n",
       "    </tr>\n",
       "  </thead>\n",
       "  <tbody>\n",
       "    <tr>\n",
       "      <td>0</td>\n",
       "      <td>0</td>\n",
       "      <td>Arts &amp; Crafts</td>\n",
       "      <td>623</td>\n",
       "      <td>1.422938</td>\n",
       "      <td>11.656501</td>\n",
       "      <td>2.926164</td>\n",
       "      <td>4.695024</td>\n",
       "    </tr>\n",
       "    <tr>\n",
       "      <td>1</td>\n",
       "      <td>1</td>\n",
       "      <td>Baby &amp; Toddler Toys</td>\n",
       "      <td>72</td>\n",
       "      <td>2.645925</td>\n",
       "      <td>12.180556</td>\n",
       "      <td>1.847222</td>\n",
       "      <td>4.619444</td>\n",
       "    </tr>\n",
       "    <tr>\n",
       "      <td>2</td>\n",
       "      <td>2</td>\n",
       "      <td>Bags</td>\n",
       "      <td>4</td>\n",
       "      <td>1.987151</td>\n",
       "      <td>12.500000</td>\n",
       "      <td>1.500000</td>\n",
       "      <td>4.600000</td>\n",
       "    </tr>\n",
       "    <tr>\n",
       "      <td>3</td>\n",
       "      <td>3</td>\n",
       "      <td>Bedding &amp; Linens</td>\n",
       "      <td>1</td>\n",
       "      <td>2.013569</td>\n",
       "      <td>299.000000</td>\n",
       "      <td>39.000000</td>\n",
       "      <td>4.100000</td>\n",
       "    </tr>\n",
       "    <tr>\n",
       "      <td>4</td>\n",
       "      <td>4</td>\n",
       "      <td>Camping &amp; Hiking</td>\n",
       "      <td>1</td>\n",
       "      <td>1.423108</td>\n",
       "      <td>77.000000</td>\n",
       "      <td>11.000000</td>\n",
       "      <td>4.200000</td>\n",
       "    </tr>\n",
       "    <tr>\n",
       "      <td>5</td>\n",
       "      <td>5</td>\n",
       "      <td>Characters &amp; Brands</td>\n",
       "      <td>695</td>\n",
       "      <td>2.587284</td>\n",
       "      <td>13.541007</td>\n",
       "      <td>1.800000</td>\n",
       "      <td>4.683597</td>\n",
       "    </tr>\n",
       "    <tr>\n",
       "      <td>6</td>\n",
       "      <td>6</td>\n",
       "      <td>Cooking &amp; Dining</td>\n",
       "      <td>3</td>\n",
       "      <td>1.783416</td>\n",
       "      <td>5.000000</td>\n",
       "      <td>3.333333</td>\n",
       "      <td>4.566667</td>\n",
       "    </tr>\n",
       "    <tr>\n",
       "      <td>7</td>\n",
       "      <td>7</td>\n",
       "      <td>Die-Cast &amp; Toy Vehicles</td>\n",
       "      <td>1006</td>\n",
       "      <td>2.792808</td>\n",
       "      <td>4.728628</td>\n",
       "      <td>1.657058</td>\n",
       "      <td>4.763121</td>\n",
       "    </tr>\n",
       "    <tr>\n",
       "      <td>8</td>\n",
       "      <td>8</td>\n",
       "      <td>Dogs</td>\n",
       "      <td>2</td>\n",
       "      <td>2.994982</td>\n",
       "      <td>1.000000</td>\n",
       "      <td>3.500000</td>\n",
       "      <td>5.000000</td>\n",
       "    </tr>\n",
       "    <tr>\n",
       "      <td>9</td>\n",
       "      <td>9</td>\n",
       "      <td>Dolls &amp; Accessories</td>\n",
       "      <td>264</td>\n",
       "      <td>2.025882</td>\n",
       "      <td>3.609848</td>\n",
       "      <td>1.825758</td>\n",
       "      <td>4.805682</td>\n",
       "    </tr>\n",
       "    <tr>\n",
       "      <td>10</td>\n",
       "      <td>10</td>\n",
       "      <td>Educational Toys</td>\n",
       "      <td>3</td>\n",
       "      <td>2.989380</td>\n",
       "      <td>2.666667</td>\n",
       "      <td>1.333333</td>\n",
       "      <td>4.433333</td>\n",
       "    </tr>\n",
       "    <tr>\n",
       "      <td>11</td>\n",
       "      <td>11</td>\n",
       "      <td>Electronic Toys</td>\n",
       "      <td>3</td>\n",
       "      <td>3.106376</td>\n",
       "      <td>6.000000</td>\n",
       "      <td>3.666667</td>\n",
       "      <td>4.200000</td>\n",
       "    </tr>\n",
       "    <tr>\n",
       "      <td>12</td>\n",
       "      <td>12</td>\n",
       "      <td>Fancy Dress</td>\n",
       "      <td>484</td>\n",
       "      <td>2.066477</td>\n",
       "      <td>11.452479</td>\n",
       "      <td>1.822314</td>\n",
       "      <td>4.604545</td>\n",
       "    </tr>\n",
       "    <tr>\n",
       "      <td>13</td>\n",
       "      <td>13</td>\n",
       "      <td>Figures &amp; Playsets</td>\n",
       "      <td>843</td>\n",
       "      <td>2.733836</td>\n",
       "      <td>7.354686</td>\n",
       "      <td>1.670225</td>\n",
       "      <td>4.721827</td>\n",
       "    </tr>\n",
       "    <tr>\n",
       "      <td>14</td>\n",
       "      <td>14</td>\n",
       "      <td>Games</td>\n",
       "      <td>751</td>\n",
       "      <td>2.225482</td>\n",
       "      <td>16.727031</td>\n",
       "      <td>1.621838</td>\n",
       "      <td>4.673103</td>\n",
       "    </tr>\n",
       "    <tr>\n",
       "      <td>15</td>\n",
       "      <td>15</td>\n",
       "      <td>Gardening</td>\n",
       "      <td>3</td>\n",
       "      <td>1.674315</td>\n",
       "      <td>3.000000</td>\n",
       "      <td>1.333333</td>\n",
       "      <td>4.833333</td>\n",
       "    </tr>\n",
       "    <tr>\n",
       "      <td>16</td>\n",
       "      <td>16</td>\n",
       "      <td>Handbags &amp; Shoulder Bags</td>\n",
       "      <td>1</td>\n",
       "      <td>1.383791</td>\n",
       "      <td>2.000000</td>\n",
       "      <td>1.000000</td>\n",
       "      <td>4.000000</td>\n",
       "    </tr>\n",
       "    <tr>\n",
       "      <td>17</td>\n",
       "      <td>17</td>\n",
       "      <td>Hobbies</td>\n",
       "      <td>1151</td>\n",
       "      <td>2.848859</td>\n",
       "      <td>4.503910</td>\n",
       "      <td>1.805387</td>\n",
       "      <td>4.747871</td>\n",
       "    </tr>\n",
       "    <tr>\n",
       "      <td>18</td>\n",
       "      <td>18</td>\n",
       "      <td>Home Accessories</td>\n",
       "      <td>5</td>\n",
       "      <td>1.759973</td>\n",
       "      <td>2.800000</td>\n",
       "      <td>1.600000</td>\n",
       "      <td>4.460000</td>\n",
       "    </tr>\n",
       "    <tr>\n",
       "      <td>19</td>\n",
       "      <td>19</td>\n",
       "      <td>Indoor Lighting</td>\n",
       "      <td>1</td>\n",
       "      <td>2.196113</td>\n",
       "      <td>4.000000</td>\n",
       "      <td>1.000000</td>\n",
       "      <td>5.000000</td>\n",
       "    </tr>\n",
       "    <tr>\n",
       "      <td>20</td>\n",
       "      <td>20</td>\n",
       "      <td>Jams, Honey &amp; Spreads</td>\n",
       "      <td>1</td>\n",
       "      <td>1.783391</td>\n",
       "      <td>1.000000</td>\n",
       "      <td>1.000000</td>\n",
       "      <td>4.000000</td>\n",
       "    </tr>\n",
       "    <tr>\n",
       "      <td>21</td>\n",
       "      <td>21</td>\n",
       "      <td>Jigsaws &amp; Puzzles</td>\n",
       "      <td>218</td>\n",
       "      <td>2.295769</td>\n",
       "      <td>6.385321</td>\n",
       "      <td>1.417431</td>\n",
       "      <td>4.738991</td>\n",
       "    </tr>\n",
       "    <tr>\n",
       "      <td>22</td>\n",
       "      <td>22</td>\n",
       "      <td>Laundry, Storage &amp; Organisation</td>\n",
       "      <td>1</td>\n",
       "      <td>2.638343</td>\n",
       "      <td>1.000000</td>\n",
       "      <td>1.000000</td>\n",
       "      <td>5.000000</td>\n",
       "    </tr>\n",
       "    <tr>\n",
       "      <td>23</td>\n",
       "      <td>23</td>\n",
       "      <td>Medication &amp; Remedies</td>\n",
       "      <td>2</td>\n",
       "      <td>2.235534</td>\n",
       "      <td>10.500000</td>\n",
       "      <td>1.000000</td>\n",
       "      <td>4.500000</td>\n",
       "    </tr>\n",
       "    <tr>\n",
       "      <td>24</td>\n",
       "      <td>24</td>\n",
       "      <td>Men</td>\n",
       "      <td>1</td>\n",
       "      <td>2.319442</td>\n",
       "      <td>18.000000</td>\n",
       "      <td>3.000000</td>\n",
       "      <td>4.100000</td>\n",
       "    </tr>\n",
       "    <tr>\n",
       "      <td>25</td>\n",
       "      <td>25</td>\n",
       "      <td>Musical Toy Instruments</td>\n",
       "      <td>12</td>\n",
       "      <td>2.545494</td>\n",
       "      <td>18.083333</td>\n",
       "      <td>1.250000</td>\n",
       "      <td>4.541667</td>\n",
       "    </tr>\n",
       "    <tr>\n",
       "      <td>26</td>\n",
       "      <td>26</td>\n",
       "      <td>Novelty &amp; Special Use</td>\n",
       "      <td>10</td>\n",
       "      <td>1.081598</td>\n",
       "      <td>1.100000</td>\n",
       "      <td>1.500000</td>\n",
       "      <td>4.900000</td>\n",
       "    </tr>\n",
       "    <tr>\n",
       "      <td>27</td>\n",
       "      <td>27</td>\n",
       "      <td>Novelty Jewellery</td>\n",
       "      <td>1</td>\n",
       "      <td>0.470004</td>\n",
       "      <td>2.000000</td>\n",
       "      <td>2.000000</td>\n",
       "      <td>5.000000</td>\n",
       "    </tr>\n",
       "    <tr>\n",
       "      <td>28</td>\n",
       "      <td>28</td>\n",
       "      <td>Office Supplies</td>\n",
       "      <td>5</td>\n",
       "      <td>1.668104</td>\n",
       "      <td>3.000000</td>\n",
       "      <td>2.000000</td>\n",
       "      <td>4.560000</td>\n",
       "    </tr>\n",
       "    <tr>\n",
       "      <td>29</td>\n",
       "      <td>29</td>\n",
       "      <td>Party Supplies</td>\n",
       "      <td>587</td>\n",
       "      <td>0.941906</td>\n",
       "      <td>8.022147</td>\n",
       "      <td>1.770017</td>\n",
       "      <td>4.714821</td>\n",
       "    </tr>\n",
       "    <tr>\n",
       "      <td>30</td>\n",
       "      <td>30</td>\n",
       "      <td>Pens, Pencils &amp; Writing Supplies</td>\n",
       "      <td>7</td>\n",
       "      <td>1.422101</td>\n",
       "      <td>25.142857</td>\n",
       "      <td>2.428571</td>\n",
       "      <td>4.385714</td>\n",
       "    </tr>\n",
       "    <tr>\n",
       "      <td>31</td>\n",
       "      <td>31</td>\n",
       "      <td>Pretend Play</td>\n",
       "      <td>38</td>\n",
       "      <td>2.766183</td>\n",
       "      <td>26.000000</td>\n",
       "      <td>2.657895</td>\n",
       "      <td>4.668421</td>\n",
       "    </tr>\n",
       "    <tr>\n",
       "      <td>32</td>\n",
       "      <td>32</td>\n",
       "      <td>Puppets &amp; Puppet Theatres</td>\n",
       "      <td>235</td>\n",
       "      <td>2.635310</td>\n",
       "      <td>16.408511</td>\n",
       "      <td>1.229787</td>\n",
       "      <td>4.730213</td>\n",
       "    </tr>\n",
       "    <tr>\n",
       "      <td>33</td>\n",
       "      <td>33</td>\n",
       "      <td>Sex &amp; Sensuality</td>\n",
       "      <td>1</td>\n",
       "      <td>2.603430</td>\n",
       "      <td>2.000000</td>\n",
       "      <td>1.000000</td>\n",
       "      <td>4.000000</td>\n",
       "    </tr>\n",
       "    <tr>\n",
       "      <td>34</td>\n",
       "      <td>34</td>\n",
       "      <td>Sports Toys &amp; Outdoor</td>\n",
       "      <td>323</td>\n",
       "      <td>2.541513</td>\n",
       "      <td>14.111455</td>\n",
       "      <td>2.309598</td>\n",
       "      <td>4.591331</td>\n",
       "    </tr>\n",
       "    <tr>\n",
       "      <td>35</td>\n",
       "      <td>35</td>\n",
       "      <td>Storage, Cleaning &amp; Ring Sizers</td>\n",
       "      <td>1</td>\n",
       "      <td>0.963174</td>\n",
       "      <td>802.000000</td>\n",
       "      <td>23.000000</td>\n",
       "      <td>4.500000</td>\n",
       "    </tr>\n",
       "    <tr>\n",
       "      <td>36</td>\n",
       "      <td>36</td>\n",
       "      <td>Supporters' Gear</td>\n",
       "      <td>1</td>\n",
       "      <td>2.562639</td>\n",
       "      <td>1.000000</td>\n",
       "      <td>2.000000</td>\n",
       "      <td>4.000000</td>\n",
       "    </tr>\n",
       "    <tr>\n",
       "      <td>37</td>\n",
       "      <td>37</td>\n",
       "      <td>Sweets, Chocolate &amp; Gum</td>\n",
       "      <td>1</td>\n",
       "      <td>2.080691</td>\n",
       "      <td>7.000000</td>\n",
       "      <td>2.000000</td>\n",
       "      <td>4.400000</td>\n",
       "    </tr>\n",
       "    <tr>\n",
       "      <td>38</td>\n",
       "      <td>38</td>\n",
       "      <td>Women</td>\n",
       "      <td>2</td>\n",
       "      <td>1.829727</td>\n",
       "      <td>5.500000</td>\n",
       "      <td>2.500000</td>\n",
       "      <td>4.000000</td>\n",
       "    </tr>\n",
       "    <tr>\n",
       "      <td>39</td>\n",
       "      <td>39</td>\n",
       "      <td>Worlds Apart</td>\n",
       "      <td>3</td>\n",
       "      <td>2.691357</td>\n",
       "      <td>5.000000</td>\n",
       "      <td>1.000000</td>\n",
       "      <td>4.666667</td>\n",
       "    </tr>\n",
       "  </tbody>\n",
       "</table>\n",
       "</div>"
      ],
      "text/plain": [
       "    index                          main_cat  total_sales  ave_price  \\\n",
       "0       0                     Arts & Crafts          623   1.422938   \n",
       "1       1               Baby & Toddler Toys           72   2.645925   \n",
       "2       2                              Bags            4   1.987151   \n",
       "3       3                  Bedding & Linens            1   2.013569   \n",
       "4       4                  Camping & Hiking            1   1.423108   \n",
       "5       5               Characters & Brands          695   2.587284   \n",
       "6       6                  Cooking & Dining            3   1.783416   \n",
       "7       7           Die-Cast & Toy Vehicles         1006   2.792808   \n",
       "8       8                              Dogs            2   2.994982   \n",
       "9       9               Dolls & Accessories          264   2.025882   \n",
       "10     10                  Educational Toys            3   2.989380   \n",
       "11     11                   Electronic Toys            3   3.106376   \n",
       "12     12                       Fancy Dress          484   2.066477   \n",
       "13     13                Figures & Playsets          843   2.733836   \n",
       "14     14                             Games          751   2.225482   \n",
       "15     15                         Gardening            3   1.674315   \n",
       "16     16          Handbags & Shoulder Bags            1   1.383791   \n",
       "17     17                           Hobbies         1151   2.848859   \n",
       "18     18                  Home Accessories            5   1.759973   \n",
       "19     19                   Indoor Lighting            1   2.196113   \n",
       "20     20             Jams, Honey & Spreads            1   1.783391   \n",
       "21     21                 Jigsaws & Puzzles          218   2.295769   \n",
       "22     22   Laundry, Storage & Organisation            1   2.638343   \n",
       "23     23             Medication & Remedies            2   2.235534   \n",
       "24     24                               Men            1   2.319442   \n",
       "25     25           Musical Toy Instruments           12   2.545494   \n",
       "26     26             Novelty & Special Use           10   1.081598   \n",
       "27     27                 Novelty Jewellery            1   0.470004   \n",
       "28     28                   Office Supplies            5   1.668104   \n",
       "29     29                    Party Supplies          587   0.941906   \n",
       "30     30  Pens, Pencils & Writing Supplies            7   1.422101   \n",
       "31     31                      Pretend Play           38   2.766183   \n",
       "32     32         Puppets & Puppet Theatres          235   2.635310   \n",
       "33     33                  Sex & Sensuality            1   2.603430   \n",
       "34     34             Sports Toys & Outdoor          323   2.541513   \n",
       "35     35   Storage, Cleaning & Ring Sizers            1   0.963174   \n",
       "36     36                  Supporters' Gear            1   2.562639   \n",
       "37     37           Sweets, Chocolate & Gum            1   2.080691   \n",
       "38     38                             Women            2   1.829727   \n",
       "39     39                      Worlds Apart            3   2.691357   \n",
       "\n",
       "    ave_num_review  ave_num_answ_questions  ave_review_rating  \n",
       "0        11.656501                2.926164           4.695024  \n",
       "1        12.180556                1.847222           4.619444  \n",
       "2        12.500000                1.500000           4.600000  \n",
       "3       299.000000               39.000000           4.100000  \n",
       "4        77.000000               11.000000           4.200000  \n",
       "5        13.541007                1.800000           4.683597  \n",
       "6         5.000000                3.333333           4.566667  \n",
       "7         4.728628                1.657058           4.763121  \n",
       "8         1.000000                3.500000           5.000000  \n",
       "9         3.609848                1.825758           4.805682  \n",
       "10        2.666667                1.333333           4.433333  \n",
       "11        6.000000                3.666667           4.200000  \n",
       "12       11.452479                1.822314           4.604545  \n",
       "13        7.354686                1.670225           4.721827  \n",
       "14       16.727031                1.621838           4.673103  \n",
       "15        3.000000                1.333333           4.833333  \n",
       "16        2.000000                1.000000           4.000000  \n",
       "17        4.503910                1.805387           4.747871  \n",
       "18        2.800000                1.600000           4.460000  \n",
       "19        4.000000                1.000000           5.000000  \n",
       "20        1.000000                1.000000           4.000000  \n",
       "21        6.385321                1.417431           4.738991  \n",
       "22        1.000000                1.000000           5.000000  \n",
       "23       10.500000                1.000000           4.500000  \n",
       "24       18.000000                3.000000           4.100000  \n",
       "25       18.083333                1.250000           4.541667  \n",
       "26        1.100000                1.500000           4.900000  \n",
       "27        2.000000                2.000000           5.000000  \n",
       "28        3.000000                2.000000           4.560000  \n",
       "29        8.022147                1.770017           4.714821  \n",
       "30       25.142857                2.428571           4.385714  \n",
       "31       26.000000                2.657895           4.668421  \n",
       "32       16.408511                1.229787           4.730213  \n",
       "33        2.000000                1.000000           4.000000  \n",
       "34       14.111455                2.309598           4.591331  \n",
       "35      802.000000               23.000000           4.500000  \n",
       "36        1.000000                2.000000           4.000000  \n",
       "37        7.000000                2.000000           4.400000  \n",
       "38        5.500000                2.500000           4.000000  \n",
       "39        5.000000                1.000000           4.666667  "
      ]
     },
     "execution_count": 104,
     "metadata": {},
     "output_type": "execute_result"
    }
   ],
   "source": [
    "new_df=new_df.reset_index()"
   ]
  },
  {
   "cell_type": "code",
   "execution_count": 105,
   "metadata": {
    "ExecuteTime": {
     "end_time": "2020-03-25T19:26:48.180497Z",
     "start_time": "2020-03-25T19:26:48.167531Z"
    }
   },
   "outputs": [
    {
     "data": {
      "text/html": [
       "<div>\n",
       "<style scoped>\n",
       "    .dataframe tbody tr th:only-of-type {\n",
       "        vertical-align: middle;\n",
       "    }\n",
       "\n",
       "    .dataframe tbody tr th {\n",
       "        vertical-align: top;\n",
       "    }\n",
       "\n",
       "    .dataframe thead th {\n",
       "        text-align: right;\n",
       "    }\n",
       "</style>\n",
       "<table border=\"1\" class=\"dataframe\">\n",
       "  <thead>\n",
       "    <tr style=\"text-align: right;\">\n",
       "      <th></th>\n",
       "      <th>index</th>\n",
       "      <th>main_cat</th>\n",
       "      <th>total_sales</th>\n",
       "      <th>ave_price</th>\n",
       "      <th>ave_num_review</th>\n",
       "      <th>ave_num_answ_questions</th>\n",
       "      <th>ave_review_rating</th>\n",
       "    </tr>\n",
       "  </thead>\n",
       "  <tbody>\n",
       "    <tr>\n",
       "      <td>0</td>\n",
       "      <td>0</td>\n",
       "      <td>Arts &amp; Crafts</td>\n",
       "      <td>623</td>\n",
       "      <td>1.422938</td>\n",
       "      <td>11.656501</td>\n",
       "      <td>2.926164</td>\n",
       "      <td>4.695024</td>\n",
       "    </tr>\n",
       "    <tr>\n",
       "      <td>1</td>\n",
       "      <td>1</td>\n",
       "      <td>Baby &amp; Toddler Toys</td>\n",
       "      <td>72</td>\n",
       "      <td>2.645925</td>\n",
       "      <td>12.180556</td>\n",
       "      <td>1.847222</td>\n",
       "      <td>4.619444</td>\n",
       "    </tr>\n",
       "    <tr>\n",
       "      <td>2</td>\n",
       "      <td>2</td>\n",
       "      <td>Bags</td>\n",
       "      <td>4</td>\n",
       "      <td>1.987151</td>\n",
       "      <td>12.500000</td>\n",
       "      <td>1.500000</td>\n",
       "      <td>4.600000</td>\n",
       "    </tr>\n",
       "    <tr>\n",
       "      <td>3</td>\n",
       "      <td>3</td>\n",
       "      <td>Bedding &amp; Linens</td>\n",
       "      <td>1</td>\n",
       "      <td>2.013569</td>\n",
       "      <td>299.000000</td>\n",
       "      <td>39.000000</td>\n",
       "      <td>4.100000</td>\n",
       "    </tr>\n",
       "    <tr>\n",
       "      <td>4</td>\n",
       "      <td>4</td>\n",
       "      <td>Camping &amp; Hiking</td>\n",
       "      <td>1</td>\n",
       "      <td>1.423108</td>\n",
       "      <td>77.000000</td>\n",
       "      <td>11.000000</td>\n",
       "      <td>4.200000</td>\n",
       "    </tr>\n",
       "    <tr>\n",
       "      <td>5</td>\n",
       "      <td>5</td>\n",
       "      <td>Characters &amp; Brands</td>\n",
       "      <td>695</td>\n",
       "      <td>2.587284</td>\n",
       "      <td>13.541007</td>\n",
       "      <td>1.800000</td>\n",
       "      <td>4.683597</td>\n",
       "    </tr>\n",
       "    <tr>\n",
       "      <td>6</td>\n",
       "      <td>6</td>\n",
       "      <td>Cooking &amp; Dining</td>\n",
       "      <td>3</td>\n",
       "      <td>1.783416</td>\n",
       "      <td>5.000000</td>\n",
       "      <td>3.333333</td>\n",
       "      <td>4.566667</td>\n",
       "    </tr>\n",
       "    <tr>\n",
       "      <td>7</td>\n",
       "      <td>7</td>\n",
       "      <td>Die-Cast &amp; Toy Vehicles</td>\n",
       "      <td>1006</td>\n",
       "      <td>2.792808</td>\n",
       "      <td>4.728628</td>\n",
       "      <td>1.657058</td>\n",
       "      <td>4.763121</td>\n",
       "    </tr>\n",
       "    <tr>\n",
       "      <td>8</td>\n",
       "      <td>8</td>\n",
       "      <td>Dogs</td>\n",
       "      <td>2</td>\n",
       "      <td>2.994982</td>\n",
       "      <td>1.000000</td>\n",
       "      <td>3.500000</td>\n",
       "      <td>5.000000</td>\n",
       "    </tr>\n",
       "    <tr>\n",
       "      <td>9</td>\n",
       "      <td>9</td>\n",
       "      <td>Dolls &amp; Accessories</td>\n",
       "      <td>264</td>\n",
       "      <td>2.025882</td>\n",
       "      <td>3.609848</td>\n",
       "      <td>1.825758</td>\n",
       "      <td>4.805682</td>\n",
       "    </tr>\n",
       "    <tr>\n",
       "      <td>10</td>\n",
       "      <td>10</td>\n",
       "      <td>Educational Toys</td>\n",
       "      <td>3</td>\n",
       "      <td>2.989380</td>\n",
       "      <td>2.666667</td>\n",
       "      <td>1.333333</td>\n",
       "      <td>4.433333</td>\n",
       "    </tr>\n",
       "    <tr>\n",
       "      <td>11</td>\n",
       "      <td>11</td>\n",
       "      <td>Electronic Toys</td>\n",
       "      <td>3</td>\n",
       "      <td>3.106376</td>\n",
       "      <td>6.000000</td>\n",
       "      <td>3.666667</td>\n",
       "      <td>4.200000</td>\n",
       "    </tr>\n",
       "    <tr>\n",
       "      <td>12</td>\n",
       "      <td>12</td>\n",
       "      <td>Fancy Dress</td>\n",
       "      <td>484</td>\n",
       "      <td>2.066477</td>\n",
       "      <td>11.452479</td>\n",
       "      <td>1.822314</td>\n",
       "      <td>4.604545</td>\n",
       "    </tr>\n",
       "    <tr>\n",
       "      <td>13</td>\n",
       "      <td>13</td>\n",
       "      <td>Figures &amp; Playsets</td>\n",
       "      <td>843</td>\n",
       "      <td>2.733836</td>\n",
       "      <td>7.354686</td>\n",
       "      <td>1.670225</td>\n",
       "      <td>4.721827</td>\n",
       "    </tr>\n",
       "    <tr>\n",
       "      <td>14</td>\n",
       "      <td>14</td>\n",
       "      <td>Games</td>\n",
       "      <td>751</td>\n",
       "      <td>2.225482</td>\n",
       "      <td>16.727031</td>\n",
       "      <td>1.621838</td>\n",
       "      <td>4.673103</td>\n",
       "    </tr>\n",
       "    <tr>\n",
       "      <td>15</td>\n",
       "      <td>15</td>\n",
       "      <td>Gardening</td>\n",
       "      <td>3</td>\n",
       "      <td>1.674315</td>\n",
       "      <td>3.000000</td>\n",
       "      <td>1.333333</td>\n",
       "      <td>4.833333</td>\n",
       "    </tr>\n",
       "    <tr>\n",
       "      <td>16</td>\n",
       "      <td>16</td>\n",
       "      <td>Handbags &amp; Shoulder Bags</td>\n",
       "      <td>1</td>\n",
       "      <td>1.383791</td>\n",
       "      <td>2.000000</td>\n",
       "      <td>1.000000</td>\n",
       "      <td>4.000000</td>\n",
       "    </tr>\n",
       "    <tr>\n",
       "      <td>17</td>\n",
       "      <td>17</td>\n",
       "      <td>Hobbies</td>\n",
       "      <td>1151</td>\n",
       "      <td>2.848859</td>\n",
       "      <td>4.503910</td>\n",
       "      <td>1.805387</td>\n",
       "      <td>4.747871</td>\n",
       "    </tr>\n",
       "    <tr>\n",
       "      <td>18</td>\n",
       "      <td>18</td>\n",
       "      <td>Home Accessories</td>\n",
       "      <td>5</td>\n",
       "      <td>1.759973</td>\n",
       "      <td>2.800000</td>\n",
       "      <td>1.600000</td>\n",
       "      <td>4.460000</td>\n",
       "    </tr>\n",
       "    <tr>\n",
       "      <td>19</td>\n",
       "      <td>19</td>\n",
       "      <td>Indoor Lighting</td>\n",
       "      <td>1</td>\n",
       "      <td>2.196113</td>\n",
       "      <td>4.000000</td>\n",
       "      <td>1.000000</td>\n",
       "      <td>5.000000</td>\n",
       "    </tr>\n",
       "    <tr>\n",
       "      <td>20</td>\n",
       "      <td>20</td>\n",
       "      <td>Jams, Honey &amp; Spreads</td>\n",
       "      <td>1</td>\n",
       "      <td>1.783391</td>\n",
       "      <td>1.000000</td>\n",
       "      <td>1.000000</td>\n",
       "      <td>4.000000</td>\n",
       "    </tr>\n",
       "    <tr>\n",
       "      <td>21</td>\n",
       "      <td>21</td>\n",
       "      <td>Jigsaws &amp; Puzzles</td>\n",
       "      <td>218</td>\n",
       "      <td>2.295769</td>\n",
       "      <td>6.385321</td>\n",
       "      <td>1.417431</td>\n",
       "      <td>4.738991</td>\n",
       "    </tr>\n",
       "    <tr>\n",
       "      <td>22</td>\n",
       "      <td>22</td>\n",
       "      <td>Laundry, Storage &amp; Organisation</td>\n",
       "      <td>1</td>\n",
       "      <td>2.638343</td>\n",
       "      <td>1.000000</td>\n",
       "      <td>1.000000</td>\n",
       "      <td>5.000000</td>\n",
       "    </tr>\n",
       "    <tr>\n",
       "      <td>23</td>\n",
       "      <td>23</td>\n",
       "      <td>Medication &amp; Remedies</td>\n",
       "      <td>2</td>\n",
       "      <td>2.235534</td>\n",
       "      <td>10.500000</td>\n",
       "      <td>1.000000</td>\n",
       "      <td>4.500000</td>\n",
       "    </tr>\n",
       "    <tr>\n",
       "      <td>24</td>\n",
       "      <td>24</td>\n",
       "      <td>Men</td>\n",
       "      <td>1</td>\n",
       "      <td>2.319442</td>\n",
       "      <td>18.000000</td>\n",
       "      <td>3.000000</td>\n",
       "      <td>4.100000</td>\n",
       "    </tr>\n",
       "    <tr>\n",
       "      <td>25</td>\n",
       "      <td>25</td>\n",
       "      <td>Musical Toy Instruments</td>\n",
       "      <td>12</td>\n",
       "      <td>2.545494</td>\n",
       "      <td>18.083333</td>\n",
       "      <td>1.250000</td>\n",
       "      <td>4.541667</td>\n",
       "    </tr>\n",
       "    <tr>\n",
       "      <td>26</td>\n",
       "      <td>26</td>\n",
       "      <td>Novelty &amp; Special Use</td>\n",
       "      <td>10</td>\n",
       "      <td>1.081598</td>\n",
       "      <td>1.100000</td>\n",
       "      <td>1.500000</td>\n",
       "      <td>4.900000</td>\n",
       "    </tr>\n",
       "    <tr>\n",
       "      <td>27</td>\n",
       "      <td>27</td>\n",
       "      <td>Novelty Jewellery</td>\n",
       "      <td>1</td>\n",
       "      <td>0.470004</td>\n",
       "      <td>2.000000</td>\n",
       "      <td>2.000000</td>\n",
       "      <td>5.000000</td>\n",
       "    </tr>\n",
       "    <tr>\n",
       "      <td>28</td>\n",
       "      <td>28</td>\n",
       "      <td>Office Supplies</td>\n",
       "      <td>5</td>\n",
       "      <td>1.668104</td>\n",
       "      <td>3.000000</td>\n",
       "      <td>2.000000</td>\n",
       "      <td>4.560000</td>\n",
       "    </tr>\n",
       "    <tr>\n",
       "      <td>29</td>\n",
       "      <td>29</td>\n",
       "      <td>Party Supplies</td>\n",
       "      <td>587</td>\n",
       "      <td>0.941906</td>\n",
       "      <td>8.022147</td>\n",
       "      <td>1.770017</td>\n",
       "      <td>4.714821</td>\n",
       "    </tr>\n",
       "    <tr>\n",
       "      <td>30</td>\n",
       "      <td>30</td>\n",
       "      <td>Pens, Pencils &amp; Writing Supplies</td>\n",
       "      <td>7</td>\n",
       "      <td>1.422101</td>\n",
       "      <td>25.142857</td>\n",
       "      <td>2.428571</td>\n",
       "      <td>4.385714</td>\n",
       "    </tr>\n",
       "    <tr>\n",
       "      <td>31</td>\n",
       "      <td>31</td>\n",
       "      <td>Pretend Play</td>\n",
       "      <td>38</td>\n",
       "      <td>2.766183</td>\n",
       "      <td>26.000000</td>\n",
       "      <td>2.657895</td>\n",
       "      <td>4.668421</td>\n",
       "    </tr>\n",
       "    <tr>\n",
       "      <td>32</td>\n",
       "      <td>32</td>\n",
       "      <td>Puppets &amp; Puppet Theatres</td>\n",
       "      <td>235</td>\n",
       "      <td>2.635310</td>\n",
       "      <td>16.408511</td>\n",
       "      <td>1.229787</td>\n",
       "      <td>4.730213</td>\n",
       "    </tr>\n",
       "    <tr>\n",
       "      <td>33</td>\n",
       "      <td>33</td>\n",
       "      <td>Sex &amp; Sensuality</td>\n",
       "      <td>1</td>\n",
       "      <td>2.603430</td>\n",
       "      <td>2.000000</td>\n",
       "      <td>1.000000</td>\n",
       "      <td>4.000000</td>\n",
       "    </tr>\n",
       "    <tr>\n",
       "      <td>34</td>\n",
       "      <td>34</td>\n",
       "      <td>Sports Toys &amp; Outdoor</td>\n",
       "      <td>323</td>\n",
       "      <td>2.541513</td>\n",
       "      <td>14.111455</td>\n",
       "      <td>2.309598</td>\n",
       "      <td>4.591331</td>\n",
       "    </tr>\n",
       "    <tr>\n",
       "      <td>35</td>\n",
       "      <td>35</td>\n",
       "      <td>Storage, Cleaning &amp; Ring Sizers</td>\n",
       "      <td>1</td>\n",
       "      <td>0.963174</td>\n",
       "      <td>802.000000</td>\n",
       "      <td>23.000000</td>\n",
       "      <td>4.500000</td>\n",
       "    </tr>\n",
       "    <tr>\n",
       "      <td>36</td>\n",
       "      <td>36</td>\n",
       "      <td>Supporters' Gear</td>\n",
       "      <td>1</td>\n",
       "      <td>2.562639</td>\n",
       "      <td>1.000000</td>\n",
       "      <td>2.000000</td>\n",
       "      <td>4.000000</td>\n",
       "    </tr>\n",
       "    <tr>\n",
       "      <td>37</td>\n",
       "      <td>37</td>\n",
       "      <td>Sweets, Chocolate &amp; Gum</td>\n",
       "      <td>1</td>\n",
       "      <td>2.080691</td>\n",
       "      <td>7.000000</td>\n",
       "      <td>2.000000</td>\n",
       "      <td>4.400000</td>\n",
       "    </tr>\n",
       "    <tr>\n",
       "      <td>38</td>\n",
       "      <td>38</td>\n",
       "      <td>Women</td>\n",
       "      <td>2</td>\n",
       "      <td>1.829727</td>\n",
       "      <td>5.500000</td>\n",
       "      <td>2.500000</td>\n",
       "      <td>4.000000</td>\n",
       "    </tr>\n",
       "    <tr>\n",
       "      <td>39</td>\n",
       "      <td>39</td>\n",
       "      <td>Worlds Apart</td>\n",
       "      <td>3</td>\n",
       "      <td>2.691357</td>\n",
       "      <td>5.000000</td>\n",
       "      <td>1.000000</td>\n",
       "      <td>4.666667</td>\n",
       "    </tr>\n",
       "  </tbody>\n",
       "</table>\n",
       "</div>"
      ],
      "text/plain": [
       "    index                          main_cat  total_sales  ave_price  \\\n",
       "0       0                     Arts & Crafts          623   1.422938   \n",
       "1       1               Baby & Toddler Toys           72   2.645925   \n",
       "2       2                              Bags            4   1.987151   \n",
       "3       3                  Bedding & Linens            1   2.013569   \n",
       "4       4                  Camping & Hiking            1   1.423108   \n",
       "5       5               Characters & Brands          695   2.587284   \n",
       "6       6                  Cooking & Dining            3   1.783416   \n",
       "7       7           Die-Cast & Toy Vehicles         1006   2.792808   \n",
       "8       8                              Dogs            2   2.994982   \n",
       "9       9               Dolls & Accessories          264   2.025882   \n",
       "10     10                  Educational Toys            3   2.989380   \n",
       "11     11                   Electronic Toys            3   3.106376   \n",
       "12     12                       Fancy Dress          484   2.066477   \n",
       "13     13                Figures & Playsets          843   2.733836   \n",
       "14     14                             Games          751   2.225482   \n",
       "15     15                         Gardening            3   1.674315   \n",
       "16     16          Handbags & Shoulder Bags            1   1.383791   \n",
       "17     17                           Hobbies         1151   2.848859   \n",
       "18     18                  Home Accessories            5   1.759973   \n",
       "19     19                   Indoor Lighting            1   2.196113   \n",
       "20     20             Jams, Honey & Spreads            1   1.783391   \n",
       "21     21                 Jigsaws & Puzzles          218   2.295769   \n",
       "22     22   Laundry, Storage & Organisation            1   2.638343   \n",
       "23     23             Medication & Remedies            2   2.235534   \n",
       "24     24                               Men            1   2.319442   \n",
       "25     25           Musical Toy Instruments           12   2.545494   \n",
       "26     26             Novelty & Special Use           10   1.081598   \n",
       "27     27                 Novelty Jewellery            1   0.470004   \n",
       "28     28                   Office Supplies            5   1.668104   \n",
       "29     29                    Party Supplies          587   0.941906   \n",
       "30     30  Pens, Pencils & Writing Supplies            7   1.422101   \n",
       "31     31                      Pretend Play           38   2.766183   \n",
       "32     32         Puppets & Puppet Theatres          235   2.635310   \n",
       "33     33                  Sex & Sensuality            1   2.603430   \n",
       "34     34             Sports Toys & Outdoor          323   2.541513   \n",
       "35     35   Storage, Cleaning & Ring Sizers            1   0.963174   \n",
       "36     36                  Supporters' Gear            1   2.562639   \n",
       "37     37           Sweets, Chocolate & Gum            1   2.080691   \n",
       "38     38                             Women            2   1.829727   \n",
       "39     39                      Worlds Apart            3   2.691357   \n",
       "\n",
       "    ave_num_review  ave_num_answ_questions  ave_review_rating  \n",
       "0        11.656501                2.926164           4.695024  \n",
       "1        12.180556                1.847222           4.619444  \n",
       "2        12.500000                1.500000           4.600000  \n",
       "3       299.000000               39.000000           4.100000  \n",
       "4        77.000000               11.000000           4.200000  \n",
       "5        13.541007                1.800000           4.683597  \n",
       "6         5.000000                3.333333           4.566667  \n",
       "7         4.728628                1.657058           4.763121  \n",
       "8         1.000000                3.500000           5.000000  \n",
       "9         3.609848                1.825758           4.805682  \n",
       "10        2.666667                1.333333           4.433333  \n",
       "11        6.000000                3.666667           4.200000  \n",
       "12       11.452479                1.822314           4.604545  \n",
       "13        7.354686                1.670225           4.721827  \n",
       "14       16.727031                1.621838           4.673103  \n",
       "15        3.000000                1.333333           4.833333  \n",
       "16        2.000000                1.000000           4.000000  \n",
       "17        4.503910                1.805387           4.747871  \n",
       "18        2.800000                1.600000           4.460000  \n",
       "19        4.000000                1.000000           5.000000  \n",
       "20        1.000000                1.000000           4.000000  \n",
       "21        6.385321                1.417431           4.738991  \n",
       "22        1.000000                1.000000           5.000000  \n",
       "23       10.500000                1.000000           4.500000  \n",
       "24       18.000000                3.000000           4.100000  \n",
       "25       18.083333                1.250000           4.541667  \n",
       "26        1.100000                1.500000           4.900000  \n",
       "27        2.000000                2.000000           5.000000  \n",
       "28        3.000000                2.000000           4.560000  \n",
       "29        8.022147                1.770017           4.714821  \n",
       "30       25.142857                2.428571           4.385714  \n",
       "31       26.000000                2.657895           4.668421  \n",
       "32       16.408511                1.229787           4.730213  \n",
       "33        2.000000                1.000000           4.000000  \n",
       "34       14.111455                2.309598           4.591331  \n",
       "35      802.000000               23.000000           4.500000  \n",
       "36        1.000000                2.000000           4.000000  \n",
       "37        7.000000                2.000000           4.400000  \n",
       "38        5.500000                2.500000           4.000000  \n",
       "39        5.000000                1.000000           4.666667  "
      ]
     },
     "execution_count": 105,
     "metadata": {},
     "output_type": "execute_result"
    }
   ],
   "source": [
    "new_df"
   ]
  },
  {
   "cell_type": "code",
   "execution_count": 107,
   "metadata": {
    "ExecuteTime": {
     "end_time": "2020-03-25T19:40:28.671608Z",
     "start_time": "2020-03-25T19:40:28.666648Z"
    }
   },
   "outputs": [],
   "source": [
    "hobbies = df.loc[df['main_cat'] == 'Hobbies']"
   ]
  },
  {
   "cell_type": "code",
   "execution_count": 111,
   "metadata": {
    "ExecuteTime": {
     "end_time": "2020-03-25T20:09:51.535745Z",
     "start_time": "2020-03-25T20:09:51.527766Z"
    }
   },
   "outputs": [
    {
     "name": "stdout",
     "output_type": "stream",
     "text": [
      "Ttest_1sampResult(statistic=-62.90764387490565, pvalue=0.0)\n",
      "True\n",
      "We reject H0, the average price in these two groups is significantly different\n"
     ]
    }
   ],
   "source": [
    "# Your code here:\n",
    "\n",
    "#hypothesis: want to see of Hobbies is significantly different from Die-Cast & Toy Vehicles\n",
    "from scipy import stats   \n",
    "\n",
    "alpha = 0.05\n",
    "r = stats.ttest_1samp(hobbies['price'], 5)\n",
    "print(r)\n",
    "print(r.pvalue < alpha) \n",
    "\n",
    "if (r.pvalue < alpha):\n",
    "    print(\"We reject H0, the average price in these two groups is significantly different\")\n",
    "else: \n",
    "    print('We accept H0')\n"
   ]
  },
  {
   "cell_type": "code",
   "execution_count": 110,
   "metadata": {
    "ExecuteTime": {
     "end_time": "2020-03-25T19:41:31.570844Z",
     "start_time": "2020-03-25T19:41:31.565880Z"
    }
   },
   "outputs": [
    {
     "data": {
      "text/plain": [
       "2.8488585258553543"
      ]
     },
     "execution_count": 110,
     "metadata": {},
     "output_type": "execute_result"
    }
   ],
   "source": [
    "hobbies['price'].mean()"
   ]
  },
  {
   "cell_type": "code",
   "execution_count": 64,
   "metadata": {
    "ExecuteTime": {
     "end_time": "2020-03-25T18:48:20.240391Z",
     "start_time": "2020-03-25T18:48:20.234384Z"
    }
   },
   "outputs": [
    {
     "data": {
      "text/plain": [
       "MultiIndex([(             'price', 'count'),\n",
       "            (             'price',  'mean'),\n",
       "            (       'num_reviews',  'mean'),\n",
       "            ('num_answ_questions',  'mean'),\n",
       "            ( 'ave_review_rating',  'mean')],\n",
       "           )"
      ]
     },
     "execution_count": 64,
     "metadata": {},
     "output_type": "execute_result"
    }
   ],
   "source": [
    "new_df.columns"
   ]
  },
  {
   "cell_type": "code",
   "execution_count": 77,
   "metadata": {
    "ExecuteTime": {
     "end_time": "2020-03-25T18:59:13.513563Z",
     "start_time": "2020-03-25T18:59:13.371943Z"
    },
    "scrolled": false
   },
   "outputs": [
    {
     "data": {
      "text/plain": [
       "<matplotlib.axes._subplots.AxesSubplot at 0x2399104fd08>"
      ]
     },
     "execution_count": 77,
     "metadata": {},
     "output_type": "execute_result"
    },
    {
     "data": {
      "image/png": "[encoded data removed]",
      "text/plain": [
       "<Figure size 432x288 with 2 Axes>"
      ]
     },
     "metadata": {
      "needs_background": "light"
     },
     "output_type": "display_data"
    }
   ],
   "source": [
    "sns.heatmap(new_df.corr(), cmap=\"YlGnBu\")\n"
   ]
  },
  {
   "cell_type": "code",
   "execution_count": 79,
   "metadata": {
    "ExecuteTime": {
     "end_time": "2020-03-25T19:00:42.065167Z",
     "start_time": "2020-03-25T19:00:41.923550Z"
    }
   },
   "outputs": [
    {
     "data": {
      "text/plain": [
       "<matplotlib.axes._subplots.AxesSubplot at 0x23991459148>"
      ]
     },
     "execution_count": 79,
     "metadata": {},
     "output_type": "execute_result"
    },
    {
     "data": {
      "image/png": "[encoded data removed]",
      "text/plain": [
       "<Figure size 432x288 with 1 Axes>"
      ]
     },
     "metadata": {
      "needs_background": "light"
     },
     "output_type": "display_data"
    }
   ],
   "source": [
    "sns.distplot(new_df['total_sales'])"
   ]
  },
  {
   "cell_type": "code",
   "execution_count": 93,
   "metadata": {
    "ExecuteTime": {
     "end_time": "2020-03-25T19:08:04.609159Z",
     "start_time": "2020-03-25T19:08:04.594200Z"
    }
   },
   "outputs": [
    {
     "data": {
      "text/html": [
       "<table class=\"simpletable\">\n",
       "<caption>OLS Regression Results</caption>\n",
       "<tr>\n",
       "  <th>Dep. Variable:</th>       <td>total_sales</td>   <th>  R-squared:         </th> <td>   0.142</td>\n",
       "</tr>\n",
       "<tr>\n",
       "  <th>Model:</th>                   <td>OLS</td>       <th>  Adj. R-squared:    </th> <td>   0.096</td>\n",
       "</tr>\n",
       "<tr>\n",
       "  <th>Method:</th>             <td>Least Squares</td>  <th>  F-statistic:       </th> <td>   3.059</td>\n",
       "</tr>\n",
       "<tr>\n",
       "  <th>Date:</th>             <td>Wed, 25 Mar 2020</td> <th>  Prob (F-statistic):</th>  <td>0.0589</td> \n",
       "</tr>\n",
       "<tr>\n",
       "  <th>Time:</th>                 <td>20:08:04</td>     <th>  Log-Likelihood:    </th> <td> -283.90</td>\n",
       "</tr>\n",
       "<tr>\n",
       "  <th>No. Observations:</th>      <td>    40</td>      <th>  AIC:               </th> <td>   573.8</td>\n",
       "</tr>\n",
       "<tr>\n",
       "  <th>Df Residuals:</th>          <td>    37</td>      <th>  BIC:               </th> <td>   578.9</td>\n",
       "</tr>\n",
       "<tr>\n",
       "  <th>Df Model:</th>              <td>     2</td>      <th>                     </th>     <td> </td>   \n",
       "</tr>\n",
       "<tr>\n",
       "  <th>Covariance Type:</th>      <td>nonrobust</td>    <th>                     </th>     <td> </td>   \n",
       "</tr>\n",
       "</table>\n",
       "<table class=\"simpletable\">\n",
       "<tr>\n",
       "          <td></td>             <th>coef</th>     <th>std err</th>      <th>t</th>      <th>P>|t|</th>  <th>[0.025</th>    <th>0.975]</th>  \n",
       "</tr>\n",
       "<tr>\n",
       "  <th>const</th>             <td>-1540.9920</td> <td>  744.044</td> <td>   -2.071</td> <td> 0.045</td> <td>-3048.567</td> <td>  -33.417</td>\n",
       "</tr>\n",
       "<tr>\n",
       "  <th>ave_price</th>         <td>   99.9710</td> <td>   76.208</td> <td>    1.312</td> <td> 0.198</td> <td>  -54.441</td> <td>  254.383</td>\n",
       "</tr>\n",
       "<tr>\n",
       "  <th>ave_review_rating</th> <td>  333.1459</td> <td>  159.906</td> <td>    2.083</td> <td> 0.044</td> <td>    9.145</td> <td>  657.146</td>\n",
       "</tr>\n",
       "</table>\n",
       "<table class=\"simpletable\">\n",
       "<tr>\n",
       "  <th>Omnibus:</th>       <td>10.128</td> <th>  Durbin-Watson:     </th> <td>   1.970</td>\n",
       "</tr>\n",
       "<tr>\n",
       "  <th>Prob(Omnibus):</th> <td> 0.006</td> <th>  Jarque-Bera (JB):  </th> <td>   9.632</td>\n",
       "</tr>\n",
       "<tr>\n",
       "  <th>Skew:</th>          <td> 1.165</td> <th>  Prob(JB):          </th> <td> 0.00810</td>\n",
       "</tr>\n",
       "<tr>\n",
       "  <th>Kurtosis:</th>      <td> 3.595</td> <th>  Cond. No.          </th> <td>    81.0</td>\n",
       "</tr>\n",
       "</table><br/><br/>Warnings:<br/>[1] Standard Errors assume that the covariance matrix of the errors is correctly specified."
      ],
      "text/plain": [
       "<class 'statsmodels.iolib.summary.Summary'>\n",
       "\"\"\"\n",
       "                            OLS Regression Results                            \n",
       "==============================================================================\n",
       "Dep. Variable:            total_sales   R-squared:                       0.142\n",
       "Model:                            OLS   Adj. R-squared:                  0.096\n",
       "Method:                 Least Squares   F-statistic:                     3.059\n",
       "Date:                Wed, 25 Mar 2020   Prob (F-statistic):             0.0589\n",
       "Time:                        20:08:04   Log-Likelihood:                -283.90\n",
       "No. Observations:                  40   AIC:                             573.8\n",
       "Df Residuals:                      37   BIC:                             578.9\n",
       "Df Model:                           2                                         \n",
       "Covariance Type:            nonrobust                                         \n",
       "=====================================================================================\n",
       "                        coef    std err          t      P>|t|      [0.025      0.975]\n",
       "-------------------------------------------------------------------------------------\n",
       "const             -1540.9920    744.044     -2.071      0.045   -3048.567     -33.417\n",
       "ave_price            99.9710     76.208      1.312      0.198     -54.441     254.383\n",
       "ave_review_rating   333.1459    159.906      2.083      0.044       9.145     657.146\n",
       "==============================================================================\n",
       "Omnibus:                       10.128   Durbin-Watson:                   1.970\n",
       "Prob(Omnibus):                  0.006   Jarque-Bera (JB):                9.632\n",
       "Skew:                           1.165   Prob(JB):                      0.00810\n",
       "Kurtosis:                       3.595   Cond. No.                         81.0\n",
       "==============================================================================\n",
       "\n",
       "Warnings:\n",
       "[1] Standard Errors assume that the covariance matrix of the errors is correctly specified.\n",
       "\"\"\""
      ]
     },
     "execution_count": 93,
     "metadata": {},
     "output_type": "execute_result"
    }
   ],
   "source": [
    "import statsmodels.api as sm\n",
    "\n",
    "X = new_df[['ave_price','ave_review_rating']] # X our input variables (or independent variables)\n",
    "y = new_df[\"total_sales\"] # Y our output/dependent variable\n",
    "X = sm.add_constant(X) # adding an intercept (beta_0) to our model\n",
    "\n",
    "# Note the difference in argument order\n",
    "model = sm.OLS(y, X).fit() # sm.OLS(output, input)\n",
    "predictions = model.predict(X) # make the predictions by the model\n",
    "\n",
    "# Print out the statistics\n",
    "model.summary()\n",
    "\n",
    "#Uisng multiple linear regression"
   ]
  },
  {
   "cell_type": "code",
   "execution_count": null,
   "metadata": {},
   "outputs": [],
   "source": []
  },
  {
   "cell_type": "code",
   "execution_count": null,
   "metadata": {},
   "outputs": [],
   "source": []
  },
  {
   "cell_type": "code",
   "execution_count": null,
   "metadata": {},
   "outputs": [],
   "source": []
  },
  {
   "cell_type": "code",
   "execution_count": null,
   "metadata": {},
   "outputs": [],
   "source": []
  },
  {
   "cell_type": "code",
   "execution_count": null,
   "metadata": {},
   "outputs": [],
   "source": []
  },
  {
   "cell_type": "code",
   "execution_count": null,
   "metadata": {},
   "outputs": [],
   "source": []
  },
  {
   "cell_type": "code",
   "execution_count": null,
   "metadata": {},
   "outputs": [],
   "source": []
  },
  {
   "cell_type": "code",
   "execution_count": 56,
   "metadata": {
    "ExecuteTime": {
     "end_time": "2020-03-25T18:40:06.075585Z",
     "start_time": "2020-03-25T18:40:05.907235Z"
    }
   },
   "outputs": [
    {
     "data": {
      "text/plain": [
       "<matplotlib.axes._subplots.AxesSubplot at 0x23990de6a88>"
      ]
     },
     "execution_count": 56,
     "metadata": {},
     "output_type": "execute_result"
    },
    {
     "data": {
      "image/png": "[encoded data removed]",
      "text/plain": [
       "<Figure size 432x288 with 1 Axes>"
      ]
     },
     "metadata": {
      "needs_background": "light"
     },
     "output_type": "display_data"
    }
   ],
   "source": [
    "#scatter plot num_reviews/price\n",
    "var = 'num_reviews'\n",
    "data = pd.concat([df['price'], df[var]], axis=1)\n",
    "data.plot.scatter(x=var, y='price')"
   ]
  },
  {
   "cell_type": "code",
   "execution_count": 57,
   "metadata": {
    "ExecuteTime": {
     "end_time": "2020-03-25T18:40:06.427475Z",
     "start_time": "2020-03-25T18:40:06.076548Z"
    }
   },
   "outputs": [
    {
     "data": {
      "image/png": "[encoded data removed]",
      "text/plain": [
       "<Figure size 576x432 with 1 Axes>"
      ]
     },
     "metadata": {
      "needs_background": "light"
     },
     "output_type": "display_data"
    }
   ],
   "source": [
    "#box plot overallqual/saleprice\n",
    "var = 'ave_review_rating'\n",
    "data = pd.concat([df['price'], df[var]], axis=1)\n",
    "f, ax = plt.subplots(figsize=(8, 6))\n",
    "fig = sns.boxplot(x=var, y=\"price\", data=df)"
   ]
  },
  {
   "cell_type": "code",
   "execution_count": 58,
   "metadata": {
    "ExecuteTime": {
     "end_time": "2020-03-25T18:40:06.434468Z",
     "start_time": "2020-03-25T18:40:06.429470Z"
    }
   },
   "outputs": [],
   "source": [
    "#applying log transformation\n",
    "df['price'] = np.log(df['price'])"
   ]
  },
  {
   "cell_type": "code",
   "execution_count": 59,
   "metadata": {
    "ExecuteTime": {
     "end_time": "2020-03-25T18:40:06.718603Z",
     "start_time": "2020-03-25T18:40:06.435453Z"
    }
   },
   "outputs": [
    {
     "ename": "NameError",
     "evalue": "name 'stats' is not defined",
     "output_type": "error",
     "traceback": [
      "\u001b[1;31m---------------------------------------------------------------------------\u001b[0m",
      "\u001b[1;31mNameError\u001b[0m                                 Traceback (most recent call last)",
      "\u001b[1;32m<ipython-input-59-eb7470470221>\u001b[0m in \u001b[0;36m<module>\u001b[1;34m\u001b[0m\n\u001b[0;32m      2\u001b[0m \u001b[0msns\u001b[0m\u001b[1;33m.\u001b[0m\u001b[0mdistplot\u001b[0m\u001b[1;33m(\u001b[0m\u001b[0mdf\u001b[0m\u001b[1;33m[\u001b[0m\u001b[1;34m'price'\u001b[0m\u001b[1;33m]\u001b[0m\u001b[1;33m)\u001b[0m\u001b[1;33m;\u001b[0m\u001b[1;33m\u001b[0m\u001b[1;33m\u001b[0m\u001b[0m\n\u001b[0;32m      3\u001b[0m \u001b[0mfig\u001b[0m \u001b[1;33m=\u001b[0m \u001b[0mplt\u001b[0m\u001b[1;33m.\u001b[0m\u001b[0mfigure\u001b[0m\u001b[1;33m(\u001b[0m\u001b[1;33m)\u001b[0m\u001b[1;33m\u001b[0m\u001b[1;33m\u001b[0m\u001b[0m\n\u001b[1;32m----> 4\u001b[1;33m \u001b[0mres\u001b[0m \u001b[1;33m=\u001b[0m \u001b[0mstats\u001b[0m\u001b[1;33m.\u001b[0m\u001b[0mprobplot\u001b[0m\u001b[1;33m(\u001b[0m\u001b[0mdf\u001b[0m\u001b[1;33m[\u001b[0m\u001b[1;34m'price'\u001b[0m\u001b[1;33m]\u001b[0m\u001b[1;33m,\u001b[0m \u001b[0mplot\u001b[0m\u001b[1;33m=\u001b[0m\u001b[0mplt\u001b[0m\u001b[1;33m)\u001b[0m\u001b[1;33m\u001b[0m\u001b[1;33m\u001b[0m\u001b[0m\n\u001b[0m",
      "\u001b[1;31mNameError\u001b[0m: name 'stats' is not defined"
     ]
    },
    {
     "data": {
      "image/png": "[encoded data removed]",
      "text/plain": [
       "<Figure size 432x288 with 1 Axes>"
      ]
     },
     "metadata": {
      "needs_background": "light"
     },
     "output_type": "display_data"
    },
    {
     "data": {
      "text/plain": [
       "<Figure size 432x288 with 0 Axes>"
      ]
     },
     "metadata": {},
     "output_type": "display_data"
    }
   ],
   "source": [
    "#transformed histogram and normal probability plot\n",
    "sns.distplot(df['price']);\n",
    "fig = plt.figure()\n",
    "res = stats.probplot(df['price'], plot=plt)"
   ]
  },
  {
   "cell_type": "code",
   "execution_count": null,
   "metadata": {
    "ExecuteTime": {
     "end_time": "2020-03-25T18:40:06.719601Z",
     "start_time": "2020-03-25T18:40:03.353Z"
    }
   },
   "outputs": [],
   "source": [
    "df.columns"
   ]
  },
  {
   "cell_type": "code",
   "execution_count": null,
   "metadata": {
    "ExecuteTime": {
     "end_time": "2020-03-25T18:40:06.720597Z",
     "start_time": "2020-03-25T18:40:03.355Z"
    }
   },
   "outputs": [],
   "source": [
    "import statsmodels.api as sm\n",
    "\n",
    "X = df[[\"num_reviews\", \"num_answ_questions\", \"ave_review_rating\"]] # X our input variables (or independent variables)\n",
    "y = df[\"price\"] # Y our output/dependent variable\n",
    "X = sm.add_constant(X) # adding an intercept (beta_0) to our model\n",
    "\n",
    "# Note the difference in argument order\n",
    "model = sm.OLS(y, X).fit() # sm.OLS(output, input)\n",
    "predictions = model.predict(X) # make the predictions by the model\n",
    "\n",
    "# Print out the statistics\n",
    "model.summary()\n",
    "\n",
    "#Uisng multiple linear regression"
   ]
  },
  {
   "cell_type": "code",
   "execution_count": null,
   "metadata": {},
   "outputs": [],
   "source": []
  }
 ],
 "metadata": {
  "kernelspec": {
   "display_name": "Python 3",
   "language": "python",
   "name": "python3"
  },
  "language_info": {
   "codemirror_mode": {
    "name": "ipython",
    "version": 3
   },
   "file_extension": ".py",
   "mimetype": "text/x-python",
   "name": "python",
   "nbconvert_exporter": "python",
   "pygments_lexer": "ipython3",
   "version": "3.7.4"
  },
  "toc": {
   "base_numbering": 1,
   "nav_menu": {},
   "number_sections": true,
   "sideBar": true,
   "skip_h1_title": false,
   "title_cell": "Table of Contents",
   "title_sidebar": "Contents",
   "toc_cell": true,
   "toc_position": {},
   "toc_section_display": true,
   "toc_window_display": false
  }
 },
 "nbformat": 4,
 "nbformat_minor": 2
}
