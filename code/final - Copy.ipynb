{
 "cells": [
  {
   "cell_type": "markdown",
   "metadata": {
    "toc": true
   },
   "source": [
    "<h1>Table of Contents<span class=\"tocSkip\"></span></h1>\n",
    "<div class=\"toc\"><ul class=\"toc-item\"><li><span><a href=\"#Cleaning-data\" data-toc-modified-id=\"Cleaning-data-1\"><span class=\"toc-item-num\">1&nbsp;&nbsp;</span>Cleaning data</a></span><ul class=\"toc-item\"><li><span><a href=\"#Missing-values\" data-toc-modified-id=\"Missing-values-1.1\"><span class=\"toc-item-num\">1.1&nbsp;&nbsp;</span>Missing values</a></span><ul class=\"toc-item\"><li><span><a href=\"#Deleting-columns-with-more-than-20%-missing-values\" data-toc-modified-id=\"Deleting-columns-with-more-than-20%-missing-values-1.1.1\"><span class=\"toc-item-num\">1.1.1&nbsp;&nbsp;</span>Deleting columns with more than 20% missing values</a></span></li><li><span><a href=\"#Filtering-only-necessary-columns\" data-toc-modified-id=\"Filtering-only-necessary-columns-1.1.2\"><span class=\"toc-item-num\">1.1.2&nbsp;&nbsp;</span>Filtering only necessary columns</a></span></li><li><span><a href=\"#Deleting-rows-that-have-null-values\" data-toc-modified-id=\"Deleting-rows-that-have-null-values-1.1.3\"><span class=\"toc-item-num\">1.1.3&nbsp;&nbsp;</span>Deleting rows that have null values</a></span></li></ul></li><li><span><a href=\"#Cleaning-price\" data-toc-modified-id=\"Cleaning-price-1.2\"><span class=\"toc-item-num\">1.2&nbsp;&nbsp;</span>Cleaning price</a></span><ul class=\"toc-item\"><li><span><a href=\"#Deleting-pound-symbol\" data-toc-modified-id=\"Deleting-pound-symbol-1.2.1\"><span class=\"toc-item-num\">1.2.1&nbsp;&nbsp;</span>Deleting pound symbol</a></span></li><li><span><a href=\"#Deleting-comma-from-the-price\" data-toc-modified-id=\"Deleting-comma-from-the-price-1.2.2\"><span class=\"toc-item-num\">1.2.2&nbsp;&nbsp;</span>Deleting comma from the price</a></span></li><li><span><a href=\"#Converting-double-prices-to-average-price\" data-toc-modified-id=\"Converting-double-prices-to-average-price-1.2.3\"><span class=\"toc-item-num\">1.2.3&nbsp;&nbsp;</span>Converting double prices to average price</a></span></li><li><span><a href=\"#Converting-price-to-numeric\" data-toc-modified-id=\"Converting-price-to-numeric-1.2.4\"><span class=\"toc-item-num\">1.2.4&nbsp;&nbsp;</span>Converting price to numeric</a></span></li></ul></li><li><span><a href=\"#Cleaning-average-review-column\" data-toc-modified-id=\"Cleaning-average-review-column-1.3\"><span class=\"toc-item-num\">1.3&nbsp;&nbsp;</span>Cleaning average review column</a></span></li></ul></li><li><span><a href=\"#Understanding-and-manipulating-data\" data-toc-modified-id=\"Understanding-and-manipulating-data-2\"><span class=\"toc-item-num\">2&nbsp;&nbsp;</span>Understanding and manipulating data</a></span><ul class=\"toc-item\"><li><span><a href=\"#Renaming-columns\" data-toc-modified-id=\"Renaming-columns-2.1\"><span class=\"toc-item-num\">2.1&nbsp;&nbsp;</span>Renaming columns</a></span></li><li><span><a href=\"#Checking-values-per-column\" data-toc-modified-id=\"Checking-values-per-column-2.2\"><span class=\"toc-item-num\">2.2&nbsp;&nbsp;</span>Checking values per column</a></span><ul class=\"toc-item\"><li><span><a href=\"#How-many-different-products?\" data-toc-modified-id=\"How-many-different-products?-2.2.1\"><span class=\"toc-item-num\">2.2.1&nbsp;&nbsp;</span>How many different products?</a></span></li><li><span><a href=\"#How-many-different-manufacturers?\" data-toc-modified-id=\"How-many-different-manufacturers?-2.2.2\"><span class=\"toc-item-num\">2.2.2&nbsp;&nbsp;</span>How many different manufacturers?</a></span></li><li><span><a href=\"#How-many-different-categories?\" data-toc-modified-id=\"How-many-different-categories?-2.2.3\"><span class=\"toc-item-num\">2.2.3&nbsp;&nbsp;</span>How many different categories?</a></span></li><li><span><a href=\"#How-many-different-average-reviews?\" data-toc-modified-id=\"How-many-different-average-reviews?-2.2.4\"><span class=\"toc-item-num\">2.2.4&nbsp;&nbsp;</span>How many different average reviews?</a></span></li></ul></li><li><span><a href=\"#Splitting-to-main-and-sub-categories\" data-toc-modified-id=\"Splitting-to-main-and-sub-categories-2.3\"><span class=\"toc-item-num\">2.3&nbsp;&nbsp;</span>Splitting to main and sub categories</a></span></li><li><span><a href=\"#Changing-types-of-columns-(final-check)\" data-toc-modified-id=\"Changing-types-of-columns-(final-check)-2.4\"><span class=\"toc-item-num\">2.4&nbsp;&nbsp;</span>Changing types of columns (final check)</a></span></li></ul></li><li><span><a href=\"#EDA\" data-toc-modified-id=\"EDA-3\"><span class=\"toc-item-num\">3&nbsp;&nbsp;</span>EDA</a></span></li></ul></div>"
   ]
  },
  {
   "cell_type": "code",
   "execution_count": 107,
   "metadata": {
    "ExecuteTime": {
     "end_time": "2020-03-25T18:10:55.115004Z",
     "start_time": "2020-03-25T18:10:55.111028Z"
    }
   },
   "outputs": [],
   "source": [
    "import numpy as np\n",
    "import pandas as pd\n",
    "import seaborn as sns\n",
    "import matplotlib.pyplot as plt"
   ]
  },
  {
   "cell_type": "code",
   "execution_count": 2,
   "metadata": {
    "ExecuteTime": {
     "end_time": "2020-03-25T16:41:50.477432Z",
     "start_time": "2020-03-25T16:41:50.463843Z"
    }
   },
   "outputs": [],
   "source": [
    "#option to see more data\n",
    "\n",
    "#pd.set_option('display.max_rows', None)\n",
    "#pd.set_option('display.max_columns', None)"
   ]
  },
  {
   "cell_type": "code",
   "execution_count": 3,
   "metadata": {
    "ExecuteTime": {
     "end_time": "2020-03-25T16:41:50.812953Z",
     "start_time": "2020-03-25T16:41:50.480423Z"
    }
   },
   "outputs": [],
   "source": [
    "data = pd.read_csv('../data/amazon_co-ecommerce_sample.csv')"
   ]
  },
  {
   "cell_type": "code",
   "execution_count": 4,
   "metadata": {
    "ExecuteTime": {
     "end_time": "2020-03-25T16:41:50.821072Z",
     "start_time": "2020-03-25T16:41:50.812953Z"
    }
   },
   "outputs": [
    {
     "data": {
      "text/plain": [
       "(10000, 17)"
      ]
     },
     "execution_count": 4,
     "metadata": {},
     "output_type": "execute_result"
    }
   ],
   "source": [
    "data.shape"
   ]
  },
  {
   "cell_type": "code",
   "execution_count": 5,
   "metadata": {
    "ExecuteTime": {
     "end_time": "2020-03-25T16:41:50.840023Z",
     "start_time": "2020-03-25T16:41:50.822075Z"
    },
    "scrolled": true
   },
   "outputs": [
    {
     "data": {
      "text/html": [
       "<div>\n",
       "<style scoped>\n",
       "    .dataframe tbody tr th:only-of-type {\n",
       "        vertical-align: middle;\n",
       "    }\n",
       "\n",
       "    .dataframe tbody tr th {\n",
       "        vertical-align: top;\n",
       "    }\n",
       "\n",
       "    .dataframe thead th {\n",
       "        text-align: right;\n",
       "    }\n",
       "</style>\n",
       "<table border=\"1\" class=\"dataframe\">\n",
       "  <thead>\n",
       "    <tr style=\"text-align: right;\">\n",
       "      <th></th>\n",
       "      <th>uniq_id</th>\n",
       "      <th>product_name</th>\n",
       "      <th>manufacturer</th>\n",
       "      <th>price</th>\n",
       "      <th>number_available_in_stock</th>\n",
       "      <th>number_of_reviews</th>\n",
       "      <th>number_of_answered_questions</th>\n",
       "      <th>average_review_rating</th>\n",
       "      <th>amazon_category_and_sub_category</th>\n",
       "      <th>customers_who_bought_this_item_also_bought</th>\n",
       "      <th>description</th>\n",
       "      <th>product_information</th>\n",
       "      <th>product_description</th>\n",
       "      <th>items_customers_buy_after_viewing_this_item</th>\n",
       "      <th>customer_questions_and_answers</th>\n",
       "      <th>customer_reviews</th>\n",
       "      <th>sellers</th>\n",
       "    </tr>\n",
       "  </thead>\n",
       "  <tbody>\n",
       "    <tr>\n",
       "      <td>0</td>\n",
       "      <td>eac7efa5dbd3d667f26eb3d3ab504464</td>\n",
       "      <td>Hornby 2014 Catalogue</td>\n",
       "      <td>Hornby</td>\n",
       "      <td>£3.42</td>\n",
       "      <td>5 new</td>\n",
       "      <td>15</td>\n",
       "      <td>1.0</td>\n",
       "      <td>4.9 out of 5 stars</td>\n",
       "      <td>Hobbies &gt; Model Trains &amp; Railway Sets &gt; Rail V...</td>\n",
       "      <td>http://www.amazon.co.uk/Hornby-R8150-Catalogue...</td>\n",
       "      <td>Product Description Hornby 2014 Catalogue Box ...</td>\n",
       "      <td>Technical Details Item Weight640 g Product Dim...</td>\n",
       "      <td>Product Description Hornby 2014 Catalogue Box ...</td>\n",
       "      <td>http://www.amazon.co.uk/Hornby-R8150-Catalogue...</td>\n",
       "      <td>Does this catalogue detail all the previous Ho...</td>\n",
       "      <td>Worth Buying For The Pictures Alone (As Ever) ...</td>\n",
       "      <td>{\"seller\"=&gt;[{\"Seller_name_1\"=&gt;\"Amazon.co.uk\", ...</td>\n",
       "    </tr>\n",
       "    <tr>\n",
       "      <td>1</td>\n",
       "      <td>b17540ef7e86e461d37f3ae58b7b72ac</td>\n",
       "      <td>FunkyBuys® Large Christmas Holiday Express Fes...</td>\n",
       "      <td>FunkyBuys</td>\n",
       "      <td>£16.99</td>\n",
       "      <td>NaN</td>\n",
       "      <td>2</td>\n",
       "      <td>1.0</td>\n",
       "      <td>4.5 out of 5 stars</td>\n",
       "      <td>Hobbies &gt; Model Trains &amp; Railway Sets &gt; Rail V...</td>\n",
       "      <td>http://www.amazon.co.uk/Christmas-Holiday-Expr...</td>\n",
       "      <td>Size Name:Large FunkyBuys® Large Christmas Hol...</td>\n",
       "      <td>Technical Details Manufacturer recommended age...</td>\n",
       "      <td>Size Name:Large FunkyBuys® Large Christmas Hol...</td>\n",
       "      <td>http://www.amazon.co.uk/Christmas-Holiday-Expr...</td>\n",
       "      <td>can you turn off sounds // hi no you cant turn...</td>\n",
       "      <td>Four Stars // 4.0 // 18 Dec. 2015 // By\\n    \\...</td>\n",
       "      <td>{\"seller\"=&gt;{\"Seller_name_1\"=&gt;\"UHD WHOLESALE\", ...</td>\n",
       "    </tr>\n",
       "  </tbody>\n",
       "</table>\n",
       "</div>"
      ],
      "text/plain": [
       "                            uniq_id  \\\n",
       "0  eac7efa5dbd3d667f26eb3d3ab504464   \n",
       "1  b17540ef7e86e461d37f3ae58b7b72ac   \n",
       "\n",
       "                                        product_name manufacturer   price  \\\n",
       "0                              Hornby 2014 Catalogue       Hornby   £3.42   \n",
       "1  FunkyBuys® Large Christmas Holiday Express Fes...    FunkyBuys  £16.99   \n",
       "\n",
       "  number_available_in_stock number_of_reviews  number_of_answered_questions  \\\n",
       "0                     5 new                15                           1.0   \n",
       "1                       NaN                 2                           1.0   \n",
       "\n",
       "  average_review_rating                   amazon_category_and_sub_category  \\\n",
       "0    4.9 out of 5 stars  Hobbies > Model Trains & Railway Sets > Rail V...   \n",
       "1    4.5 out of 5 stars  Hobbies > Model Trains & Railway Sets > Rail V...   \n",
       "\n",
       "          customers_who_bought_this_item_also_bought  \\\n",
       "0  http://www.amazon.co.uk/Hornby-R8150-Catalogue...   \n",
       "1  http://www.amazon.co.uk/Christmas-Holiday-Expr...   \n",
       "\n",
       "                                         description  \\\n",
       "0  Product Description Hornby 2014 Catalogue Box ...   \n",
       "1  Size Name:Large FunkyBuys® Large Christmas Hol...   \n",
       "\n",
       "                                 product_information  \\\n",
       "0  Technical Details Item Weight640 g Product Dim...   \n",
       "1  Technical Details Manufacturer recommended age...   \n",
       "\n",
       "                                 product_description  \\\n",
       "0  Product Description Hornby 2014 Catalogue Box ...   \n",
       "1  Size Name:Large FunkyBuys® Large Christmas Hol...   \n",
       "\n",
       "         items_customers_buy_after_viewing_this_item  \\\n",
       "0  http://www.amazon.co.uk/Hornby-R8150-Catalogue...   \n",
       "1  http://www.amazon.co.uk/Christmas-Holiday-Expr...   \n",
       "\n",
       "                      customer_questions_and_answers  \\\n",
       "0  Does this catalogue detail all the previous Ho...   \n",
       "1  can you turn off sounds // hi no you cant turn...   \n",
       "\n",
       "                                    customer_reviews  \\\n",
       "0  Worth Buying For The Pictures Alone (As Ever) ...   \n",
       "1  Four Stars // 4.0 // 18 Dec. 2015 // By\\n    \\...   \n",
       "\n",
       "                                             sellers  \n",
       "0  {\"seller\"=>[{\"Seller_name_1\"=>\"Amazon.co.uk\", ...  \n",
       "1  {\"seller\"=>{\"Seller_name_1\"=>\"UHD WHOLESALE\", ...  "
      ]
     },
     "execution_count": 5,
     "metadata": {},
     "output_type": "execute_result"
    }
   ],
   "source": [
    "data.head(2)"
   ]
  },
  {
   "cell_type": "markdown",
   "metadata": {},
   "source": [
    "## Cleaning data"
   ]
  },
  {
   "cell_type": "markdown",
   "metadata": {},
   "source": [
    "### Missing values"
   ]
  },
  {
   "cell_type": "code",
   "execution_count": 6,
   "metadata": {
    "ExecuteTime": {
     "end_time": "2020-03-25T16:41:50.864954Z",
     "start_time": "2020-03-25T16:41:50.841020Z"
    }
   },
   "outputs": [
    {
     "data": {
      "text/plain": [
       "customer_questions_and_answers                 90.86\n",
       "sellers                                        30.82\n",
       "items_customers_buy_after_viewing_this_item    30.65\n",
       "number_available_in_stock                      25.00\n",
       "price                                          14.35\n",
       "customers_who_bought_this_item_also_bought     10.62\n",
       "number_of_answered_questions                    7.65\n",
       "amazon_category_and_sub_category                6.90\n",
       "description                                     6.51\n",
       "product_description                             6.51\n",
       "product_information                             0.58\n",
       "customer_reviews                                0.21\n",
       "average_review_rating                           0.18\n",
       "number_of_reviews                               0.18\n",
       "manufacturer                                    0.07\n",
       "product_name                                    0.00\n",
       "uniq_id                                         0.00\n",
       "dtype: float64"
      ]
     },
     "execution_count": 6,
     "metadata": {},
     "output_type": "execute_result"
    }
   ],
   "source": [
    "#checking missing values\n",
    "\n",
    "percent_missing = data.isnull().sum() * 100 / len(data)\n",
    "percent_missing.sort_values(ascending=False)"
   ]
  },
  {
   "cell_type": "markdown",
   "metadata": {},
   "source": [
    "#### Deleting columns with more than 20% missing values"
   ]
  },
  {
   "cell_type": "code",
   "execution_count": 7,
   "metadata": {
    "ExecuteTime": {
     "end_time": "2020-03-25T16:41:50.882919Z",
     "start_time": "2020-03-25T16:41:50.865952Z"
    }
   },
   "outputs": [],
   "source": [
    "missing_value_df = pd.DataFrame({'column_name': data.columns,\n",
    "                                 'percent_missing': percent_missing})\n",
    "\n",
    "df_missing_20 = missing_value_df.loc[missing_value_df.percent_missing > 20]\n",
    "\n",
    "col_drop = df_missing_20.column_name\n",
    "\n",
    "for col in col_drop:\n",
    "    data = data.drop(col, axis=1)\n"
   ]
  },
  {
   "cell_type": "code",
   "execution_count": 8,
   "metadata": {
    "ExecuteTime": {
     "end_time": "2020-03-25T16:41:50.888891Z",
     "start_time": "2020-03-25T16:41:50.884902Z"
    }
   },
   "outputs": [
    {
     "data": {
      "text/plain": [
       "(10000, 13)"
      ]
     },
     "execution_count": 8,
     "metadata": {},
     "output_type": "execute_result"
    }
   ],
   "source": [
    "data.shape"
   ]
  },
  {
   "cell_type": "code",
   "execution_count": 9,
   "metadata": {
    "ExecuteTime": {
     "end_time": "2020-03-25T16:41:50.903852Z",
     "start_time": "2020-03-25T16:41:50.889889Z"
    }
   },
   "outputs": [
    {
     "data": {
      "text/plain": [
       "price                                         14.35\n",
       "customers_who_bought_this_item_also_bought    10.62\n",
       "number_of_answered_questions                   7.65\n",
       "amazon_category_and_sub_category               6.90\n",
       "product_description                            6.51\n",
       "description                                    6.51\n",
       "product_information                            0.58\n",
       "customer_reviews                               0.21\n",
       "average_review_rating                          0.18\n",
       "number_of_reviews                              0.18\n",
       "manufacturer                                   0.07\n",
       "product_name                                   0.00\n",
       "uniq_id                                        0.00\n",
       "dtype: float64"
      ]
     },
     "execution_count": 9,
     "metadata": {},
     "output_type": "execute_result"
    }
   ],
   "source": [
    "percent_missing = data.isnull().sum() * 100 / len(data)\n",
    "percent_missing.sort_values(ascending=False)"
   ]
  },
  {
   "cell_type": "markdown",
   "metadata": {},
   "source": [
    "#### Filtering only necessary columns"
   ]
  },
  {
   "cell_type": "code",
   "execution_count": 10,
   "metadata": {
    "ExecuteTime": {
     "end_time": "2020-03-25T16:41:50.910831Z",
     "start_time": "2020-03-25T16:41:50.905846Z"
    }
   },
   "outputs": [],
   "source": [
    "df = data.loc[:,['uniq_id', 'product_name', 'manufacturer', 'price', 'number_of_reviews',\n",
    "       'number_of_answered_questions', 'average_review_rating', 'amazon_category_and_sub_category']]"
   ]
  },
  {
   "cell_type": "code",
   "execution_count": 11,
   "metadata": {
    "ExecuteTime": {
     "end_time": "2020-03-25T16:41:50.915818Z",
     "start_time": "2020-03-25T16:41:50.911829Z"
    }
   },
   "outputs": [
    {
     "data": {
      "text/plain": [
       "(10000, 8)"
      ]
     },
     "execution_count": 11,
     "metadata": {},
     "output_type": "execute_result"
    }
   ],
   "source": [
    "df.shape"
   ]
  },
  {
   "cell_type": "markdown",
   "metadata": {},
   "source": [
    "#### Deleting rows that have null values"
   ]
  },
  {
   "cell_type": "code",
   "execution_count": 12,
   "metadata": {
    "ExecuteTime": {
     "end_time": "2020-03-25T16:41:50.923797Z",
     "start_time": "2020-03-25T16:41:50.916816Z"
    }
   },
   "outputs": [],
   "source": [
    "#how=any for any NaN to delete rows\n",
    "\n",
    "df.dropna(axis=0, how='any', inplace=True)"
   ]
  },
  {
   "cell_type": "code",
   "execution_count": 13,
   "metadata": {
    "ExecuteTime": {
     "end_time": "2020-03-25T16:41:50.929781Z",
     "start_time": "2020-03-25T16:41:50.924795Z"
    }
   },
   "outputs": [
    {
     "data": {
      "text/plain": [
       "(7366, 8)"
      ]
     },
     "execution_count": 13,
     "metadata": {},
     "output_type": "execute_result"
    }
   ],
   "source": [
    "df.shape"
   ]
  },
  {
   "cell_type": "markdown",
   "metadata": {},
   "source": [
    "### Cleaning price"
   ]
  },
  {
   "cell_type": "code",
   "execution_count": 14,
   "metadata": {
    "ExecuteTime": {
     "end_time": "2020-03-25T16:41:50.938760Z",
     "start_time": "2020-03-25T16:41:50.930780Z"
    }
   },
   "outputs": [
    {
     "data": {
      "text/plain": [
       "£9.99     158\n",
       "£4.99     126\n",
       "£14.99    117\n",
       "£12.99    111\n",
       "£5.99     108\n",
       "Name: price, dtype: int64"
      ]
     },
     "execution_count": 14,
     "metadata": {},
     "output_type": "execute_result"
    }
   ],
   "source": [
    "df.price.value_counts().head()"
   ]
  },
  {
   "cell_type": "markdown",
   "metadata": {},
   "source": [
    "#### Deleting pound symbol"
   ]
  },
  {
   "cell_type": "code",
   "execution_count": 15,
   "metadata": {
    "ExecuteTime": {
     "end_time": "2020-03-25T16:41:50.947734Z",
     "start_time": "2020-03-25T16:41:50.940753Z"
    }
   },
   "outputs": [],
   "source": [
    "df['price'] = df['price'].str.replace('£', '')"
   ]
  },
  {
   "cell_type": "markdown",
   "metadata": {},
   "source": [
    "#### Deleting comma from the price"
   ]
  },
  {
   "cell_type": "code",
   "execution_count": 16,
   "metadata": {
    "ExecuteTime": {
     "end_time": "2020-03-25T16:41:50.954716Z",
     "start_time": "2020-03-25T16:41:50.948732Z"
    }
   },
   "outputs": [],
   "source": [
    "df['price'] = df['price'].str.replace(',', '')"
   ]
  },
  {
   "cell_type": "markdown",
   "metadata": {},
   "source": [
    "#### Converting double prices to average price"
   ]
  },
  {
   "cell_type": "code",
   "execution_count": 17,
   "metadata": {
    "ExecuteTime": {
     "end_time": "2020-03-25T16:41:50.970672Z",
     "start_time": "2020-03-25T16:41:50.955713Z"
    }
   },
   "outputs": [],
   "source": [
    "#splitting double prices to two columns\n",
    "\n",
    "df[['price1', 'price2']] = df.price.str.split(' - ', expand = True)"
   ]
  },
  {
   "cell_type": "code",
   "execution_count": 18,
   "metadata": {
    "ExecuteTime": {
     "end_time": "2020-03-25T16:41:50.987628Z",
     "start_time": "2020-03-25T16:41:50.971670Z"
    }
   },
   "outputs": [
    {
     "data": {
      "text/html": [
       "<div>\n",
       "<style scoped>\n",
       "    .dataframe tbody tr th:only-of-type {\n",
       "        vertical-align: middle;\n",
       "    }\n",
       "\n",
       "    .dataframe tbody tr th {\n",
       "        vertical-align: top;\n",
       "    }\n",
       "\n",
       "    .dataframe thead th {\n",
       "        text-align: right;\n",
       "    }\n",
       "</style>\n",
       "<table border=\"1\" class=\"dataframe\">\n",
       "  <thead>\n",
       "    <tr style=\"text-align: right;\">\n",
       "      <th></th>\n",
       "      <th>uniq_id</th>\n",
       "      <th>product_name</th>\n",
       "      <th>manufacturer</th>\n",
       "      <th>price</th>\n",
       "      <th>number_of_reviews</th>\n",
       "      <th>number_of_answered_questions</th>\n",
       "      <th>average_review_rating</th>\n",
       "      <th>amazon_category_and_sub_category</th>\n",
       "      <th>price1</th>\n",
       "      <th>price2</th>\n",
       "    </tr>\n",
       "  </thead>\n",
       "  <tbody>\n",
       "    <tr>\n",
       "      <td>1808</td>\n",
       "      <td>e429e677677a754741ef6c75141cb4f2</td>\n",
       "      <td>TAVERN WENCH ADULT FANCY DRESS COSTUME LADIES ...</td>\n",
       "      <td>Sancto</td>\n",
       "      <td>22.39 - 41.23</td>\n",
       "      <td>6</td>\n",
       "      <td>1.0</td>\n",
       "      <td>4.3 out of 5 stars</td>\n",
       "      <td>Fancy Dress &gt; Accessories &gt; Sets &amp; Kits</td>\n",
       "      <td>22.39</td>\n",
       "      <td>41.23</td>\n",
       "    </tr>\n",
       "    <tr>\n",
       "      <td>1814</td>\n",
       "      <td>52de34eff5c983e74c2cd3be60bb76cf</td>\n",
       "      <td>HEAVY FABRIC CARDINAL FANCY DRESS COSTUME MENS...</td>\n",
       "      <td>Sancto</td>\n",
       "      <td>25.34 - 56.44</td>\n",
       "      <td>5</td>\n",
       "      <td>3.0</td>\n",
       "      <td>4.6 out of 5 stars</td>\n",
       "      <td>Fancy Dress &gt; Costumes &gt; Adults</td>\n",
       "      <td>25.34</td>\n",
       "      <td>56.44</td>\n",
       "    </tr>\n",
       "    <tr>\n",
       "      <td>1837</td>\n",
       "      <td>6fdbfde4f2bc42a4671164f418066ca2</td>\n",
       "      <td>Mr Incredible - Adult Fancy Dress Costume</td>\n",
       "      <td>RUBBIES FRANCE</td>\n",
       "      <td>39.94 - 76.46</td>\n",
       "      <td>15</td>\n",
       "      <td>1.0</td>\n",
       "      <td>4.7 out of 5 stars</td>\n",
       "      <td>Fancy Dress &gt; Accessories &gt; Sets &amp; Kits</td>\n",
       "      <td>39.94</td>\n",
       "      <td>76.46</td>\n",
       "    </tr>\n",
       "    <tr>\n",
       "      <td>3178</td>\n",
       "      <td>58f68b5d440489e0582a1e40ebd3fac0</td>\n",
       "      <td>MEN'S HORROR FILM SCREAMER HALLOWEEN FANCY DRE...</td>\n",
       "      <td>Wicked</td>\n",
       "      <td>9.95 - 16.95</td>\n",
       "      <td>1</td>\n",
       "      <td>2.0</td>\n",
       "      <td>5.0 out of 5 stars</td>\n",
       "      <td>Fancy Dress &gt; Costumes &gt; Adults</td>\n",
       "      <td>9.95</td>\n",
       "      <td>16.95</td>\n",
       "    </tr>\n",
       "    <tr>\n",
       "      <td>3235</td>\n",
       "      <td>cb7e11d70bebee92013e45699700fc39</td>\n",
       "      <td>Smiffy's Roman Warrior Deluxe Costume</td>\n",
       "      <td>Smiffy's</td>\n",
       "      <td>23.94 - 46.50</td>\n",
       "      <td>4</td>\n",
       "      <td>1.0</td>\n",
       "      <td>4.3 out of 5 stars</td>\n",
       "      <td>Fancy Dress &gt; Costumes</td>\n",
       "      <td>23.94</td>\n",
       "      <td>46.50</td>\n",
       "    </tr>\n",
       "  </tbody>\n",
       "</table>\n",
       "</div>"
      ],
      "text/plain": [
       "                               uniq_id  \\\n",
       "1808  e429e677677a754741ef6c75141cb4f2   \n",
       "1814  52de34eff5c983e74c2cd3be60bb76cf   \n",
       "1837  6fdbfde4f2bc42a4671164f418066ca2   \n",
       "3178  58f68b5d440489e0582a1e40ebd3fac0   \n",
       "3235  cb7e11d70bebee92013e45699700fc39   \n",
       "\n",
       "                                           product_name    manufacturer  \\\n",
       "1808  TAVERN WENCH ADULT FANCY DRESS COSTUME LADIES ...          Sancto   \n",
       "1814  HEAVY FABRIC CARDINAL FANCY DRESS COSTUME MENS...          Sancto   \n",
       "1837          Mr Incredible - Adult Fancy Dress Costume  RUBBIES FRANCE   \n",
       "3178  MEN'S HORROR FILM SCREAMER HALLOWEEN FANCY DRE...          Wicked   \n",
       "3235              Smiffy's Roman Warrior Deluxe Costume        Smiffy's   \n",
       "\n",
       "              price number_of_reviews  number_of_answered_questions  \\\n",
       "1808  22.39 - 41.23                 6                           1.0   \n",
       "1814  25.34 - 56.44                 5                           3.0   \n",
       "1837  39.94 - 76.46                15                           1.0   \n",
       "3178   9.95 - 16.95                 1                           2.0   \n",
       "3235  23.94 - 46.50                 4                           1.0   \n",
       "\n",
       "     average_review_rating         amazon_category_and_sub_category price1  \\\n",
       "1808    4.3 out of 5 stars  Fancy Dress > Accessories > Sets & Kits  22.39   \n",
       "1814    4.6 out of 5 stars          Fancy Dress > Costumes > Adults  25.34   \n",
       "1837    4.7 out of 5 stars  Fancy Dress > Accessories > Sets & Kits  39.94   \n",
       "3178    5.0 out of 5 stars          Fancy Dress > Costumes > Adults   9.95   \n",
       "3235    4.3 out of 5 stars                   Fancy Dress > Costumes  23.94   \n",
       "\n",
       "     price2  \n",
       "1808  41.23  \n",
       "1814  56.44  \n",
       "1837  76.46  \n",
       "3178  16.95  \n",
       "3235  46.50  "
      ]
     },
     "execution_count": 18,
     "metadata": {},
     "output_type": "execute_result"
    }
   ],
   "source": [
    "#checking only the prices with -\n",
    "\n",
    "df.loc[df['price'].str.contains('-')].head()"
   ]
  },
  {
   "cell_type": "code",
   "execution_count": 19,
   "metadata": {
    "ExecuteTime": {
     "end_time": "2020-03-25T16:41:50.993611Z",
     "start_time": "2020-03-25T16:41:50.988624Z"
    }
   },
   "outputs": [],
   "source": [
    "#function to change column to numeric\n",
    "\n",
    "def price_to_numeric(x):\n",
    "    df[x] = pd.to_numeric(df[x])"
   ]
  },
  {
   "cell_type": "code",
   "execution_count": 20,
   "metadata": {
    "ExecuteTime": {
     "end_time": "2020-03-25T16:41:51.003584Z",
     "start_time": "2020-03-25T16:41:50.995606Z"
    }
   },
   "outputs": [],
   "source": [
    "#changing types to numeric to be able to calculate mean\n",
    "\n",
    "price_to_numeric('price1')\n",
    "price_to_numeric('price2')"
   ]
  },
  {
   "cell_type": "code",
   "execution_count": 21,
   "metadata": {
    "ExecuteTime": {
     "end_time": "2020-03-25T16:41:51.009568Z",
     "start_time": "2020-03-25T16:41:51.004581Z"
    }
   },
   "outputs": [
    {
     "data": {
      "text/plain": [
       "numpy.float64"
      ]
     },
     "execution_count": 21,
     "metadata": {},
     "output_type": "execute_result"
    }
   ],
   "source": [
    "#checking the type\n",
    "\n",
    "type(df.price1[0])"
   ]
  },
  {
   "cell_type": "code",
   "execution_count": 22,
   "metadata": {
    "ExecuteTime": {
     "end_time": "2020-03-25T16:41:51.016550Z",
     "start_time": "2020-03-25T16:41:51.010566Z"
    }
   },
   "outputs": [],
   "source": [
    "#creating new column with final prices: apply mean for the rows with double price\n",
    "\n",
    "df['new_price'] = np.where(df['price2'].notnull(), (df['price1']+df['price2'])/2, df['price1'])"
   ]
  },
  {
   "cell_type": "code",
   "execution_count": 23,
   "metadata": {
    "ExecuteTime": {
     "end_time": "2020-03-25T16:41:51.025525Z",
     "start_time": "2020-03-25T16:41:51.020538Z"
    }
   },
   "outputs": [],
   "source": [
    "#Deleting additional columns, leaving one clean price\n",
    "\n",
    "df.drop(['price', 'price1', 'price2'], axis=1, inplace=True)"
   ]
  },
  {
   "cell_type": "code",
   "execution_count": 24,
   "metadata": {
    "ExecuteTime": {
     "end_time": "2020-03-25T16:41:51.037493Z",
     "start_time": "2020-03-25T16:41:51.027520Z"
    }
   },
   "outputs": [
    {
     "data": {
      "text/html": [
       "<div>\n",
       "<style scoped>\n",
       "    .dataframe tbody tr th:only-of-type {\n",
       "        vertical-align: middle;\n",
       "    }\n",
       "\n",
       "    .dataframe tbody tr th {\n",
       "        vertical-align: top;\n",
       "    }\n",
       "\n",
       "    .dataframe thead th {\n",
       "        text-align: right;\n",
       "    }\n",
       "</style>\n",
       "<table border=\"1\" class=\"dataframe\">\n",
       "  <thead>\n",
       "    <tr style=\"text-align: right;\">\n",
       "      <th></th>\n",
       "      <th>uniq_id</th>\n",
       "      <th>product_name</th>\n",
       "      <th>manufacturer</th>\n",
       "      <th>number_of_reviews</th>\n",
       "      <th>number_of_answered_questions</th>\n",
       "      <th>average_review_rating</th>\n",
       "      <th>amazon_category_and_sub_category</th>\n",
       "      <th>new_price</th>\n",
       "    </tr>\n",
       "  </thead>\n",
       "  <tbody>\n",
       "    <tr>\n",
       "      <td>0</td>\n",
       "      <td>eac7efa5dbd3d667f26eb3d3ab504464</td>\n",
       "      <td>Hornby 2014 Catalogue</td>\n",
       "      <td>Hornby</td>\n",
       "      <td>15</td>\n",
       "      <td>1.0</td>\n",
       "      <td>4.9 out of 5 stars</td>\n",
       "      <td>Hobbies &gt; Model Trains &amp; Railway Sets &gt; Rail V...</td>\n",
       "      <td>3.42</td>\n",
       "    </tr>\n",
       "    <tr>\n",
       "      <td>1</td>\n",
       "      <td>b17540ef7e86e461d37f3ae58b7b72ac</td>\n",
       "      <td>FunkyBuys® Large Christmas Holiday Express Fes...</td>\n",
       "      <td>FunkyBuys</td>\n",
       "      <td>2</td>\n",
       "      <td>1.0</td>\n",
       "      <td>4.5 out of 5 stars</td>\n",
       "      <td>Hobbies &gt; Model Trains &amp; Railway Sets &gt; Rail V...</td>\n",
       "      <td>16.99</td>\n",
       "    </tr>\n",
       "    <tr>\n",
       "      <td>2</td>\n",
       "      <td>348f344247b0c1a935b1223072ef9d8a</td>\n",
       "      <td>CLASSIC TOY TRAIN SET TRACK CARRIAGES LIGHT EN...</td>\n",
       "      <td>ccf</td>\n",
       "      <td>17</td>\n",
       "      <td>2.0</td>\n",
       "      <td>3.9 out of 5 stars</td>\n",
       "      <td>Hobbies &gt; Model Trains &amp; Railway Sets &gt; Rail V...</td>\n",
       "      <td>9.99</td>\n",
       "    </tr>\n",
       "    <tr>\n",
       "      <td>3</td>\n",
       "      <td>e12b92dbb8eaee78b22965d2a9bbbd9f</td>\n",
       "      <td>HORNBY Coach R4410A BR Hawksworth Corridor 3rd</td>\n",
       "      <td>Hornby</td>\n",
       "      <td>1</td>\n",
       "      <td>2.0</td>\n",
       "      <td>5.0 out of 5 stars</td>\n",
       "      <td>Hobbies &gt; Model Trains &amp; Railway Sets &gt; Rail V...</td>\n",
       "      <td>39.99</td>\n",
       "    </tr>\n",
       "    <tr>\n",
       "      <td>4</td>\n",
       "      <td>e33a9adeed5f36840ccc227db4682a36</td>\n",
       "      <td>Hornby 00 Gauge 0-4-0 Gildenlow Salt Co. Steam...</td>\n",
       "      <td>Hornby</td>\n",
       "      <td>3</td>\n",
       "      <td>2.0</td>\n",
       "      <td>4.7 out of 5 stars</td>\n",
       "      <td>Hobbies &gt; Model Trains &amp; Railway Sets &gt; Rail V...</td>\n",
       "      <td>32.19</td>\n",
       "    </tr>\n",
       "  </tbody>\n",
       "</table>\n",
       "</div>"
      ],
      "text/plain": [
       "                            uniq_id  \\\n",
       "0  eac7efa5dbd3d667f26eb3d3ab504464   \n",
       "1  b17540ef7e86e461d37f3ae58b7b72ac   \n",
       "2  348f344247b0c1a935b1223072ef9d8a   \n",
       "3  e12b92dbb8eaee78b22965d2a9bbbd9f   \n",
       "4  e33a9adeed5f36840ccc227db4682a36   \n",
       "\n",
       "                                        product_name manufacturer  \\\n",
       "0                              Hornby 2014 Catalogue       Hornby   \n",
       "1  FunkyBuys® Large Christmas Holiday Express Fes...    FunkyBuys   \n",
       "2  CLASSIC TOY TRAIN SET TRACK CARRIAGES LIGHT EN...          ccf   \n",
       "3     HORNBY Coach R4410A BR Hawksworth Corridor 3rd       Hornby   \n",
       "4  Hornby 00 Gauge 0-4-0 Gildenlow Salt Co. Steam...       Hornby   \n",
       "\n",
       "  number_of_reviews  number_of_answered_questions average_review_rating  \\\n",
       "0                15                           1.0    4.9 out of 5 stars   \n",
       "1                 2                           1.0    4.5 out of 5 stars   \n",
       "2                17                           2.0    3.9 out of 5 stars   \n",
       "3                 1                           2.0    5.0 out of 5 stars   \n",
       "4                 3                           2.0    4.7 out of 5 stars   \n",
       "\n",
       "                    amazon_category_and_sub_category  new_price  \n",
       "0  Hobbies > Model Trains & Railway Sets > Rail V...       3.42  \n",
       "1  Hobbies > Model Trains & Railway Sets > Rail V...      16.99  \n",
       "2  Hobbies > Model Trains & Railway Sets > Rail V...       9.99  \n",
       "3  Hobbies > Model Trains & Railway Sets > Rail V...      39.99  \n",
       "4  Hobbies > Model Trains & Railway Sets > Rail V...      32.19  "
      ]
     },
     "execution_count": 24,
     "metadata": {},
     "output_type": "execute_result"
    }
   ],
   "source": [
    "df.head()"
   ]
  },
  {
   "cell_type": "markdown",
   "metadata": {},
   "source": [
    "#### Converting price to numeric"
   ]
  },
  {
   "cell_type": "code",
   "execution_count": 25,
   "metadata": {
    "ExecuteTime": {
     "end_time": "2020-03-25T16:41:51.043477Z",
     "start_time": "2020-03-25T16:41:51.039487Z"
    }
   },
   "outputs": [],
   "source": [
    "price_to_numeric('new_price')"
   ]
  },
  {
   "cell_type": "code",
   "execution_count": 26,
   "metadata": {
    "ExecuteTime": {
     "end_time": "2020-03-25T16:41:51.049461Z",
     "start_time": "2020-03-25T16:41:51.044475Z"
    }
   },
   "outputs": [
    {
     "data": {
      "text/plain": [
       "numpy.float64"
      ]
     },
     "execution_count": 26,
     "metadata": {},
     "output_type": "execute_result"
    }
   ],
   "source": [
    "type(df['new_price'][0])"
   ]
  },
  {
   "cell_type": "markdown",
   "metadata": {},
   "source": [
    "### Cleaning average review column"
   ]
  },
  {
   "cell_type": "code",
   "execution_count": 27,
   "metadata": {
    "ExecuteTime": {
     "end_time": "2020-03-25T16:41:51.056442Z",
     "start_time": "2020-03-25T16:41:51.050459Z"
    }
   },
   "outputs": [
    {
     "data": {
      "text/plain": [
       "5.0 out of 5 stars    3793\n",
       "4.0 out of 5 stars     957\n",
       "4.5 out of 5 stars     523\n",
       "4.8 out of 5 stars     418\n",
       "4.7 out of 5 stars     393\n",
       "4.3 out of 5 stars     305\n",
       "4.6 out of 5 stars     297\n",
       "4.4 out of 5 stars     220\n",
       "4.9 out of 5 stars     168\n",
       "4.2 out of 5 stars     163\n",
       "4.1 out of 5 stars     115\n",
       "3.9 out of 5 stars       5\n",
       "3.3 out of 5 stars       2\n",
       "3.6 out of 5 stars       2\n",
       "3.5 out of 5 stars       2\n",
       "2.3 out of 5 stars       1\n",
       "3.0 out of 5 stars       1\n",
       "3.7 out of 5 stars       1\n",
       "Name: average_review_rating, dtype: int64"
      ]
     },
     "execution_count": 27,
     "metadata": {},
     "output_type": "execute_result"
    }
   ],
   "source": [
    "df.average_review_rating.value_counts()"
   ]
  },
  {
   "cell_type": "code",
   "execution_count": 28,
   "metadata": {
    "ExecuteTime": {
     "end_time": "2020-03-25T16:41:51.072399Z",
     "start_time": "2020-03-25T16:41:51.057440Z"
    }
   },
   "outputs": [],
   "source": [
    "#extracting only the evaluation from the string\n",
    "\n",
    "df['ave_review_rating'] = df.average_review_rating.str.extract('(\\d+\\.?\\d+)', expand=False)"
   ]
  },
  {
   "cell_type": "code",
   "execution_count": 29,
   "metadata": {
    "ExecuteTime": {
     "end_time": "2020-03-25T16:41:51.082373Z",
     "start_time": "2020-03-25T16:41:51.074396Z"
    }
   },
   "outputs": [],
   "source": [
    "#converting to numeric\n",
    "\n",
    "price_to_numeric('ave_review_rating')"
   ]
  },
  {
   "cell_type": "code",
   "execution_count": 30,
   "metadata": {
    "ExecuteTime": {
     "end_time": "2020-03-25T16:41:51.088356Z",
     "start_time": "2020-03-25T16:41:51.083372Z"
    }
   },
   "outputs": [
    {
     "data": {
      "text/plain": [
       "numpy.float64"
      ]
     },
     "execution_count": 30,
     "metadata": {},
     "output_type": "execute_result"
    }
   ],
   "source": [
    "type(df['ave_review_rating'][0])"
   ]
  },
  {
   "cell_type": "code",
   "execution_count": 31,
   "metadata": {
    "ExecuteTime": {
     "end_time": "2020-03-25T16:41:51.095337Z",
     "start_time": "2020-03-25T16:41:51.089354Z"
    }
   },
   "outputs": [],
   "source": [
    "#deleting old column\n",
    "\n",
    "df.drop('average_review_rating', axis=1, inplace=True)"
   ]
  },
  {
   "cell_type": "markdown",
   "metadata": {},
   "source": [
    "## Understanding and manipulating data"
   ]
  },
  {
   "cell_type": "markdown",
   "metadata": {},
   "source": [
    "### Renaming columns"
   ]
  },
  {
   "cell_type": "code",
   "execution_count": 32,
   "metadata": {
    "ExecuteTime": {
     "end_time": "2020-03-25T16:41:51.099327Z",
     "start_time": "2020-03-25T16:41:51.096335Z"
    }
   },
   "outputs": [],
   "source": [
    "colnames = ['uniq_id', 'product_name', 'manufacturer', 'num_reviews',\n",
    "       'num_answ_questions', 'cat_and_subcat', 'price', 'ave_review_rating']"
   ]
  },
  {
   "cell_type": "code",
   "execution_count": 33,
   "metadata": {
    "ExecuteTime": {
     "end_time": "2020-03-25T16:41:51.104314Z",
     "start_time": "2020-03-25T16:41:51.100324Z"
    }
   },
   "outputs": [],
   "source": [
    "df.columns=colnames"
   ]
  },
  {
   "cell_type": "code",
   "execution_count": 34,
   "metadata": {
    "ExecuteTime": {
     "end_time": "2020-03-25T16:41:51.116283Z",
     "start_time": "2020-03-25T16:41:51.105311Z"
    }
   },
   "outputs": [
    {
     "data": {
      "text/html": [
       "<div>\n",
       "<style scoped>\n",
       "    .dataframe tbody tr th:only-of-type {\n",
       "        vertical-align: middle;\n",
       "    }\n",
       "\n",
       "    .dataframe tbody tr th {\n",
       "        vertical-align: top;\n",
       "    }\n",
       "\n",
       "    .dataframe thead th {\n",
       "        text-align: right;\n",
       "    }\n",
       "</style>\n",
       "<table border=\"1\" class=\"dataframe\">\n",
       "  <thead>\n",
       "    <tr style=\"text-align: right;\">\n",
       "      <th></th>\n",
       "      <th>uniq_id</th>\n",
       "      <th>product_name</th>\n",
       "      <th>manufacturer</th>\n",
       "      <th>num_reviews</th>\n",
       "      <th>num_answ_questions</th>\n",
       "      <th>cat_and_subcat</th>\n",
       "      <th>price</th>\n",
       "      <th>ave_review_rating</th>\n",
       "    </tr>\n",
       "  </thead>\n",
       "  <tbody>\n",
       "    <tr>\n",
       "      <td>0</td>\n",
       "      <td>eac7efa5dbd3d667f26eb3d3ab504464</td>\n",
       "      <td>Hornby 2014 Catalogue</td>\n",
       "      <td>Hornby</td>\n",
       "      <td>15</td>\n",
       "      <td>1.0</td>\n",
       "      <td>Hobbies &gt; Model Trains &amp; Railway Sets &gt; Rail V...</td>\n",
       "      <td>3.42</td>\n",
       "      <td>4.9</td>\n",
       "    </tr>\n",
       "    <tr>\n",
       "      <td>1</td>\n",
       "      <td>b17540ef7e86e461d37f3ae58b7b72ac</td>\n",
       "      <td>FunkyBuys® Large Christmas Holiday Express Fes...</td>\n",
       "      <td>FunkyBuys</td>\n",
       "      <td>2</td>\n",
       "      <td>1.0</td>\n",
       "      <td>Hobbies &gt; Model Trains &amp; Railway Sets &gt; Rail V...</td>\n",
       "      <td>16.99</td>\n",
       "      <td>4.5</td>\n",
       "    </tr>\n",
       "    <tr>\n",
       "      <td>2</td>\n",
       "      <td>348f344247b0c1a935b1223072ef9d8a</td>\n",
       "      <td>CLASSIC TOY TRAIN SET TRACK CARRIAGES LIGHT EN...</td>\n",
       "      <td>ccf</td>\n",
       "      <td>17</td>\n",
       "      <td>2.0</td>\n",
       "      <td>Hobbies &gt; Model Trains &amp; Railway Sets &gt; Rail V...</td>\n",
       "      <td>9.99</td>\n",
       "      <td>3.9</td>\n",
       "    </tr>\n",
       "    <tr>\n",
       "      <td>3</td>\n",
       "      <td>e12b92dbb8eaee78b22965d2a9bbbd9f</td>\n",
       "      <td>HORNBY Coach R4410A BR Hawksworth Corridor 3rd</td>\n",
       "      <td>Hornby</td>\n",
       "      <td>1</td>\n",
       "      <td>2.0</td>\n",
       "      <td>Hobbies &gt; Model Trains &amp; Railway Sets &gt; Rail V...</td>\n",
       "      <td>39.99</td>\n",
       "      <td>5.0</td>\n",
       "    </tr>\n",
       "    <tr>\n",
       "      <td>4</td>\n",
       "      <td>e33a9adeed5f36840ccc227db4682a36</td>\n",
       "      <td>Hornby 00 Gauge 0-4-0 Gildenlow Salt Co. Steam...</td>\n",
       "      <td>Hornby</td>\n",
       "      <td>3</td>\n",
       "      <td>2.0</td>\n",
       "      <td>Hobbies &gt; Model Trains &amp; Railway Sets &gt; Rail V...</td>\n",
       "      <td>32.19</td>\n",
       "      <td>4.7</td>\n",
       "    </tr>\n",
       "  </tbody>\n",
       "</table>\n",
       "</div>"
      ],
      "text/plain": [
       "                            uniq_id  \\\n",
       "0  eac7efa5dbd3d667f26eb3d3ab504464   \n",
       "1  b17540ef7e86e461d37f3ae58b7b72ac   \n",
       "2  348f344247b0c1a935b1223072ef9d8a   \n",
       "3  e12b92dbb8eaee78b22965d2a9bbbd9f   \n",
       "4  e33a9adeed5f36840ccc227db4682a36   \n",
       "\n",
       "                                        product_name manufacturer num_reviews  \\\n",
       "0                              Hornby 2014 Catalogue       Hornby          15   \n",
       "1  FunkyBuys® Large Christmas Holiday Express Fes...    FunkyBuys           2   \n",
       "2  CLASSIC TOY TRAIN SET TRACK CARRIAGES LIGHT EN...          ccf          17   \n",
       "3     HORNBY Coach R4410A BR Hawksworth Corridor 3rd       Hornby           1   \n",
       "4  Hornby 00 Gauge 0-4-0 Gildenlow Salt Co. Steam...       Hornby           3   \n",
       "\n",
       "   num_answ_questions                                     cat_and_subcat  \\\n",
       "0                 1.0  Hobbies > Model Trains & Railway Sets > Rail V...   \n",
       "1                 1.0  Hobbies > Model Trains & Railway Sets > Rail V...   \n",
       "2                 2.0  Hobbies > Model Trains & Railway Sets > Rail V...   \n",
       "3                 2.0  Hobbies > Model Trains & Railway Sets > Rail V...   \n",
       "4                 2.0  Hobbies > Model Trains & Railway Sets > Rail V...   \n",
       "\n",
       "   price  ave_review_rating  \n",
       "0   3.42                4.9  \n",
       "1  16.99                4.5  \n",
       "2   9.99                3.9  \n",
       "3  39.99                5.0  \n",
       "4  32.19                4.7  "
      ]
     },
     "execution_count": 34,
     "metadata": {},
     "output_type": "execute_result"
    }
   ],
   "source": [
    "df.head()"
   ]
  },
  {
   "cell_type": "markdown",
   "metadata": {},
   "source": [
    "### Checking values per column"
   ]
  },
  {
   "cell_type": "markdown",
   "metadata": {},
   "source": [
    "#### How many different products?"
   ]
  },
  {
   "cell_type": "code",
   "execution_count": 35,
   "metadata": {
    "ExecuteTime": {
     "end_time": "2020-03-25T16:41:51.124262Z",
     "start_time": "2020-03-25T16:41:51.118278Z"
    }
   },
   "outputs": [
    {
     "data": {
      "text/plain": [
       "7341"
      ]
     },
     "execution_count": 35,
     "metadata": {},
     "output_type": "execute_result"
    }
   ],
   "source": [
    "len(df.product_name.unique())\n",
    "\n",
    "#almost all products in the dataset are different"
   ]
  },
  {
   "cell_type": "markdown",
   "metadata": {},
   "source": [
    "#### How many different manufacturers?"
   ]
  },
  {
   "cell_type": "code",
   "execution_count": 36,
   "metadata": {
    "ExecuteTime": {
     "end_time": "2020-03-25T16:41:51.136229Z",
     "start_time": "2020-03-25T16:41:51.125260Z"
    },
    "scrolled": true
   },
   "outputs": [
    {
     "name": "stdout",
     "output_type": "stream",
     "text": [
      "2089\n",
      "Oxford Diecast        145\n",
      "Disney                128\n",
      "The Puppet Company     95\n",
      "Star Wars              87\n",
      "Playmobil              80\n",
      "                     ... \n",
      "Giddy Up                1\n",
      "James Bond              1\n",
      "FDPS                    1\n",
      "Miniland                1\n",
      "Ghostbusters            1\n",
      "Name: manufacturer, Length: 2089, dtype: int64\n"
     ]
    }
   ],
   "source": [
    "print(len(df.manufacturer.unique()))\n",
    "print(df.manufacturer.value_counts())\n",
    "\n",
    "#could do some analysis per manufacturers (take top 10 or smth)"
   ]
  },
  {
   "cell_type": "markdown",
   "metadata": {},
   "source": [
    "#### How many different categories?"
   ]
  },
  {
   "cell_type": "code",
   "execution_count": 37,
   "metadata": {
    "ExecuteTime": {
     "end_time": "2020-03-25T16:41:51.145205Z",
     "start_time": "2020-03-25T16:41:51.137227Z"
    }
   },
   "outputs": [
    {
     "name": "stdout",
     "output_type": "stream",
     "text": [
      "232\n",
      "Die-Cast & Toy Vehicles > Toy Vehicles & Accessories > Scaled Models > Vehicles    732\n",
      "Figures & Playsets > Science Fiction & Fantasy                                     340\n",
      "Characters & Brands > Disney > Toys                                                272\n",
      "Arts & Crafts > Children's Craft Kits > Bead Art & Jewellery-Making                267\n",
      "Party Supplies > Banners, Stickers & Confetti > Banners                            256\n",
      "                                                                                  ... \n",
      "Women > Accessories > Eyewear & Accessories > Sunglasses                             1\n",
      "Sweets, Chocolate & Gum > Chocolate > Bars > Multipack Bars                          1\n",
      "Camping & Hiking > Sleeping Gear > Air Pumps > Hand Pumps                            1\n",
      "Fancy Dress > Accessories > Capes & Wings                                            1\n",
      "Arts & Crafts > Doll Making                                                          1\n",
      "Name: cat_and_subcat, Length: 232, dtype: int64\n"
     ]
    }
   ],
   "source": [
    "print(len(df.cat_and_subcat.unique()))\n",
    "print(df.cat_and_subcat.value_counts())\n",
    "\n",
    "#will split to main and sub categories"
   ]
  },
  {
   "cell_type": "markdown",
   "metadata": {},
   "source": [
    "#### How many different average reviews?"
   ]
  },
  {
   "cell_type": "code",
   "execution_count": 38,
   "metadata": {
    "ExecuteTime": {
     "end_time": "2020-03-25T16:41:51.152186Z",
     "start_time": "2020-03-25T16:41:51.146202Z"
    }
   },
   "outputs": [
    {
     "name": "stdout",
     "output_type": "stream",
     "text": [
      "18\n",
      "5.0    3793\n",
      "4.0     957\n",
      "4.5     523\n",
      "4.8     418\n",
      "4.7     393\n",
      "4.3     305\n",
      "4.6     297\n",
      "4.4     220\n",
      "4.9     168\n",
      "4.2     163\n",
      "4.1     115\n",
      "3.9       5\n",
      "3.3       2\n",
      "3.6       2\n",
      "3.5       2\n",
      "3.0       1\n",
      "2.3       1\n",
      "3.7       1\n",
      "Name: ave_review_rating, dtype: int64\n"
     ]
    }
   ],
   "source": [
    "print(len(df.ave_review_rating.unique()))\n",
    "print(df.ave_review_rating.value_counts())\n",
    "\n",
    "#all reviews out of 5, can delete this part to have a numeric column"
   ]
  },
  {
   "cell_type": "markdown",
   "metadata": {},
   "source": [
    "### Splitting to main and sub categories"
   ]
  },
  {
   "cell_type": "code",
   "execution_count": 39,
   "metadata": {
    "ExecuteTime": {
     "end_time": "2020-03-25T16:41:51.172132Z",
     "start_time": "2020-03-25T16:41:51.153185Z"
    }
   },
   "outputs": [],
   "source": [
    "df[['main_cat', 'sub_cat1', 'sub_cat2', 'sub_cat3', 'sub_cat4']] = df.cat_and_subcat.str.split(' > ', expand = True)"
   ]
  },
  {
   "cell_type": "code",
   "execution_count": 40,
   "metadata": {
    "ExecuteTime": {
     "end_time": "2020-03-25T16:41:51.185099Z",
     "start_time": "2020-03-25T16:41:51.173130Z"
    }
   },
   "outputs": [
    {
     "data": {
      "text/html": [
       "<div>\n",
       "<style scoped>\n",
       "    .dataframe tbody tr th:only-of-type {\n",
       "        vertical-align: middle;\n",
       "    }\n",
       "\n",
       "    .dataframe tbody tr th {\n",
       "        vertical-align: top;\n",
       "    }\n",
       "\n",
       "    .dataframe thead th {\n",
       "        text-align: right;\n",
       "    }\n",
       "</style>\n",
       "<table border=\"1\" class=\"dataframe\">\n",
       "  <thead>\n",
       "    <tr style=\"text-align: right;\">\n",
       "      <th></th>\n",
       "      <th>uniq_id</th>\n",
       "      <th>product_name</th>\n",
       "      <th>manufacturer</th>\n",
       "      <th>num_reviews</th>\n",
       "      <th>num_answ_questions</th>\n",
       "      <th>cat_and_subcat</th>\n",
       "      <th>price</th>\n",
       "      <th>ave_review_rating</th>\n",
       "      <th>main_cat</th>\n",
       "      <th>sub_cat1</th>\n",
       "      <th>sub_cat2</th>\n",
       "      <th>sub_cat3</th>\n",
       "      <th>sub_cat4</th>\n",
       "    </tr>\n",
       "  </thead>\n",
       "  <tbody>\n",
       "    <tr>\n",
       "      <td>0</td>\n",
       "      <td>eac7efa5dbd3d667f26eb3d3ab504464</td>\n",
       "      <td>Hornby 2014 Catalogue</td>\n",
       "      <td>Hornby</td>\n",
       "      <td>15</td>\n",
       "      <td>1.0</td>\n",
       "      <td>Hobbies &gt; Model Trains &amp; Railway Sets &gt; Rail V...</td>\n",
       "      <td>3.42</td>\n",
       "      <td>4.9</td>\n",
       "      <td>Hobbies</td>\n",
       "      <td>Model Trains &amp; Railway Sets</td>\n",
       "      <td>Rail Vehicles</td>\n",
       "      <td>Trains</td>\n",
       "      <td>None</td>\n",
       "    </tr>\n",
       "    <tr>\n",
       "      <td>1</td>\n",
       "      <td>b17540ef7e86e461d37f3ae58b7b72ac</td>\n",
       "      <td>FunkyBuys® Large Christmas Holiday Express Fes...</td>\n",
       "      <td>FunkyBuys</td>\n",
       "      <td>2</td>\n",
       "      <td>1.0</td>\n",
       "      <td>Hobbies &gt; Model Trains &amp; Railway Sets &gt; Rail V...</td>\n",
       "      <td>16.99</td>\n",
       "      <td>4.5</td>\n",
       "      <td>Hobbies</td>\n",
       "      <td>Model Trains &amp; Railway Sets</td>\n",
       "      <td>Rail Vehicles</td>\n",
       "      <td>Trains</td>\n",
       "      <td>None</td>\n",
       "    </tr>\n",
       "    <tr>\n",
       "      <td>2</td>\n",
       "      <td>348f344247b0c1a935b1223072ef9d8a</td>\n",
       "      <td>CLASSIC TOY TRAIN SET TRACK CARRIAGES LIGHT EN...</td>\n",
       "      <td>ccf</td>\n",
       "      <td>17</td>\n",
       "      <td>2.0</td>\n",
       "      <td>Hobbies &gt; Model Trains &amp; Railway Sets &gt; Rail V...</td>\n",
       "      <td>9.99</td>\n",
       "      <td>3.9</td>\n",
       "      <td>Hobbies</td>\n",
       "      <td>Model Trains &amp; Railway Sets</td>\n",
       "      <td>Rail Vehicles</td>\n",
       "      <td>Trains</td>\n",
       "      <td>None</td>\n",
       "    </tr>\n",
       "  </tbody>\n",
       "</table>\n",
       "</div>"
      ],
      "text/plain": [
       "                            uniq_id  \\\n",
       "0  eac7efa5dbd3d667f26eb3d3ab504464   \n",
       "1  b17540ef7e86e461d37f3ae58b7b72ac   \n",
       "2  348f344247b0c1a935b1223072ef9d8a   \n",
       "\n",
       "                                        product_name manufacturer num_reviews  \\\n",
       "0                              Hornby 2014 Catalogue       Hornby          15   \n",
       "1  FunkyBuys® Large Christmas Holiday Express Fes...    FunkyBuys           2   \n",
       "2  CLASSIC TOY TRAIN SET TRACK CARRIAGES LIGHT EN...          ccf          17   \n",
       "\n",
       "   num_answ_questions                                     cat_and_subcat  \\\n",
       "0                 1.0  Hobbies > Model Trains & Railway Sets > Rail V...   \n",
       "1                 1.0  Hobbies > Model Trains & Railway Sets > Rail V...   \n",
       "2                 2.0  Hobbies > Model Trains & Railway Sets > Rail V...   \n",
       "\n",
       "   price  ave_review_rating main_cat                     sub_cat1  \\\n",
       "0   3.42                4.9  Hobbies  Model Trains & Railway Sets   \n",
       "1  16.99                4.5  Hobbies  Model Trains & Railway Sets   \n",
       "2   9.99                3.9  Hobbies  Model Trains & Railway Sets   \n",
       "\n",
       "        sub_cat2 sub_cat3 sub_cat4  \n",
       "0  Rail Vehicles   Trains     None  \n",
       "1  Rail Vehicles   Trains     None  \n",
       "2  Rail Vehicles   Trains     None  "
      ]
     },
     "execution_count": 40,
     "metadata": {},
     "output_type": "execute_result"
    }
   ],
   "source": [
    "df.head(3)"
   ]
  },
  {
   "cell_type": "code",
   "execution_count": 41,
   "metadata": {
    "ExecuteTime": {
     "end_time": "2020-03-25T16:41:51.193079Z",
     "start_time": "2020-03-25T16:41:51.186096Z"
    }
   },
   "outputs": [],
   "source": [
    "#deleting old column\n",
    "\n",
    "df.drop('cat_and_subcat', axis=1, inplace=True)"
   ]
  },
  {
   "cell_type": "code",
   "execution_count": 42,
   "metadata": {
    "ExecuteTime": {
     "end_time": "2020-03-25T16:41:51.207042Z",
     "start_time": "2020-03-25T16:41:51.194076Z"
    }
   },
   "outputs": [
    {
     "data": {
      "text/html": [
       "<div>\n",
       "<style scoped>\n",
       "    .dataframe tbody tr th:only-of-type {\n",
       "        vertical-align: middle;\n",
       "    }\n",
       "\n",
       "    .dataframe tbody tr th {\n",
       "        vertical-align: top;\n",
       "    }\n",
       "\n",
       "    .dataframe thead th {\n",
       "        text-align: right;\n",
       "    }\n",
       "</style>\n",
       "<table border=\"1\" class=\"dataframe\">\n",
       "  <thead>\n",
       "    <tr style=\"text-align: right;\">\n",
       "      <th></th>\n",
       "      <th>uniq_id</th>\n",
       "      <th>product_name</th>\n",
       "      <th>manufacturer</th>\n",
       "      <th>num_reviews</th>\n",
       "      <th>num_answ_questions</th>\n",
       "      <th>price</th>\n",
       "      <th>ave_review_rating</th>\n",
       "      <th>main_cat</th>\n",
       "      <th>sub_cat1</th>\n",
       "      <th>sub_cat2</th>\n",
       "      <th>sub_cat3</th>\n",
       "      <th>sub_cat4</th>\n",
       "    </tr>\n",
       "  </thead>\n",
       "  <tbody>\n",
       "    <tr>\n",
       "      <td>0</td>\n",
       "      <td>eac7efa5dbd3d667f26eb3d3ab504464</td>\n",
       "      <td>Hornby 2014 Catalogue</td>\n",
       "      <td>Hornby</td>\n",
       "      <td>15</td>\n",
       "      <td>1.0</td>\n",
       "      <td>3.42</td>\n",
       "      <td>4.9</td>\n",
       "      <td>Hobbies</td>\n",
       "      <td>Model Trains &amp; Railway Sets</td>\n",
       "      <td>Rail Vehicles</td>\n",
       "      <td>Trains</td>\n",
       "      <td>None</td>\n",
       "    </tr>\n",
       "    <tr>\n",
       "      <td>1</td>\n",
       "      <td>b17540ef7e86e461d37f3ae58b7b72ac</td>\n",
       "      <td>FunkyBuys® Large Christmas Holiday Express Fes...</td>\n",
       "      <td>FunkyBuys</td>\n",
       "      <td>2</td>\n",
       "      <td>1.0</td>\n",
       "      <td>16.99</td>\n",
       "      <td>4.5</td>\n",
       "      <td>Hobbies</td>\n",
       "      <td>Model Trains &amp; Railway Sets</td>\n",
       "      <td>Rail Vehicles</td>\n",
       "      <td>Trains</td>\n",
       "      <td>None</td>\n",
       "    </tr>\n",
       "  </tbody>\n",
       "</table>\n",
       "</div>"
      ],
      "text/plain": [
       "                            uniq_id  \\\n",
       "0  eac7efa5dbd3d667f26eb3d3ab504464   \n",
       "1  b17540ef7e86e461d37f3ae58b7b72ac   \n",
       "\n",
       "                                        product_name manufacturer num_reviews  \\\n",
       "0                              Hornby 2014 Catalogue       Hornby          15   \n",
       "1  FunkyBuys® Large Christmas Holiday Express Fes...    FunkyBuys           2   \n",
       "\n",
       "   num_answ_questions  price  ave_review_rating main_cat  \\\n",
       "0                 1.0   3.42                4.9  Hobbies   \n",
       "1                 1.0  16.99                4.5  Hobbies   \n",
       "\n",
       "                      sub_cat1       sub_cat2 sub_cat3 sub_cat4  \n",
       "0  Model Trains & Railway Sets  Rail Vehicles   Trains     None  \n",
       "1  Model Trains & Railway Sets  Rail Vehicles   Trains     None  "
      ]
     },
     "execution_count": 42,
     "metadata": {},
     "output_type": "execute_result"
    }
   ],
   "source": [
    "df.head(2)"
   ]
  },
  {
   "cell_type": "markdown",
   "metadata": {},
   "source": [
    "### Changing types of columns (final check)"
   ]
  },
  {
   "cell_type": "code",
   "execution_count": 43,
   "metadata": {
    "ExecuteTime": {
     "end_time": "2020-03-25T16:41:51.218011Z",
     "start_time": "2020-03-25T16:41:51.209035Z"
    }
   },
   "outputs": [
    {
     "name": "stdout",
     "output_type": "stream",
     "text": [
      "<class 'pandas.core.frame.DataFrame'>\n",
      "Int64Index: 7366 entries, 0 to 9999\n",
      "Data columns (total 12 columns):\n",
      "uniq_id               7366 non-null object\n",
      "product_name          7366 non-null object\n",
      "manufacturer          7366 non-null object\n",
      "num_reviews           7366 non-null object\n",
      "num_answ_questions    7366 non-null float64\n",
      "price                 7366 non-null float64\n",
      "ave_review_rating     7366 non-null float64\n",
      "main_cat              7366 non-null object\n",
      "sub_cat1              7366 non-null object\n",
      "sub_cat2              4278 non-null object\n",
      "sub_cat3              1156 non-null object\n",
      "sub_cat4              75 non-null object\n",
      "dtypes: float64(3), object(9)\n",
      "memory usage: 1.0+ MB\n"
     ]
    }
   ],
   "source": [
    "df.info()\n",
    "\n",
    "#only need to change num:reviews to numeric"
   ]
  },
  {
   "cell_type": "code",
   "execution_count": 44,
   "metadata": {
    "ExecuteTime": {
     "end_time": "2020-03-25T16:41:51.225990Z",
     "start_time": "2020-03-25T16:41:51.219008Z"
    }
   },
   "outputs": [],
   "source": [
    "#deleting comma from number of reviews\n",
    "\n",
    "df['num_reviews'] = df['num_reviews'].str.replace(',', '')"
   ]
  },
  {
   "cell_type": "code",
   "execution_count": 45,
   "metadata": {
    "ExecuteTime": {
     "end_time": "2020-03-25T16:41:51.233968Z",
     "start_time": "2020-03-25T16:41:51.226987Z"
    }
   },
   "outputs": [],
   "source": [
    "#converting to numeric\n",
    "\n",
    "price_to_numeric('num_reviews')"
   ]
  },
  {
   "cell_type": "code",
   "execution_count": 46,
   "metadata": {
    "ExecuteTime": {
     "end_time": "2020-03-25T16:41:51.243940Z",
     "start_time": "2020-03-25T16:41:51.234966Z"
    },
    "scrolled": true
   },
   "outputs": [
    {
     "name": "stdout",
     "output_type": "stream",
     "text": [
      "<class 'pandas.core.frame.DataFrame'>\n",
      "Int64Index: 7366 entries, 0 to 9999\n",
      "Data columns (total 12 columns):\n",
      "uniq_id               7366 non-null object\n",
      "product_name          7366 non-null object\n",
      "manufacturer          7366 non-null object\n",
      "num_reviews           7366 non-null int64\n",
      "num_answ_questions    7366 non-null float64\n",
      "price                 7366 non-null float64\n",
      "ave_review_rating     7366 non-null float64\n",
      "main_cat              7366 non-null object\n",
      "sub_cat1              7366 non-null object\n",
      "sub_cat2              4278 non-null object\n",
      "sub_cat3              1156 non-null object\n",
      "sub_cat4              75 non-null object\n",
      "dtypes: float64(3), int64(1), object(8)\n",
      "memory usage: 1.0+ MB\n"
     ]
    }
   ],
   "source": [
    "df.info()\n",
    "\n",
    "#now all numeric columns have a correct type"
   ]
  },
  {
   "cell_type": "markdown",
   "metadata": {},
   "source": [
    "## EDA"
   ]
  },
  {
   "cell_type": "code",
   "execution_count": 47,
   "metadata": {
    "ExecuteTime": {
     "end_time": "2020-03-25T16:41:51.251918Z",
     "start_time": "2020-03-25T16:41:51.244938Z"
    }
   },
   "outputs": [
    {
     "data": {
      "text/plain": [
       "count    7366.000000\n",
       "mean       20.845872\n",
       "std        48.988619\n",
       "min         0.010000\n",
       "25%         4.990000\n",
       "50%        10.875000\n",
       "75%        20.045000\n",
       "max      2439.920000\n",
       "Name: price, dtype: float64"
      ]
     },
     "execution_count": 47,
     "metadata": {},
     "output_type": "execute_result"
    }
   ],
   "source": [
    "#descriptive statistics summary\n",
    "\n",
    "df['price'].describe()"
   ]
  },
  {
   "cell_type": "code",
   "execution_count": 48,
   "metadata": {
    "ExecuteTime": {
     "end_time": "2020-03-25T16:41:51.452384Z",
     "start_time": "2020-03-25T16:41:51.252916Z"
    }
   },
   "outputs": [
    {
     "data": {
      "image/png": "[encoded data removed]",
      "text/plain": [
       "<Figure size 432x288 with 1 Axes>"
      ]
     },
     "metadata": {
      "needs_background": "light"
     },
     "output_type": "display_data"
    }
   ],
   "source": [
    "#histogram\n",
    "\n",
    "sns.distplot(df['price'])"
   ]
  },
  {
   "cell_type": "markdown",
   "metadata": {},
   "source": [
    "We can see that there are a lot of prices with the value close to zero"
   ]
  },
  {
   "cell_type": "code",
   "execution_count": 62,
   "metadata": {
    "ExecuteTime": {
     "end_time": "2020-03-25T16:45:48.821382Z",
     "start_time": "2020-03-25T16:45:48.647504Z"
    }
   },
   "outputs": [
    {
     "data": {
      "text/plain": [
       "<matplotlib.axes._subplots.AxesSubplot at 0x1cb73f1d108>"
      ]
     },
     "execution_count": 62,
     "metadata": {},
     "output_type": "execute_result"
    },
    {
     "data": {
      "image/png": "[encoded data removed]",
      "text/plain": [
       "<Figure size 432x288 with 1 Axes>"
      ]
     },
     "metadata": {
      "needs_background": "light"
     },
     "output_type": "display_data"
    }
   ],
   "source": [
    "#histogram of the prices higher than 100 and lower than 1000\n",
    "\n",
    "filt = df.loc[(df.price > 100) & (df.price < 1000)]\n",
    "sns.distplot(filt['price'], bins=50)"
   ]
  },
  {
   "cell_type": "markdown",
   "metadata": {},
   "source": [
    "We can see that price distribution deviates from the normal distribution. Also, it's right-skewed."
   ]
  },
  {
   "cell_type": "code",
   "execution_count": 63,
   "metadata": {
    "ExecuteTime": {
     "end_time": "2020-03-25T16:48:39.504145Z",
     "start_time": "2020-03-25T16:48:39.498160Z"
    }
   },
   "outputs": [
    {
     "name": "stdout",
     "output_type": "stream",
     "text": [
      "Skewness: 20.949751\n",
      "Kurtosis: 857.515353\n"
     ]
    }
   ],
   "source": [
    "#skewness and kurtosis\n",
    "\n",
    "print(\"Skewness: %f\" % df['price'].skew())\n",
    "print(\"Kurtosis: %f\" % df['price'].kurt())\n",
    "\n",
    "#Skewness is a measure of the symmetry in a distribution.  A symmetrical dataset will have a skewness equal to 0.\n",
    "#If the skewness is less than -1 or greater than 1, the data are highly skewed\n",
    "\n",
    "#Kurtosis is a measure of the combined sizes of the two tails.  \n",
    "#It measures the amount of probability in the tails.  \n",
    "#The value is often compared to the kurtosis of the normal distribution, which is equal to 3.  \n",
    "#If the kurtosis is greater than 3, then the dataset has heavier tails than a normal distribution (more in the tails). "
   ]
  },
  {
   "cell_type": "code",
   "execution_count": null,
   "metadata": {},
   "outputs": [],
   "source": []
  },
  {
   "cell_type": "code",
   "execution_count": null,
   "metadata": {},
   "outputs": [],
   "source": []
  },
  {
   "cell_type": "code",
   "execution_count": null,
   "metadata": {},
   "outputs": [],
   "source": [
    "#????????\n",
    "\n",
    "#not sure if need to normalzie\n",
    "#or remove outliers"
   ]
  },
  {
   "cell_type": "code",
   "execution_count": 64,
   "metadata": {
    "ExecuteTime": {
     "end_time": "2020-03-25T17:13:27.626405Z",
     "start_time": "2020-03-25T17:13:27.612442Z"
    }
   },
   "outputs": [
    {
     "data": {
      "text/plain": [
       "count    7366.000000\n",
       "mean        0.008540\n",
       "std         0.020078\n",
       "min         0.000000\n",
       "25%         0.002041\n",
       "50%         0.004453\n",
       "75%         0.008211\n",
       "max         1.000000\n",
       "Name: price, dtype: float64"
      ]
     },
     "execution_count": 64,
     "metadata": {},
     "output_type": "execute_result"
    }
   ],
   "source": [
    "#normalizing\n",
    "\n",
    "#Normalization converts all data points to decimals between 0 and 1. \n",
    "#After normalization, the data is just as skewed as before. \n",
    "#If the goal is simply to convert the data to points between 0 and 1, normalization is the way to go. \n",
    "\n",
    "def normalize(column):\n",
    "    upper = column.max()\n",
    "    lower = column.min()\n",
    "    y = (column - lower)/(upper-lower)\n",
    "    return y\n",
    "\n",
    "price_normalized = normalize(df.price)\n",
    "price_normalized.describe()"
   ]
  },
  {
   "cell_type": "code",
   "execution_count": 82,
   "metadata": {
    "ExecuteTime": {
     "end_time": "2020-03-25T17:54:54.624458Z",
     "start_time": "2020-03-25T17:54:54.616502Z"
    }
   },
   "outputs": [
    {
     "data": {
      "text/plain": [
       "main_cat\n",
       "Hobbies                             36.721633\n",
       "Electronic Toys                     34.656667\n",
       "Baby & Toddler Toys                 27.992222\n",
       "Figures & Playsets                  27.133132\n",
       "Die-Cast & Toy Vehicles             26.973907\n",
       "Dogs                                24.985000\n",
       "Pretend Play                        24.163947\n",
       "Sports Toys & Outdoor               22.317214\n",
       "Educational Toys                    22.300000\n",
       "Characters & Brands                 21.904921\n",
       "Musical Toy Instruments             20.723333\n",
       "Worlds Apart                        17.976667\n",
       "Puppets & Puppet Theatres           17.971234\n",
       "Games                               15.561824\n",
       "Laundry, Storage & Organisation     13.990000\n",
       "Fancy Dress                         13.610372\n",
       "Sex & Sensuality                    13.510000\n",
       "Dolls & Accessories                 13.374091\n",
       "Supporters' Gear                    12.970000\n",
       "Jigsaws & Puzzles                   12.717569\n",
       "Medication & Remedies               11.245000\n",
       "Men                                 10.170000\n",
       "Indoor Lighting                      8.990000\n",
       "Home Accessories                     8.978000\n",
       "Sweets, Chocolate & Gum              8.010000\n",
       "Women                                7.990000\n",
       "Bedding & Linens                     7.490000\n",
       "Bags                                 7.467500\n",
       "Arts & Crafts                        6.819775\n",
       "Novelty & Special Use                6.740000\n",
       "Cooking & Dining                     6.183333\n",
       "Office Supplies                      5.964000\n",
       "Jams, Honey & Spreads                5.950000\n",
       "Gardening                            5.480000\n",
       "Pens, Pencils & Writing Supplies     5.020000\n",
       "Camping & Hiking                     4.150000\n",
       "Handbags & Shoulder Bags             3.990000\n",
       "Party Supplies                       3.342572\n",
       "Storage, Cleaning & Ring Sizers      2.620000\n",
       "Novelty Jewellery                    1.600000\n",
       "Name: price, dtype: float64"
      ]
     },
     "execution_count": 82,
     "metadata": {},
     "output_type": "execute_result"
    }
   ],
   "source": [
    "df.groupby('main_cat')['price'].mean().sort_values(ascending=False)"
   ]
  },
  {
   "cell_type": "code",
   "execution_count": 81,
   "metadata": {
    "ExecuteTime": {
     "end_time": "2020-03-25T17:54:50.405860Z",
     "start_time": "2020-03-25T17:54:50.286181Z"
    }
   },
   "outputs": [
    {
     "data": {
      "text/plain": [
       "<matplotlib.axes._subplots.AxesSubplot at 0x1cb744f0448>"
      ]
     },
     "execution_count": 81,
     "metadata": {},
     "output_type": "execute_result"
    },
    {
     "data": {
      "image/png": "[encoded data removed]",
      "text/plain": [
       "<Figure size 432x288 with 1 Axes>"
      ]
     },
     "metadata": {
      "needs_background": "light"
     },
     "output_type": "display_data"
    }
   ],
   "source": [
    "df.groupby('main_cat')['price'].mean().sort_values(ascending=False).hist()"
   ]
  },
  {
   "cell_type": "code",
   "execution_count": null,
   "metadata": {},
   "outputs": [],
   "source": [
    "#scatter plot grlivarea/saleprice\n",
    "\n",
    "var = 'GrLivArea'\n",
    "data = pd.concat([df_train['SalePrice'], df_train[var]], axis=1)\n",
    "data.plot.scatter(x=var, y='SalePrice', ylim=(0,800000));"
   ]
  },
  {
   "cell_type": "code",
   "execution_count": 83,
   "metadata": {
    "ExecuteTime": {
     "end_time": "2020-03-25T17:56:41.844656Z",
     "start_time": "2020-03-25T17:56:41.679099Z"
    }
   },
   "outputs": [
    {
     "data": {
      "text/plain": [
       "<matplotlib.axes._subplots.AxesSubplot at 0x1cb75554c88>"
      ]
     },
     "execution_count": 83,
     "metadata": {},
     "output_type": "execute_result"
    },
    {
     "data": {
      "image/png": "[encoded data removed]",
      "text/plain": [
       "<Figure size 432x288 with 2 Axes>"
      ]
     },
     "metadata": {
      "needs_background": "light"
     },
     "output_type": "display_data"
    }
   ],
   "source": [
    "sns.heatmap(df.corr(), cmap=\"YlGnBu\")"
   ]
  },
  {
   "cell_type": "code",
   "execution_count": 86,
   "metadata": {
    "ExecuteTime": {
     "end_time": "2020-03-25T17:59:11.444992Z",
     "start_time": "2020-03-25T17:59:11.438011Z"
    }
   },
   "outputs": [
    {
     "data": {
      "text/plain": [
       "Hobbies                             1151\n",
       "Die-Cast & Toy Vehicles             1006\n",
       "Figures & Playsets                   843\n",
       "Games                                751\n",
       "Characters & Brands                  695\n",
       "Arts & Crafts                        623\n",
       "Party Supplies                       587\n",
       "Fancy Dress                          484\n",
       "Sports Toys & Outdoor                323\n",
       "Dolls & Accessories                  264\n",
       "Puppets & Puppet Theatres            235\n",
       "Jigsaws & Puzzles                    218\n",
       "Baby & Toddler Toys                   72\n",
       "Pretend Play                          38\n",
       "Musical Toy Instruments               12\n",
       "Novelty & Special Use                 10\n",
       "Pens, Pencils & Writing Supplies       7\n",
       "Home Accessories                       5\n",
       "Office Supplies                        5\n",
       "Bags                                   4\n",
       "Gardening                              3\n",
       "Cooking & Dining                       3\n",
       "Worlds Apart                           3\n",
       "Educational Toys                       3\n",
       "Electronic Toys                        3\n",
       "Dogs                                   2\n",
       "Medication & Remedies                  2\n",
       "Women                                  2\n",
       "Laundry, Storage & Organisation        1\n",
       "Supporters' Gear                       1\n",
       "Storage, Cleaning & Ring Sizers        1\n",
       "Jams, Honey & Spreads                  1\n",
       "Novelty Jewellery                      1\n",
       "Sweets, Chocolate & Gum                1\n",
       "Sex & Sensuality                       1\n",
       "Indoor Lighting                        1\n",
       "Camping & Hiking                       1\n",
       "Handbags & Shoulder Bags               1\n",
       "Bedding & Linens                       1\n",
       "Men                                    1\n",
       "Name: main_cat, dtype: int64"
      ]
     },
     "execution_count": 86,
     "metadata": {},
     "output_type": "execute_result"
    }
   ],
   "source": [
    "df.main_cat.value_counts()"
   ]
  },
  {
   "cell_type": "code",
   "execution_count": 95,
   "metadata": {
    "ExecuteTime": {
     "end_time": "2020-03-25T18:03:37.641745Z",
     "start_time": "2020-03-25T18:03:37.624793Z"
    }
   },
   "outputs": [
    {
     "data": {
      "text/html": [
       "<div>\n",
       "<style scoped>\n",
       "    .dataframe tbody tr th:only-of-type {\n",
       "        vertical-align: middle;\n",
       "    }\n",
       "\n",
       "    .dataframe tbody tr th {\n",
       "        vertical-align: top;\n",
       "    }\n",
       "\n",
       "    .dataframe thead th {\n",
       "        text-align: right;\n",
       "    }\n",
       "</style>\n",
       "<table border=\"1\" class=\"dataframe\">\n",
       "  <thead>\n",
       "    <tr style=\"text-align: right;\">\n",
       "      <th></th>\n",
       "      <th>sales</th>\n",
       "      <th>min_price</th>\n",
       "      <th>max_price</th>\n",
       "      <th>ave_price</th>\n",
       "    </tr>\n",
       "    <tr>\n",
       "      <th>main_cat</th>\n",
       "      <th></th>\n",
       "      <th></th>\n",
       "      <th></th>\n",
       "      <th></th>\n",
       "    </tr>\n",
       "  </thead>\n",
       "  <tbody>\n",
       "    <tr>\n",
       "      <td>Hobbies</td>\n",
       "      <td>1151</td>\n",
       "      <td>0.38</td>\n",
       "      <td>2439.92</td>\n",
       "      <td>36.721633</td>\n",
       "    </tr>\n",
       "    <tr>\n",
       "      <td>Die-Cast &amp; Toy Vehicles</td>\n",
       "      <td>1006</td>\n",
       "      <td>2.10</td>\n",
       "      <td>648.95</td>\n",
       "      <td>26.973907</td>\n",
       "    </tr>\n",
       "    <tr>\n",
       "      <td>Figures &amp; Playsets</td>\n",
       "      <td>843</td>\n",
       "      <td>0.29</td>\n",
       "      <td>719.95</td>\n",
       "      <td>27.133132</td>\n",
       "    </tr>\n",
       "    <tr>\n",
       "      <td>Games</td>\n",
       "      <td>751</td>\n",
       "      <td>0.90</td>\n",
       "      <td>409.96</td>\n",
       "      <td>15.561824</td>\n",
       "    </tr>\n",
       "    <tr>\n",
       "      <td>Characters &amp; Brands</td>\n",
       "      <td>695</td>\n",
       "      <td>0.96</td>\n",
       "      <td>374.96</td>\n",
       "      <td>21.904921</td>\n",
       "    </tr>\n",
       "    <tr>\n",
       "      <td>Arts &amp; Crafts</td>\n",
       "      <td>623</td>\n",
       "      <td>0.37</td>\n",
       "      <td>89.21</td>\n",
       "      <td>6.819775</td>\n",
       "    </tr>\n",
       "    <tr>\n",
       "      <td>Party Supplies</td>\n",
       "      <td>587</td>\n",
       "      <td>0.01</td>\n",
       "      <td>42.88</td>\n",
       "      <td>3.342572</td>\n",
       "    </tr>\n",
       "    <tr>\n",
       "      <td>Fancy Dress</td>\n",
       "      <td>484</td>\n",
       "      <td>0.89</td>\n",
       "      <td>324.84</td>\n",
       "      <td>13.610372</td>\n",
       "    </tr>\n",
       "    <tr>\n",
       "      <td>Sports Toys &amp; Outdoor</td>\n",
       "      <td>323</td>\n",
       "      <td>0.50</td>\n",
       "      <td>449.99</td>\n",
       "      <td>22.317214</td>\n",
       "    </tr>\n",
       "    <tr>\n",
       "      <td>Dolls &amp; Accessories</td>\n",
       "      <td>264</td>\n",
       "      <td>0.80</td>\n",
       "      <td>214.99</td>\n",
       "      <td>13.374091</td>\n",
       "    </tr>\n",
       "    <tr>\n",
       "      <td>Puppets &amp; Puppet Theatres</td>\n",
       "      <td>235</td>\n",
       "      <td>0.99</td>\n",
       "      <td>171.52</td>\n",
       "      <td>17.971234</td>\n",
       "    </tr>\n",
       "    <tr>\n",
       "      <td>Jigsaws &amp; Puzzles</td>\n",
       "      <td>218</td>\n",
       "      <td>1.43</td>\n",
       "      <td>153.91</td>\n",
       "      <td>12.717569</td>\n",
       "    </tr>\n",
       "    <tr>\n",
       "      <td>Baby &amp; Toddler Toys</td>\n",
       "      <td>72</td>\n",
       "      <td>1.01</td>\n",
       "      <td>219.00</td>\n",
       "      <td>27.992222</td>\n",
       "    </tr>\n",
       "    <tr>\n",
       "      <td>Pretend Play</td>\n",
       "      <td>38</td>\n",
       "      <td>3.99</td>\n",
       "      <td>89.95</td>\n",
       "      <td>24.163947</td>\n",
       "    </tr>\n",
       "    <tr>\n",
       "      <td>Musical Toy Instruments</td>\n",
       "      <td>12</td>\n",
       "      <td>2.66</td>\n",
       "      <td>74.99</td>\n",
       "      <td>20.723333</td>\n",
       "    </tr>\n",
       "    <tr>\n",
       "      <td>Novelty &amp; Special Use</td>\n",
       "      <td>10</td>\n",
       "      <td>1.29</td>\n",
       "      <td>43.99</td>\n",
       "      <td>6.740000</td>\n",
       "    </tr>\n",
       "    <tr>\n",
       "      <td>Pens, Pencils &amp; Writing Supplies</td>\n",
       "      <td>7</td>\n",
       "      <td>1.97</td>\n",
       "      <td>12.00</td>\n",
       "      <td>5.020000</td>\n",
       "    </tr>\n",
       "    <tr>\n",
       "      <td>Office Supplies</td>\n",
       "      <td>5</td>\n",
       "      <td>3.13</td>\n",
       "      <td>9.99</td>\n",
       "      <td>5.964000</td>\n",
       "    </tr>\n",
       "    <tr>\n",
       "      <td>Home Accessories</td>\n",
       "      <td>5</td>\n",
       "      <td>1.20</td>\n",
       "      <td>25.72</td>\n",
       "      <td>8.978000</td>\n",
       "    </tr>\n",
       "    <tr>\n",
       "      <td>Bags</td>\n",
       "      <td>4</td>\n",
       "      <td>4.99</td>\n",
       "      <td>8.99</td>\n",
       "      <td>7.467500</td>\n",
       "    </tr>\n",
       "    <tr>\n",
       "      <td>Worlds Apart</td>\n",
       "      <td>3</td>\n",
       "      <td>5.95</td>\n",
       "      <td>29.99</td>\n",
       "      <td>17.976667</td>\n",
       "    </tr>\n",
       "    <tr>\n",
       "      <td>Gardening</td>\n",
       "      <td>3</td>\n",
       "      <td>3.95</td>\n",
       "      <td>6.99</td>\n",
       "      <td>5.480000</td>\n",
       "    </tr>\n",
       "    <tr>\n",
       "      <td>Electronic Toys</td>\n",
       "      <td>3</td>\n",
       "      <td>6.99</td>\n",
       "      <td>75.99</td>\n",
       "      <td>34.656667</td>\n",
       "    </tr>\n",
       "    <tr>\n",
       "      <td>Educational Toys</td>\n",
       "      <td>3</td>\n",
       "      <td>12.95</td>\n",
       "      <td>38.00</td>\n",
       "      <td>22.300000</td>\n",
       "    </tr>\n",
       "    <tr>\n",
       "      <td>Cooking &amp; Dining</td>\n",
       "      <td>3</td>\n",
       "      <td>4.05</td>\n",
       "      <td>7.99</td>\n",
       "      <td>6.183333</td>\n",
       "    </tr>\n",
       "    <tr>\n",
       "      <td>Dogs</td>\n",
       "      <td>2</td>\n",
       "      <td>9.99</td>\n",
       "      <td>39.98</td>\n",
       "      <td>24.985000</td>\n",
       "    </tr>\n",
       "    <tr>\n",
       "      <td>Medication &amp; Remedies</td>\n",
       "      <td>2</td>\n",
       "      <td>5.00</td>\n",
       "      <td>17.49</td>\n",
       "      <td>11.245000</td>\n",
       "    </tr>\n",
       "    <tr>\n",
       "      <td>Women</td>\n",
       "      <td>2</td>\n",
       "      <td>2.99</td>\n",
       "      <td>12.99</td>\n",
       "      <td>7.990000</td>\n",
       "    </tr>\n",
       "    <tr>\n",
       "      <td>Sex &amp; Sensuality</td>\n",
       "      <td>1</td>\n",
       "      <td>13.51</td>\n",
       "      <td>13.51</td>\n",
       "      <td>13.510000</td>\n",
       "    </tr>\n",
       "    <tr>\n",
       "      <td>Sweets, Chocolate &amp; Gum</td>\n",
       "      <td>1</td>\n",
       "      <td>8.01</td>\n",
       "      <td>8.01</td>\n",
       "      <td>8.010000</td>\n",
       "    </tr>\n",
       "    <tr>\n",
       "      <td>Supporters' Gear</td>\n",
       "      <td>1</td>\n",
       "      <td>12.97</td>\n",
       "      <td>12.97</td>\n",
       "      <td>12.970000</td>\n",
       "    </tr>\n",
       "    <tr>\n",
       "      <td>Storage, Cleaning &amp; Ring Sizers</td>\n",
       "      <td>1</td>\n",
       "      <td>2.62</td>\n",
       "      <td>2.62</td>\n",
       "      <td>2.620000</td>\n",
       "    </tr>\n",
       "    <tr>\n",
       "      <td>Bedding &amp; Linens</td>\n",
       "      <td>1</td>\n",
       "      <td>7.49</td>\n",
       "      <td>7.49</td>\n",
       "      <td>7.490000</td>\n",
       "    </tr>\n",
       "    <tr>\n",
       "      <td>Indoor Lighting</td>\n",
       "      <td>1</td>\n",
       "      <td>8.99</td>\n",
       "      <td>8.99</td>\n",
       "      <td>8.990000</td>\n",
       "    </tr>\n",
       "    <tr>\n",
       "      <td>Camping &amp; Hiking</td>\n",
       "      <td>1</td>\n",
       "      <td>4.15</td>\n",
       "      <td>4.15</td>\n",
       "      <td>4.150000</td>\n",
       "    </tr>\n",
       "    <tr>\n",
       "      <td>Laundry, Storage &amp; Organisation</td>\n",
       "      <td>1</td>\n",
       "      <td>13.99</td>\n",
       "      <td>13.99</td>\n",
       "      <td>13.990000</td>\n",
       "    </tr>\n",
       "    <tr>\n",
       "      <td>Novelty Jewellery</td>\n",
       "      <td>1</td>\n",
       "      <td>1.60</td>\n",
       "      <td>1.60</td>\n",
       "      <td>1.600000</td>\n",
       "    </tr>\n",
       "    <tr>\n",
       "      <td>Handbags &amp; Shoulder Bags</td>\n",
       "      <td>1</td>\n",
       "      <td>3.99</td>\n",
       "      <td>3.99</td>\n",
       "      <td>3.990000</td>\n",
       "    </tr>\n",
       "    <tr>\n",
       "      <td>Men</td>\n",
       "      <td>1</td>\n",
       "      <td>10.17</td>\n",
       "      <td>10.17</td>\n",
       "      <td>10.170000</td>\n",
       "    </tr>\n",
       "    <tr>\n",
       "      <td>Jams, Honey &amp; Spreads</td>\n",
       "      <td>1</td>\n",
       "      <td>5.95</td>\n",
       "      <td>5.95</td>\n",
       "      <td>5.950000</td>\n",
       "    </tr>\n",
       "  </tbody>\n",
       "</table>\n",
       "</div>"
      ],
      "text/plain": [
       "                                  sales  min_price  max_price  ave_price\n",
       "main_cat                                                                \n",
       "Hobbies                            1151       0.38    2439.92  36.721633\n",
       "Die-Cast & Toy Vehicles            1006       2.10     648.95  26.973907\n",
       "Figures & Playsets                  843       0.29     719.95  27.133132\n",
       "Games                               751       0.90     409.96  15.561824\n",
       "Characters & Brands                 695       0.96     374.96  21.904921\n",
       "Arts & Crafts                       623       0.37      89.21   6.819775\n",
       "Party Supplies                      587       0.01      42.88   3.342572\n",
       "Fancy Dress                         484       0.89     324.84  13.610372\n",
       "Sports Toys & Outdoor               323       0.50     449.99  22.317214\n",
       "Dolls & Accessories                 264       0.80     214.99  13.374091\n",
       "Puppets & Puppet Theatres           235       0.99     171.52  17.971234\n",
       "Jigsaws & Puzzles                   218       1.43     153.91  12.717569\n",
       "Baby & Toddler Toys                  72       1.01     219.00  27.992222\n",
       "Pretend Play                         38       3.99      89.95  24.163947\n",
       "Musical Toy Instruments              12       2.66      74.99  20.723333\n",
       "Novelty & Special Use                10       1.29      43.99   6.740000\n",
       "Pens, Pencils & Writing Supplies      7       1.97      12.00   5.020000\n",
       "Office Supplies                       5       3.13       9.99   5.964000\n",
       "Home Accessories                      5       1.20      25.72   8.978000\n",
       "Bags                                  4       4.99       8.99   7.467500\n",
       "Worlds Apart                          3       5.95      29.99  17.976667\n",
       "Gardening                             3       3.95       6.99   5.480000\n",
       "Electronic Toys                       3       6.99      75.99  34.656667\n",
       "Educational Toys                      3      12.95      38.00  22.300000\n",
       "Cooking & Dining                      3       4.05       7.99   6.183333\n",
       "Dogs                                  2       9.99      39.98  24.985000\n",
       "Medication & Remedies                 2       5.00      17.49  11.245000\n",
       "Women                                 2       2.99      12.99   7.990000\n",
       "Sex & Sensuality                      1      13.51      13.51  13.510000\n",
       "Sweets, Chocolate & Gum               1       8.01       8.01   8.010000\n",
       "Supporters' Gear                      1      12.97      12.97  12.970000\n",
       "Storage, Cleaning & Ring Sizers       1       2.62       2.62   2.620000\n",
       "Bedding & Linens                      1       7.49       7.49   7.490000\n",
       "Indoor Lighting                       1       8.99       8.99   8.990000\n",
       "Camping & Hiking                      1       4.15       4.15   4.150000\n",
       "Laundry, Storage & Organisation       1      13.99      13.99  13.990000\n",
       "Novelty Jewellery                     1       1.60       1.60   1.600000\n",
       "Handbags & Shoulder Bags              1       3.99       3.99   3.990000\n",
       "Men                                   1      10.17      10.17  10.170000\n",
       "Jams, Honey & Spreads                 1       5.95       5.95   5.950000"
      ]
     },
     "execution_count": 95,
     "metadata": {},
     "output_type": "execute_result"
    }
   ],
   "source": [
    "# creating new df, sales and price per category\n",
    "\n",
    "cat_df = df.groupby('main_cat').price.agg(['count', 'min', 'max', 'mean'])\n",
    "colnames = ['sales', 'min_price', 'max_price', 'ave_price']\n",
    "cat_df.columns=colnames\n",
    "cat_df.sort_values('sales', ascending=False)"
   ]
  },
  {
   "cell_type": "code",
   "execution_count": 96,
   "metadata": {
    "ExecuteTime": {
     "end_time": "2020-03-25T18:06:27.863081Z",
     "start_time": "2020-03-25T18:06:27.856100Z"
    }
   },
   "outputs": [
    {
     "data": {
      "text/plain": [
       "Index(['uniq_id', 'product_name', 'manufacturer', 'num_reviews',\n",
       "       'num_answ_questions', 'price', 'ave_review_rating', 'main_cat',\n",
       "       'sub_cat1', 'sub_cat2', 'sub_cat3', 'sub_cat4'],\n",
       "      dtype='object')"
      ]
     },
     "execution_count": 96,
     "metadata": {},
     "output_type": "execute_result"
    }
   ],
   "source": [
    "df.columns"
   ]
  },
  {
   "cell_type": "code",
   "execution_count": 104,
   "metadata": {
    "ExecuteTime": {
     "end_time": "2020-03-25T18:09:54.294887Z",
     "start_time": "2020-03-25T18:09:54.135317Z"
    }
   },
   "outputs": [
    {
     "data": {
      "text/plain": [
       "<matplotlib.axes._subplots.AxesSubplot at 0x1cb757d7888>"
      ]
     },
     "execution_count": 104,
     "metadata": {},
     "output_type": "execute_result"
    },
    {
     "data": {
      "image/png": "[encoded data removed]",
      "text/plain": [
       "<Figure size 432x288 with 1 Axes>"
      ]
     },
     "metadata": {
      "needs_background": "light"
     },
     "output_type": "display_data"
    }
   ],
   "source": [
    "#scatter plot num_reviews/price\n",
    "var = 'num_reviews'\n",
    "data = pd.concat([df['price'], df[var]], axis=1)\n",
    "data.plot.scatter(x=var, y='price')"
   ]
  },
  {
   "cell_type": "code",
   "execution_count": 111,
   "metadata": {
    "ExecuteTime": {
     "end_time": "2020-03-25T18:12:03.722496Z",
     "start_time": "2020-03-25T18:12:03.382407Z"
    }
   },
   "outputs": [
    {
     "data": {
      "image/png": "[encoded data removed]",
      "text/plain": [
       "<Figure size 576x432 with 1 Axes>"
      ]
     },
     "metadata": {
      "needs_background": "light"
     },
     "output_type": "display_data"
    }
   ],
   "source": [
    "#box plot overallqual/saleprice\n",
    "var = 'ave_review_rating'\n",
    "data = pd.concat([df['price'], df[var]], axis=1)\n",
    "f, ax = plt.subplots(figsize=(8, 6))\n",
    "fig = sns.boxplot(x=var, y=\"price\", data=df)"
   ]
  },
  {
   "cell_type": "code",
   "execution_count": 112,
   "metadata": {
    "ExecuteTime": {
     "end_time": "2020-03-25T18:17:51.189469Z",
     "start_time": "2020-03-25T18:17:51.184484Z"
    }
   },
   "outputs": [],
   "source": [
    "#applying log transformation\n",
    "df['price'] = np.log(df['price'])"
   ]
  },
  {
   "cell_type": "code",
   "execution_count": 115,
   "metadata": {
    "ExecuteTime": {
     "end_time": "2020-03-25T18:20:07.173674Z",
     "start_time": "2020-03-25T18:20:07.000139Z"
    }
   },
   "outputs": [
    {
     "ename": "NameError",
     "evalue": "name 'stats' is not defined",
     "output_type": "error",
     "traceback": [
      "\u001b[1;31m---------------------------------------------------------------------------\u001b[0m",
      "\u001b[1;31mNameError\u001b[0m                                 Traceback (most recent call last)",
      "\u001b[1;32m<ipython-input-115-eb7470470221>\u001b[0m in \u001b[0;36m<module>\u001b[1;34m\u001b[0m\n\u001b[0;32m      2\u001b[0m \u001b[0msns\u001b[0m\u001b[1;33m.\u001b[0m\u001b[0mdistplot\u001b[0m\u001b[1;33m(\u001b[0m\u001b[0mdf\u001b[0m\u001b[1;33m[\u001b[0m\u001b[1;34m'price'\u001b[0m\u001b[1;33m]\u001b[0m\u001b[1;33m)\u001b[0m\u001b[1;33m;\u001b[0m\u001b[1;33m\u001b[0m\u001b[1;33m\u001b[0m\u001b[0m\n\u001b[0;32m      3\u001b[0m \u001b[0mfig\u001b[0m \u001b[1;33m=\u001b[0m \u001b[0mplt\u001b[0m\u001b[1;33m.\u001b[0m\u001b[0mfigure\u001b[0m\u001b[1;33m(\u001b[0m\u001b[1;33m)\u001b[0m\u001b[1;33m\u001b[0m\u001b[1;33m\u001b[0m\u001b[0m\n\u001b[1;32m----> 4\u001b[1;33m \u001b[0mres\u001b[0m \u001b[1;33m=\u001b[0m \u001b[0mstats\u001b[0m\u001b[1;33m.\u001b[0m\u001b[0mprobplot\u001b[0m\u001b[1;33m(\u001b[0m\u001b[0mdf\u001b[0m\u001b[1;33m[\u001b[0m\u001b[1;34m'price'\u001b[0m\u001b[1;33m]\u001b[0m\u001b[1;33m,\u001b[0m \u001b[0mplot\u001b[0m\u001b[1;33m=\u001b[0m\u001b[0mplt\u001b[0m\u001b[1;33m)\u001b[0m\u001b[1;33m\u001b[0m\u001b[1;33m\u001b[0m\u001b[0m\n\u001b[0m",
      "\u001b[1;31mNameError\u001b[0m: name 'stats' is not defined"
     ]
    },
    {
     "data": {
      "image/png": "[encoded data removed]",
      "text/plain": [
       "<Figure size 432x288 with 1 Axes>"
      ]
     },
     "metadata": {
      "needs_background": "light"
     },
     "output_type": "display_data"
    },
    {
     "data": {
      "text/plain": [
       "<Figure size 432x288 with 0 Axes>"
      ]
     },
     "metadata": {},
     "output_type": "display_data"
    }
   ],
   "source": [
    "#transformed histogram and normal probability plot\n",
    "sns.distplot(df['price']);\n",
    "fig = plt.figure()\n",
    "res = stats.probplot(df['price'], plot=plt)"
   ]
  },
  {
   "cell_type": "code",
   "execution_count": 116,
   "metadata": {
    "ExecuteTime": {
     "end_time": "2020-03-25T18:22:28.163119Z",
     "start_time": "2020-03-25T18:22:28.157135Z"
    }
   },
   "outputs": [
    {
     "data": {
      "text/plain": [
       "Index(['uniq_id', 'product_name', 'manufacturer', 'num_reviews',\n",
       "       'num_answ_questions', 'price', 'ave_review_rating', 'main_cat',\n",
       "       'sub_cat1', 'sub_cat2', 'sub_cat3', 'sub_cat4'],\n",
       "      dtype='object')"
      ]
     },
     "execution_count": 116,
     "metadata": {},
     "output_type": "execute_result"
    }
   ],
   "source": [
    "df.columns"
   ]
  },
  {
   "cell_type": "code",
   "execution_count": 120,
   "metadata": {
    "ExecuteTime": {
     "end_time": "2020-03-25T18:24:20.290398Z",
     "start_time": "2020-03-25T18:24:20.271449Z"
    }
   },
   "outputs": [
    {
     "data": {
      "text/html": [
       "<table class=\"simpletable\">\n",
       "<caption>OLS Regression Results</caption>\n",
       "<tr>\n",
       "  <th>Dep. Variable:</th>          <td>price</td>      <th>  R-squared:         </th> <td>   0.004</td> \n",
       "</tr>\n",
       "<tr>\n",
       "  <th>Model:</th>                   <td>OLS</td>       <th>  Adj. R-squared:    </th> <td>   0.003</td> \n",
       "</tr>\n",
       "<tr>\n",
       "  <th>Method:</th>             <td>Least Squares</td>  <th>  F-statistic:       </th> <td>   9.408</td> \n",
       "</tr>\n",
       "<tr>\n",
       "  <th>Date:</th>             <td>Wed, 25 Mar 2020</td> <th>  Prob (F-statistic):</th> <td>3.34e-06</td> \n",
       "</tr>\n",
       "<tr>\n",
       "  <th>Time:</th>                 <td>19:24:20</td>     <th>  Log-Likelihood:    </th> <td> -11284.</td> \n",
       "</tr>\n",
       "<tr>\n",
       "  <th>No. Observations:</th>      <td>  7366</td>      <th>  AIC:               </th> <td>2.258e+04</td>\n",
       "</tr>\n",
       "<tr>\n",
       "  <th>Df Residuals:</th>          <td>  7362</td>      <th>  BIC:               </th> <td>2.260e+04</td>\n",
       "</tr>\n",
       "<tr>\n",
       "  <th>Df Model:</th>              <td>     3</td>      <th>                     </th>     <td> </td>    \n",
       "</tr>\n",
       "<tr>\n",
       "  <th>Covariance Type:</th>      <td>nonrobust</td>    <th>                     </th>     <td> </td>    \n",
       "</tr>\n",
       "</table>\n",
       "<table class=\"simpletable\">\n",
       "<tr>\n",
       "           <td></td>             <th>coef</th>     <th>std err</th>      <th>t</th>      <th>P>|t|</th>  <th>[0.025</th>    <th>0.975]</th>  \n",
       "</tr>\n",
       "<tr>\n",
       "  <th>const</th>              <td>    1.8069</td> <td>    0.168</td> <td>   10.777</td> <td> 0.000</td> <td>    1.478</td> <td>    2.136</td>\n",
       "</tr>\n",
       "<tr>\n",
       "  <th>num_reviews</th>        <td>   -0.0010</td> <td>    0.000</td> <td>   -2.711</td> <td> 0.007</td> <td>   -0.002</td> <td>   -0.000</td>\n",
       "</tr>\n",
       "<tr>\n",
       "  <th>num_answ_questions</th> <td>   -0.0115</td> <td>    0.005</td> <td>   -2.264</td> <td> 0.024</td> <td>   -0.021</td> <td>   -0.002</td>\n",
       "</tr>\n",
       "<tr>\n",
       "  <th>ave_review_rating</th>  <td>    0.1193</td> <td>    0.035</td> <td>    3.376</td> <td> 0.001</td> <td>    0.050</td> <td>    0.189</td>\n",
       "</tr>\n",
       "</table>\n",
       "<table class=\"simpletable\">\n",
       "<tr>\n",
       "  <th>Omnibus:</th>       <td>63.380</td> <th>  Durbin-Watson:     </th> <td>   1.283</td>\n",
       "</tr>\n",
       "<tr>\n",
       "  <th>Prob(Omnibus):</th> <td> 0.000</td> <th>  Jarque-Bera (JB):  </th> <td>  75.995</td>\n",
       "</tr>\n",
       "<tr>\n",
       "  <th>Skew:</th>          <td> 0.160</td> <th>  Prob(JB):          </th> <td>3.15e-17</td>\n",
       "</tr>\n",
       "<tr>\n",
       "  <th>Kurtosis:</th>      <td> 3.382</td> <th>  Cond. No.          </th> <td>    500.</td>\n",
       "</tr>\n",
       "</table><br/><br/>Warnings:<br/>[1] Standard Errors assume that the covariance matrix of the errors is correctly specified."
      ],
      "text/plain": [
       "<class 'statsmodels.iolib.summary.Summary'>\n",
       "\"\"\"\n",
       "                            OLS Regression Results                            \n",
       "==============================================================================\n",
       "Dep. Variable:                  price   R-squared:                       0.004\n",
       "Model:                            OLS   Adj. R-squared:                  0.003\n",
       "Method:                 Least Squares   F-statistic:                     9.408\n",
       "Date:                Wed, 25 Mar 2020   Prob (F-statistic):           3.34e-06\n",
       "Time:                        19:24:20   Log-Likelihood:                -11284.\n",
       "No. Observations:                7366   AIC:                         2.258e+04\n",
       "Df Residuals:                    7362   BIC:                         2.260e+04\n",
       "Df Model:                           3                                         \n",
       "Covariance Type:            nonrobust                                         \n",
       "======================================================================================\n",
       "                         coef    std err          t      P>|t|      [0.025      0.975]\n",
       "--------------------------------------------------------------------------------------\n",
       "const                  1.8069      0.168     10.777      0.000       1.478       2.136\n",
       "num_reviews           -0.0010      0.000     -2.711      0.007      -0.002      -0.000\n",
       "num_answ_questions    -0.0115      0.005     -2.264      0.024      -0.021      -0.002\n",
       "ave_review_rating      0.1193      0.035      3.376      0.001       0.050       0.189\n",
       "==============================================================================\n",
       "Omnibus:                       63.380   Durbin-Watson:                   1.283\n",
       "Prob(Omnibus):                  0.000   Jarque-Bera (JB):               75.995\n",
       "Skew:                           0.160   Prob(JB):                     3.15e-17\n",
       "Kurtosis:                       3.382   Cond. No.                         500.\n",
       "==============================================================================\n",
       "\n",
       "Warnings:\n",
       "[1] Standard Errors assume that the covariance matrix of the errors is correctly specified.\n",
       "\"\"\""
      ]
     },
     "execution_count": 120,
     "metadata": {},
     "output_type": "execute_result"
    }
   ],
   "source": [
    "import statsmodels.api as sm\n",
    "\n",
    "X = df[[\"num_reviews\", \"num_answ_questions\", \"ave_review_rating\"]] # X our input variables (or independent variables)\n",
    "y = df[\"price\"] # Y our output/dependent variable\n",
    "X = sm.add_constant(X) # adding an intercept (beta_0) to our model\n",
    "\n",
    "# Note the difference in argument order\n",
    "model = sm.OLS(y, X).fit() # sm.OLS(output, input)\n",
    "predictions = model.predict(X) # make the predictions by the model\n",
    "\n",
    "# Print out the statistics\n",
    "model.summary()\n",
    "\n",
    "#Uisng multiple linear regression"
   ]
  },
  {
   "cell_type": "code",
   "execution_count": null,
   "metadata": {},
   "outputs": [],
   "source": []
  }
 ],
 "metadata": {
  "kernelspec": {
   "display_name": "Python 3",
   "language": "python",
   "name": "python3"
  },
  "language_info": {
   "codemirror_mode": {
    "name": "ipython",
    "version": 3
   },
   "file_extension": ".py",
   "mimetype": "text/x-python",
   "name": "python",
   "nbconvert_exporter": "python",
   "pygments_lexer": "ipython3",
   "version": "3.7.4"
  },
  "toc": {
   "base_numbering": 1,
   "nav_menu": {},
   "number_sections": true,
   "sideBar": true,
   "skip_h1_title": false,
   "title_cell": "Table of Contents",
   "title_sidebar": "Contents",
   "toc_cell": true,
   "toc_position": {},
   "toc_section_display": true,
   "toc_window_display": false
  }
 },
 "nbformat": 4,
 "nbformat_minor": 2
}
