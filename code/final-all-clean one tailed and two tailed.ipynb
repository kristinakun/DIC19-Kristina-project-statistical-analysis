{
 "cells": [
  {
   "cell_type": "markdown",
   "metadata": {
    "toc": true
   },
   "source": [
    "<h1>Table of Contents<span class=\"tocSkip\"></span></h1>\n",
    "<div class=\"toc\"><ul class=\"toc-item\"><li><span><a href=\"#Cleaning-data\" data-toc-modified-id=\"Cleaning-data-1\"><span class=\"toc-item-num\">1&nbsp;&nbsp;</span>Cleaning data</a></span><ul class=\"toc-item\"><li><span><a href=\"#Missing-values\" data-toc-modified-id=\"Missing-values-1.1\"><span class=\"toc-item-num\">1.1&nbsp;&nbsp;</span>Missing values</a></span><ul class=\"toc-item\"><li><span><a href=\"#Deleting-columns-with-more-than-20%-missing-values\" data-toc-modified-id=\"Deleting-columns-with-more-than-20%-missing-values-1.1.1\"><span class=\"toc-item-num\">1.1.1&nbsp;&nbsp;</span>Deleting columns with more than 20% missing values</a></span></li><li><span><a href=\"#Filtering-only-necessary-columns\" data-toc-modified-id=\"Filtering-only-necessary-columns-1.1.2\"><span class=\"toc-item-num\">1.1.2&nbsp;&nbsp;</span>Filtering only necessary columns</a></span></li><li><span><a href=\"#Deleting-rows-that-have-null-values\" data-toc-modified-id=\"Deleting-rows-that-have-null-values-1.1.3\"><span class=\"toc-item-num\">1.1.3&nbsp;&nbsp;</span>Deleting rows that have null values</a></span></li></ul></li><li><span><a href=\"#Cleaning-price\" data-toc-modified-id=\"Cleaning-price-1.2\"><span class=\"toc-item-num\">1.2&nbsp;&nbsp;</span>Cleaning price</a></span><ul class=\"toc-item\"><li><span><a href=\"#Deleting-pound-symbol\" data-toc-modified-id=\"Deleting-pound-symbol-1.2.1\"><span class=\"toc-item-num\">1.2.1&nbsp;&nbsp;</span>Deleting pound symbol</a></span></li><li><span><a href=\"#Deleting-comma-from-the-price\" data-toc-modified-id=\"Deleting-comma-from-the-price-1.2.2\"><span class=\"toc-item-num\">1.2.2&nbsp;&nbsp;</span>Deleting comma from the price</a></span></li><li><span><a href=\"#Converting-price-to-numeric\" data-toc-modified-id=\"Converting-price-to-numeric-1.2.3\"><span class=\"toc-item-num\">1.2.3&nbsp;&nbsp;</span>Converting price to numeric</a></span></li></ul></li><li><span><a href=\"#Cleaning-average-review-column\" data-toc-modified-id=\"Cleaning-average-review-column-1.3\"><span class=\"toc-item-num\">1.3&nbsp;&nbsp;</span>Cleaning average review column</a></span></li></ul></li><li><span><a href=\"#Understanding-and-manipulating-data\" data-toc-modified-id=\"Understanding-and-manipulating-data-2\"><span class=\"toc-item-num\">2&nbsp;&nbsp;</span>Understanding and manipulating data</a></span><ul class=\"toc-item\"><li><span><a href=\"#Renaming-columns\" data-toc-modified-id=\"Renaming-columns-2.1\"><span class=\"toc-item-num\">2.1&nbsp;&nbsp;</span>Renaming columns</a></span></li><li><span><a href=\"#Adding-columns-for-description-and-product-info-lengths\" data-toc-modified-id=\"Adding-columns-for-description-and-product-info-lengths-2.2\"><span class=\"toc-item-num\">2.2&nbsp;&nbsp;</span>Adding columns for description and product info lengths</a></span></li><li><span><a href=\"#Checking-values-per-column\" data-toc-modified-id=\"Checking-values-per-column-2.3\"><span class=\"toc-item-num\">2.3&nbsp;&nbsp;</span>Checking values per column</a></span><ul class=\"toc-item\"><li><span><a href=\"#How-many-different-products?\" data-toc-modified-id=\"How-many-different-products?-2.3.1\"><span class=\"toc-item-num\">2.3.1&nbsp;&nbsp;</span>How many different products?</a></span></li><li><span><a href=\"#How-many-different-manufacturers?\" data-toc-modified-id=\"How-many-different-manufacturers?-2.3.2\"><span class=\"toc-item-num\">2.3.2&nbsp;&nbsp;</span>How many different manufacturers?</a></span></li><li><span><a href=\"#How-many-different-categories?\" data-toc-modified-id=\"How-many-different-categories?-2.3.3\"><span class=\"toc-item-num\">2.3.3&nbsp;&nbsp;</span>How many different categories?</a></span></li><li><span><a href=\"#How-many-different-average-reviews?\" data-toc-modified-id=\"How-many-different-average-reviews?-2.3.4\"><span class=\"toc-item-num\">2.3.4&nbsp;&nbsp;</span>How many different average reviews?</a></span></li></ul></li><li><span><a href=\"#Splitting-to-main-and-sub-categories\" data-toc-modified-id=\"Splitting-to-main-and-sub-categories-2.4\"><span class=\"toc-item-num\">2.4&nbsp;&nbsp;</span>Splitting to main and sub categories</a></span></li><li><span><a href=\"#Changing-types-of-columns-(final-check)\" data-toc-modified-id=\"Changing-types-of-columns-(final-check)-2.5\"><span class=\"toc-item-num\">2.5&nbsp;&nbsp;</span>Changing types of columns (final check)</a></span></li></ul></li><li><span><a href=\"#Correlation-check\" data-toc-modified-id=\"Correlation-check-3\"><span class=\"toc-item-num\">3&nbsp;&nbsp;</span>Correlation check</a></span><ul class=\"toc-item\"><li><span><a href=\"#Checking-correlation-of-the-dataset\" data-toc-modified-id=\"Checking-correlation-of-the-dataset-3.1\"><span class=\"toc-item-num\">3.1&nbsp;&nbsp;</span>Checking correlation of the dataset</a></span></li></ul></li><li><span><a href=\"#Hypothesis-testing\" data-toc-modified-id=\"Hypothesis-testing-4\"><span class=\"toc-item-num\">4&nbsp;&nbsp;</span>Hypothesis testing</a></span><ul class=\"toc-item\"><li><span><a href=\"#Testing-average-price-in-3-top-categories\" data-toc-modified-id=\"Testing-average-price-in-3-top-categories-4.1\"><span class=\"toc-item-num\">4.1&nbsp;&nbsp;</span>Testing average price in 3 top categories</a></span><ul class=\"toc-item\"><li><span><a href=\"#Identifying-3-top-selling-categories-and-calculating-their-ave-prices\" data-toc-modified-id=\"Identifying-3-top-selling-categories-and-calculating-their-ave-prices-4.1.1\"><span class=\"toc-item-num\">4.1.1&nbsp;&nbsp;</span>Identifying 3 top selling categories and calculating their ave prices</a></span></li><li><span><a href=\"#Check-and-change-(log-transformation)-price-distribution\" data-toc-modified-id=\"Check-and-change-(log-transformation)-price-distribution-4.1.2\"><span class=\"toc-item-num\">4.1.2&nbsp;&nbsp;</span>Check and change (log transformation) price distribution</a></span></li><li><span><a href=\"#Testing-hypothesis-(two-tailed)\" data-toc-modified-id=\"Testing-hypothesis-(two-tailed)-4.1.3\"><span class=\"toc-item-num\">4.1.3&nbsp;&nbsp;</span>Testing hypothesis (two-tailed)</a></span></li><li><span><a href=\"#Testing-hypothesis-(one-tailed)\" data-toc-modified-id=\"Testing-hypothesis-(one-tailed)-4.1.4\"><span class=\"toc-item-num\">4.1.4&nbsp;&nbsp;</span>Testing hypothesis (one-tailed)</a></span></li></ul></li><li><span><a href=\"#Testing-ave-number-of-reviews-in-3-top-categories\" data-toc-modified-id=\"Testing-ave-number-of-reviews-in-3-top-categories-4.2\"><span class=\"toc-item-num\">4.2&nbsp;&nbsp;</span>Testing ave number of reviews in 3 top categories</a></span><ul class=\"toc-item\"><li><span><a href=\"#Identifying-3-top-selling-categories-and-calculating-their-average-number-of-reviews\" data-toc-modified-id=\"Identifying-3-top-selling-categories-and-calculating-their-average-number-of-reviews-4.2.1\"><span class=\"toc-item-num\">4.2.1&nbsp;&nbsp;</span>Identifying 3 top selling categories and calculating their average number of reviews</a></span></li><li><span><a href=\"#Testing-hypothesis\" data-toc-modified-id=\"Testing-hypothesis-4.2.2\"><span class=\"toc-item-num\">4.2.2&nbsp;&nbsp;</span>Testing hypothesis</a></span></li></ul></li></ul></li><li><span><a href=\"#Analysis-of-variance---ANOVA\" data-toc-modified-id=\"Analysis-of-variance---ANOVA-5\"><span class=\"toc-item-num\">5&nbsp;&nbsp;</span>Analysis of variance - ANOVA</a></span><ul class=\"toc-item\"><li><span><a href=\"#Checking-whether-average-rating-is-different-per-main-category\" data-toc-modified-id=\"Checking-whether-average-rating-is-different-per-main-category-5.1\"><span class=\"toc-item-num\">5.1&nbsp;&nbsp;</span>Checking whether average rating is different per main category</a></span></li></ul></li><li><span><a href=\"#Linear-regression\" data-toc-modified-id=\"Linear-regression-6\"><span class=\"toc-item-num\">6&nbsp;&nbsp;</span>Linear regression</a></span></li></ul></div>"
   ]
  },
  {
   "cell_type": "code",
   "execution_count": 1,
   "metadata": {
    "ExecuteTime": {
     "end_time": "2020-03-26T12:21:14.001315Z",
     "start_time": "2020-03-26T12:21:09.873008Z"
    }
   },
   "outputs": [],
   "source": [
    "import numpy as np\n",
    "import pandas as pd\n",
    "import seaborn as sns\n",
    "import matplotlib.pyplot as plt\n",
    "from scipy import stats \n",
    "import statsmodels.api as sm\n",
    "from statsmodels.formula.api import ols\n",
    "from sklearn.model_selection import train_test_split\n",
    "from sklearn.linear_model import LinearRegression\n",
    "from sklearn import metrics"
   ]
  },
  {
   "cell_type": "code",
   "execution_count": 2,
   "metadata": {
    "ExecuteTime": {
     "end_time": "2020-03-26T12:21:14.016886Z",
     "start_time": "2020-03-26T12:21:14.005694Z"
    }
   },
   "outputs": [],
   "source": [
    "#option to see more data\n",
    "\n",
    "pd.set_option('display.max_rows', None)\n",
    "pd.set_option('display.max_columns', None)"
   ]
  },
  {
   "cell_type": "code",
   "execution_count": 3,
   "metadata": {
    "ExecuteTime": {
     "end_time": "2020-03-26T12:21:14.761584Z",
     "start_time": "2020-03-26T12:21:14.020220Z"
    }
   },
   "outputs": [],
   "source": [
    "data = pd.read_csv('../data/amazon_co-ecommerce_sample.csv')"
   ]
  },
  {
   "cell_type": "code",
   "execution_count": 4,
   "metadata": {
    "ExecuteTime": {
     "end_time": "2020-03-26T12:21:14.776018Z",
     "start_time": "2020-03-26T12:21:14.761584Z"
    }
   },
   "outputs": [
    {
     "data": {
      "text/plain": [
       "(10000, 17)"
      ]
     },
     "execution_count": 4,
     "metadata": {},
     "output_type": "execute_result"
    }
   ],
   "source": [
    "data.shape"
   ]
  },
  {
   "cell_type": "code",
   "execution_count": 5,
   "metadata": {
    "ExecuteTime": {
     "end_time": "2020-03-26T12:21:14.809655Z",
     "start_time": "2020-03-26T12:21:14.778345Z"
    },
    "scrolled": true
   },
   "outputs": [
    {
     "data": {
      "text/html": [
       "<div>\n",
       "<style scoped>\n",
       "    .dataframe tbody tr th:only-of-type {\n",
       "        vertical-align: middle;\n",
       "    }\n",
       "\n",
       "    .dataframe tbody tr th {\n",
       "        vertical-align: top;\n",
       "    }\n",
       "\n",
       "    .dataframe thead th {\n",
       "        text-align: right;\n",
       "    }\n",
       "</style>\n",
       "<table border=\"1\" class=\"dataframe\">\n",
       "  <thead>\n",
       "    <tr style=\"text-align: right;\">\n",
       "      <th></th>\n",
       "      <th>uniq_id</th>\n",
       "      <th>product_name</th>\n",
       "      <th>manufacturer</th>\n",
       "      <th>price</th>\n",
       "      <th>number_available_in_stock</th>\n",
       "      <th>number_of_reviews</th>\n",
       "      <th>number_of_answered_questions</th>\n",
       "      <th>average_review_rating</th>\n",
       "      <th>amazon_category_and_sub_category</th>\n",
       "      <th>customers_who_bought_this_item_also_bought</th>\n",
       "      <th>description</th>\n",
       "      <th>product_information</th>\n",
       "      <th>product_description</th>\n",
       "      <th>items_customers_buy_after_viewing_this_item</th>\n",
       "      <th>customer_questions_and_answers</th>\n",
       "      <th>customer_reviews</th>\n",
       "      <th>sellers</th>\n",
       "    </tr>\n",
       "  </thead>\n",
       "  <tbody>\n",
       "    <tr>\n",
       "      <td>0</td>\n",
       "      <td>eac7efa5dbd3d667f26eb3d3ab504464</td>\n",
       "      <td>Hornby 2014 Catalogue</td>\n",
       "      <td>Hornby</td>\n",
       "      <td>£3.42</td>\n",
       "      <td>5 new</td>\n",
       "      <td>15</td>\n",
       "      <td>1.0</td>\n",
       "      <td>4.9 out of 5 stars</td>\n",
       "      <td>Hobbies &gt; Model Trains &amp; Railway Sets &gt; Rail V...</td>\n",
       "      <td>http://www.amazon.co.uk/Hornby-R8150-Catalogue...</td>\n",
       "      <td>Product Description Hornby 2014 Catalogue Box ...</td>\n",
       "      <td>Technical Details Item Weight640 g Product Dim...</td>\n",
       "      <td>Product Description Hornby 2014 Catalogue Box ...</td>\n",
       "      <td>http://www.amazon.co.uk/Hornby-R8150-Catalogue...</td>\n",
       "      <td>Does this catalogue detail all the previous Ho...</td>\n",
       "      <td>Worth Buying For The Pictures Alone (As Ever) ...</td>\n",
       "      <td>{\"seller\"=&gt;[{\"Seller_name_1\"=&gt;\"Amazon.co.uk\", ...</td>\n",
       "    </tr>\n",
       "    <tr>\n",
       "      <td>1</td>\n",
       "      <td>b17540ef7e86e461d37f3ae58b7b72ac</td>\n",
       "      <td>FunkyBuys® Large Christmas Holiday Express Fes...</td>\n",
       "      <td>FunkyBuys</td>\n",
       "      <td>£16.99</td>\n",
       "      <td>NaN</td>\n",
       "      <td>2</td>\n",
       "      <td>1.0</td>\n",
       "      <td>4.5 out of 5 stars</td>\n",
       "      <td>Hobbies &gt; Model Trains &amp; Railway Sets &gt; Rail V...</td>\n",
       "      <td>http://www.amazon.co.uk/Christmas-Holiday-Expr...</td>\n",
       "      <td>Size Name:Large FunkyBuys® Large Christmas Hol...</td>\n",
       "      <td>Technical Details Manufacturer recommended age...</td>\n",
       "      <td>Size Name:Large FunkyBuys® Large Christmas Hol...</td>\n",
       "      <td>http://www.amazon.co.uk/Christmas-Holiday-Expr...</td>\n",
       "      <td>can you turn off sounds // hi no you cant turn...</td>\n",
       "      <td>Four Stars // 4.0 // 18 Dec. 2015 // By\\n    \\...</td>\n",
       "      <td>{\"seller\"=&gt;{\"Seller_name_1\"=&gt;\"UHD WHOLESALE\", ...</td>\n",
       "    </tr>\n",
       "  </tbody>\n",
       "</table>\n",
       "</div>"
      ],
      "text/plain": [
       "                            uniq_id  \\\n",
       "0  eac7efa5dbd3d667f26eb3d3ab504464   \n",
       "1  b17540ef7e86e461d37f3ae58b7b72ac   \n",
       "\n",
       "                                        product_name manufacturer   price  \\\n",
       "0                              Hornby 2014 Catalogue       Hornby   £3.42   \n",
       "1  FunkyBuys® Large Christmas Holiday Express Fes...    FunkyBuys  £16.99   \n",
       "\n",
       "  number_available_in_stock number_of_reviews  number_of_answered_questions  \\\n",
       "0                     5 new                15                           1.0   \n",
       "1                       NaN                 2                           1.0   \n",
       "\n",
       "  average_review_rating                   amazon_category_and_sub_category  \\\n",
       "0    4.9 out of 5 stars  Hobbies > Model Trains & Railway Sets > Rail V...   \n",
       "1    4.5 out of 5 stars  Hobbies > Model Trains & Railway Sets > Rail V...   \n",
       "\n",
       "          customers_who_bought_this_item_also_bought  \\\n",
       "0  http://www.amazon.co.uk/Hornby-R8150-Catalogue...   \n",
       "1  http://www.amazon.co.uk/Christmas-Holiday-Expr...   \n",
       "\n",
       "                                         description  \\\n",
       "0  Product Description Hornby 2014 Catalogue Box ...   \n",
       "1  Size Name:Large FunkyBuys® Large Christmas Hol...   \n",
       "\n",
       "                                 product_information  \\\n",
       "0  Technical Details Item Weight640 g Product Dim...   \n",
       "1  Technical Details Manufacturer recommended age...   \n",
       "\n",
       "                                 product_description  \\\n",
       "0  Product Description Hornby 2014 Catalogue Box ...   \n",
       "1  Size Name:Large FunkyBuys® Large Christmas Hol...   \n",
       "\n",
       "         items_customers_buy_after_viewing_this_item  \\\n",
       "0  http://www.amazon.co.uk/Hornby-R8150-Catalogue...   \n",
       "1  http://www.amazon.co.uk/Christmas-Holiday-Expr...   \n",
       "\n",
       "                      customer_questions_and_answers  \\\n",
       "0  Does this catalogue detail all the previous Ho...   \n",
       "1  can you turn off sounds // hi no you cant turn...   \n",
       "\n",
       "                                    customer_reviews  \\\n",
       "0  Worth Buying For The Pictures Alone (As Ever) ...   \n",
       "1  Four Stars // 4.0 // 18 Dec. 2015 // By\\n    \\...   \n",
       "\n",
       "                                             sellers  \n",
       "0  {\"seller\"=>[{\"Seller_name_1\"=>\"Amazon.co.uk\", ...  \n",
       "1  {\"seller\"=>{\"Seller_name_1\"=>\"UHD WHOLESALE\", ...  "
      ]
     },
     "execution_count": 5,
     "metadata": {},
     "output_type": "execute_result"
    }
   ],
   "source": [
    "data.head(2)"
   ]
  },
  {
   "cell_type": "markdown",
   "metadata": {},
   "source": [
    "## Cleaning data"
   ]
  },
  {
   "cell_type": "markdown",
   "metadata": {},
   "source": [
    "### Missing values"
   ]
  },
  {
   "cell_type": "code",
   "execution_count": 6,
   "metadata": {
    "ExecuteTime": {
     "end_time": "2020-03-26T12:21:14.846987Z",
     "start_time": "2020-03-26T12:21:14.811707Z"
    }
   },
   "outputs": [
    {
     "data": {
      "text/plain": [
       "customer_questions_and_answers                 90.86\n",
       "sellers                                        30.82\n",
       "items_customers_buy_after_viewing_this_item    30.65\n",
       "number_available_in_stock                      25.00\n",
       "price                                          14.35\n",
       "customers_who_bought_this_item_also_bought     10.62\n",
       "number_of_answered_questions                    7.65\n",
       "amazon_category_and_sub_category                6.90\n",
       "description                                     6.51\n",
       "product_description                             6.51\n",
       "product_information                             0.58\n",
       "customer_reviews                                0.21\n",
       "average_review_rating                           0.18\n",
       "number_of_reviews                               0.18\n",
       "manufacturer                                    0.07\n",
       "product_name                                    0.00\n",
       "uniq_id                                         0.00\n",
       "dtype: float64"
      ]
     },
     "execution_count": 6,
     "metadata": {},
     "output_type": "execute_result"
    }
   ],
   "source": [
    "#checking missing values\n",
    "\n",
    "percent_missing = data.isnull().sum() * 100 / len(data)\n",
    "percent_missing.sort_values(ascending=False)"
   ]
  },
  {
   "cell_type": "markdown",
   "metadata": {},
   "source": [
    "#### Deleting columns with more than 20% missing values"
   ]
  },
  {
   "cell_type": "code",
   "execution_count": 7,
   "metadata": {
    "ExecuteTime": {
     "end_time": "2020-03-26T12:21:14.874974Z",
     "start_time": "2020-03-26T12:21:14.846987Z"
    }
   },
   "outputs": [],
   "source": [
    "missing_value_df = pd.DataFrame({'column_name': data.columns,\n",
    "                                 'percent_missing': percent_missing})\n",
    "\n",
    "df_missing_20 = missing_value_df.loc[missing_value_df.percent_missing > 20]\n",
    "\n",
    "col_drop = df_missing_20.column_name\n",
    "\n",
    "for col in col_drop:\n",
    "    data = data.drop(col, axis=1)\n"
   ]
  },
  {
   "cell_type": "code",
   "execution_count": 8,
   "metadata": {
    "ExecuteTime": {
     "end_time": "2020-03-26T12:21:14.887192Z",
     "start_time": "2020-03-26T12:21:14.878787Z"
    }
   },
   "outputs": [
    {
     "data": {
      "text/plain": [
       "(10000, 13)"
      ]
     },
     "execution_count": 8,
     "metadata": {},
     "output_type": "execute_result"
    }
   ],
   "source": [
    "data.shape"
   ]
  },
  {
   "cell_type": "code",
   "execution_count": 9,
   "metadata": {
    "ExecuteTime": {
     "end_time": "2020-03-26T12:21:14.912386Z",
     "start_time": "2020-03-26T12:21:14.889451Z"
    }
   },
   "outputs": [
    {
     "data": {
      "text/plain": [
       "price                                         14.35\n",
       "customers_who_bought_this_item_also_bought    10.62\n",
       "number_of_answered_questions                   7.65\n",
       "amazon_category_and_sub_category               6.90\n",
       "product_description                            6.51\n",
       "description                                    6.51\n",
       "product_information                            0.58\n",
       "customer_reviews                               0.21\n",
       "average_review_rating                          0.18\n",
       "number_of_reviews                              0.18\n",
       "manufacturer                                   0.07\n",
       "product_name                                   0.00\n",
       "uniq_id                                        0.00\n",
       "dtype: float64"
      ]
     },
     "execution_count": 9,
     "metadata": {},
     "output_type": "execute_result"
    }
   ],
   "source": [
    "percent_missing = data.isnull().sum() * 100 / len(data)\n",
    "percent_missing.sort_values(ascending=False)"
   ]
  },
  {
   "cell_type": "markdown",
   "metadata": {},
   "source": [
    "#### Filtering only necessary columns"
   ]
  },
  {
   "cell_type": "code",
   "execution_count": 10,
   "metadata": {
    "ExecuteTime": {
     "end_time": "2020-03-26T12:21:14.920027Z",
     "start_time": "2020-03-26T12:21:14.912386Z"
    }
   },
   "outputs": [],
   "source": [
    "df = data.loc[:,['uniq_id', 'product_name', 'manufacturer', 'price', 'number_of_reviews',\n",
    "       'number_of_answered_questions', 'average_review_rating', 'amazon_category_and_sub_category', 'description', 'product_information']]"
   ]
  },
  {
   "cell_type": "code",
   "execution_count": 11,
   "metadata": {
    "ExecuteTime": {
     "end_time": "2020-03-26T12:21:14.927792Z",
     "start_time": "2020-03-26T12:21:14.921592Z"
    }
   },
   "outputs": [
    {
     "data": {
      "text/plain": [
       "(10000, 10)"
      ]
     },
     "execution_count": 11,
     "metadata": {},
     "output_type": "execute_result"
    }
   ],
   "source": [
    "df.shape"
   ]
  },
  {
   "cell_type": "markdown",
   "metadata": {},
   "source": [
    "#### Deleting rows that have null values"
   ]
  },
  {
   "cell_type": "code",
   "execution_count": 12,
   "metadata": {
    "ExecuteTime": {
     "end_time": "2020-03-26T12:21:14.946020Z",
     "start_time": "2020-03-26T12:21:14.929042Z"
    }
   },
   "outputs": [],
   "source": [
    "#how=any for any NaN to delete rows\n",
    "\n",
    "df.dropna(axis=0, how='any', inplace=True)"
   ]
  },
  {
   "cell_type": "code",
   "execution_count": 13,
   "metadata": {
    "ExecuteTime": {
     "end_time": "2020-03-26T12:21:14.950507Z",
     "start_time": "2020-03-26T12:21:14.946020Z"
    }
   },
   "outputs": [
    {
     "data": {
      "text/plain": [
       "(6856, 10)"
      ]
     },
     "execution_count": 13,
     "metadata": {},
     "output_type": "execute_result"
    }
   ],
   "source": [
    "df.shape"
   ]
  },
  {
   "cell_type": "markdown",
   "metadata": {},
   "source": [
    "### Cleaning price"
   ]
  },
  {
   "cell_type": "code",
   "execution_count": 14,
   "metadata": {
    "ExecuteTime": {
     "end_time": "2020-03-26T12:21:14.969856Z",
     "start_time": "2020-03-26T12:21:14.952603Z"
    }
   },
   "outputs": [
    {
     "data": {
      "text/plain": [
       "£9.99     147\n",
       "£4.99     116\n",
       "£14.99    113\n",
       "£12.99    106\n",
       "£5.99     105\n",
       "Name: price, dtype: int64"
      ]
     },
     "execution_count": 14,
     "metadata": {},
     "output_type": "execute_result"
    }
   ],
   "source": [
    "df.price.value_counts().head()"
   ]
  },
  {
   "cell_type": "markdown",
   "metadata": {},
   "source": [
    "#### Deleting pound symbol"
   ]
  },
  {
   "cell_type": "code",
   "execution_count": 15,
   "metadata": {
    "ExecuteTime": {
     "end_time": "2020-03-26T12:21:14.989598Z",
     "start_time": "2020-03-26T12:21:14.974002Z"
    }
   },
   "outputs": [],
   "source": [
    "df['price'] = df['price'].str.replace('£', '')"
   ]
  },
  {
   "cell_type": "markdown",
   "metadata": {},
   "source": [
    "#### Deleting comma from the price"
   ]
  },
  {
   "cell_type": "code",
   "execution_count": 16,
   "metadata": {
    "ExecuteTime": {
     "end_time": "2020-03-26T12:21:15.002290Z",
     "start_time": "2020-03-26T12:21:14.991551Z"
    }
   },
   "outputs": [],
   "source": [
    "df['price'] = df['price'].str.replace(',', '')"
   ]
  },
  {
   "cell_type": "code",
   "execution_count": 17,
   "metadata": {
    "ExecuteTime": {
     "end_time": "2020-03-26T12:21:15.010219Z",
     "start_time": "2020-03-26T12:21:15.005231Z"
    }
   },
   "outputs": [],
   "source": [
    "#function to change column to numeric\n",
    "\n",
    "def price_to_numeric(x):\n",
    "    df[x] = pd.to_numeric(df[x])"
   ]
  },
  {
   "cell_type": "markdown",
   "metadata": {},
   "source": [
    "#### Converting price to numeric"
   ]
  },
  {
   "cell_type": "code",
   "execution_count": 18,
   "metadata": {
    "ExecuteTime": {
     "end_time": "2020-03-26T12:21:15.022942Z",
     "start_time": "2020-03-26T12:21:15.013549Z"
    }
   },
   "outputs": [],
   "source": [
    "price_to_numeric('price')"
   ]
  },
  {
   "cell_type": "code",
   "execution_count": 19,
   "metadata": {
    "ExecuteTime": {
     "end_time": "2020-03-26T12:21:15.031187Z",
     "start_time": "2020-03-26T12:21:15.024939Z"
    }
   },
   "outputs": [
    {
     "data": {
      "text/plain": [
       "numpy.float64"
      ]
     },
     "execution_count": 19,
     "metadata": {},
     "output_type": "execute_result"
    }
   ],
   "source": [
    "type(df['price'][0])"
   ]
  },
  {
   "cell_type": "markdown",
   "metadata": {},
   "source": [
    "### Cleaning average review column"
   ]
  },
  {
   "cell_type": "code",
   "execution_count": 20,
   "metadata": {
    "ExecuteTime": {
     "end_time": "2020-03-26T12:21:15.040837Z",
     "start_time": "2020-03-26T12:21:15.032185Z"
    }
   },
   "outputs": [
    {
     "data": {
      "text/plain": [
       "5.0 out of 5 stars    3503\n",
       "4.0 out of 5 stars     880\n",
       "4.5 out of 5 stars     489\n",
       "4.8 out of 5 stars     396\n",
       "4.7 out of 5 stars     377\n",
       "4.3 out of 5 stars     286\n",
       "4.6 out of 5 stars     280\n",
       "4.4 out of 5 stars     205\n",
       "4.9 out of 5 stars     166\n",
       "4.2 out of 5 stars     153\n",
       "4.1 out of 5 stars     108\n",
       "3.9 out of 5 stars       5\n",
       "3.5 out of 5 stars       2\n",
       "3.6 out of 5 stars       2\n",
       "3.3 out of 5 stars       2\n",
       "3.0 out of 5 stars       1\n",
       "2.3 out of 5 stars       1\n",
       "Name: average_review_rating, dtype: int64"
      ]
     },
     "execution_count": 20,
     "metadata": {},
     "output_type": "execute_result"
    }
   ],
   "source": [
    "df.average_review_rating.value_counts()"
   ]
  },
  {
   "cell_type": "code",
   "execution_count": 21,
   "metadata": {
    "ExecuteTime": {
     "end_time": "2020-03-26T12:21:15.060495Z",
     "start_time": "2020-03-26T12:21:15.042835Z"
    }
   },
   "outputs": [],
   "source": [
    "#extracting only the evaluation from the string\n",
    "\n",
    "df['ave_review_rating'] = df.average_review_rating.str.extract('(\\d+\\.?\\d+)', expand=False)"
   ]
  },
  {
   "cell_type": "code",
   "execution_count": 22,
   "metadata": {
    "ExecuteTime": {
     "end_time": "2020-03-26T12:21:15.072273Z",
     "start_time": "2020-03-26T12:21:15.061892Z"
    }
   },
   "outputs": [],
   "source": [
    "#converting to numeric\n",
    "\n",
    "price_to_numeric('ave_review_rating')"
   ]
  },
  {
   "cell_type": "code",
   "execution_count": 23,
   "metadata": {
    "ExecuteTime": {
     "end_time": "2020-03-26T12:21:15.084141Z",
     "start_time": "2020-03-26T12:21:15.076441Z"
    }
   },
   "outputs": [
    {
     "data": {
      "text/plain": [
       "numpy.float64"
      ]
     },
     "execution_count": 23,
     "metadata": {},
     "output_type": "execute_result"
    }
   ],
   "source": [
    "type(df['ave_review_rating'][0])"
   ]
  },
  {
   "cell_type": "code",
   "execution_count": 24,
   "metadata": {
    "ExecuteTime": {
     "end_time": "2020-03-26T12:21:15.095601Z",
     "start_time": "2020-03-26T12:21:15.086405Z"
    }
   },
   "outputs": [],
   "source": [
    "#deleting old column\n",
    "\n",
    "df.drop('average_review_rating', axis=1, inplace=True)"
   ]
  },
  {
   "cell_type": "markdown",
   "metadata": {},
   "source": [
    "## Understanding and manipulating data"
   ]
  },
  {
   "cell_type": "markdown",
   "metadata": {},
   "source": [
    "### Renaming columns"
   ]
  },
  {
   "cell_type": "code",
   "execution_count": 25,
   "metadata": {
    "ExecuteTime": {
     "end_time": "2020-03-26T12:21:15.103057Z",
     "start_time": "2020-03-26T12:21:15.096738Z"
    }
   },
   "outputs": [],
   "source": [
    "colnames = ['uniq_id', 'product_name', 'manufacturer', 'price', 'num_reviews',\n",
    "       'num_answ_questions', 'cat_and_subcat', 'description', 'product_info', 'ave_review_rating']"
   ]
  },
  {
   "cell_type": "code",
   "execution_count": 26,
   "metadata": {
    "ExecuteTime": {
     "end_time": "2020-03-26T12:21:15.108231Z",
     "start_time": "2020-03-26T12:21:15.104055Z"
    }
   },
   "outputs": [],
   "source": [
    "df.columns=colnames"
   ]
  },
  {
   "cell_type": "code",
   "execution_count": 27,
   "metadata": {
    "ExecuteTime": {
     "end_time": "2020-03-26T12:21:15.125542Z",
     "start_time": "2020-03-26T12:21:15.110175Z"
    },
    "scrolled": true
   },
   "outputs": [
    {
     "data": {
      "text/html": [
       "<div>\n",
       "<style scoped>\n",
       "    .dataframe tbody tr th:only-of-type {\n",
       "        vertical-align: middle;\n",
       "    }\n",
       "\n",
       "    .dataframe tbody tr th {\n",
       "        vertical-align: top;\n",
       "    }\n",
       "\n",
       "    .dataframe thead th {\n",
       "        text-align: right;\n",
       "    }\n",
       "</style>\n",
       "<table border=\"1\" class=\"dataframe\">\n",
       "  <thead>\n",
       "    <tr style=\"text-align: right;\">\n",
       "      <th></th>\n",
       "      <th>uniq_id</th>\n",
       "      <th>product_name</th>\n",
       "      <th>manufacturer</th>\n",
       "      <th>price</th>\n",
       "      <th>num_reviews</th>\n",
       "      <th>num_answ_questions</th>\n",
       "      <th>cat_and_subcat</th>\n",
       "      <th>description</th>\n",
       "      <th>product_info</th>\n",
       "      <th>ave_review_rating</th>\n",
       "    </tr>\n",
       "  </thead>\n",
       "  <tbody>\n",
       "    <tr>\n",
       "      <td>0</td>\n",
       "      <td>eac7efa5dbd3d667f26eb3d3ab504464</td>\n",
       "      <td>Hornby 2014 Catalogue</td>\n",
       "      <td>Hornby</td>\n",
       "      <td>3.42</td>\n",
       "      <td>15</td>\n",
       "      <td>1.0</td>\n",
       "      <td>Hobbies &gt; Model Trains &amp; Railway Sets &gt; Rail V...</td>\n",
       "      <td>Product Description Hornby 2014 Catalogue Box ...</td>\n",
       "      <td>Technical Details Item Weight640 g Product Dim...</td>\n",
       "      <td>4.9</td>\n",
       "    </tr>\n",
       "    <tr>\n",
       "      <td>1</td>\n",
       "      <td>b17540ef7e86e461d37f3ae58b7b72ac</td>\n",
       "      <td>FunkyBuys® Large Christmas Holiday Express Fes...</td>\n",
       "      <td>FunkyBuys</td>\n",
       "      <td>16.99</td>\n",
       "      <td>2</td>\n",
       "      <td>1.0</td>\n",
       "      <td>Hobbies &gt; Model Trains &amp; Railway Sets &gt; Rail V...</td>\n",
       "      <td>Size Name:Large FunkyBuys® Large Christmas Hol...</td>\n",
       "      <td>Technical Details Manufacturer recommended age...</td>\n",
       "      <td>4.5</td>\n",
       "    </tr>\n",
       "    <tr>\n",
       "      <td>2</td>\n",
       "      <td>348f344247b0c1a935b1223072ef9d8a</td>\n",
       "      <td>CLASSIC TOY TRAIN SET TRACK CARRIAGES LIGHT EN...</td>\n",
       "      <td>ccf</td>\n",
       "      <td>9.99</td>\n",
       "      <td>17</td>\n",
       "      <td>2.0</td>\n",
       "      <td>Hobbies &gt; Model Trains &amp; Railway Sets &gt; Rail V...</td>\n",
       "      <td>BIG CLASSIC TOY TRAIN SET TRACK CARRIAGE LIGHT...</td>\n",
       "      <td>Technical Details Manufacturer recommended age...</td>\n",
       "      <td>3.9</td>\n",
       "    </tr>\n",
       "    <tr>\n",
       "      <td>3</td>\n",
       "      <td>e12b92dbb8eaee78b22965d2a9bbbd9f</td>\n",
       "      <td>HORNBY Coach R4410A BR Hawksworth Corridor 3rd</td>\n",
       "      <td>Hornby</td>\n",
       "      <td>39.99</td>\n",
       "      <td>1</td>\n",
       "      <td>2.0</td>\n",
       "      <td>Hobbies &gt; Model Trains &amp; Railway Sets &gt; Rail V...</td>\n",
       "      <td>Hornby 00 Gauge BR Hawksworth 3rd Class W 2107...</td>\n",
       "      <td>Technical Details Item Weight259 g Product Dim...</td>\n",
       "      <td>5.0</td>\n",
       "    </tr>\n",
       "    <tr>\n",
       "      <td>4</td>\n",
       "      <td>e33a9adeed5f36840ccc227db4682a36</td>\n",
       "      <td>Hornby 00 Gauge 0-4-0 Gildenlow Salt Co. Steam...</td>\n",
       "      <td>Hornby</td>\n",
       "      <td>32.19</td>\n",
       "      <td>3</td>\n",
       "      <td>2.0</td>\n",
       "      <td>Hobbies &gt; Model Trains &amp; Railway Sets &gt; Rail V...</td>\n",
       "      <td>Product Description Hornby RailRoad 0-4-0 Gild...</td>\n",
       "      <td>Technical Details Item Weight159 g Product Dim...</td>\n",
       "      <td>4.7</td>\n",
       "    </tr>\n",
       "  </tbody>\n",
       "</table>\n",
       "</div>"
      ],
      "text/plain": [
       "                            uniq_id  \\\n",
       "0  eac7efa5dbd3d667f26eb3d3ab504464   \n",
       "1  b17540ef7e86e461d37f3ae58b7b72ac   \n",
       "2  348f344247b0c1a935b1223072ef9d8a   \n",
       "3  e12b92dbb8eaee78b22965d2a9bbbd9f   \n",
       "4  e33a9adeed5f36840ccc227db4682a36   \n",
       "\n",
       "                                        product_name manufacturer  price  \\\n",
       "0                              Hornby 2014 Catalogue       Hornby   3.42   \n",
       "1  FunkyBuys® Large Christmas Holiday Express Fes...    FunkyBuys  16.99   \n",
       "2  CLASSIC TOY TRAIN SET TRACK CARRIAGES LIGHT EN...          ccf   9.99   \n",
       "3     HORNBY Coach R4410A BR Hawksworth Corridor 3rd       Hornby  39.99   \n",
       "4  Hornby 00 Gauge 0-4-0 Gildenlow Salt Co. Steam...       Hornby  32.19   \n",
       "\n",
       "  num_reviews  num_answ_questions  \\\n",
       "0          15                 1.0   \n",
       "1           2                 1.0   \n",
       "2          17                 2.0   \n",
       "3           1                 2.0   \n",
       "4           3                 2.0   \n",
       "\n",
       "                                      cat_and_subcat  \\\n",
       "0  Hobbies > Model Trains & Railway Sets > Rail V...   \n",
       "1  Hobbies > Model Trains & Railway Sets > Rail V...   \n",
       "2  Hobbies > Model Trains & Railway Sets > Rail V...   \n",
       "3  Hobbies > Model Trains & Railway Sets > Rail V...   \n",
       "4  Hobbies > Model Trains & Railway Sets > Rail V...   \n",
       "\n",
       "                                         description  \\\n",
       "0  Product Description Hornby 2014 Catalogue Box ...   \n",
       "1  Size Name:Large FunkyBuys® Large Christmas Hol...   \n",
       "2  BIG CLASSIC TOY TRAIN SET TRACK CARRIAGE LIGHT...   \n",
       "3  Hornby 00 Gauge BR Hawksworth 3rd Class W 2107...   \n",
       "4  Product Description Hornby RailRoad 0-4-0 Gild...   \n",
       "\n",
       "                                        product_info  ave_review_rating  \n",
       "0  Technical Details Item Weight640 g Product Dim...                4.9  \n",
       "1  Technical Details Manufacturer recommended age...                4.5  \n",
       "2  Technical Details Manufacturer recommended age...                3.9  \n",
       "3  Technical Details Item Weight259 g Product Dim...                5.0  \n",
       "4  Technical Details Item Weight159 g Product Dim...                4.7  "
      ]
     },
     "execution_count": 27,
     "metadata": {},
     "output_type": "execute_result"
    }
   ],
   "source": [
    "df.head()"
   ]
  },
  {
   "cell_type": "markdown",
   "metadata": {},
   "source": [
    "### Adding columns for description and product info lengths"
   ]
  },
  {
   "cell_type": "code",
   "execution_count": 28,
   "metadata": {
    "ExecuteTime": {
     "end_time": "2020-03-26T12:21:15.141010Z",
     "start_time": "2020-03-26T12:21:15.128363Z"
    }
   },
   "outputs": [],
   "source": [
    "#column for description len\n",
    "\n",
    "df['description_len'] = df.description.apply(lambda x: len(x))"
   ]
  },
  {
   "cell_type": "code",
   "execution_count": 29,
   "metadata": {
    "ExecuteTime": {
     "end_time": "2020-03-26T12:21:15.152971Z",
     "start_time": "2020-03-26T12:21:15.142007Z"
    }
   },
   "outputs": [],
   "source": [
    "#column for product info len\n",
    "\n",
    "df['product_info_len'] = df.product_info.apply(lambda x: len(x))"
   ]
  },
  {
   "cell_type": "code",
   "execution_count": 30,
   "metadata": {
    "ExecuteTime": {
     "end_time": "2020-03-26T12:21:15.170118Z",
     "start_time": "2020-03-26T12:21:15.153969Z"
    }
   },
   "outputs": [
    {
     "data": {
      "text/html": [
       "<div>\n",
       "<style scoped>\n",
       "    .dataframe tbody tr th:only-of-type {\n",
       "        vertical-align: middle;\n",
       "    }\n",
       "\n",
       "    .dataframe tbody tr th {\n",
       "        vertical-align: top;\n",
       "    }\n",
       "\n",
       "    .dataframe thead th {\n",
       "        text-align: right;\n",
       "    }\n",
       "</style>\n",
       "<table border=\"1\" class=\"dataframe\">\n",
       "  <thead>\n",
       "    <tr style=\"text-align: right;\">\n",
       "      <th></th>\n",
       "      <th>uniq_id</th>\n",
       "      <th>product_name</th>\n",
       "      <th>manufacturer</th>\n",
       "      <th>price</th>\n",
       "      <th>num_reviews</th>\n",
       "      <th>num_answ_questions</th>\n",
       "      <th>cat_and_subcat</th>\n",
       "      <th>description</th>\n",
       "      <th>product_info</th>\n",
       "      <th>ave_review_rating</th>\n",
       "      <th>description_len</th>\n",
       "      <th>product_info_len</th>\n",
       "    </tr>\n",
       "  </thead>\n",
       "  <tbody>\n",
       "    <tr>\n",
       "      <td>0</td>\n",
       "      <td>eac7efa5dbd3d667f26eb3d3ab504464</td>\n",
       "      <td>Hornby 2014 Catalogue</td>\n",
       "      <td>Hornby</td>\n",
       "      <td>3.42</td>\n",
       "      <td>15</td>\n",
       "      <td>1.0</td>\n",
       "      <td>Hobbies &gt; Model Trains &amp; Railway Sets &gt; Rail V...</td>\n",
       "      <td>Product Description Hornby 2014 Catalogue Box ...</td>\n",
       "      <td>Technical Details Item Weight640 g Product Dim...</td>\n",
       "      <td>4.9</td>\n",
       "      <td>72</td>\n",
       "      <td>871</td>\n",
       "    </tr>\n",
       "    <tr>\n",
       "      <td>1</td>\n",
       "      <td>b17540ef7e86e461d37f3ae58b7b72ac</td>\n",
       "      <td>FunkyBuys® Large Christmas Holiday Express Fes...</td>\n",
       "      <td>FunkyBuys</td>\n",
       "      <td>16.99</td>\n",
       "      <td>2</td>\n",
       "      <td>1.0</td>\n",
       "      <td>Hobbies &gt; Model Trains &amp; Railway Sets &gt; Rail V...</td>\n",
       "      <td>Size Name:Large FunkyBuys® Large Christmas Hol...</td>\n",
       "      <td>Technical Details Manufacturer recommended age...</td>\n",
       "      <td>4.5</td>\n",
       "      <td>134</td>\n",
       "      <td>404</td>\n",
       "    </tr>\n",
       "    <tr>\n",
       "      <td>2</td>\n",
       "      <td>348f344247b0c1a935b1223072ef9d8a</td>\n",
       "      <td>CLASSIC TOY TRAIN SET TRACK CARRIAGES LIGHT EN...</td>\n",
       "      <td>ccf</td>\n",
       "      <td>9.99</td>\n",
       "      <td>17</td>\n",
       "      <td>2.0</td>\n",
       "      <td>Hobbies &gt; Model Trains &amp; Railway Sets &gt; Rail V...</td>\n",
       "      <td>BIG CLASSIC TOY TRAIN SET TRACK CARRIAGE LIGHT...</td>\n",
       "      <td>Technical Details Manufacturer recommended age...</td>\n",
       "      <td>3.9</td>\n",
       "      <td>357</td>\n",
       "      <td>449</td>\n",
       "    </tr>\n",
       "    <tr>\n",
       "      <td>3</td>\n",
       "      <td>e12b92dbb8eaee78b22965d2a9bbbd9f</td>\n",
       "      <td>HORNBY Coach R4410A BR Hawksworth Corridor 3rd</td>\n",
       "      <td>Hornby</td>\n",
       "      <td>39.99</td>\n",
       "      <td>1</td>\n",
       "      <td>2.0</td>\n",
       "      <td>Hobbies &gt; Model Trains &amp; Railway Sets &gt; Rail V...</td>\n",
       "      <td>Hornby 00 Gauge BR Hawksworth 3rd Class W 2107...</td>\n",
       "      <td>Technical Details Item Weight259 g Product Dim...</td>\n",
       "      <td>5.0</td>\n",
       "      <td>57</td>\n",
       "      <td>584</td>\n",
       "    </tr>\n",
       "    <tr>\n",
       "      <td>4</td>\n",
       "      <td>e33a9adeed5f36840ccc227db4682a36</td>\n",
       "      <td>Hornby 00 Gauge 0-4-0 Gildenlow Salt Co. Steam...</td>\n",
       "      <td>Hornby</td>\n",
       "      <td>32.19</td>\n",
       "      <td>3</td>\n",
       "      <td>2.0</td>\n",
       "      <td>Hobbies &gt; Model Trains &amp; Railway Sets &gt; Rail V...</td>\n",
       "      <td>Product Description Hornby RailRoad 0-4-0 Gild...</td>\n",
       "      <td>Technical Details Item Weight159 g Product Dim...</td>\n",
       "      <td>4.7</td>\n",
       "      <td>398</td>\n",
       "      <td>601</td>\n",
       "    </tr>\n",
       "  </tbody>\n",
       "</table>\n",
       "</div>"
      ],
      "text/plain": [
       "                            uniq_id  \\\n",
       "0  eac7efa5dbd3d667f26eb3d3ab504464   \n",
       "1  b17540ef7e86e461d37f3ae58b7b72ac   \n",
       "2  348f344247b0c1a935b1223072ef9d8a   \n",
       "3  e12b92dbb8eaee78b22965d2a9bbbd9f   \n",
       "4  e33a9adeed5f36840ccc227db4682a36   \n",
       "\n",
       "                                        product_name manufacturer  price  \\\n",
       "0                              Hornby 2014 Catalogue       Hornby   3.42   \n",
       "1  FunkyBuys® Large Christmas Holiday Express Fes...    FunkyBuys  16.99   \n",
       "2  CLASSIC TOY TRAIN SET TRACK CARRIAGES LIGHT EN...          ccf   9.99   \n",
       "3     HORNBY Coach R4410A BR Hawksworth Corridor 3rd       Hornby  39.99   \n",
       "4  Hornby 00 Gauge 0-4-0 Gildenlow Salt Co. Steam...       Hornby  32.19   \n",
       "\n",
       "  num_reviews  num_answ_questions  \\\n",
       "0          15                 1.0   \n",
       "1           2                 1.0   \n",
       "2          17                 2.0   \n",
       "3           1                 2.0   \n",
       "4           3                 2.0   \n",
       "\n",
       "                                      cat_and_subcat  \\\n",
       "0  Hobbies > Model Trains & Railway Sets > Rail V...   \n",
       "1  Hobbies > Model Trains & Railway Sets > Rail V...   \n",
       "2  Hobbies > Model Trains & Railway Sets > Rail V...   \n",
       "3  Hobbies > Model Trains & Railway Sets > Rail V...   \n",
       "4  Hobbies > Model Trains & Railway Sets > Rail V...   \n",
       "\n",
       "                                         description  \\\n",
       "0  Product Description Hornby 2014 Catalogue Box ...   \n",
       "1  Size Name:Large FunkyBuys® Large Christmas Hol...   \n",
       "2  BIG CLASSIC TOY TRAIN SET TRACK CARRIAGE LIGHT...   \n",
       "3  Hornby 00 Gauge BR Hawksworth 3rd Class W 2107...   \n",
       "4  Product Description Hornby RailRoad 0-4-0 Gild...   \n",
       "\n",
       "                                        product_info  ave_review_rating  \\\n",
       "0  Technical Details Item Weight640 g Product Dim...                4.9   \n",
       "1  Technical Details Manufacturer recommended age...                4.5   \n",
       "2  Technical Details Manufacturer recommended age...                3.9   \n",
       "3  Technical Details Item Weight259 g Product Dim...                5.0   \n",
       "4  Technical Details Item Weight159 g Product Dim...                4.7   \n",
       "\n",
       "   description_len  product_info_len  \n",
       "0               72               871  \n",
       "1              134               404  \n",
       "2              357               449  \n",
       "3               57               584  \n",
       "4              398               601  "
      ]
     },
     "execution_count": 30,
     "metadata": {},
     "output_type": "execute_result"
    }
   ],
   "source": [
    "df.head()"
   ]
  },
  {
   "cell_type": "markdown",
   "metadata": {},
   "source": [
    "### Checking values per column"
   ]
  },
  {
   "cell_type": "markdown",
   "metadata": {},
   "source": [
    "#### How many different products?"
   ]
  },
  {
   "cell_type": "code",
   "execution_count": 31,
   "metadata": {
    "ExecuteTime": {
     "end_time": "2020-03-26T12:21:15.181622Z",
     "start_time": "2020-03-26T12:21:15.171114Z"
    }
   },
   "outputs": [
    {
     "data": {
      "text/plain": [
       "6833"
      ]
     },
     "execution_count": 31,
     "metadata": {},
     "output_type": "execute_result"
    }
   ],
   "source": [
    "len(df.product_name.unique())\n",
    "\n",
    "#almost all products in the dataset are different"
   ]
  },
  {
   "cell_type": "markdown",
   "metadata": {},
   "source": [
    "#### How many different manufacturers?"
   ]
  },
  {
   "cell_type": "code",
   "execution_count": 32,
   "metadata": {
    "ExecuteTime": {
     "end_time": "2020-03-26T12:21:15.232195Z",
     "start_time": "2020-03-26T12:21:15.184137Z"
    },
    "scrolled": true
   },
   "outputs": [
    {
     "name": "stdout",
     "output_type": "stream",
     "text": [
      "1940\n",
      "Oxford Diecast                                  145\n",
      "Disney                                          123\n",
      "The Puppet Company                               94\n",
      "Star Wars                                        81\n",
      "Playmobil                                        79\n",
      "Hornby                                           67\n",
      "Corgi                                            67\n",
      "Hasbro                                           62\n",
      "MyTinyWorld                                      61\n",
      "Mattel                                           61\n",
      "Every-occasion-party-supplies                    57\n",
      "Scalextric                                       55\n",
      "LEGO                                             53\n",
      "Papo                                             52\n",
      "Schleich                                         51\n",
      "Tamiya                                           47\n",
      "Melissa & Doug                                   47\n",
      "Bristol Novelties                                46\n",
      "Amscan                                           46\n",
      "Ravensburger                                     43\n",
      "Tobar                                            42\n",
      "Bruder                                           38\n",
      "Intex                                            38\n",
      "Generic                                          38\n",
      "Siku                                             37\n",
      "Thomas & Friends                                 37\n",
      "FunKo                                            37\n",
      "Partyrama                                        37\n",
      "Hot Wheels                                       36\n",
      "Revell-Monogram                                  35\n",
      "Maisto                                           34\n",
      "Q-Workshop                                       34\n",
      "Takara Tomy                                      34\n",
      "Pokémon                                          33\n",
      "Unknown                                          28\n",
      "Bandai                                           28\n",
      "Kato                                             27\n",
      "A.S.PUPPETS                                      27\n",
      "AUTOart                                          27\n",
      "NECA                                             26\n",
      "Marvel                                           25\n",
      "Chessex                                          25\n",
      "Crayola                                          24\n",
      "k2-accessories Jewellery Findings                24\n",
      "Hama                                             23\n",
      "Ultra Pro                                        23\n",
      "Oxford                                           22\n",
      "Brio                                             22\n",
      "Magic The Gathering                              21\n",
      "Preiser                                          21\n",
      "Carrera                                          21\n",
      "Yu-Gi-Oh!                                        20\n",
      "Manhattan Toy                                    20\n",
      "Fiesta                                           20\n",
      "Cheatwell Games                                  20\n",
      "Transformers                                     20\n",
      "Powell Craft                                     20\n",
      "Le Toy Van                                       19\n",
      "Creative                                         19\n",
      "Character Options                                19\n",
      "Pams                                             19\n",
      "Smiffy's                                         18\n",
      "Bburago                                          18\n",
      "Italeri                                          18\n",
      "Party2u                                          18\n",
      "Lyndie's Craft                                   17\n",
      "POP! Vinyl                                       17\n",
      "Glitter Tattoo Stencils                          17\n",
      "Bachmann                                         17\n",
      "k2-accessories Charm Pendants                    17\n",
      "Bigjigs Rail                                     17\n",
      "Unique Party                                     17\n",
      "Brookite                                         17\n",
      "The fancy dress and party store                  16\n",
      "Galt Toys                                        16\n",
      "Bullyland                                        16\n",
      "Bestway                                          16\n",
      "Disney Junior                                    16\n",
      "Fisher-Price                                     16\n",
      "DC Comics                                        16\n",
      "ixo                                              15\n",
      "cararama                                         15\n",
      "Kotobukiya                                       15\n",
      "Dapol                                            15\n",
      "Star Cutouts Ltd                                 15\n",
      "Safari                                           15\n",
      "Match Attax                                      15\n",
      "Bicycle                                          14\n",
      "Wicked                                           14\n",
      "Spirit of Air                                    14\n",
      "Welly                                            14\n",
      "RCECHO                                           14\n",
      "Deckboosters                                     14\n",
      "Trefl                                            14\n",
      "Kinetic Sand                                     13\n",
      "Top Trumps                                       13\n",
      "Expression Factory                               13\n",
      "FANCYDRESSCOZ                                    13\n",
      "The Dice Place                                   13\n",
      "Minichamps                                       13\n",
      "Moshi Monsters                                   13\n",
      "The Green Board Game Co.                         13\n",
      "Trumpeter                                        13\n",
      "Bigjigs Toys                                     13\n",
      "Forlorn Hope Games                               13\n",
      "Teenage Mutant Ninja Turtles                     13\n",
      "Power Rangers                                    13\n",
      "The Regency Chess Company                        13\n",
      "universal hobby                                  13\n",
      "Peppa Pig                                        12\n",
      "Schmidt                                          12\n",
      "Orchard Toys                                     12\n",
      "k2-accessories Alloy Metal Spacer Beads          12\n",
      "Pin It On                                        11\n",
      "Good Smile Company                               11\n",
      "Unbekannt                                        11\n",
      "Disney Frozen                                    11\n",
      "Qualatex                                         11\n",
      "Star images                                      11\n",
      "Busch                                            11\n",
      "Paul Lamond Games                                11\n",
      "Dr Who                                           11\n",
      "Just Say Beads                                   10\n",
      "Peco                                             10\n",
      "Rubies                                           10\n",
      "Weise-Toys                                       10\n",
      "Oostifun                                         10\n",
      "Learning Resources                               10\n",
      "Airfix                                           10\n",
      "Disney Princess                                  10\n",
      "VTech                                            10\n",
      "TRI-ANG                                          10\n",
      "Paul Lamond                                      10\n",
      "Anthony Peters                                   10\n",
      "dotcomgiftshop                                   10\n",
      "Tomy                                             10\n",
      "New Ray                                          10\n",
      "A Kent & Cleal game                              10\n",
      "Noch                                              9\n",
      "Winning Moves                                     9\n",
      "Classix                                           9\n",
      "Noble Collection                                  9\n",
      "Learning Curve                                    9\n",
      "ILOVEFANCYDRESS                                   9\n",
      "Glitter Tattoo Kits                               9\n",
      "Eurographics                                      9\n",
      "Syma                                              9\n",
      "Hot Toys                                          9\n",
      "Beyblade                                          8\n",
      "Reeves                                            8\n",
      "MENG                                              8\n",
      "Ford                                              8\n",
      "Inkwear                                           8\n",
      "Baker Ross                                        8\n",
      "Plastoy                                           8\n",
      "My Little Pony                                    8\n",
      "Motion Sand                                       8\n",
      "BTG                                               8\n",
      "Castorland                                        8\n",
      "Superstars                                        8\n",
      "Amazing child Montessori                          8\n",
      "Gibsons Games                                     8\n",
      "The House of Puzzles                              8\n",
      "Barbie                                            8\n",
      "Alex                                              8\n",
      "Halsall                                           8\n",
      "Bakugan                                           8\n",
      "Jumbo Games                                       8\n",
      "Toob                                              8\n",
      "KandyToys                                         7\n",
      "SoccerStarz                                       7\n",
      "burago                                            7\n",
      "Re:creation Group Plc                             7\n",
      "Henbrandt                                         7\n",
      "Gaugemaster                                       7\n",
      "Aquaplay                                          7\n",
      "Kent & Cleal                                      7\n",
      "BGC                                               7\n",
      "SODIAL(R)                                         7\n",
      "KARIZMA                                           7\n",
      "Vivid Imaginations                                7\n",
      "Past Times Quilling                               7\n",
      "Toys For Play                                     7\n",
      "Toyland                                           7\n",
      "Fantasy Flight Games                              7\n",
      "Plan Toys                                         7\n",
      "Cartamundi                                        7\n",
      "Anker                                             7\n",
      "Small Foot                                        7\n",
      "Living Puppets                                    7\n",
      "Faller                                            7\n",
      "Parrot                                            7\n",
      "The Trash Pack                                    7\n",
      "Universal Hobbies                                 7\n",
      "HQ                                                7\n",
      "RAILWAY - BACHMANN                                7\n",
      "Unique                                            7\n",
      "Chuggington                                       7\n",
      "Iwako                                             6\n",
      "BQLZR Hobbies                                     6\n",
      "HQ Kites                                          6\n",
      "Topps                                             6\n",
      "Tangle Creations                                  6\n",
      "Piko                                              6\n",
      "ClubKing Ltd                                      6\n",
      "Brybelly                                          6\n",
      "Hobbyboss                                         6\n",
      "Homgaty                                           6\n",
      "Folkmanis                                         6\n",
      "Creative Party                                    6\n",
      "Toyrific                                          6\n",
      "Peterkin                                          6\n",
      "Simba                                             6\n",
      "Vilac                                             6\n",
      "Ratio                                             6\n",
      "Party Bags 2 Go                                   6\n",
      "Riga                                              6\n",
      "HPI                                               6\n",
      "Drumond Park                                      6\n",
      "k2-accessories Chip Beads                         6\n",
      "Revell                                            6\n",
      "k2-accessories Seed Beads                         6\n",
      "Yu Gi Oh                                          6\n",
      "King Horse                                        6\n",
      "Think Fun                                         6\n",
      "MTS                                               6\n",
      "Game of Thrones                                   6\n",
      "k2-accessories Acrylic Plastic Beads              6\n",
      "Grafix                                            6\n",
      "Hape International                                6\n",
      "Happy Birthday                                    5\n",
      "Budkins                                           5\n",
      "Smencils                                          5\n",
      "TREND ENTERPRISES INC.                            5\n",
      "Easymodel                                         5\n",
      "Gift Zone                                         5\n",
      "CREATIVE EDUCATIONAL                              5\n",
      "Dragon                                            5\n",
      "Papo Fantasy                                      5\n",
      "Power Trains                                      5\n",
      "TheWorks                                          5\n",
      "The Adventures of Batman & Robin                  5\n",
      "Hama Beads                                        5\n",
      "Micro Scalextric                                  5\n",
      "Clementoni                                        5\n",
      "MunchieMoosKids                                   5\n",
      "MASK-ARADE                                        5\n",
      "Dice World                                        5\n",
      "flashflash banners                                5\n",
      "Hanayama                                          5\n",
      "Regent                                            5\n",
      "Golden Bear                                       5\n",
      "WHATWEARS                                         5\n",
      "C. Kreul                                          5\n",
      "Britains                                          5\n",
      "Flexifoil                                         5\n",
      "Star55                                            5\n",
      "Jaques of London                                  5\n",
      "Panini                                            5\n",
      "Ben 10                                            5\n",
      "Dammit Dolls                                      5\n",
      "Giochi Preziosi                                   5\n",
      "Minecraft                                         5\n",
      "Om                                                5\n",
      "Smart Games                                       5\n",
      "BigCherry                                         5\n",
      "Monchhichi                                        5\n",
      "notjustballoons                                   5\n",
      "Medicos                                           5\n",
      "Rory Story Cubes                                  5\n",
      "HPI Racing                                        5\n",
      "Monster Parties                                   5\n",
      "Turtles                                           5\n",
      "SORA                                              5\n",
      "Toy Zany                                          5\n",
      "HAPE Beleduc                                      5\n",
      "Papo Knights                                      5\n",
      "KSG                                               5\n",
      "Lion Games & Gifts Europe                         5\n",
      "Tonsee®                                           5\n",
      "Just For Fun                                      5\n",
      "Spider-Man                                        5\n",
      "Snuggle Pets                                      5\n",
      "Legler                                            5\n",
      "Simon Elvin                                       5\n",
      "Green                                             5\n",
      "Ultra Pro Deck Protectors (Small)                 4\n",
      "Creativity for Kids                               4\n",
      "GSI Creos                                         4\n",
      "Halo                                              4\n",
      "Micki                                             4\n",
      "Sue Ryder                                         4\n",
      "Traxxas                                           4\n",
      "Roco                                              4\n",
      "Perler                                            4\n",
      "Thunder Tiger                                     4\n",
      "Jesters                                           4\n",
      "Hubsan                                            4\n",
      "Halloween                                         4\n",
      "Imaginext                                         4\n",
      "Aquarius                                          4\n",
      "Blue Frog Toys                                    4\n",
      "partyman                                          4\n",
      "Erzi                                              4\n",
      "House of Marbles                                  4\n",
      "Monster High                                      4\n",
      "Konfidence                                        4\n",
      "Nollmit                                           4\n",
      "PinkWebShop                                       4\n",
      "Professor Puzzle                                  4\n",
      "The 1 for U                                       4\n",
      "Set                                               4\n",
      "Sonic                                             4\n",
      "The Creativity Hub                                4\n",
      "John Adams                                        4\n",
      "Harry Potter                                      4\n",
      "Chevrolet                                         4\n",
      "4M                                                4\n",
      "Wizards of the Coast                              4\n",
      "ShalinIndia                                       4\n",
      "Sancto                                            4\n",
      "Rory's Story Cubes                                4\n",
      "Crafty Capers                                     4\n",
      "Paper Projects                                    4\n",
      "STREETS AHEAD                                     4\n",
      "Novelties Direct                                  4\n",
      "Worlds Apart                                      4\n",
      "Matchbox                                          4\n",
      "BIG                                               4\n",
      "basetoys                                          4\n",
      "Match Attax 15/16                                 4\n",
      "TOOGOO(R)                                         4\n",
      "Gb Posters                                        4\n",
      "The Expressions Factory                           4\n",
      "Craft                                             4\n",
      "Spin Master                                       4\n",
      "Arcane Tinmen ApS                                 4\n",
      "Dice                                              4\n",
      "Dodolive                                          4\n",
      "XT-XINTE                                          4\n",
      "Konami                                            4\n",
      "GoolRC                                            4\n",
      "Belbal                                            4\n",
      "Max Factory                                       4\n",
      "Pressman Toy International                        4\n",
      "Hamleys                                           4\n",
      "BARGAINS-GALORE                                   4\n",
      "L.W.                                              4\n",
      "Philos, Philos                                    4\n",
      "Star Trek                                         4\n",
      "Carousel                                          4\n",
      "Ultra Pro Deck Protectors (Standard)              4\n",
      "Power Rangers Megaforce                           4\n",
      "A B Gee                                           4\n",
      "Ridley's                                          4\n",
      "HGL                                               4\n",
      "Rio Grande Games                                  4\n",
      "CollectA                                          4\n",
      "Craft Planet                                      4\n",
      "Redtooth Poker                                    4\n",
      "Bif Bang Pow                                      4\n",
      "Armourfast                                        4\n",
      "Winshare Puzzles and Games                        4\n",
      "Green Board Games                                 4\n",
      "Rainbow Loom                                      4\n",
      "Adventure Time                                    3\n",
      "VW                                                3\n",
      "Dowman Imports Ltd                                3\n",
      "PST                                               3\n",
      "Stadlbauer Marketing + Vertrieb GmbH              3\n",
      "The Harlequin Brand                               3\n",
      "Christmas and Decorations                         3\n",
      "Santoys                                           3\n",
      "Lagoon                                            3\n",
      "Batman                                            3\n",
      "Honda                                             3\n",
      "Amazona's presentz                                3\n",
      "Fibracolor                                        3\n",
      "Trix                                              3\n",
      "Good Deals Online                                 3\n",
      "GoKi                                              3\n",
      "Party Savvy                                       3\n",
      "Dress Up America                                  3\n",
      "Games Workshop                                    3\n",
      "Signature Balloons                                3\n",
      "AHK Hand Puppets                                  3\n",
      "Eurowrap                                          3\n",
      "Jurassic World                                    3\n",
      "Dragon Shield                                     3\n",
      "Dude Dice                                         3\n",
      "How to Train Your Dragon                          3\n",
      "Studio Light                                      3\n",
      "Lyra                                              3\n",
      "Jake and the Neverland Pirates                    3\n",
      "Academy                                           3\n",
      "Patch Products Inc.                               3\n",
      "Yu-Gi-Oh                                          3\n",
      "DS Styles                                         3\n",
      "Craftplay                                         3\n",
      "Markylis                                          3\n",
      "Ginger Fox                                        3\n",
      "Frozen                                            3\n",
      "Riverboat Gaming                                  3\n",
      "AOSHIMA                                           3\n",
      "Bontempi                                          3\n",
      "Yacool ®                                          3\n",
      "Christy's                                         3\n",
      "Impressions                                       3\n",
      "Shuffle                                           3\n",
      "Honey B's                                         3\n",
      "Ren Art                                           3\n",
      "Animewild                                         3\n",
      "Aurora                                            3\n",
      "Quay                                              3\n",
      "KT                                                3\n",
      "Dinosaur Train                                    3\n",
      "California Costume                                3\n",
      "Mega Bloks                                        3\n",
      "Blancho                                           3\n",
      "Tommy Tech                                        3\n",
      "Little Pals                                       3\n",
      "Train Tech                                        3\n",
      "Royal Magic                                       3\n",
      "Angry Birds                                       3\n",
      "Rubie's Masquerade UK                             3\n",
      "Looney Labs                                       3\n",
      "CubicFun                                          3\n",
      "Janod                                             3\n",
      "Collecta                                          3\n",
      "Morris & Co                                       3\n",
      "Djeco                                             3\n",
      "Innotab                                           3\n",
      "Joal                                              3\n",
      "Pocket dice games                                 3\n",
      "Bulk Dice                                         3\n",
      "partyallsorts                                     3\n",
      "Paw Patrol                                        3\n",
      "Teamsterz                                         3\n",
      "Binney & Smith                                    3\n",
      "XINTE                                             3\n",
      "Tarquin                                           3\n",
      "Morphsuits                                        3\n",
      "Micki Leksaker                                    3\n",
      "Kawaii                                            3\n",
      "Dazzle Glitter Tattoos                            3\n",
      "AFV Club                                          3\n",
      "Creativity International                          3\n",
      "Misha                                             3\n",
      "Sylvanian Families                                3\n",
      "Hello Kitty                                       3\n",
      "SunsOut                                           3\n",
      "Greater Than Games                                3\n",
      "LELIN                                             3\n",
      "Cheerson                                          3\n",
      "MY                                                3\n",
      "Leg Avenue                                        3\n",
      "Kidoloop                                          3\n",
      "Alderac Entertainment Group                       3\n",
      "Playwrite                                         3\n",
      "STOBART                                           3\n",
      "Greenlight                                        3\n",
      "Cra-Z-Sand                                        3\n",
      "Great Gizmos                                      3\n",
      "Despicable Me                                     3\n",
      "Miniart                                           3\n",
      "Swimways                                          3\n",
      "Epoch                                             3\n",
      "Toy Brokers                                       3\n",
      "k2-accessories Alphabet Letter Beads              3\n",
      "Gibsons                                           3\n",
      "Bushiroad                                         3\n",
      "howa                                              3\n",
      "Hallmark                                          3\n",
      "Woodware Craft Collection Ltd                     3\n",
      "Rockets Toys                                      3\n",
      "Nickelodeon                                       3\n",
      "Cardfight Vanguard                                3\n",
      "FamilyMall                                        3\n",
      "ToyMarket                                         3\n",
      "Rummikub                                          3\n",
      "Glitter Tattoo Powder                             3\n",
      "Crazy Grans                                       3\n",
      "Zvezda                                            3\n",
      "King                                              3\n",
      "Diamond Select                                    3\n",
      "Oskar & Ellen                                     3\n",
      "Green Lantern                                     3\n",
      "Viga                                              3\n",
      "Magic Madhouse                                    3\n",
      "Lamborghini                                       3\n",
      "Gohner                                            2\n",
      "Character                                         2\n",
      "Fancy Me                                          2\n",
      "pocketgames                                       2\n",
      "Beleduc                                           2\n",
      "Girls Glitter Tattoo Kits                         2\n",
      "BBC Worldwide                                     2\n",
      "Poly Dice Sets                                    2\n",
      "Emmas Wardrobe                                    2\n",
      "Ninco                                             2\n",
      "Grids                                             2\n",
      "Rubie's Masquerade                                2\n",
      "Tofern                                            2\n",
      "BSD                                               2\n",
      "Abystyle                                          2\n",
      "Tactic                                            2\n",
      "Motor Zone                                        2\n",
      "Fun And Glitter                                   2\n",
      "Green Toys                                        2\n",
      "Fur Real Friends                                  2\n",
      "Fiesta Crafts                                     2\n",
      "Steve Jackson Games                               2\n",
      "Emek                                              2\n",
      "Smoby                                             2\n",
      "NPW                                               2\n",
      "Sideshow Collectibles                             2\n",
      "FDC                                               2\n",
      "Heaton party                                      2\n",
      "ukgiftstoreonline                                 2\n",
      "Kaiyodo                                           2\n",
      "Gamewright                                        2\n",
      "LeapFrog                                          2\n",
      "Tomytec                                           2\n",
      "McFarlane                                         2\n",
      "50Fifty                                           2\n",
      "The Stickerman                                    2\n",
      "Female Fancy Dress                                2\n",
      "DJI                                               2\n",
      "Silkcraft                                         2\n",
      "Scene It                                          2\n",
      "Flair                                             2\n",
      "Hape Early Explorer                               2\n",
      "Joyride Entertainment - James Bond                2\n",
      "Wild Republic                                     2\n",
      "KAS                                               2\n",
      "KidO                                              2\n",
      "POP! Bobble                                       2\n",
      "Fujimi                                            2\n",
      "Mister Maker                                      2\n",
      "Fashion Angels                                    2\n",
      "Snazaroo                                          2\n",
      "Heaton                                            2\n",
      "Screenlife                                        2\n",
      "Sambro                                            2\n",
      "Inkworks                                          2\n",
      "Sideshow                                          2\n",
      "MagicMakers                                       2\n",
      "DP                                                2\n",
      "ASCRAFTS                                          2\n",
      "Scooby Doo                                        2\n",
      "Domino Express                                    2\n",
      "WIDMANN                                           2\n",
      "Real Toys                                         2\n",
      "Captain Scarlet                                   2\n",
      "Wacky Wobbler                                     2\n",
      "Warlord Games                                     2\n",
      "Muppets                                           2\n",
      "Thames & Kosmos                                   2\n",
      "Puffin Balloons                                   2\n",
      "David Westnedge                                   2\n",
      "Supreme Models Online                             2\n",
      "Littlest Pet Shop                                 2\n",
      "bgc                                               2\n",
      "Mondo Motors                                      2\n",
      "Maxim                                             2\n",
      "COOCHEER                                          2\n",
      "Front Porch                                       2\n",
      "Haba                                              2\n",
      "Town Square Miniatures                            2\n",
      "Stomp Rocket                                      2\n",
      "BOLAND BV                                         2\n",
      "Tinksky                                           2\n",
      "eDigital Creations Party Supplies                 2\n",
      "Scola                                             2\n",
      "Comansi                                           2\n",
      "WHOLESALE BEADS & CHARMS                          2\n",
      "The Little Party Shop                             2\n",
      "RUBIES UK                                         2\n",
      "Halilit                                           2\n",
      "The Hobbit                                        2\n",
      "Green Toys And Games                              2\n",
      "ETHAHE                                            2\n",
      "Wilton Bradley                                    2\n",
      "Apples to Pears                                   2\n",
      "Pinflair                                          2\n",
      "NMIT                                              2\n",
      "Goliath                                           2\n",
      "Ty                                                2\n",
      "Gemini Jets                                       2\n",
      "Groovy Girl                                       2\n",
      "Wet 'n' Wild                                      2\n",
      "Heidi Ott                                         2\n",
      "Freeing                                           2\n",
      "Kidrobot                                          2\n",
      "Rocky Horror Picture Show                         2\n",
      "Alphabet Art                                      2\n",
      "Foxmind                                           2\n",
      "Warhammer                                         2\n",
      "The Avengers                                      2\n",
      "Cultzilla                                         2\n",
      "Tinsley Transfers                                 2\n",
      "Tarquin Group                                     2\n",
      "Disguise                                          2\n",
      "Lord of the Rings                                 2\n",
      "RoadBot                                           2\n",
      "Slam Attax                                        2\n",
      "BBTradesales                                      2\n",
      "Playbox                                           2\n",
      "partyallsorts.fba                                 2\n",
      "Aston Martin                                      2\n",
      "University Games                                  2\n",
      "AK Sport                                          2\n",
      "Magic Sand                                        2\n",
      "k2-accessories Organza Bags                       2\n",
      "Great Value Multipacks                            2\n",
      "WIDMANN S.R.L.                                    2\n",
      "Volley                                            2\n",
      "LoomAstic Bands                                   2\n",
      "Mickey Mouse                                      2\n",
      "Widman                                            2\n",
      "Be Creative                                       2\n",
      "Kotobukiya Co., Ltd.                              2\n",
      "Mercedes-Benz                                     2\n",
      "Lancia                                            2\n",
      "k2-accessories Leather Cord                       2\n",
      "Heye                                              2\n",
      "Spinning Hat                                      2\n",
      "D-TOYS                                            2\n",
      "Mega Fancy Dress                                  2\n",
      "Downtown                                          2\n",
      "Master Of Chess                                   2\n",
      "Left Center Right                                 2\n",
      "NPK                                               2\n",
      "Twigz                                             2\n",
      "zizzi                                             2\n",
      "Swimming and Pool Games                           2\n",
      "Banpresto                                         2\n",
      "Elope                                             2\n",
      "SE                                                2\n",
      "Branching Out                                     2\n",
      "Funtime                                           2\n",
      "Alligator Books                                   2\n",
      "Lalaloopsy Mini                                   2\n",
      "KAIYODO JAP.                                      2\n",
      "Quercetti                                         2\n",
      "The Personalised Party Co.                        2\n",
      "Buiten speel                                      2\n",
      "MODERN TRUCKS                                     2\n",
      "Elysium Enterprises                               2\n",
      "Collectable Diecast                               2\n",
      "The Walking Dead                                  2\n",
      "Sieper GmbH                                       2\n",
      "CRAZYLADIES COSTUMES                              2\n",
      "CHIC 2000                                         2\n",
      "Polesie Wader                                     2\n",
      "Life Is Good                                      2\n",
      "nanoblock                                         2\n",
      "Ultimate Guard                                    2\n",
      "BLACK STAR MEDIEVAL CLOTHING                      2\n",
      "Hawk Wargames                                     2\n",
      "Bicycle Cards                                     2\n",
      "Wonham                                            2\n",
      "TC                                                2\n",
      "The Pokémon Company                               2\n",
      "A Nightmare On Elm Street                         2\n",
      "Fundex                                            2\n",
      "Black Butler                                      2\n",
      "Anagram                                           2\n",
      "Minilabel                                         2\n",
      "RUBBIES FRANCE                                    2\n",
      "Upstarts                                          2\n",
      "RoyaltyLane                                       2\n",
      "Tactic Games UK                                   2\n",
      "Casdon                                            2\n",
      "Schylling                                         2\n",
      "Beado's                                           2\n",
      "Studio Anne Carlton                               2\n",
      "Gund                                              2\n",
      "Transformers Dark of the Moon                     2\n",
      "Stickers                                          2\n",
      "Home & Leisure Online                             2\n",
      "MoYu                                              2\n",
      "Eckon                                             2\n",
      "JINX                                              2\n",
      "Bolz                                              2\n",
      "The Cosplay Company                               2\n",
      "Flames of War                                     2\n",
      "Lion Chess                                        2\n",
      "Plastic Soldier Company                           2\n",
      "Crystals & Gems Uk                                2\n",
      "Vivid                                             2\n",
      "GIZZY                                             2\n",
      "fancy dress warehouse                             2\n",
      "Road Rippers                                      2\n",
      "DGT                                               2\n",
      "ZooBooKoo                                         2\n",
      "Identipen                                         2\n",
      "Aqua Beads                                        2\n",
      "Doc McStuffins                                    2\n",
      "Wizards                                           2\n",
      "SGM ®                                             2\n",
      "TV Stars                                          2\n",
      "National Geographic                               2\n",
      "Aedes Ars                                         2\n",
      "Cityscape Maps Ltd                                2\n",
      "Carl Schmieder                                    2\n",
      "Glitter Tattoo Starter Kits                       2\n",
      "Ark Toys                                          2\n",
      "Parties Unwrapped                                 2\n",
      "Thundercats                                       2\n",
      "Fancy Pants Store                                 2\n",
      "Asmodée                                           2\n",
      "The Dolls House Emporium                          2\n",
      "Venom                                             2\n",
      "fancydrescoz                                      2\n",
      "Cool Create                                       2\n",
      "Early Learning Centre                             2\n",
      "Tyco                                              2\n",
      "k2-accessories Organza Ribbon                     2\n",
      "Atlas                                             2\n",
      "Chinatera                                         2\n",
      "signs-unique                                      2\n",
      "k2-accessories                                    2\n",
      "Walking with Dinosaurs                            2\n",
      "Peaceable Kingdom                                 2\n",
      "Funskool                                          2\n",
      "KidKraft                                          2\n",
      "HOBBYTIGER                                        2\n",
      "John Deere                                        2\n",
      "Polly Pocket                                      2\n",
      "Ducati                                            2\n",
      "niceEshop                                         2\n",
      "Indigo                                            2\n",
      "EW Education                                      2\n",
      "Pegasus Hobbies                                   2\n",
      "iParaAiluRy                                       2\n",
      "Britains Farm                                     2\n",
      "Warmachine                                        2\n",
      "George                                            2\n",
      "Fireman Sam                                       2\n",
      "Olde Scotland Yard Ltd.                           2\n",
      "Forces Of Valor                                   2\n",
      "Coca-Cola                                         2\n",
      "Dowman                                            2\n",
      "Mattel GmbH                                       2\n",
      "ABC                                               2\n",
      "Ginger Ray                                        2\n",
      "Karaloon                                          2\n",
      "Richmond Toys, Motormax                           2\n",
      "Chessebook                                        2\n",
      "Audi                                              2\n",
      "chinkyboo                                         2\n",
      "OakTree                                           2\n",
      "Ryman                                             2\n",
      "BBC                                               2\n",
      "Trival Pursuit                                    2\n",
      "Xq Toys                                           2\n",
      "Upper Deck                                        2\n",
      "k2-accessories Craft                              2\n",
      "Porsche                                           2\n",
      "Make It With Beads                                2\n",
      "Crafters Companion                                2\n",
      "Prime Chess                                       2\n",
      "Good Smile                                        2\n",
      "Angels Fancy Dress                                2\n",
      "Lag3                                              2\n",
      "Dantoy                                            2\n",
      "Gunther                                           2\n",
      "EXPRESSION                                        2\n",
      "MicroMiniatures                                   2\n",
      "HB HomeBoat®                                      2\n",
      "Spark                                             2\n",
      "Sequin Art                                        2\n",
      "Kibri                                             2\n",
      "Rubber Johnnies TM                                2\n",
      "K'Nex                                             2\n",
      "Sticker4U                                         2\n",
      "BALLOONSHOP                                       2\n",
      "80s Material Girl                                 2\n",
      "DC Collectibles                                   2\n",
      "Sonic The Hedgehog                                2\n",
      "RCL Toys                                          2\n",
      "sideshow weta                                     2\n",
      "B&L                                               2\n",
      "Anita's                                           2\n",
      "iOSSS                                             2\n",
      "Sunstar                                           2\n",
      "Vinsani                                           2\n",
      "Rubies Costume Co                                 2\n",
      "Graupner                                          2\n",
      "Sochi 2014                                        1\n",
      "Reliant                                           1\n",
      "Archer Fine Transfers                             1\n",
      "Fascinations                                      1\n",
      "K and C, K and C                                  1\n",
      "Polka Dots                                        1\n",
      "Britains Big Farm                                 1\n",
      "KBT                                               1\n",
      "Bandai-Namco                                      1\n",
      "personalised party products                       1\n",
      "Seruna                                            1\n",
      "Rolls Royce                                       1\n",
      "Burger Boss                                       1\n",
      "Cthulhu                                           1\n",
      "Wiki                                              1\n",
      "Global Gizmos                                     1\n",
      "Golo                                              1\n",
      "WizKids                                           1\n",
      "Comic Maker                                       1\n",
      "Markwins International                            1\n",
      "Gonge                                             1\n",
      "Train                                             1\n",
      "Carrera 'Go'                                      1\n",
      "Fish Around                                       1\n",
      "Stephens                                          1\n",
      "Pokemon Trading Cards                             1\n",
      "White Wizards Games                               1\n",
      "WayIn                                             1\n",
      "GREENLIGHT/ROAD2RACEMODELS                        1\n",
      "Secret Scholar                                    1\n",
      "Ares                                              1\n",
      "Ben & Holly                                       1\n",
      "partiesandgifts                                   1\n",
      "Game Salute                                       1\n",
      "Jakks Pacific Inc.                                1\n",
      "Soccer Brain                                      1\n",
      "REGENT GROUP LTD                                  1\n",
      "Diabolical Gift People                            1\n",
      "HLT Miniatures                                    1\n",
      "GRAHAM'S GAMES                                    1\n",
      "ICEBOX                                            1\n",
      "CRAFTY BITZ                                       1\n",
      "GRABO                                             1\n",
      "Anbee                                             1\n",
      "Gardeningwill                                     1\n",
      "T-34/85 1945 diecast model tank                   1\n",
      "Tenflyer                                          1\n",
      "24 Game                                           1\n",
      "Viskey                                            1\n",
      "Max Protect                                       1\n",
      "Tober                                             1\n",
      "EQD                                               1\n",
      "Estia                                             1\n",
      "rolly toys                                        1\n",
      "County Engraving                                  1\n",
      "Dragon Models                                     1\n",
      "Jack Daniels Whiskey                              1\n",
      "Toys R Us                                         1\n",
      "iColourful                                        1\n",
      "60°                                               1\n",
      "Woodandtots                                       1\n",
      "m.y                                               1\n",
      "License 2 Play Inc                                1\n",
      "Eddie Stobart                                     1\n",
      "Phase 10 Card Game                                1\n",
      "Märklin                                           1\n",
      "Peanuts                                           1\n",
      "DKL                                               1\n",
      "Privateer Press                                   1\n",
      "Wonderworld                                       1\n",
      "Kenner                                            1\n",
      "SES Creative                                      1\n",
      "Walkera                                           1\n",
      "Oliver pascal                                     1\n",
      "MagicWorld                                        1\n",
      "Cardinal                                          1\n",
      "The Glitter Tree                                  1\n",
      "Plaid Hat Games                                   1\n",
      "Brushwood                                         1\n",
      "Eye On Asia                                       1\n",
      "Model Power                                       1\n",
      "Wicked Vision Ltd                                 1\n",
      "Pop It Up                                         1\n",
      "Bundle Monster                                    1\n",
      "floral natalie                                    1\n",
      "Red Star                                          1\n",
      "Little Miss                                       1\n",
      "Linxinwei                                         1\n",
      "girls party bag fillers                           1\n",
      "ChannelAdvisor                                    1\n",
      "Hobby Games                                       1\n",
      "Nemesis Now                                       1\n",
      "Asuka Model                                       1\n",
      "KRE-O                                             1\n",
      "Peers Hardy                                       1\n",
      "Best Line                                         1\n",
      "ROLLIEREND                                        1\n",
      "Berko                                             1\n",
      "Pok?mon                                           1\n",
      "kitsch                                            1\n",
      "US Playing Card Co.                               1\n",
      "8                                                 1\n",
      "Pixar Cars                                        1\n",
      "The Glowhouse                                     1\n",
      "playteachers                                      1\n",
      "FunkyBuys                                         1\n",
      "GGSELL                                            1\n",
      "16th Birthday 16th Foil Banner - 9ft              1\n",
      "Marvel Superhero Squad                            1\n",
      "TWILIGHT SAGA                                     1\n",
      "Takaratommy                                       1\n",
      "Inspire                                           1\n",
      "Deb Darling Designs                               1\n",
      "shopondo                                          1\n",
      "FRILLY LILY                                       1\n",
      "SMER                                              1\n",
      "Munsters                                          1\n",
      "Jouef                                             1\n",
      "Karnival                                          1\n",
      "Transformers Prime Beast Hunters                  1\n",
      "Monsters, Inc                                     1\n",
      "Chessbazaar                                       1\n",
      "Scribbledown                                      1\n",
      "Kyosho                                            1\n",
      "Amav                                              1\n",
      "Scarface                                          1\n",
      "Clown                                             1\n",
      "sussed?                                           1\n",
      "Subaru                                            1\n",
      "Corgi Toys                                        1\n",
      "Copag                                             1\n",
      "Main Sauce Production                             1\n",
      "Jakks Pacific                                     1\n",
      "Throwing Stars                                    1\n",
      "MGA Entertainment                                 1\n",
      "Quantum Mechanix                                  1\n",
      "BuyinCoins                                        1\n",
      "Ex Mag                                            1\n",
      "Flight                                            1\n",
      "Mini Chou Chou Birdies                            1\n",
      "Generico                                          1\n",
      "Clangers                                          1\n",
      "Super Mario                                       1\n",
      "Pin -It                                           1\n",
      "Amatola-Kei                                       1\n",
      "World Cup                                         1\n",
      "E-Bargains                                        1\n",
      "Omerta                                            1\n",
      "Accel World                                       1\n",
      "Z-Man Games                                       1\n",
      "Crew                                              1\n",
      "The Sticker Factory                               1\n",
      "Kobwa                                             1\n",
      "Race for the Galaxy: Brink of War                 1\n",
      "My1stWish                                         1\n",
      "Polar Lights                                      1\n",
      "Yuelai                                            1\n",
      "Kingfisher                                        1\n",
      "Benross                                           1\n",
      "Professor Puzzle - UK                             1\n",
      "James Hamilton Grovely                            1\n",
      "Shatchi                                           1\n",
      "MaskHeaven                                        1\n",
      "Dempsey Designs Minicraft                         1\n",
      "douself                                           1\n",
      "Medieval Dragon Ride-On                           1\n",
      "PILOW PUPPETS                                     1\n",
      "LISCIANI                                          1\n",
      "BTC                                               1\n",
      "Vanguards                                         1\n",
      "esto24                                            1\n",
      "HONGBE                                            1\n",
      "John Crane                                        1\n",
      "Looney Tunes                                      1\n",
      "Brainstorm Toys                                   1\n",
      "TNMT                                              1\n",
      "Tons Of Fun Balloons LTD                          1\n",
      "SJ R/C                                            1\n",
      "Party Discount                                    1\n",
      "Kressies                                          1\n",
      "Mini Flopsie                                      1\n",
      "Cabbage Patch Kids                                1\n",
      "k2-accessories Beading Thread Wire                1\n",
      "Tri-Balloons                                      1\n",
      "Planet of the Apes                                1\n",
      "Sota                                              1\n",
      "Qualatex / Unique                                 1\n",
      "marias                                            1\n",
      "Meadow Kids                                       1\n",
      "Spectrum                                          1\n",
      "Sohni-Wicke                                       1\n",
      "X-Wing Miniatures Game                            1\n",
      "Widdowsons Display Cases                          1\n",
      "The Orb Factory                                   1\n",
      "Märklin my world                                  1\n",
      "Bigjigs Road                                      1\n",
      "INTERALLIED                                       1\n",
      "Pretend to Bee                                    1\n",
      "h grossman                                        1\n",
      "Celebrity Cutouts                                 1\n",
      "Fine Horse                                        1\n",
      "Flying Gadgets                                    1\n",
      "Givenchy                                          1\n",
      "Beistle                                           1\n",
      "PJ                                                1\n",
      "Nintendo                                          1\n",
      "ARBE                                              1\n",
      "Lucy Locket                                       1\n",
      "MISSING                                           1\n",
      "Pure Tone                                         1\n",
      "Folat                                             1\n",
      "Penny Arcade                                      1\n",
      "Simm                                              1\n",
      "Ugglys                                            1\n",
      "Phat Company                                      1\n",
      "OEM                                               1\n",
      "Henbrant                                          1\n",
      "Woodland Scenics                                  1\n",
      "Bentley                                           1\n",
      "Robelli                                           1\n",
      "BLO pens                                          1\n",
      "United Labels                                     1\n",
      "Dragon-i Toys                                     1\n",
      "Sas Protection                                    1\n",
      "Trend                                             1\n",
      "Concept4u                                         1\n",
      "Evil Hat Productions                              1\n",
      "Puzzle With Me                                    1\n",
      "SGM                                               1\n",
      "Tricks Of The Trade, Inc.                         1\n",
      "solido                                            1\n",
      "Future Card Buddyfight                            1\n",
      "Born To Play                                      1\n",
      "Kahootz                                           1\n",
      "BIGMOUTHINC.                                      1\n",
      "Diverse                                           1\n",
      "Return to Ravnica Booster Display                 1\n",
      "Welecom                                           1\n",
      "Foxy Facemasks                                    1\n",
      "Purple Peach                                      1\n",
      "ChangThai Design                                  1\n",
      "MASK & CO                                         1\n",
      "Bauer                                             1\n",
      "Bachmann N Gauge                                  1\n",
      "Millenium                                         1\n",
      "Vitesse                                           1\n",
      "Super Heroes                                      1\n",
      "Vogue of Eden                                     1\n",
      "Trading Card Supplies                             1\n",
      "Bedford                                           1\n",
      "World Playground Ltd                              1\n",
      "Green Hornet                                      1\n",
      "Sizzix                                            1\n",
      "Card and Party Store                              1\n",
      "Fuzzy Felt                                        1\n",
      "JKR                                               1\n",
      "Hollywood/Prom - Theme Event                      1\n",
      "Seben-Racing                                      1\n",
      "Blythe                                            1\n",
      "Saint Seiya                                       1\n",
      "Water Lane Gifts                                  1\n",
      "Football                                          1\n",
      "Decopatch                                         1\n",
      "Little Miss Muffin                                1\n",
      "Nerf                                              1\n",
      "PATHWAYS FOR LEARNING                             1\n",
      "esscosa                                           1\n",
      "Danawares                                         1\n",
      "TMNT                                              1\n",
      "PARTNER INTERNATIONAL                             1\n",
      "Juff Dunham                                       1\n",
      "RC2                                               1\n",
      "ketpriz                                           1\n",
      "DC                                                1\n",
      "TAYO                                              1\n",
      "Abbey Road Studios- Music Trivia                  1\n",
      "Paint and Play Today                              1\n",
      "Art Asylum                                        1\n",
      "TrueScale Miniatures                              1\n",
      "Furuta                                            1\n",
      "Hollywood                                         1\n",
      "LS Glamour Room                                   1\n",
      "Bettie Page                                       1\n",
      "Games with Names                                  1\n",
      "Yamato                                            1\n",
      "Sequin Art Hello Kitty Gothic Design              1\n",
      "AFUNTA                                            1\n",
      "Vectis                                            1\n",
      "William Sinclairs                                 1\n",
      "Storyonics                                        1\n",
      "maboobie                                          1\n",
      "Power Rangers Samurai                             1\n",
      "SA                                                1\n",
      "Juliet's Kiss                                     1\n",
      "Nintendogs                                        1\n",
      "db                                                1\n",
      "Yugioh                                            1\n",
      "Flag Tattoos - Temporary Tattoos 4U               1\n",
      "Dino Dice                                         1\n",
      "Magnetic                                          1\n",
      "AoE Performance                                   1\n",
      "Käthe Kruse                                       1\n",
      "GODZILA                                           1\n",
      "Kenneth Cole Reaction                             1\n",
      "Captain america                                   1\n",
      "Happy Cubes                                       1\n",
      "The Hulk                                          1\n",
      "Toy Biz                                           1\n",
      "Auto Books                                        1\n",
      "Robocar Poli                                      1\n",
      "Aoshima Models                                    1\n",
      "Brimtoy Dice Games                                1\n",
      "Tree Fu Tom                                       1\n",
      "North American Bear                               1\n",
      "BoxSet                                            1\n",
      "RSC                                               1\n",
      "Kibbles                                           1\n",
      "Scoot                                             1\n",
      "The Flagman                                       1\n",
      "Dealspanks                                        1\n",
      "Eachine                                           1\n",
      "SIMBA - DICKIE                                    1\n",
      "NOEL TATT                                         1\n",
      "Stretchy Suits                                    1\n",
      "ARSUK                                             1\n",
      "homeking                                          1\n",
      "The Wonham Collection                             1\n",
      "Idena                                             1\n",
      "McLaren                                           1\n",
      "Thor                                              1\n",
      "Glitter Body Art                                  1\n",
      "joe bar                                           1\n",
      "Slide                                             1\n",
      "Truly Madly Deeply                                1\n",
      "L-FENG-UK                                         1\n",
      "Dickie-Spielzeug                                  1\n",
      "Feature Pens                                      1\n",
      "Hollywood Star Attraction VIP Bunting - 12ft      1\n",
      "PowerPlus                                         1\n",
      "Babe Mall Inc                                     1\n",
      "Mirror Models                                     1\n",
      "Brainstorm                                        1\n",
      "Bojeux                                            1\n",
      "Cryptozoic Ent.                                   1\n",
      "JR Propo                                          1\n",
      "Habico                                            1\n",
      "cartemundai                                       1\n",
      "AKORD                                             1\n",
      "THE HOBBY COMPANY                                 1\n",
      "Orbotix                                           1\n",
      "Mammut                                            1\n",
      "Games                                             1\n",
      "belle                                             1\n",
      "Little Wigwam                                     1\n",
      "Yu-Gi-Oh 2013 Zexal Collectors Tin                1\n",
      "Fabrikations                                      1\n",
      "MAPS Toys                                         1\n",
      "Arcane Wonders                                    1\n",
      "Terraria                                          1\n",
      "Del Prado                                         1\n",
      "45\" Sunset Glow Pool                              1\n",
      "Gladiator Foam                                    1\n",
      "BlueBeach                                         1\n",
      "Trademark Toys                                    1\n",
      "mondo                                             1\n",
      "PMS International                                 1\n",
      "The Nightmare Before Christmas                    1\n",
      "Weenicons                                         1\n",
      "GHOST RECON                                       1\n",
      "HTI                                               1\n",
      "DC Super Friends                                  1\n",
      "Mike the Knight                                   1\n",
      "TEAMLOSI                                          1\n",
      "Xcut                                              1\n",
      "Winx Club                                         1\n",
      "Dcolor                                            1\n",
      "HomeTalks                                         1\n",
      "getDigital                                        1\n",
      "KAILIMENG                                         1\n",
      "Caterpillar                                       1\n",
      "iAS                                               1\n",
      "Tube Heroes                                       1\n",
      "Avatar                                            1\n",
      "Motormax                                          1\n",
      "Revoltech                                         1\n",
      "Unbeatable Games                                  1\n",
      "Tantrix                                           1\n",
      "Lagonda                                           1\n",
      "Hobbypower                                        1\n",
      "Marvel, 20th Century Fox                          1\n",
      "ALLKINDATHINGS                                    1\n",
      "ASH                                               1\n",
      "Mutant Mania                                      1\n",
      "Scratch                                           1\n",
      "Delph Miniatures                                  1\n",
      "Personalised Bears and Rag Dolls                  1\n",
      "yugioh                                            1\n",
      "Tomica                                            1\n",
      "Dunster House                                     1\n",
      "Signstek                                          1\n",
      "HappyCloud                                        1\n",
      "Giotto                                            1\n",
      "VStoy                                             1\n",
      "Mayflower                                         1\n",
      "Metal products                                    1\n",
      "Thinkway Toys                                     1\n",
      "TopMei                                            1\n",
      "Super Mario Bros.                                 1\n",
      "Simba Toys                                        1\n",
      "GeoSpace                                          1\n",
      "Illoom balloons Purple - pack of 5                1\n",
      "Railway                                           1\n",
      "dazzling toys                                     1\n",
      "Bluw                                              1\n",
      "Lily Dolls                                        1\n",
      "RMS International                                 1\n",
      "Express Gifts                                     1\n",
      "Top Trivia                                        1\n",
      "Royal Family                                      1\n",
      "Fun Express                                       1\n",
      "POP! Rides                                        1\n",
      "Lagoon Group                                      1\n",
      "Old Glory                                         1\n",
      "Max Protection                                    1\n",
      "Super Robot                                       1\n",
      "Corgi Vanguards                                   1\n",
      "Dust Studio                                       1\n",
      "WUSCHL                                            1\n",
      "British Museum                                    1\n",
      "GET RETRO                                         1\n",
      "Sailor Girl                                       1\n",
      "Anniversary House                                 1\n",
      "Bead-boutique                                     1\n",
      "Aqua Noodle                                       1\n",
      "Christmas                                         1\n",
      "INFINITE INNOVATIONS INC                          1\n",
      "Liverpool F.C.                                    1\n",
      "The Little Experience                             1\n",
      "Tagamoto                                          1\n",
      "Horch                                             1\n",
      "Konfi-store                                       1\n",
      "Fashion Accessory                                 1\n",
      "Letraset                                          1\n",
      "Graham Farish                                     1\n",
      "GoodsforU                                         1\n",
      "Vollter                                           1\n",
      "Ducati Supersport 1000ds HF 2003 bike             1\n",
      "Berenguer                                         1\n",
      "Benross Group                                     1\n",
      "Playing Cards                                     1\n",
      "FDPS                                              1\n",
      "Altaya                                            1\n",
      "Tobot                                             1\n",
      "Aquapets                                          1\n",
      "SpringRC                                          1\n",
      "toybiz                                            1\n",
      "GOGO                                              1\n",
      "Anself                                            1\n",
      "Game                                              1\n",
      "Half Moon Bay                                     1\n",
      "Master Replicas LLC.                              1\n",
      "Party Destination                                 1\n",
      "AB Gee                                            1\n",
      "Dynamite                                          1\n",
      "ACROBAT & BUFFOONERY LTD                          1\n",
      "Personalised Party Supplies                       1\n",
      "The Great British Teddy Bear Company              1\n",
      "Transformers Age of Extinction                    1\n",
      "Trade Mark Collections                            1\n",
      "Purity                                            1\n",
      "Sequin Art Style Karoake                          1\n",
      "GameBrotherZ                                      1\n",
      "Fayee                                             1\n",
      "Planes                                            1\n",
      "Indigo Worldwide Ltd                              1\n",
      "Releaserain                                       1\n",
      "Cards                                             1\n",
      "Sales La                                          1\n",
      "Road Signature                                    1\n",
      "Rittenhouse                                       1\n",
      "DIY Celebrity Masks                               1\n",
      "Funrise                                           1\n",
      "The Online Stores                                 1\n",
      "Jamara                                            1\n",
      "Big Potato                                        1\n",
      "TB                                                1\n",
      "4 Pocket Pro Binder Black                         1\n",
      "UNO Cards                                         1\n",
      "Scream                                            1\n",
      "ZAP - Z                                           1\n",
      "Redakai                                           1\n",
      "Bosskut                                           1\n",
      "TMP                                               1\n",
      "Jack Daniel                                       1\n",
      "Octonauts                                         1\n",
      "Greylight Limited                                 1\n",
      "Pokemon TCG XY 2014 Spring Tin                    1\n",
      "Britannia Games                                   1\n",
      "Just Feathers by Crazy Grans                      1\n",
      "SL                                                1\n",
      "Big Hero 6                                        1\n",
      "Cardinal Industries                               1\n",
      "|MFG                                              1\n",
      "Dolls House Parade                                1\n",
      "Imajo                                             1\n",
      "KMC                                               1\n",
      "Frogs                                             1\n",
      "Masters of the Universe                           1\n",
      "Pintoy                                            1\n",
      "Street Fighter                                    1\n",
      "The Expression Factory                            1\n",
      "Yo Yo Factory                                     1\n",
      "Merlins Medieval Closet                           1\n",
      "Rag Dolls                                         1\n",
      "White Mountain Puzzles                            1\n",
      "xs-party                                          1\n",
      "Trading Cards                                     1\n",
      "Miles                                             1\n",
      "Millhouse                                         1\n",
      "Electrovision                                     1\n",
      "The Penguins                                      1\n",
      "Card Concept                                      1\n",
      "Product Enterprise                                1\n",
      "Science & Play                                    1\n",
      "Trivial Pursuits                                  1\n",
      "Kelly Toys                                        1\n",
      "IPT Imports                                       1\n",
      "Bontempi IGirl                                    1\n",
      "DSN                                               1\n",
      "My Doll                                           1\n",
      "uni-ball                                          1\n",
      "Timberkits                                        1\n",
      "Wildlife                                          1\n",
      "Hard As Nails                                     1\n",
      "Fun Shack                                         1\n",
      "Fun Stickers                                      1\n",
      "Megahouse                                         1\n",
      "OMYGOD                                            1\n",
      "Miniland                                          1\n",
      "BCW                                               1\n",
      "Silk Daisy Chain Gift Box                         1\n",
      "Jakobs                                            1\n",
      "WAS                                               1\n",
      "theinthing.com                                    1\n",
      "Biestle                                           1\n",
      "Happy Birthday Balloons                           1\n",
      "Laverda                                           1\n",
      "The Big Bang Rocket                               1\n",
      "Starline                                          1\n",
      "Brogamats                                         1\n",
      "Wildcard Games                                    1\n",
      "unisex party bag fillers                          1\n",
      "Keycraft                                          1\n",
      "Zagone Studios                                    1\n",
      "Colorino                                          1\n",
      "Gigamic                                           1\n",
      "Beads4crafts                                      1\n",
      "Leeho                                             1\n",
      "Perfect Combiner                                  1\n",
      "Gregory Crafts & Gifts                            1\n",
      "Flexmetal                                         1\n",
      "Pacific Rim                                       1\n",
      "Walthers Trainline                                1\n",
      "Thorness                                          1\n",
      "Double Horse                                      1\n",
      "Marvin's Magic                                    1\n",
      "MDL                                               1\n",
      "Great Minds                                       1\n",
      "Heng Long                                         1\n",
      "Nanostad                                          1\n",
      "Furry Warmers                                     1\n",
      "Colour Me Mine                                    1\n",
      "Bepuzzled                                         1\n",
      "Kids Create                                       1\n",
      "Stoneblade Entertainment                          1\n",
      "Pathfinder                                        1\n",
      "Samantha Peach                                    1\n",
      "Legion Supplies                                   1\n",
      "DELUXE MATERIALS                                  1\n",
      "Allaccessories                                    1\n",
      "Puckator                                          1\n",
      "Trains                                            1\n",
      "Cubic Fun 3D Puzzle                               1\n",
      "Motor Mania                                       1\n",
      "Bits and Pieces                                   1\n",
      "Tenzi                                             1\n",
      "sunnytech®                                        1\n",
      "Koplow Games                                      1\n",
      "Lanard                                            1\n",
      "Olympics/Jubilee                                  1\n",
      "Starepe                                           1\n",
      "Goula                                             1\n",
      "Olympic Mascots                                   1\n",
      "Amscan International                              1\n",
      "Body Glue- Adhesive                               1\n",
      "ccf                                               1\n",
      "Tidlo                                             1\n",
      "Fast and Furious                                  1\n",
      "Starform                                          1\n",
      "Eshylala                                          1\n",
      "CRW                                               1\n",
      "Flex                                              1\n",
      "Playskool                                         1\n",
      "UKPS                                              1\n",
      "Peter Rabbit                                      1\n",
      "MCS                                               1\n",
      "DreamFlying                                       1\n",
      "Witzigs                                           1\n",
      "LUJII                                             1\n",
      "JEWELTAILOR                                       1\n",
      "Sleddy Rainbow                                    1\n",
      "Accessotech                                       1\n",
      "Home Fusion Company                               1\n",
      "Land Rover                                        1\n",
      "Empire                                            1\n",
      "EQLEF®                                            1\n",
      "princess party                                    1\n",
      "Zhu Zhu Ponies                                    1\n",
      "KakapopoTCG Deck Box                              1\n",
      "Pip-squeak markers                                1\n",
      "Ateamart                                          1\n",
      "k2-accessories Ready Necklace & Bracelet          1\n",
      "Party Delights Ltd                                1\n",
      "Novelty Gifts                                     1\n",
      "Pazapa                                            1\n",
      "GGG                                               1\n",
      "Hardley Dangerous                                 1\n",
      "Hennessey                                         1\n",
      "Spektrum                                          1\n",
      "Iello                                             1\n",
      "Tumdee Miniatures                                 1\n",
      "Driver Dan                                        1\n",
      "Calafant                                          1\n",
      "Inflatable Partyware                              1\n",
      "Internet Gift Store                               1\n",
      "Friendship Loom                                   1\n",
      "WLToys                                            1\n",
      "Snoopy                                            1\n",
      "Little Live Pets                                  1\n",
      "Darda                                             1\n",
      "Blade                                             1\n",
      "Vigid Imaginations                                1\n",
      "Asmodee Editions                                  1\n",
      "Northstar                                         1\n",
      "Ghostbusters                                      1\n",
      "Alandra                                           1\n",
      "Kem                                               1\n",
      "SKYREAT                                           1\n",
      "West5Products                                     1\n",
      "Linkee 4 little questions. 1 big link.            1\n",
      "Party Parade                                      1\n",
      "Baby Celebrations                                 1\n",
      "Pipkits                                           1\n",
      "Pontiac                                           1\n",
      "Educa                                             1\n",
      "B                                                 1\n",
      "GGS                                               1\n",
      "Engino                                            1\n",
      "Mighty Megasaur                                   1\n",
      "Music/Disco/Rock & Roll Theme                     1\n",
      "Adrenalyn                                         1\n",
      "i.LifeUK                                          1\n",
      "Mookie                                            1\n",
      "KIDS-OUTLET                                       1\n",
      "The Blue Crown                                    1\n",
      "KiddyPlay                                         1\n",
      "Angels Avenue                                     1\n",
      "Concession Market®                                1\n",
      "Pinzhi                                            1\n",
      "MMC                                               1\n",
      "BV Leisure                                        1\n",
      "Big Mouth Toys                                    1\n",
      "Out of the Blue                                   1\n",
      "Max Tow Truck                                     1\n",
      "Leisure                                           1\n",
      "DF Soft Toys                                      1\n",
      "Waddingtons                                       1\n",
      "New World Toys                                    1\n",
      "Wild Kratts                                       1\n",
      "Scrabble                                          1\n",
      "Dirty Fingers                                     1\n",
      "Me & My Big Ideas                                 1\n",
      "Dolly Doo                                         1\n",
      "TNK                                               1\n",
      "Boppi                                             1\n",
      "EMCE Toys                                         1\n",
      "Final Fantasy                                     1\n",
      "Girlie Paws                                       1\n",
      "Zomlings Series 4                                 1\n",
      "World of Warriors                                 1\n",
      "101                                               1\n",
      "Fisher Price                                      1\n",
      "Alien Connection Ltd                              1\n",
      "Marvel Comics                                     1\n",
      "Model Kasten                                      1\n",
      "Unique Freak Tattoos                              1\n",
      "CD FUNDRAISING                                    1\n",
      "Cup Cake Dice                                     1\n",
      "Opel                                              1\n",
      "Ace Trumps                                        1\n",
      "Wiking                                            1\n",
      "Custom Masks                                      1\n",
      "Guaranteed4Less                                   1\n",
      "Aliens                                            1\n",
      "Logitoys                                          1\n",
      "Think Pink                                        1\n",
      "Ashmolean                                         1\n",
      "Jay & Silent Bob                                  1\n",
      "Ace Authentic                                     1\n",
      "EY-slimming toys                                  1\n",
      "Texas Holdem Poker Layout Cloth                   1\n",
      "Tellatale                                         1\n",
      "OnlineDiscountStore                               1\n",
      "Bin Weevils                                       1\n",
      "EDX Education                                     1\n",
      "Greenhills Garages                                1\n",
      "Tekken                                            1\n",
      "Gruffalo Party                                    1\n",
      "Esdevium Games                                    1\n",
      "Pop Stars                                         1\n",
      "Jensen                                            1\n",
      "Guess How Much I Love You                         1\n",
      "Iwaya                                             1\n",
      "Elizabeth Arden                                   1\n",
      "Posh Paws International                           1\n",
      "The Training Shop Kit                             1\n",
      "Educa Borras                                      1\n",
      "Mini                                              1\n",
      "Wow Wee                                           1\n",
      "Party Genies                                      1\n",
      "Invero®                                           1\n",
      "woooow doll                                       1\n",
      "BINGWAN                                           1\n",
      "GoForItGames.com                                  1\n",
      "Ace                                               1\n",
      "bee                                               1\n",
      "Jacks                                             1\n",
      "Pulp Fiction                                      1\n",
      "DC Universe Classics                              1\n",
      "ChoicefullBargain                                 1\n",
      "Tonka                                             1\n",
      "Aviation 72                                       1\n",
      "EGT Toys et Garden                                1\n",
      "Vintage Model Co.                                 1\n",
      "WeVeel 3-Donkulous                                1\n",
      "The United States Playing Card Company            1\n",
      "Cavendish Trading                                 1\n",
      "Lucky omen                                        1\n",
      "Sequin Art Funky Frame Flower                     1\n",
      "Jada                                              1\n",
      "Modern Event Deck                                 1\n",
      "Fabfancydress                                     1\n",
      "Owfeel(TM)                                        1\n",
      "TRIVIAL PURSUIT 1980'S                            1\n",
      "Men in Black                                      1\n",
      "Tanner                                            1\n",
      "Am                                                1\n",
      "BIG Toys                                          1\n",
      "Wind Designs Ltd                                  1\n",
      "Tarot                                             1\n",
      "Beavis And Butt-Head                              1\n",
      "Fizz Creations Ltd                                1\n",
      "Penzora                                           1\n",
      "The Great Minds Range                             1\n",
      "Mooshka                                           1\n",
      "Kato (USA)                                        1\n",
      "UK Party Games                                    1\n",
      "myStyle                                           1\n",
      "Gundam                                            1\n",
      "Team Losi, Inc.                                   1\n",
      "Eolo                                              1\n",
      "Lado                                              1\n",
      "Christy`s                                         1\n",
      "Bladez Toyz                                       1\n",
      "Wild and Wolf                                     1\n",
      "Wicked Vision Limited                             1\n",
      "Construction Service Series                       1\n",
      "NBA                                               1\n",
      "Die'sire                                          1\n",
      "Bin Weevils Trading Card Game                     1\n",
      "Urban Trendzz                                     1\n",
      "Polyhedral                                        1\n",
      "Sofia the First                                   1\n",
      "Tallon                                            1\n",
      "In the Night Garden                               1\n",
      "Strathmore Artist Papers - ATC's                  1\n",
      "Kaleidoscope                                      1\n",
      "AMZ                                               1\n",
      "Ark                                               1\n",
      "Diecast                                           1\n",
      "Zuh Zhu Pets                                      1\n",
      "Marvel Regener8'rs                                1\n",
      "Crayola My First Crayola                          1\n",
      "Beanie Babies                                     1\n",
      "Boys toys                                         1\n",
      "Greyland Mask                                     1\n",
      "Take N Play                                       1\n",
      "Diamond Comic Distributors                        1\n",
      "Innovention Toys                                  1\n",
      "Rag Doll                                          1\n",
      "All Aboard                                        1\n",
      "Hey Duggee                                        1\n",
      "Science4you                                       1\n",
      "QJ                                                1\n",
      "Clics                                             1\n",
      "Immoral Clothing                                  1\n",
      "Kawada                                            1\n",
      "fatcolor                                          1\n",
      "Other                                             1\n",
      "Noris                                             1\n",
      "Knightwing                                        1\n",
      "Top Model                                         1\n",
      "Masters                                           1\n",
      "Fantasy Flight                                    1\n",
      "Bandai Hobby                                      1\n",
      "RCD Trading International                         1\n",
      "Pro Swim GmbH                                     1\n",
      "Toy Story                                         1\n",
      "Deal or No Deal                                   1\n",
      "Maped                                             1\n",
      "JC Toys                                           1\n",
      "Crayola Creations                                 1\n",
      "Jeremie                                           1\n",
      "L'Univers du Cheval                               1\n",
      "Trademark                                         1\n",
      "Morbs                                             1\n",
      "Loom                                              1\n",
      "P&D                                               1\n",
      "Noris Spiele                                      1\n",
      "Bungees                                           1\n",
      "TGO                                               1\n",
      "Imagingext                                        1\n",
      "Kung Zhu Hamsters                                 1\n",
      "CreepyParty                                       1\n",
      "Sakura                                            1\n",
      "ROKIT                                             1\n",
      "Tangle                                            1\n",
      "Fabulous Las Vegas Dice - 5 Pack                  1\n",
      "Zombie Zity                                       1\n",
      "Anker International                               1\n",
      "Bands                                             1\n",
      "Volkswagen                                        1\n",
      "Falcon de luxe                                    1\n",
      "Infantastic                                       1\n",
      "Yu Gi Oh!                                         1\n",
      "The1forU                                          1\n",
      "2-in-1 Chess & Draughts                           1\n",
      "Desconocido                                       1\n",
      "Viessmann                                         1\n",
      "Fancy Dress Accessories                           1\n",
      "JXD                                               1\n",
      "Bronco                                            1\n",
      "Mayday Games                                      1\n",
      "Swoosh Supplies                                   1\n",
      "Hacker T. Dog                                     1\n",
      "Cake Supplies                                     1\n",
      "Haynes                                            1\n",
      "Backspindle Games                                 1\n",
      "Boikido                                           1\n",
      "Yummy Bee                                         1\n",
      "Dickie Toys                                       1\n",
      "Uber Games                                        1\n",
      "Thurston                                          1\n",
      "Think Pink Blue 2                                 1\n",
      "Brumm                                             1\n",
      "Club                                              1\n",
      "Wonder Forge                                      1\n",
      "KLOO                                              1\n",
      "TOYLAND                                           1\n",
      "Pokemon World Championship Decks                  1\n",
      "Educational Insights                              1\n",
      "Rugby Attax                                       1\n",
      "Snuggy Buds                                       1\n",
      "StressCHECK Ltd                                   1\n",
      "Dragonball Z                                      1\n",
      "G. I. Joe                                         1\n",
      "Power Rangers Super Mega Force                    1\n",
      "American Muscle - ERTL Collectibles               1\n",
      "Fábricas Agrupadas de Munecas                     1\n",
      "Titan Merchandise                                 1\n",
      "Childs Fancy Dress                                1\n",
      "Skymarks                                          1\n",
      "Crescent Cardboard Co                             1\n",
      "Square-Enix                                       1\n",
      "Westland Sea King HC.4                            1\n",
      "BabyMad                                           1\n",
      "Body Art Desire                                   1\n",
      "Baby Shower Host                                  1\n",
      "WorldWide                                         1\n",
      "Fusion                                            1\n",
      "Unique Party Supplies                             1\n",
      "Spirograph                                        1\n",
      "Bloom's cosplay                                   1\n",
      "Falcon Games                                      1\n",
      "Ellusionist                                       1\n",
      "HuntGold                                          1\n",
      "Mickey & Minnie Mouse                             1\n",
      "SLJ Party Bags                                    1\n",
      "UUstar®                                           1\n",
      "Replicars                                         1\n",
      "CAT Construction                                  1\n",
      "Chess and Bridge                                  1\n",
      "Hemar                                             1\n",
      "Animagic                                          1\n",
      "Carlton                                           1\n",
      "James Bond                                        1\n",
      "SK Japan                                          1\n",
      "Sailor Moon                                       1\n",
      "Aoshimabunkakyozaisha                             1\n",
      "BOF                                               1\n",
      "Aztec Imports, Inc.                               1\n",
      "AMT                                               1\n",
      "Yoo Hoo                                           1\n",
      "Skylanders Swap Force Tin                         1\n",
      "NFL                                               1\n",
      "Believe You Can                                   1\n",
      "Kars                                              1\n",
      "Baby Stitching Blue Jointed Letter Banner         1\n",
      "B-Loony                                           1\n",
      "Yu-Gi-Oh 2013 Collectors Tin Wave 1               1\n",
      "Pelikan                                           1\n",
      "Emhar                                             1\n",
      "Giddy Up                                          1\n",
      "Monsters University                               1\n",
      "PolysGems                                         1\n",
      "Slammer                                           1\n",
      "Supercast                                         1\n",
      "Top Gear                                          1\n",
      "Pokémon TCG                                       1\n",
      "Scribble                                          1\n",
      "Keetek                                            1\n",
      "GameOnStuff                                       1\n",
      "Fun Machine                                       1\n",
      "Jigthings                                         1\n",
      "Ferrari                                           1\n",
      "Fun Toys                                          1\n",
      "Traditional Games                                 1\n",
      "Scificollector                                    1\n",
      "Chimp & Zee                                       1\n",
      "MG                                                1\n",
      "CARRERA RC                                        1\n",
      "North Star Games                                  1\n",
      "ERTL                                              1\n",
      "SOPHZZZZ TOY SHOP                                 1\n",
      "Heritage Playing Cards                            1\n",
      "Green farm                                        1\n",
      "ICONIX                                            1\n",
      "Jun Planning                                      1\n",
      "Hot Bodies                                        1\n",
      "Fine Molds                                        1\n",
      "Classic Leisure Products                          1\n",
      "DAN Import                                        1\n",
      "Wildgoose Education                               1\n",
      "SF801329TT                                        1\n",
      "CATO                                              1\n",
      "Ban Dai                                           1\n",
      "Tapball                                           1\n",
      "The Toy Jar                                       1\n",
      "Surprised Stare Games                             1\n",
      "Air Storm                                         1\n",
      "Classified                                        1\n",
      "BGC Studios                                       1\n",
      "The Name's The Game                               1\n",
      "NEO+                                              1\n",
      "Flags and Bunting                                 1\n",
      "Peptim Scenics                                    1\n",
      "Duplay                                            1\n",
      "Speed Cycles                                      1\n",
      "AHK/Dowman                                        1\n",
      "Glantop                                           1\n",
      "Premier Portfolio Int. Ltd                        1\n",
      "Agatsuma                                          1\n",
      "Jaguar                                            1\n",
      "Ystari                                            1\n",
      "Super Wings                                       1\n",
      "Find-me-a-gift                                    1\n",
      "Oaktree UK                                        1\n",
      "Omnibus                                           1\n",
      "Caley's                                           1\n",
      "Sensory Trust                                     1\n",
      "Gookha                                            1\n",
      "Kokuyo                                            1\n",
      "Square Enix                                       1\n",
      "EQD Ltd                                           1\n",
      "Feldherr                                          1\n",
      "Tangle Junior                                     1\n",
      "BalloonDevil                                      1\n",
      "Block Party                                       1\n",
      "IronMan                                           1\n",
      "Flames of War Vietnam                             1\n",
      "Classic Dining Moments                            1\n",
      "Royal Mail                                        1\n",
      "Dover Publications                                1\n",
      "History Heroes                                    1\n",
      "Underground Toys                                  1\n",
      "ToyPost                                           1\n",
      "Lionel                                            1\n",
      "Austar                                            1\n",
      "Farfouil en Fête                                  1\n",
      "Blue Planet Online                                1\n",
      "Plush                                             1\n",
      "WWE                                               1\n",
      "Polka                                             1\n",
      "Budgies Fancy Dress                               1\n",
      "Shengshou                                         1\n",
      "Bob                                               1\n",
      "Cut the Rope, Zeptolab                            1\n",
      "Coxeer                                            1\n",
      "The Hobby Company                                 1\n",
      "atdoshop                                          1\n",
      "Dinosaur Prehistoric Party                        1\n",
      "Money Bingo                                       1\n",
      "1st birthday                                      1\n",
      "Ebbro                                             1\n",
      "BML                                               1\n",
      "Bowen Designs                                     1\n",
      "Lambretta                                         1\n",
      "Mega                                              1\n",
      "WRESTLING MASKS UK                                1\n",
      "Holztiger                                         1\n",
      "Shopkins                                          1\n",
      "Magic The Gathering 2013 Core Set Intro Pack      1\n",
      "Go MINI                                           1\n",
      "ESCO                                              1\n",
      "Sooty                                             1\n",
      "Cozy Plush Premium                                1\n",
      "Family Games                                      1\n",
      "Predators (2010 Movie)                            1\n",
      "Chess                                             1\n",
      "Party Stuff 4U                                    1\n",
      "StonKraft                                         1\n",
      "Games & Puzzles                                   1\n",
      "Fresh Metal                                       1\n",
      "My Ukulele Pack                                   1\n",
      "Bride Boutique                                    1\n",
      "rainbowbrush.co.uk                                1\n",
      "Red, White and Blue                               1\n",
      "Sarah Jane Smith Adventures                       1\n",
      "Gear 4 Games                                      1\n",
      "Picture Favourites                                1\n",
      "Saico                                             1\n",
      "Birthday Gift Ideas                               1\n",
      "Dragons                                           1\n",
      "Ice Cream                                         1\n",
      "M & D International                               1\n",
      "DRAGON / Aoshima                                  1\n",
      "Letterbox                                         1\n",
      "TreasureTrove Toys                                1\n",
      "Castle MacLellan                                  1\n",
      "Moshi: Rox Tin                                    1\n",
      "Rcmodelpart                                       1\n",
      "Inazuma Eleven                                    1\n",
      "Alfa Romeo                                        1\n",
      "sourcingmap                                       1\n",
      "Splash and Play                                   1\n",
      "Piatnik                                           1\n",
      "Party Central                                     1\n",
      "Brimtoy                                           1\n",
      "Cracker kit fillers                               1\n",
      "Metcalfe                                          1\n",
      "Platts                                            1\n",
      "Collectable Minifigures                           1\n",
      "Yu-gi-oh!                                         1\n",
      "People. Coffee Table Trivia                       1\n",
      "Fantasy Cube                                      1\n",
      "Palmers                                           1\n",
      "Movie Stars                                       1\n",
      "Mirage Hobby                                      1\n",
      "Heroes Legends of the Battle Disks                1\n",
      "How to Train You Dragon                           1\n",
      "Midco Toys                                        1\n",
      "The Zelf's                                        1\n",
      "Interplay                                         1\n",
      "Swash                                             1\n",
      "Diamant                                           1\n",
      "Blue Exorcist                                     1\n",
      "Matchbox 1-75                                     1\n",
      "Wicked Costumes                                   1\n",
      "Themed Tattoos by Savvi                           1\n",
      "Holtztiger                                        1\n",
      "Kakaxi                                            1\n",
      "The Balloon Printing Company                      1\n",
      "Lite Brix                                         1\n",
      "Matchmaker                                        1\n",
      "Tiny Direct Deal                                  1\n",
      "David Westnedge Games                             1\n",
      "Mortal Kombat                                     1\n",
      "Menu Life                                         1\n",
      "Renegade Game Studios                             1\n",
      "Ravensburger Spieleverlag                         1\n",
      "Charachter Shape Balloons                         1\n",
      "Little People                                     1\n",
      "Gleader                                           1\n",
      "Arxon                                             1\n",
      "SMART SHOPPING                                    1\n",
      "Just Cards                                        1\n",
      "Postman Pat                                       1\n",
      "ImmersionRC / Fatshark                            1\n",
      "Ultimate Metal Puzzles                            1\n",
      "Topixo                                            1\n",
      "CE Toys                                           1\n",
      "Headbands                                         1\n",
      "Blue Orange                                       1\n",
      "Shelby                                            1\n",
      "Adrenalyn XL                                      1\n",
      "Dino Valley                                       1\n",
      "hongwell                                          1\n",
      "ZSL                                               1\n",
      "DBPOWER                                           1\n",
      "Breyer                                            1\n",
      "ThinkGeek                                         1\n",
      "Mensa                                             1\n",
      "Alpine                                            1\n",
      "Wooden Toys                                       1\n",
      "Capcom                                            1\n",
      "Negiel                                            1\n",
      "Bizili                                            1\n",
      "Nestlé                                            1\n",
      "Winmau                                            1\n",
      "Secraft                                           1\n",
      "Talking Tables                                    1\n",
      "Coiledspring Games                                1\n",
      "Moshi                                             1\n",
      "Wow Stuff                                         1\n",
      "Living Dead Dolls                                 1\n",
      "Safari Drives                                     1\n",
      "Fun House                                         1\n",
      "Batman Dark Knight Rises                          1\n",
      "EZE DOPE                                          1\n",
      "Kapow Gifts                                       1\n",
      "Norev                                             1\n",
      "Aprilia                                           1\n",
      "World Of Tartan                                   1\n",
      "Riley                                             1\n",
      "Rubik's                                           1\n",
      "Hobby Master                                      1\n",
      "Smartdealspro                                     1\n",
      "Gormiti                                           1\n",
      "filmwelt-shop                                     1\n",
      "Cockroach Poker (German Edition)                  1\n",
      "Caran d'Ache                                      1\n",
      "Bino                                              1\n",
      "Tom and Jerry                                     1\n",
      "Wild Republic Europe ApS                          1\n",
      "Themed Glitter Tattoo Kits                        1\n",
      "Breaking Bad                                      1\n",
      "Novelties                                         1\n",
      "Traditional Garden Games                          1\n",
      "Bargained-Tatz                                    1\n",
      "Happy People                                      1\n",
      "Name: manufacturer, dtype: int64\n"
     ]
    }
   ],
   "source": [
    "print(len(df.manufacturer.unique()))\n",
    "print(df.manufacturer.value_counts())\n",
    "\n",
    "#could do some analysis per manufacturers (take top 10 or smth)"
   ]
  },
  {
   "cell_type": "markdown",
   "metadata": {},
   "source": [
    "#### How many different categories?"
   ]
  },
  {
   "cell_type": "code",
   "execution_count": 33,
   "metadata": {
    "ExecuteTime": {
     "end_time": "2020-03-26T12:21:15.244771Z",
     "start_time": "2020-03-26T12:21:15.233615Z"
    }
   },
   "outputs": [
    {
     "name": "stdout",
     "output_type": "stream",
     "text": [
      "226\n",
      "Die-Cast & Toy Vehicles > Toy Vehicles & Accessories > Scaled Models > Vehicles                                             713\n",
      "Figures & Playsets > Science Fiction & Fantasy                                                                              329\n",
      "Characters & Brands > Disney > Toys                                                                                         251\n",
      "Arts & Crafts > Children's Craft Kits > Bead Art & Jewellery-Making                                                         246\n",
      "Party Supplies > Banners, Stickers & Confetti > Banners                                                                     230\n",
      "Games > Dice & Dice Games                                                                                                   216\n",
      "Puppets & Puppet Theatres > Hand Puppets                                                                                    206\n",
      "Games > Card Games                                                                                                          195\n",
      "Hobbies > Trading Cards & Accessories > Packs & Sets                                                                        183\n",
      "Party Supplies > Decorations > Balloons                                                                                     170\n",
      "Figures & Playsets > Accessories                                                                                            145\n",
      "Fancy Dress > Costumes > Adults                                                                                             144\n",
      "Hobbies > Model Trains & Railway Sets > Rail Vehicles > Trains                                                              141\n",
      "Characters & Brands > Star Wars > Toys                                                                                      138\n",
      "Fancy Dress > Accessories > Masks                                                                                           124\n",
      "Figures & Playsets > Knights & Castles                                                                                      119\n",
      "Fancy Dress > Accessories > Temporary Tattoos                                                                               116\n",
      "Jigsaws & Puzzles > Jigsaws                                                                                                 113\n",
      "Hobbies > Model Building Kits > Tanks                                                                                       113\n",
      "Dolls & Accessories > Soft Dolls                                                                                            112\n",
      "Arts & Crafts > Paper & Stickers                                                                                            109\n",
      "Sports Toys & Outdoor > Kites & Flight Toys                                                                                 108\n",
      "Hobbies > Remote Controlled Devices > Parts & Accessories                                                                   102\n",
      "Die-Cast & Toy Vehicles > Toy Trains & Accessories > Toy Trains & Sets                                                       96\n",
      "Games > Educational Games                                                                                                    96\n",
      "Dolls & Accessories > Dolls' House Dolls & Accessories > Dolls' House Accessories                                            91\n",
      "Characters & Brands > Hasbro                                                                                                 80\n",
      "Figures & Playsets > Pirates                                                                                                 78\n",
      "Hobbies > Slot Cars, Race Tracks & Accessories > Slot Cars                                                                   77\n",
      "Hobbies > Model Trains & Railway Sets > Rail Vehicles > Locomotives                                                          74\n",
      "Figures & Playsets > Dinosaurs                                                                                               71\n",
      "Games > Dominoes & Tile Games                                                                                                64\n",
      "Games > Chess                                                                                                                64\n",
      "Arts & Crafts > Colouring Pens & Markers                                                                                     63\n",
      "Die-Cast & Toy Vehicles > Toy Vehicles & Accessories > Toy Cars & Trucks                                                     61\n",
      "Sports Toys & Outdoor > Beach Toys > Paddling Pools                                                                          61\n",
      "Jigsaws & Puzzles > Brain Teasers                                                                                            56\n",
      "Die-Cast & Toy Vehicles > Toy Vehicles & Accessories > Scaled Models                                                         51\n",
      "Arts & Crafts > Art Sand                                                                                                     51\n",
      "Games > Trivia & Quiz Games                                                                                                  45\n",
      "Fancy Dress > Accessories > Sets & Kits                                                                                      41\n",
      "Arts & Crafts > Children's Craft Kits                                                                                        41\n",
      "Hobbies > Remote Controlled Devices > Helicopters & Quadcopters                                                              40\n",
      "Hobbies > Collectible Figures & Memorabilia > Collectible Figures & Accessories                                              39\n",
      "Hobbies > Slot Cars, Race Tracks & Accessories > Race Tracks                                                                 38\n",
      "Hobbies > Model Trains & Railway Sets > Accessories > Figures & Decoration Parts > Figures                                   37\n",
      "Jigsaws & Puzzles > 3-D Puzzles                                                                                              36\n",
      "Characters & Brands > Ravensburger                                                                                           35\n",
      "Hobbies > Collectible Figures & Memorabilia > Bobbleheads & Busts                                                            34\n",
      "Sports Toys & Outdoor > Beach Toys > Flotation Devices & Accessories                                                         32\n",
      "Arts & Crafts > Colouring Pencils                                                                                            32\n",
      "Party Supplies > Banners, Stickers & Confetti > Garlands                                                                     32\n",
      "Characters & Brands > Tomy                                                                                                   32\n",
      "Die-Cast & Toy Vehicles > Toy Vehicles & Accessories > Friction Cars                                                         31\n",
      "Baby & Toddler Toys > Sorting, Stacking & Plugging Toys                                                                      30\n",
      "Pretend Play > Shops & Accessories                                                                                           30\n",
      "Hobbies > Model Trains & Railway Sets > Accessories > Landscaping > Track Construction                                       27\n",
      "Characters & Brands > Crayola                                                                                                25\n",
      "Party Supplies > Invitations                                                                                                 25\n",
      "Sports Toys & Outdoor > Beach Toys > Water Pistols                                                                           25\n",
      "Figures & Playsets > Cowboys & Indians                                                                                       24\n",
      "Characters & Brands > Harry Potter > Toys                                                                                    24\n",
      "Puppets & Puppet Theatres > Finger Puppets                                                                                   22\n",
      "Hobbies > Slot Cars, Race Tracks & Accessories > Service & Tuning Parts                                                      22\n",
      "Figures & Playsets > Farm & Animals                                                                                          21\n",
      "Sports Toys & Outdoor > Garden Tools                                                                                         20\n",
      "Hobbies > Trading Cards & Accessories > Storage Albums & Cases > Sleeves                                                     20\n",
      "Hobbies > Collectible Figures & Memorabilia > Collectible Props & Memorabilia                                                18\n",
      "Baby & Toddler Toys > Spinning Tops                                                                                          15\n",
      "Sports Toys & Outdoor > Beach Toys > Water Play Tables                                                                       13\n",
      "Die-Cast & Toy Vehicles > Toy Vehicles & Accessories > Scaled Models > Boats                                                 13\n",
      "Figures & Playsets > Military                                                                                                13\n",
      "Party Supplies > Banners, Stickers & Confetti > Streamers                                                                    13\n",
      "Party Supplies > Decorations > Cake Decorations                                                                              12\n",
      "Characters & Brands > VTech                                                                                                  12\n",
      "Hobbies > Model Trains & Railway Sets > Lighting & Signal Engineering > Signal & Sound                                       11\n",
      "Sports Toys & Outdoor > Darts & Accessories                                                                                  11\n",
      "Figures & Playsets > Sport                                                                                                   10\n",
      "Arts & Crafts > Blackboards                                                                                                  10\n",
      "Dolls & Accessories > Playsets                                                                                               10\n",
      "Novelty & Special Use > Novelty > Accessories > Buttons & Pins                                                               10\n",
      "Hobbies > Model Building Kits > Accessories                                                                                  10\n",
      "Hobbies > Trading Cards & Accessories > Single Cards                                                                          9\n",
      "Characters & Brands > Toy Story > Toys                                                                                        9\n",
      "Games > DVD Games                                                                                                             9\n",
      "Arts & Crafts > Painting By Numbers                                                                                           9\n",
      "Fancy Dress > Costumes                                                                                                        9\n",
      "Baby & Toddler Toys > Sound Toys                                                                                              8\n",
      "Dolls & Accessories > Dolls' House Dolls & Accessories > Dolls' House Furniture                                               8\n",
      "Die-Cast & Toy Vehicles > Toy Vehicles & Accessories > Scaled Models > Aircraft                                               8\n",
      "Hobbies > Model Trains & Railway Sets > Accessories > Landscaping > Road Construction                                         7\n",
      "Party Supplies > Banners, Stickers & Confetti > Confetti                                                                      7\n",
      "Fancy Dress > Accessories                                                                                                     7\n",
      "Baby & Toddler Toys > Rocking Horses                                                                                          7\n",
      "Hobbies > Model Trains & Railway Sets > Rail Vehicles > Wagons                                                                6\n",
      "Hobbies > Trading Cards & Accessories > Storage Albums & Cases > Albums                                                       6\n",
      "Characters & Brands > Action Man                                                                                              6\n",
      "Hobbies > Model Trains & Railway Sets > Lighting & Signal Engineering > Lamps & Lighting                                      6\n",
      "Musical Toy Instruments > Wind & Brass                                                                                        6\n",
      "Characters & Brands > Thunderbirds > Toys                                                                                     6\n",
      "Die-Cast & Toy Vehicles > Toy Vehicles & Accessories > Scaled Models > Trains                                                 5\n",
      "Baby & Toddler Toys > Rattles                                                                                                 5\n",
      "Characters & Brands > Barbie                                                                                                  5\n",
      "Party Supplies > Decorations > Props                                                                                          5\n",
      "Musical Toy Instruments > Guitars & Strings                                                                                   5\n",
      "Sports Toys & Outdoor > Beach Toys > Beach Toys                                                                               5\n",
      "Fancy Dress > Costumes > Kids & Toddlers                                                                                      5\n",
      "Party Supplies > Party Favours                                                                                                5\n",
      "Games > Board Games                                                                                                           4\n",
      "Hobbies > Remote Controlled Devices > Robots                                                                                  4\n",
      "Die-Cast & Toy Vehicles > Toy Vehicle Playsets                                                                                4\n",
      "Hobbies > Model Trains & Railway Sets > Accessories > Landscaping > Landscape Architecture                                    4\n",
      "Sports Toys & Outdoor > Beach Toys > Airbeds & Inflating Devices                                                              4\n",
      "Hobbies > Model Trains & Railway Sets > Accessories > Recreational Activities                                                 3\n",
      "Hobbies > Model Trains & Railway Sets > Starter Packs & Sets                                                                  3\n",
      "Hobbies > Model Building Kits                                                                                                 3\n",
      "Characters & Brands > Thomas & Friends > Train Play > Wooden Thomas                                                           3\n",
      "Sports Toys & Outdoor > Climbing Frames                                                                                       3\n",
      "Home Accessories > Decorative Accessories > Stickers > Window Stickers                                                        3\n",
      "Sports Toys & Outdoor > Bikes, Trikes & Ride-ons                                                                              3\n",
      "Worlds Apart > Kid Venture > Kites                                                                                            3\n",
      "Characters & Brands > Bob the Builder > Toys                                                                                  3\n",
      "Games > Casino Equipment > Bingo Equipment                                                                                    3\n",
      "Hobbies > Model Trains & Railway Sets > Lighting & Signal Engineering > Control Moduls                                        3\n",
      "Characters & Brands > Ravensburger > Games                                                                                    3\n",
      "Characters & Brands > Early Learning Centre                                                                                   3\n",
      "Characters & Brands > Ravensburger > Children's Puzzles                                                                       3\n",
      "Games > Casino Equipment > Game Tables > Poker Tables                                                                         3\n",
      "Office Supplies > Desk Accessories & Storage Products > Desk Supplies Organisers & Dispensers > Desk Supplies Organisers      3\n",
      "Baby & Toddler Toys > Teaching Clocks                                                                                         2\n",
      "Characters & Brands > BRIO > BRIO Wooden Roadway System                                                                       2\n",
      "Hobbies > Model Trains & Railway Sets > Accessories > Landscaping                                                             2\n",
      "Gardening > Hand Tools > Gardening Trowels                                                                                    2\n",
      "Educational Toys > Mathematics                                                                                                2\n",
      "Hobbies > Remote Controlled Devices > Tanks                                                                                   2\n",
      "Arts & Crafts > Children's Chalk                                                                                              2\n",
      "Pens, Pencils & Writing Supplies > Erasers & Correction Supplies > Erasers                                                    2\n",
      "Office Supplies > Labels, Index Dividers & Stamps > Labels & Stickers                                                         2\n",
      "Dolls & Accessories > Fashion Dolls & Accessories                                                                             2\n",
      "Games > Tabletop & Miniature Gaming                                                                                           2\n",
      "Games > Casino Equipment > Poker Chips                                                                                        2\n",
      "Hobbies > Model Building Kits > Steam Engines                                                                                 2\n",
      "Hobbies > Trading Cards & Accessories > Storage Albums & Cases > Cases                                                        2\n",
      "Hobbies > Model Building Kits > Cars & Vehicles                                                                               2\n",
      "Figures & Playsets > Emergency Services                                                                                       2\n",
      "Dogs > Clothing & Accessories > Costumes                                                                                      2\n",
      "Games > Casino Equipment > Game Sets > Poker Sets                                                                             2\n",
      "Games > Casino Equipment > Game Sets > Blackjack Sets                                                                         2\n",
      "Characters & Brands > WWE                                                                                                     2\n",
      "Games > Casino Equipment > Game Layouts > Craps Layouts                                                                       1\n",
      "Games > Travel & Pocket Games                                                                                                 1\n",
      "Medication & Remedies > Alternative Medicine                                                                                  1\n",
      "Men > Tops & T-Shirts > T-Shirts                                                                                              1\n",
      "Characters & Brands > BRIO > BRIO Builder System                                                                              1\n",
      "Fancy Dress > Accessories > Capes & Wings                                                                                     1\n",
      "Sports Toys & Outdoor > Cup & Ball Games                                                                                      1\n",
      "Educational Toys > Literacy & Spelling                                                                                        1\n",
      "Baby & Toddler Toys > Activity Centres                                                                                        1\n",
      "Hobbies > Trading Cards & Accessories > Sticker Collections                                                                   1\n",
      "Puppets & Puppet Theatres > Accessories                                                                                       1\n",
      "Musical Toy Instruments > Pianos & Keyboards                                                                                  1\n",
      "Arts & Crafts > Art & Craft Supplies > Glitter                                                                                1\n",
      "Arts & Crafts > Doll Making                                                                                                   1\n",
      "Sports Toys & Outdoor > Racket Games                                                                                          1\n",
      "Pens, Pencils & Writing Supplies > Markers & Highlighters > Art Markers                                                       1\n",
      "Figures & Playsets > Transportation & Traffic                                                                                 1\n",
      "Sports Toys & Outdoor > Bikes, Trikes & Ride-ons > Push Power Ride-ons & Accessories > Push Power Ride-ons                    1\n",
      "Characters & Brands > Upstarts > Family Games                                                                                 1\n",
      "Pretend Play > Play Tools                                                                                                     1\n",
      "Sex & Sensuality > Erotic Clothing > Women's > Costumes                                                                       1\n",
      "Electronic Toys > Robots                                                                                                      1\n",
      "Pens, Pencils & Writing Supplies > Markers & Highlighters > Permanent Markers & Marker Pens                                   1\n",
      "Pens, Pencils & Writing Supplies > Pencils > Coloured Pencils                                                                 1\n",
      "Characters & Brands > LeapFrog > LeapPad Learning System                                                                      1\n",
      "Arts & Crafts > Felt Kits                                                                                                     1\n",
      "Games > Casino Equipment > Poker Chip Cases & Trays > Cases                                                                   1\n",
      "Cooking & Dining > Kitchen Tools & Gadgets > Barware > Coasters                                                               1\n",
      "Gardening > Greenhouses & Plant Germination Equipment > Greenhouses                                                           1\n",
      "Games > Casino Equipment > Game Sets                                                                                          1\n",
      "Characters & Brands > Marvin's Magic                                                                                          1\n",
      "Medication & Remedies > Pain & Fever > Hot & Cold Therapies                                                                   1\n",
      "Hobbies > Slot Cars, Race Tracks & Accessories                                                                                1\n",
      "Electronic Toys > Digital Cameras                                                                                             1\n",
      "Party Supplies > Party Tableware                                                                                              1\n",
      "Games > Casino Equipment > Game Layouts > Poker Layouts                                                                       1\n",
      "Cooking & Dining > Kitchen Tools & Gadgets > Barware > Straws                                                                 1\n",
      "Characters & Brands > Harry Potter > Books > Stationery                                                                       1\n",
      "Novelty Jewellery > Charms > Bead Charms                                                                                      1\n",
      "Games > Casino Equipment > Game Sets > Roulette Sets                                                                          1\n",
      "Electronic Toys > Kids Remote & App Controlled Toys                                                                           1\n",
      "Sports Toys & Outdoor > Bikes, Trikes & Ride-ons > Children's Bikes                                                           1\n",
      "Pens, Pencils & Writing Supplies > Pens & Refills > Pen Refills                                                               1\n",
      "Characters & Brands > Action Man > Toys                                                                                       1\n",
      "Characters & Brands > Thomas & Friends > Train Play > Take Along Thomas                                                       1\n",
      "Storage, Cleaning & Ring Sizers > Boxes & Organisers                                                                          1\n",
      "Cooking & Dining > Kitchen Tools & Gadgets > Barware > Ice Cube Moulds & Trays                                                1\n",
      "Laundry, Storage & Organisation > Baskets & Bins > Storage Boxes & Chests > Storage Boxes                                     1\n",
      "Hobbies > Model Trains & Railway Sets                                                                                         1\n",
      "Games > Drinking Games                                                                                                        1\n",
      "Bags > Schoolbags & Backpacks > Bags                                                                                          1\n",
      "Pens, Pencils & Writing Supplies > Erasers & Correction Supplies > Correction Pens                                            1\n",
      "Women > Accessories > Eyewear & Accessories > Sunglasses                                                                      1\n",
      "Hobbies > Model Building Kits > Figures                                                                                       1\n",
      "Hobbies > Trading Cards & Accessories                                                                                         1\n",
      "Characters & Brands > Upstarts > Children's Games                                                                             1\n",
      "Sports Toys & Outdoor > Target Games                                                                                          1\n",
      "Sweets, Chocolate & Gum > Chocolate > Bars > Multipack Bars                                                                   1\n",
      "Dolls & Accessories > Dolls' House Dolls & Accessories > Dolls' Houses                                                        1\n",
      "Hobbies > Model Trains & Railway Sets > Lighting & Signal Engineering > Transformers & Decoders                               1\n",
      "Indoor Lighting > Specialty & Decorative Lighting                                                                             1\n",
      "Characters & Brands > Barbie > Barbie Dolls & Accessories                                                                     1\n",
      "Hobbies > Model Building Kits > Boats & Watercraft                                                                            1\n",
      "Dolls & Accessories > Fashion Dolls & Accessories > Houses                                                                    1\n",
      "Home Accessories > Seasonal Décor > Christmas > Novelty Decorations                                                           1\n",
      "Sports Toys & Outdoor > Bikes, Trikes & Ride-ons > Scooters                                                                   1\n",
      "Hobbies > Model Trains & Railway Sets > Lighting & Signal Engineering > Cable                                                 1\n",
      "Women > Accessories                                                                                                           1\n",
      "Camping & Hiking > Sleeping Gear > Air Pumps > Hand Pumps                                                                     1\n",
      "Characters & Brands > LeapFrog                                                                                                1\n",
      "Bedding & Linens > Children's Bedding > Sheets & Pillowcases > Flat Sheets                                                    1\n",
      "Characters & Brands > Thomas & Friends > Ages 3-4 Years                                                                       1\n",
      "Dolls & Accessories > Fashion Dolls & Accessories > Fashion Dolls                                                             1\n",
      "Hobbies > Model Building Kits > Model Building Tools                                                                          1\n",
      "Baby & Toddler Toys > Rockers & Ride-ons                                                                                      1\n",
      "Jigsaws & Puzzles > Jigsaw Accessories                                                                                        1\n",
      "Jams, Honey & Spreads > Sandwich Spreads, Pates & Pastes                                                                      1\n",
      "Name: cat_and_subcat, dtype: int64\n"
     ]
    }
   ],
   "source": [
    "print(len(df.cat_and_subcat.unique()))\n",
    "print(df.cat_and_subcat.value_counts())\n",
    "\n",
    "#will split to main and sub categories"
   ]
  },
  {
   "cell_type": "markdown",
   "metadata": {},
   "source": [
    "#### How many different average reviews?"
   ]
  },
  {
   "cell_type": "code",
   "execution_count": 34,
   "metadata": {
    "ExecuteTime": {
     "end_time": "2020-03-26T12:21:15.253898Z",
     "start_time": "2020-03-26T12:21:15.246160Z"
    }
   },
   "outputs": [
    {
     "name": "stdout",
     "output_type": "stream",
     "text": [
      "17\n",
      "5.0    3503\n",
      "4.0     880\n",
      "4.5     489\n",
      "4.8     396\n",
      "4.7     377\n",
      "4.3     286\n",
      "4.6     280\n",
      "4.4     205\n",
      "4.9     166\n",
      "4.2     153\n",
      "4.1     108\n",
      "3.9       5\n",
      "3.6       2\n",
      "3.3       2\n",
      "3.5       2\n",
      "3.0       1\n",
      "2.3       1\n",
      "Name: ave_review_rating, dtype: int64\n"
     ]
    }
   ],
   "source": [
    "print(len(df.ave_review_rating.unique()))\n",
    "print(df.ave_review_rating.value_counts())\n",
    "\n",
    "#all reviews out of 5, can delete this part to have a numeric column"
   ]
  },
  {
   "cell_type": "markdown",
   "metadata": {},
   "source": [
    "### Splitting to main and sub categories"
   ]
  },
  {
   "cell_type": "code",
   "execution_count": 35,
   "metadata": {
    "ExecuteTime": {
     "end_time": "2020-03-26T12:21:15.287279Z",
     "start_time": "2020-03-26T12:21:15.255083Z"
    }
   },
   "outputs": [],
   "source": [
    "df[['main_cat', 'sub_cat1', 'sub_cat2', 'sub_cat3', 'sub_cat4']] = df.cat_and_subcat.str.split(' > ', expand = True)"
   ]
  },
  {
   "cell_type": "code",
   "execution_count": 36,
   "metadata": {
    "ExecuteTime": {
     "end_time": "2020-03-26T12:21:15.304298Z",
     "start_time": "2020-03-26T12:21:15.287279Z"
    }
   },
   "outputs": [
    {
     "data": {
      "text/html": [
       "<div>\n",
       "<style scoped>\n",
       "    .dataframe tbody tr th:only-of-type {\n",
       "        vertical-align: middle;\n",
       "    }\n",
       "\n",
       "    .dataframe tbody tr th {\n",
       "        vertical-align: top;\n",
       "    }\n",
       "\n",
       "    .dataframe thead th {\n",
       "        text-align: right;\n",
       "    }\n",
       "</style>\n",
       "<table border=\"1\" class=\"dataframe\">\n",
       "  <thead>\n",
       "    <tr style=\"text-align: right;\">\n",
       "      <th></th>\n",
       "      <th>uniq_id</th>\n",
       "      <th>product_name</th>\n",
       "      <th>manufacturer</th>\n",
       "      <th>price</th>\n",
       "      <th>num_reviews</th>\n",
       "      <th>num_answ_questions</th>\n",
       "      <th>cat_and_subcat</th>\n",
       "      <th>description</th>\n",
       "      <th>product_info</th>\n",
       "      <th>ave_review_rating</th>\n",
       "      <th>description_len</th>\n",
       "      <th>product_info_len</th>\n",
       "      <th>main_cat</th>\n",
       "      <th>sub_cat1</th>\n",
       "      <th>sub_cat2</th>\n",
       "      <th>sub_cat3</th>\n",
       "      <th>sub_cat4</th>\n",
       "    </tr>\n",
       "  </thead>\n",
       "  <tbody>\n",
       "    <tr>\n",
       "      <td>0</td>\n",
       "      <td>eac7efa5dbd3d667f26eb3d3ab504464</td>\n",
       "      <td>Hornby 2014 Catalogue</td>\n",
       "      <td>Hornby</td>\n",
       "      <td>3.42</td>\n",
       "      <td>15</td>\n",
       "      <td>1.0</td>\n",
       "      <td>Hobbies &gt; Model Trains &amp; Railway Sets &gt; Rail V...</td>\n",
       "      <td>Product Description Hornby 2014 Catalogue Box ...</td>\n",
       "      <td>Technical Details Item Weight640 g Product Dim...</td>\n",
       "      <td>4.9</td>\n",
       "      <td>72</td>\n",
       "      <td>871</td>\n",
       "      <td>Hobbies</td>\n",
       "      <td>Model Trains &amp; Railway Sets</td>\n",
       "      <td>Rail Vehicles</td>\n",
       "      <td>Trains</td>\n",
       "      <td>None</td>\n",
       "    </tr>\n",
       "    <tr>\n",
       "      <td>1</td>\n",
       "      <td>b17540ef7e86e461d37f3ae58b7b72ac</td>\n",
       "      <td>FunkyBuys® Large Christmas Holiday Express Fes...</td>\n",
       "      <td>FunkyBuys</td>\n",
       "      <td>16.99</td>\n",
       "      <td>2</td>\n",
       "      <td>1.0</td>\n",
       "      <td>Hobbies &gt; Model Trains &amp; Railway Sets &gt; Rail V...</td>\n",
       "      <td>Size Name:Large FunkyBuys® Large Christmas Hol...</td>\n",
       "      <td>Technical Details Manufacturer recommended age...</td>\n",
       "      <td>4.5</td>\n",
       "      <td>134</td>\n",
       "      <td>404</td>\n",
       "      <td>Hobbies</td>\n",
       "      <td>Model Trains &amp; Railway Sets</td>\n",
       "      <td>Rail Vehicles</td>\n",
       "      <td>Trains</td>\n",
       "      <td>None</td>\n",
       "    </tr>\n",
       "    <tr>\n",
       "      <td>2</td>\n",
       "      <td>348f344247b0c1a935b1223072ef9d8a</td>\n",
       "      <td>CLASSIC TOY TRAIN SET TRACK CARRIAGES LIGHT EN...</td>\n",
       "      <td>ccf</td>\n",
       "      <td>9.99</td>\n",
       "      <td>17</td>\n",
       "      <td>2.0</td>\n",
       "      <td>Hobbies &gt; Model Trains &amp; Railway Sets &gt; Rail V...</td>\n",
       "      <td>BIG CLASSIC TOY TRAIN SET TRACK CARRIAGE LIGHT...</td>\n",
       "      <td>Technical Details Manufacturer recommended age...</td>\n",
       "      <td>3.9</td>\n",
       "      <td>357</td>\n",
       "      <td>449</td>\n",
       "      <td>Hobbies</td>\n",
       "      <td>Model Trains &amp; Railway Sets</td>\n",
       "      <td>Rail Vehicles</td>\n",
       "      <td>Trains</td>\n",
       "      <td>None</td>\n",
       "    </tr>\n",
       "  </tbody>\n",
       "</table>\n",
       "</div>"
      ],
      "text/plain": [
       "                            uniq_id  \\\n",
       "0  eac7efa5dbd3d667f26eb3d3ab504464   \n",
       "1  b17540ef7e86e461d37f3ae58b7b72ac   \n",
       "2  348f344247b0c1a935b1223072ef9d8a   \n",
       "\n",
       "                                        product_name manufacturer  price  \\\n",
       "0                              Hornby 2014 Catalogue       Hornby   3.42   \n",
       "1  FunkyBuys® Large Christmas Holiday Express Fes...    FunkyBuys  16.99   \n",
       "2  CLASSIC TOY TRAIN SET TRACK CARRIAGES LIGHT EN...          ccf   9.99   \n",
       "\n",
       "  num_reviews  num_answ_questions  \\\n",
       "0          15                 1.0   \n",
       "1           2                 1.0   \n",
       "2          17                 2.0   \n",
       "\n",
       "                                      cat_and_subcat  \\\n",
       "0  Hobbies > Model Trains & Railway Sets > Rail V...   \n",
       "1  Hobbies > Model Trains & Railway Sets > Rail V...   \n",
       "2  Hobbies > Model Trains & Railway Sets > Rail V...   \n",
       "\n",
       "                                         description  \\\n",
       "0  Product Description Hornby 2014 Catalogue Box ...   \n",
       "1  Size Name:Large FunkyBuys® Large Christmas Hol...   \n",
       "2  BIG CLASSIC TOY TRAIN SET TRACK CARRIAGE LIGHT...   \n",
       "\n",
       "                                        product_info  ave_review_rating  \\\n",
       "0  Technical Details Item Weight640 g Product Dim...                4.9   \n",
       "1  Technical Details Manufacturer recommended age...                4.5   \n",
       "2  Technical Details Manufacturer recommended age...                3.9   \n",
       "\n",
       "   description_len  product_info_len main_cat                     sub_cat1  \\\n",
       "0               72               871  Hobbies  Model Trains & Railway Sets   \n",
       "1              134               404  Hobbies  Model Trains & Railway Sets   \n",
       "2              357               449  Hobbies  Model Trains & Railway Sets   \n",
       "\n",
       "        sub_cat2 sub_cat3 sub_cat4  \n",
       "0  Rail Vehicles   Trains     None  \n",
       "1  Rail Vehicles   Trains     None  \n",
       "2  Rail Vehicles   Trains     None  "
      ]
     },
     "execution_count": 36,
     "metadata": {},
     "output_type": "execute_result"
    }
   ],
   "source": [
    "df.head(3)"
   ]
  },
  {
   "cell_type": "code",
   "execution_count": 37,
   "metadata": {
    "ExecuteTime": {
     "end_time": "2020-03-26T12:21:15.318679Z",
     "start_time": "2020-03-26T12:21:15.305756Z"
    }
   },
   "outputs": [],
   "source": [
    "#deleting old column\n",
    "\n",
    "df.drop('cat_and_subcat', axis=1, inplace=True)"
   ]
  },
  {
   "cell_type": "code",
   "execution_count": 38,
   "metadata": {
    "ExecuteTime": {
     "end_time": "2020-03-26T12:21:15.336298Z",
     "start_time": "2020-03-26T12:21:15.318679Z"
    }
   },
   "outputs": [
    {
     "data": {
      "text/html": [
       "<div>\n",
       "<style scoped>\n",
       "    .dataframe tbody tr th:only-of-type {\n",
       "        vertical-align: middle;\n",
       "    }\n",
       "\n",
       "    .dataframe tbody tr th {\n",
       "        vertical-align: top;\n",
       "    }\n",
       "\n",
       "    .dataframe thead th {\n",
       "        text-align: right;\n",
       "    }\n",
       "</style>\n",
       "<table border=\"1\" class=\"dataframe\">\n",
       "  <thead>\n",
       "    <tr style=\"text-align: right;\">\n",
       "      <th></th>\n",
       "      <th>uniq_id</th>\n",
       "      <th>product_name</th>\n",
       "      <th>manufacturer</th>\n",
       "      <th>price</th>\n",
       "      <th>num_reviews</th>\n",
       "      <th>num_answ_questions</th>\n",
       "      <th>description</th>\n",
       "      <th>product_info</th>\n",
       "      <th>ave_review_rating</th>\n",
       "      <th>description_len</th>\n",
       "      <th>product_info_len</th>\n",
       "      <th>main_cat</th>\n",
       "      <th>sub_cat1</th>\n",
       "      <th>sub_cat2</th>\n",
       "      <th>sub_cat3</th>\n",
       "      <th>sub_cat4</th>\n",
       "    </tr>\n",
       "  </thead>\n",
       "  <tbody>\n",
       "    <tr>\n",
       "      <td>0</td>\n",
       "      <td>eac7efa5dbd3d667f26eb3d3ab504464</td>\n",
       "      <td>Hornby 2014 Catalogue</td>\n",
       "      <td>Hornby</td>\n",
       "      <td>3.42</td>\n",
       "      <td>15</td>\n",
       "      <td>1.0</td>\n",
       "      <td>Product Description Hornby 2014 Catalogue Box ...</td>\n",
       "      <td>Technical Details Item Weight640 g Product Dim...</td>\n",
       "      <td>4.9</td>\n",
       "      <td>72</td>\n",
       "      <td>871</td>\n",
       "      <td>Hobbies</td>\n",
       "      <td>Model Trains &amp; Railway Sets</td>\n",
       "      <td>Rail Vehicles</td>\n",
       "      <td>Trains</td>\n",
       "      <td>None</td>\n",
       "    </tr>\n",
       "    <tr>\n",
       "      <td>1</td>\n",
       "      <td>b17540ef7e86e461d37f3ae58b7b72ac</td>\n",
       "      <td>FunkyBuys® Large Christmas Holiday Express Fes...</td>\n",
       "      <td>FunkyBuys</td>\n",
       "      <td>16.99</td>\n",
       "      <td>2</td>\n",
       "      <td>1.0</td>\n",
       "      <td>Size Name:Large FunkyBuys® Large Christmas Hol...</td>\n",
       "      <td>Technical Details Manufacturer recommended age...</td>\n",
       "      <td>4.5</td>\n",
       "      <td>134</td>\n",
       "      <td>404</td>\n",
       "      <td>Hobbies</td>\n",
       "      <td>Model Trains &amp; Railway Sets</td>\n",
       "      <td>Rail Vehicles</td>\n",
       "      <td>Trains</td>\n",
       "      <td>None</td>\n",
       "    </tr>\n",
       "  </tbody>\n",
       "</table>\n",
       "</div>"
      ],
      "text/plain": [
       "                            uniq_id  \\\n",
       "0  eac7efa5dbd3d667f26eb3d3ab504464   \n",
       "1  b17540ef7e86e461d37f3ae58b7b72ac   \n",
       "\n",
       "                                        product_name manufacturer  price  \\\n",
       "0                              Hornby 2014 Catalogue       Hornby   3.42   \n",
       "1  FunkyBuys® Large Christmas Holiday Express Fes...    FunkyBuys  16.99   \n",
       "\n",
       "  num_reviews  num_answ_questions  \\\n",
       "0          15                 1.0   \n",
       "1           2                 1.0   \n",
       "\n",
       "                                         description  \\\n",
       "0  Product Description Hornby 2014 Catalogue Box ...   \n",
       "1  Size Name:Large FunkyBuys® Large Christmas Hol...   \n",
       "\n",
       "                                        product_info  ave_review_rating  \\\n",
       "0  Technical Details Item Weight640 g Product Dim...                4.9   \n",
       "1  Technical Details Manufacturer recommended age...                4.5   \n",
       "\n",
       "   description_len  product_info_len main_cat                     sub_cat1  \\\n",
       "0               72               871  Hobbies  Model Trains & Railway Sets   \n",
       "1              134               404  Hobbies  Model Trains & Railway Sets   \n",
       "\n",
       "        sub_cat2 sub_cat3 sub_cat4  \n",
       "0  Rail Vehicles   Trains     None  \n",
       "1  Rail Vehicles   Trains     None  "
      ]
     },
     "execution_count": 38,
     "metadata": {},
     "output_type": "execute_result"
    }
   ],
   "source": [
    "df.head(2)"
   ]
  },
  {
   "cell_type": "markdown",
   "metadata": {},
   "source": [
    "### Changing types of columns (final check)"
   ]
  },
  {
   "cell_type": "code",
   "execution_count": 39,
   "metadata": {
    "ExecuteTime": {
     "end_time": "2020-03-26T12:21:15.352664Z",
     "start_time": "2020-03-26T12:21:15.336298Z"
    }
   },
   "outputs": [
    {
     "name": "stdout",
     "output_type": "stream",
     "text": [
      "<class 'pandas.core.frame.DataFrame'>\n",
      "Int64Index: 6856 entries, 0 to 9998\n",
      "Data columns (total 16 columns):\n",
      "uniq_id               6856 non-null object\n",
      "product_name          6856 non-null object\n",
      "manufacturer          6856 non-null object\n",
      "price                 6856 non-null float64\n",
      "num_reviews           6856 non-null object\n",
      "num_answ_questions    6856 non-null float64\n",
      "description           6856 non-null object\n",
      "product_info          6856 non-null object\n",
      "ave_review_rating     6856 non-null float64\n",
      "description_len       6856 non-null int64\n",
      "product_info_len      6856 non-null int64\n",
      "main_cat              6856 non-null object\n",
      "sub_cat1              6856 non-null object\n",
      "sub_cat2              3938 non-null object\n",
      "sub_cat3              1133 non-null object\n",
      "sub_cat4              75 non-null object\n",
      "dtypes: float64(3), int64(2), object(11)\n",
      "memory usage: 1.2+ MB\n"
     ]
    }
   ],
   "source": [
    "df.info()\n",
    "\n",
    "#only need to change num:reviews to numeric"
   ]
  },
  {
   "cell_type": "code",
   "execution_count": 40,
   "metadata": {
    "ExecuteTime": {
     "end_time": "2020-03-26T12:21:15.361080Z",
     "start_time": "2020-03-26T12:21:15.352664Z"
    }
   },
   "outputs": [],
   "source": [
    "#deleting comma from number of reviews\n",
    "\n",
    "df['num_reviews'] = df['num_reviews'].str.replace(',', '')"
   ]
  },
  {
   "cell_type": "code",
   "execution_count": 41,
   "metadata": {
    "ExecuteTime": {
     "end_time": "2020-03-26T12:21:15.371759Z",
     "start_time": "2020-03-26T12:21:15.362435Z"
    }
   },
   "outputs": [],
   "source": [
    "#converting to numeric\n",
    "\n",
    "price_to_numeric('num_reviews')"
   ]
  },
  {
   "cell_type": "code",
   "execution_count": 42,
   "metadata": {
    "ExecuteTime": {
     "end_time": "2020-03-26T12:21:15.385950Z",
     "start_time": "2020-03-26T12:21:15.372980Z"
    },
    "scrolled": true
   },
   "outputs": [
    {
     "name": "stdout",
     "output_type": "stream",
     "text": [
      "<class 'pandas.core.frame.DataFrame'>\n",
      "Int64Index: 6856 entries, 0 to 9998\n",
      "Data columns (total 16 columns):\n",
      "uniq_id               6856 non-null object\n",
      "product_name          6856 non-null object\n",
      "manufacturer          6856 non-null object\n",
      "price                 6856 non-null float64\n",
      "num_reviews           6856 non-null int64\n",
      "num_answ_questions    6856 non-null float64\n",
      "description           6856 non-null object\n",
      "product_info          6856 non-null object\n",
      "ave_review_rating     6856 non-null float64\n",
      "description_len       6856 non-null int64\n",
      "product_info_len      6856 non-null int64\n",
      "main_cat              6856 non-null object\n",
      "sub_cat1              6856 non-null object\n",
      "sub_cat2              3938 non-null object\n",
      "sub_cat3              1133 non-null object\n",
      "sub_cat4              75 non-null object\n",
      "dtypes: float64(3), int64(3), object(10)\n",
      "memory usage: 1.2+ MB\n"
     ]
    }
   ],
   "source": [
    "df.info()\n",
    "\n",
    "#now all numeric columns have a correct type"
   ]
  },
  {
   "cell_type": "markdown",
   "metadata": {},
   "source": [
    "## Correlation check"
   ]
  },
  {
   "cell_type": "markdown",
   "metadata": {},
   "source": [
    "### Checking correlation of the dataset"
   ]
  },
  {
   "cell_type": "markdown",
   "metadata": {},
   "source": [
    "Checking the correlation in the correlation matrix"
   ]
  },
  {
   "cell_type": "code",
   "execution_count": 43,
   "metadata": {
    "ExecuteTime": {
     "end_time": "2020-03-26T12:21:15.405874Z",
     "start_time": "2020-03-26T12:21:15.385950Z"
    }
   },
   "outputs": [
    {
     "data": {
      "text/html": [
       "<div>\n",
       "<style scoped>\n",
       "    .dataframe tbody tr th:only-of-type {\n",
       "        vertical-align: middle;\n",
       "    }\n",
       "\n",
       "    .dataframe tbody tr th {\n",
       "        vertical-align: top;\n",
       "    }\n",
       "\n",
       "    .dataframe thead th {\n",
       "        text-align: right;\n",
       "    }\n",
       "</style>\n",
       "<table border=\"1\" class=\"dataframe\">\n",
       "  <thead>\n",
       "    <tr style=\"text-align: right;\">\n",
       "      <th></th>\n",
       "      <th>price</th>\n",
       "      <th>num_reviews</th>\n",
       "      <th>num_answ_questions</th>\n",
       "      <th>ave_review_rating</th>\n",
       "      <th>description_len</th>\n",
       "      <th>product_info_len</th>\n",
       "    </tr>\n",
       "  </thead>\n",
       "  <tbody>\n",
       "    <tr>\n",
       "      <td>price</td>\n",
       "      <td>1.000000</td>\n",
       "      <td>-0.029587</td>\n",
       "      <td>0.004486</td>\n",
       "      <td>0.020601</td>\n",
       "      <td>0.106732</td>\n",
       "      <td>0.000275</td>\n",
       "    </tr>\n",
       "    <tr>\n",
       "      <td>num_reviews</td>\n",
       "      <td>-0.029587</td>\n",
       "      <td>1.000000</td>\n",
       "      <td>0.114926</td>\n",
       "      <td>-0.111643</td>\n",
       "      <td>0.087952</td>\n",
       "      <td>0.025972</td>\n",
       "    </tr>\n",
       "    <tr>\n",
       "      <td>num_answ_questions</td>\n",
       "      <td>0.004486</td>\n",
       "      <td>0.114926</td>\n",
       "      <td>1.000000</td>\n",
       "      <td>-0.030347</td>\n",
       "      <td>0.017943</td>\n",
       "      <td>0.006685</td>\n",
       "    </tr>\n",
       "    <tr>\n",
       "      <td>ave_review_rating</td>\n",
       "      <td>0.020601</td>\n",
       "      <td>-0.111643</td>\n",
       "      <td>-0.030347</td>\n",
       "      <td>1.000000</td>\n",
       "      <td>-0.015098</td>\n",
       "      <td>-0.021319</td>\n",
       "    </tr>\n",
       "    <tr>\n",
       "      <td>description_len</td>\n",
       "      <td>0.106732</td>\n",
       "      <td>0.087952</td>\n",
       "      <td>0.017943</td>\n",
       "      <td>-0.015098</td>\n",
       "      <td>1.000000</td>\n",
       "      <td>0.033726</td>\n",
       "    </tr>\n",
       "    <tr>\n",
       "      <td>product_info_len</td>\n",
       "      <td>0.000275</td>\n",
       "      <td>0.025972</td>\n",
       "      <td>0.006685</td>\n",
       "      <td>-0.021319</td>\n",
       "      <td>0.033726</td>\n",
       "      <td>1.000000</td>\n",
       "    </tr>\n",
       "  </tbody>\n",
       "</table>\n",
       "</div>"
      ],
      "text/plain": [
       "                       price  num_reviews  num_answ_questions  \\\n",
       "price               1.000000    -0.029587            0.004486   \n",
       "num_reviews        -0.029587     1.000000            0.114926   \n",
       "num_answ_questions  0.004486     0.114926            1.000000   \n",
       "ave_review_rating   0.020601    -0.111643           -0.030347   \n",
       "description_len     0.106732     0.087952            0.017943   \n",
       "product_info_len    0.000275     0.025972            0.006685   \n",
       "\n",
       "                    ave_review_rating  description_len  product_info_len  \n",
       "price                        0.020601         0.106732          0.000275  \n",
       "num_reviews                 -0.111643         0.087952          0.025972  \n",
       "num_answ_questions          -0.030347         0.017943          0.006685  \n",
       "ave_review_rating            1.000000        -0.015098         -0.021319  \n",
       "description_len             -0.015098         1.000000          0.033726  \n",
       "product_info_len            -0.021319         0.033726          1.000000  "
      ]
     },
     "execution_count": 43,
     "metadata": {},
     "output_type": "execute_result"
    }
   ],
   "source": [
    "df_cor = df.corr()\n",
    "df_cor"
   ]
  },
  {
   "cell_type": "markdown",
   "metadata": {},
   "source": [
    "We can see that overall we don't have strong correlation with any variables.\n",
    "\n",
    "Some correlation can be seen between the number of reviews and the number of answered questions, average review rating, description len.\n",
    "\n",
    "Price is slightly correlated with the description len.\n",
    "\n",
    "We are more interested in the number of reviews and the average review rating, let's filter these variables:"
   ]
  },
  {
   "cell_type": "code",
   "execution_count": 44,
   "metadata": {
    "ExecuteTime": {
     "end_time": "2020-03-26T12:21:15.421501Z",
     "start_time": "2020-03-26T12:21:15.407870Z"
    }
   },
   "outputs": [
    {
     "data": {
      "text/plain": [
       "ave_review_rating     1.000000\n",
       "price                 0.020601\n",
       "description_len      -0.015098\n",
       "product_info_len     -0.021319\n",
       "num_answ_questions   -0.030347\n",
       "num_reviews          -0.111643\n",
       "Name: ave_review_rating, dtype: float64"
      ]
     },
     "execution_count": 44,
     "metadata": {},
     "output_type": "execute_result"
    }
   ],
   "source": [
    "#average review rating\n",
    "\n",
    "df_cor.ave_review_rating.sort_values(ascending = False)"
   ]
  },
  {
   "cell_type": "code",
   "execution_count": 45,
   "metadata": {
    "ExecuteTime": {
     "end_time": "2020-03-26T12:21:15.429763Z",
     "start_time": "2020-03-26T12:21:15.422583Z"
    }
   },
   "outputs": [
    {
     "data": {
      "text/plain": [
       "num_reviews           1.000000\n",
       "num_answ_questions    0.114926\n",
       "description_len       0.087952\n",
       "product_info_len      0.025972\n",
       "price                -0.029587\n",
       "ave_review_rating    -0.111643\n",
       "Name: num_reviews, dtype: float64"
      ]
     },
     "execution_count": 45,
     "metadata": {},
     "output_type": "execute_result"
    }
   ],
   "source": [
    "#number of reviews\n",
    "\n",
    "df_cor.num_reviews.sort_values(ascending = False)"
   ]
  },
  {
   "cell_type": "markdown",
   "metadata": {},
   "source": [
    "Using pairplot to see if there is some sort of correlation among columns with respect to average rating or number of reviews."
   ]
  },
  {
   "cell_type": "code",
   "execution_count": 46,
   "metadata": {
    "ExecuteTime": {
     "end_time": "2020-03-26T12:21:36.437173Z",
     "start_time": "2020-03-26T12:21:15.431994Z"
    }
   },
   "outputs": [
    {
     "data": {
      "text/plain": [
       "<seaborn.axisgrid.PairGrid at 0x240703d6748>"
      ]
     },
     "execution_count": 46,
     "metadata": {},
     "output_type": "execute_result"
    },
    {
     "data": {
      "image/png": "[encoded data removed]",
      "text/plain": [
       "<Figure size 1080x1080 with 42 Axes>"
      ]
     },
     "metadata": {
      "needs_background": "light"
     },
     "output_type": "display_data"
    }
   ],
   "source": [
    "sns.pairplot(df)"
   ]
  },
  {
   "cell_type": "markdown",
   "metadata": {},
   "source": [
    "Visualizing it using the heatmap:"
   ]
  },
  {
   "cell_type": "code",
   "execution_count": 47,
   "metadata": {
    "ExecuteTime": {
     "end_time": "2020-03-26T12:21:37.007343Z",
     "start_time": "2020-03-26T12:21:36.437173Z"
    }
   },
   "outputs": [
    {
     "data": {
      "text/plain": [
       "<matplotlib.axes._subplots.AxesSubplot at 0x24074f6c448>"
      ]
     },
     "execution_count": 47,
     "metadata": {},
     "output_type": "execute_result"
    },
    {
     "data": {
      "image/png": "[encoded data removed]",
      "text/plain": [
       "<Figure size 432x288 with 2 Axes>"
      ]
     },
     "metadata": {
      "needs_background": "light"
     },
     "output_type": "display_data"
    }
   ],
   "source": [
    "sns.heatmap(df.corr(), linewidth=0.5, annot=True)"
   ]
  },
  {
   "cell_type": "markdown",
   "metadata": {},
   "source": [
    "Confirming that there is no strong correlation between the varibales. \n",
    "\n",
    "Some correlation can be seen between the number of reviews and the number of answered questions, average review rating, description len.\n",
    "\n",
    "Price is slightly correlated with the description len."
   ]
  },
  {
   "cell_type": "markdown",
   "metadata": {},
   "source": [
    "## Hypothesis testing"
   ]
  },
  {
   "cell_type": "markdown",
   "metadata": {},
   "source": [
    "### Testing average price in 3 top categories"
   ]
  },
  {
   "cell_type": "markdown",
   "metadata": {},
   "source": [
    "#### Identifying 3 top selling categories and calculating their ave prices"
   ]
  },
  {
   "cell_type": "code",
   "execution_count": 48,
   "metadata": {
    "ExecuteTime": {
     "end_time": "2020-03-26T12:21:37.026939Z",
     "start_time": "2020-03-26T12:21:37.010903Z"
    },
    "scrolled": true
   },
   "outputs": [
    {
     "data": {
      "text/plain": [
       "Hobbies                             1059\n",
       "Die-Cast & Toy Vehicles              982\n",
       "Figures & Playsets                   813\n",
       "Games                                714\n",
       "Characters & Brands                  653\n",
       "Arts & Crafts                        566\n",
       "Party Supplies                       500\n",
       "Fancy Dress                          447\n",
       "Sports Toys & Outdoor                291\n",
       "Puppets & Puppet Theatres            229\n",
       "Dolls & Accessories                  226\n",
       "Jigsaws & Puzzles                    206\n",
       "Baby & Toddler Toys                   69\n",
       "Pretend Play                          31\n",
       "Musical Toy Instruments               12\n",
       "Novelty & Special Use                 10\n",
       "Pens, Pencils & Writing Supplies       7\n",
       "Office Supplies                        5\n",
       "Home Accessories                       4\n",
       "Educational Toys                       3\n",
       "Cooking & Dining                       3\n",
       "Gardening                              3\n",
       "Worlds Apart                           3\n",
       "Electronic Toys                        3\n",
       "Dogs                                   2\n",
       "Medication & Remedies                  2\n",
       "Women                                  2\n",
       "Men                                    1\n",
       "Indoor Lighting                        1\n",
       "Sweets, Chocolate & Gum                1\n",
       "Jams, Honey & Spreads                  1\n",
       "Storage, Cleaning & Ring Sizers        1\n",
       "Bags                                   1\n",
       "Bedding & Linens                       1\n",
       "Camping & Hiking                       1\n",
       "Novelty Jewellery                      1\n",
       "Sex & Sensuality                       1\n",
       "Laundry, Storage & Organisation        1\n",
       "Name: main_cat, dtype: int64"
      ]
     },
     "execution_count": 48,
     "metadata": {},
     "output_type": "execute_result"
    }
   ],
   "source": [
    "df.main_cat.value_counts()"
   ]
  },
  {
   "cell_type": "markdown",
   "metadata": {},
   "source": [
    "#### Check and change (log transformation) price distribution"
   ]
  },
  {
   "cell_type": "code",
   "execution_count": 116,
   "metadata": {
    "ExecuteTime": {
     "end_time": "2020-03-26T15:10:58.054321Z",
     "start_time": "2020-03-26T15:10:57.490769Z"
    }
   },
   "outputs": [
    {
     "data": {
      "text/plain": [
       "<matplotlib.axes._subplots.AxesSubplot at 0x2407b12b948>"
      ]
     },
     "execution_count": 116,
     "metadata": {},
     "output_type": "execute_result"
    },
    {
     "data": {
      "image/png": "[encoded data removed]",
      "text/plain": [
       "<Figure size 432x288 with 1 Axes>"
      ]
     },
     "metadata": {
      "needs_background": "light"
     },
     "output_type": "display_data"
    }
   ],
   "source": [
    "df.price.hist(bins=100)"
   ]
  },
  {
   "cell_type": "markdown",
   "metadata": {},
   "source": [
    "We can see that price distribution is not normal, we will need to apply log to normalize it:"
   ]
  },
  {
   "cell_type": "code",
   "execution_count": 117,
   "metadata": {
    "ExecuteTime": {
     "end_time": "2020-03-26T15:18:29.220712Z",
     "start_time": "2020-03-26T15:18:29.212282Z"
    }
   },
   "outputs": [],
   "source": [
    "#applying log for the price\n",
    "\n",
    "df['log_price'] = np.log(df['price'])"
   ]
  },
  {
   "cell_type": "code",
   "execution_count": 118,
   "metadata": {
    "ExecuteTime": {
     "end_time": "2020-03-26T15:18:33.783593Z",
     "start_time": "2020-03-26T15:18:33.461768Z"
    }
   },
   "outputs": [
    {
     "data": {
      "text/plain": [
       "<matplotlib.axes._subplots.AxesSubplot at 0x2407b29bd48>"
      ]
     },
     "execution_count": 118,
     "metadata": {},
     "output_type": "execute_result"
    },
    {
     "data": {
      "image/png": "[encoded data removed]",
      "text/plain": [
       "<Figure size 432x288 with 1 Axes>"
      ]
     },
     "metadata": {
      "needs_background": "light"
     },
     "output_type": "display_data"
    }
   ],
   "source": [
    "df.log_price.hist()"
   ]
  },
  {
   "cell_type": "markdown",
   "metadata": {},
   "source": [
    "Now that our price is normally distributed, we can start the hypothesis testing\n",
    "\n",
    "We first check the average price of the top selling categories:"
   ]
  },
  {
   "cell_type": "code",
   "execution_count": 119,
   "metadata": {
    "ExecuteTime": {
     "end_time": "2020-03-26T15:18:39.119298Z",
     "start_time": "2020-03-26T15:18:39.101795Z"
    },
    "scrolled": true
   },
   "outputs": [
    {
     "data": {
      "text/plain": [
       "main_cat\n",
       "Die-Cast & Toy Vehicles    2.792615\n",
       "Figures & Playsets         2.746373\n",
       "Hobbies                    2.875015\n",
       "Name: log_price, dtype: float64"
      ]
     },
     "execution_count": 119,
     "metadata": {},
     "output_type": "execute_result"
    }
   ],
   "source": [
    "sales_top = ['Hobbies', 'Die-Cast & Toy Vehicles', 'Figures & Playsets']\n",
    "\n",
    "df_main_cat = df[df.main_cat.isin(sales_top)].groupby('main_cat')['log_price'].mean()\n",
    "df_main_cat"
   ]
  },
  {
   "cell_type": "markdown",
   "metadata": {},
   "source": [
    "It looks like the averages are similar, maybe only Hobbies has a slightly higher average. Let's investigate."
   ]
  },
  {
   "cell_type": "markdown",
   "metadata": {},
   "source": [
    "#### Testing hypothesis (two-tailed)"
   ]
  },
  {
   "cell_type": "markdown",
   "metadata": {},
   "source": [
    "First check Hobbies with Die-Cast & Toy Vehicles:"
   ]
  },
  {
   "cell_type": "code",
   "execution_count": 123,
   "metadata": {
    "ExecuteTime": {
     "end_time": "2020-03-26T15:19:59.245002Z",
     "start_time": "2020-03-26T15:19:59.228042Z"
    }
   },
   "outputs": [
    {
     "name": "stdout",
     "output_type": "stream",
     "text": [
      "Ttest_1sampResult(statistic=2.331117412269808, pvalue=0.01993427777645568)\n",
      "True\n",
      "We reject H0, the average price in these two groups is significantly different\n"
     ]
    }
   ],
   "source": [
    "#H0: ave price in Hobbies and Die-Cast & Toy Vehicles are not statisticaly different\n",
    "\n",
    "#filtering hobbies \n",
    "\n",
    "hobbies = df.loc[df.main_cat == 'Hobbies']\n",
    "\n",
    "alpha = 0.05\n",
    "r = stats.ttest_1samp(hobbies['log_price'], df_main_cat[0])\n",
    "print(r)\n",
    "print(r.pvalue < alpha) \n",
    "\n",
    "if (r.pvalue < alpha):\n",
    "    print(\"We reject H0, the average price in these two groups is significantly different\")\n",
    "else: \n",
    "    print('We accept H0')"
   ]
  },
  {
   "cell_type": "markdown",
   "metadata": {},
   "source": [
    "Now check Hobbies and Figures & Playsets:"
   ]
  },
  {
   "cell_type": "code",
   "execution_count": 124,
   "metadata": {
    "ExecuteTime": {
     "end_time": "2020-03-26T15:20:09.348493Z",
     "start_time": "2020-03-26T15:20:09.336527Z"
    }
   },
   "outputs": [
    {
     "name": "stdout",
     "output_type": "stream",
     "text": [
      "Ttest_1sampResult(statistic=3.639329497676724, pvalue=0.0002865558126783832)\n",
      "True\n",
      "We reject H0, the average price in these two groups is significantly different\n"
     ]
    }
   ],
   "source": [
    "alpha = 0.05\n",
    "r = stats.ttest_1samp(hobbies['log_price'], df_main_cat[1])\n",
    "print(r)\n",
    "print(r.pvalue < alpha) \n",
    "\n",
    "if (r.pvalue < alpha):\n",
    "    print(\"We reject H0, the average price in these two groups is significantly different\")\n",
    "else: \n",
    "    print('We accept H0')"
   ]
  },
  {
   "cell_type": "markdown",
   "metadata": {},
   "source": [
    "We now know that there is a significant difference of the average price in Hobbies, what about between Die-Cast & Toy Vehicles and Figures & Playsets:"
   ]
  },
  {
   "cell_type": "code",
   "execution_count": 125,
   "metadata": {
    "ExecuteTime": {
     "end_time": "2020-03-26T15:20:26.097951Z",
     "start_time": "2020-03-26T15:20:26.083417Z"
    }
   },
   "outputs": [
    {
     "name": "stdout",
     "output_type": "stream",
     "text": [
      "Ttest_1sampResult(statistic=1.619784482614374, pvalue=0.10559997599390875)\n",
      "False\n",
      "We accept H0\n"
     ]
    }
   ],
   "source": [
    "#filtering Die-Cast & Toy Vehicles \n",
    "\n",
    "die_cast = df.loc[df.main_cat == 'Die-Cast & Toy Vehicles']\n",
    "\n",
    "alpha = 0.05\n",
    "r = stats.ttest_1samp(die_cast['log_price'], df_main_cat[1])\n",
    "print(r)\n",
    "print(r.pvalue < alpha) \n",
    "\n",
    "if (r.pvalue < alpha):\n",
    "    print(\"We reject H0, the average price in these two groups is significantly different\")\n",
    "else: \n",
    "    print('We accept H0')"
   ]
  },
  {
   "cell_type": "markdown",
   "metadata": {},
   "source": [
    "There is no significant difference between these two groups. \n",
    "\n",
    "We now know that out of 3 most selling categories, only Hobbies, has a significantly different average price."
   ]
  },
  {
   "cell_type": "markdown",
   "metadata": {},
   "source": [
    "#### Testing hypothesis (one-tailed)"
   ]
  },
  {
   "cell_type": "markdown",
   "metadata": {},
   "source": [
    "We know that Hobbies average price is 37.4, let's check if it's significantly higher than the overall average price (of all categories):\n",
    "\n",
    "(Given p and t values from a two-tailed test, reject the null hypothesis of a greater-than test when p/2 < alpha and t > 0, and of a less-than test when p/2 < alpha and t < 0)"
   ]
  },
  {
   "cell_type": "code",
   "execution_count": 67,
   "metadata": {
    "ExecuteTime": {
     "end_time": "2020-03-26T13:30:36.837420Z",
     "start_time": "2020-03-26T13:30:36.822961Z"
    }
   },
   "outputs": [
    {
     "data": {
      "text/plain": [
       "21.354727246207965"
      ]
     },
     "execution_count": 67,
     "metadata": {},
     "output_type": "execute_result"
    }
   ],
   "source": [
    "all_ave_price = df.price.mean()\n",
    "all_ave_price"
   ]
  },
  {
   "cell_type": "markdown",
   "metadata": {
    "ExecuteTime": {
     "end_time": "2020-03-26T14:14:35.219437Z",
     "start_time": "2020-03-26T14:14:35.209687Z"
    }
   },
   "source": [
    "H0: all average price is higher than hobbies average price\n",
    "\n",
    "H1: hobbies average price is higher that all average price"
   ]
  },
  {
   "cell_type": "code",
   "execution_count": 101,
   "metadata": {
    "ExecuteTime": {
     "end_time": "2020-03-26T14:31:21.802975Z",
     "start_time": "2020-03-26T14:31:21.792943Z"
    }
   },
   "outputs": [
    {
     "name": "stdout",
     "output_type": "stream",
     "text": [
      "Ttest_indResult(statistic=8.325657320367636, pvalue=9.794692552158001e-17)\n",
      "True\n",
      "We reject H0, the average price of hobbies is significantly higher than overall\n"
     ]
    }
   ],
   "source": [
    "alpha = 0.05\n",
    "\n",
    "a = df['price']\n",
    "b = hobbies['price']\n",
    "\n",
    "t = stats.ttest_ind(b,a)\n",
    "\n",
    "print(t)\n",
    "print((t.pvalue)/2 < alpha) \n",
    "\n",
    "if ((t.pvalue)/2 < alpha):\n",
    "    print(\"We reject H0, the average price of hobbies is significantly higher than overall\")\n",
    "else: \n",
    "    print('We accept H0')"
   ]
  },
  {
   "cell_type": "markdown",
   "metadata": {},
   "source": [
    "This is the output for a two-tailed t-test we must divide the p by 2 for our one-tailed test:"
   ]
  },
  {
   "cell_type": "code",
   "execution_count": 97,
   "metadata": {
    "ExecuteTime": {
     "end_time": "2020-03-26T14:28:59.642750Z",
     "start_time": "2020-03-26T14:28:59.626831Z"
    }
   },
   "outputs": [
    {
     "ename": "NameError",
     "evalue": "name 'p' is not defined",
     "output_type": "error",
     "traceback": [
      "\u001b[1;31m---------------------------------------------------------------------------\u001b[0m",
      "\u001b[1;31mNameError\u001b[0m                                 Traceback (most recent call last)",
      "\u001b[1;32m<ipython-input-97-fb3b6a4f3b40>\u001b[0m in \u001b[0;36m<module>\u001b[1;34m\u001b[0m\n\u001b[1;32m----> 1\u001b[1;33m \u001b[0mp\u001b[0m\u001b[1;33m/\u001b[0m\u001b[1;36m2\u001b[0m \u001b[1;33m<\u001b[0m \u001b[0malpha\u001b[0m\u001b[1;33m\u001b[0m\u001b[1;33m\u001b[0m\u001b[0m\n\u001b[0m",
      "\u001b[1;31mNameError\u001b[0m: name 'p' is not defined"
     ]
    }
   ],
   "source": [
    "p/2 < alpha"
   ]
  },
  {
   "cell_type": "code",
   "execution_count": null,
   "metadata": {},
   "outputs": [],
   "source": []
  },
  {
   "cell_type": "code",
   "execution_count": null,
   "metadata": {},
   "outputs": [],
   "source": []
  },
  {
   "cell_type": "code",
   "execution_count": null,
   "metadata": {},
   "outputs": [],
   "source": []
  },
  {
   "cell_type": "code",
   "execution_count": 68,
   "metadata": {
    "ExecuteTime": {
     "end_time": "2020-03-26T13:31:25.507576Z",
     "start_time": "2020-03-26T13:31:25.500778Z"
    }
   },
   "outputs": [
    {
     "name": "stdout",
     "output_type": "stream",
     "text": [
      "Ttest_1sampResult(statistic=5.42673513567533, pvalue=7.11429738523729e-08)\n",
      "True\n",
      "We reject H0, the average price in these two groups is significantly different\n"
     ]
    }
   ],
   "source": [
    "alpha = 0.05\n",
    "r = stats.ttest_1samp(hobbies['price'], all_ave_price)\n",
    "print(r)\n",
    "print(r.pvalue < alpha) \n",
    "\n",
    "if (r.pvalue < alpha):\n",
    "    print(\"We reject H0, the average price in these two groups is significantly different\")\n",
    "else: \n",
    "    print('We accept H0')"
   ]
  },
  {
   "cell_type": "markdown",
   "metadata": {},
   "source": [
    "We see that Hobbies has a highest average price not only between the top selling categories but also comapred to the overall average. "
   ]
  },
  {
   "cell_type": "markdown",
   "metadata": {},
   "source": [
    "### Testing ave number of reviews in 3 top categories"
   ]
  },
  {
   "cell_type": "markdown",
   "metadata": {},
   "source": [
    "#### Identifying 3 top selling categories and calculating their average number of reviews"
   ]
  },
  {
   "cell_type": "code",
   "execution_count": 53,
   "metadata": {
    "ExecuteTime": {
     "end_time": "2020-03-26T12:21:37.104346Z",
     "start_time": "2020-03-26T12:21:37.090611Z"
    },
    "scrolled": true
   },
   "outputs": [
    {
     "data": {
      "text/plain": [
       "Hobbies                             1059\n",
       "Die-Cast & Toy Vehicles              982\n",
       "Figures & Playsets                   813\n",
       "Games                                714\n",
       "Characters & Brands                  653\n",
       "Arts & Crafts                        566\n",
       "Party Supplies                       500\n",
       "Fancy Dress                          447\n",
       "Sports Toys & Outdoor                291\n",
       "Puppets & Puppet Theatres            229\n",
       "Dolls & Accessories                  226\n",
       "Jigsaws & Puzzles                    206\n",
       "Baby & Toddler Toys                   69\n",
       "Pretend Play                          31\n",
       "Musical Toy Instruments               12\n",
       "Novelty & Special Use                 10\n",
       "Pens, Pencils & Writing Supplies       7\n",
       "Office Supplies                        5\n",
       "Home Accessories                       4\n",
       "Educational Toys                       3\n",
       "Cooking & Dining                       3\n",
       "Gardening                              3\n",
       "Worlds Apart                           3\n",
       "Electronic Toys                        3\n",
       "Dogs                                   2\n",
       "Medication & Remedies                  2\n",
       "Women                                  2\n",
       "Men                                    1\n",
       "Indoor Lighting                        1\n",
       "Sweets, Chocolate & Gum                1\n",
       "Jams, Honey & Spreads                  1\n",
       "Storage, Cleaning & Ring Sizers        1\n",
       "Bags                                   1\n",
       "Bedding & Linens                       1\n",
       "Camping & Hiking                       1\n",
       "Novelty Jewellery                      1\n",
       "Sex & Sensuality                       1\n",
       "Laundry, Storage & Organisation        1\n",
       "Name: main_cat, dtype: int64"
      ]
     },
     "execution_count": 53,
     "metadata": {},
     "output_type": "execute_result"
    }
   ],
   "source": [
    "df.main_cat.value_counts()"
   ]
  },
  {
   "cell_type": "code",
   "execution_count": 54,
   "metadata": {
    "ExecuteTime": {
     "end_time": "2020-03-26T12:21:37.191063Z",
     "start_time": "2020-03-26T12:21:37.106341Z"
    }
   },
   "outputs": [
    {
     "data": {
      "text/plain": [
       "main_cat\n",
       "Die-Cast & Toy Vehicles    4.814664\n",
       "Figures & Playsets         7.412054\n",
       "Hobbies                    4.720491\n",
       "Name: num_reviews, dtype: float64"
      ]
     },
     "execution_count": 54,
     "metadata": {},
     "output_type": "execute_result"
    }
   ],
   "source": [
    "sales_top = ['Hobbies', 'Die-Cast & Toy Vehicles', 'Figures & Playsets']\n",
    "\n",
    "df_main_cat = df[df.main_cat.isin(sales_top)].groupby('main_cat')['num_reviews'].mean()\n",
    "df_main_cat"
   ]
  },
  {
   "cell_type": "markdown",
   "metadata": {},
   "source": [
    "It looks like the averages are similar, maybe only Figures & Playsets has a higher average. Let's investigate."
   ]
  },
  {
   "cell_type": "markdown",
   "metadata": {},
   "source": [
    "#### Testing hypothesis"
   ]
  },
  {
   "cell_type": "markdown",
   "metadata": {},
   "source": [
    "First check Hobbie with Die-Cast & Toy Vehicles:"
   ]
  },
  {
   "cell_type": "code",
   "execution_count": 55,
   "metadata": {
    "ExecuteTime": {
     "end_time": "2020-03-26T12:21:37.201327Z",
     "start_time": "2020-03-26T12:21:37.194084Z"
    }
   },
   "outputs": [
    {
     "name": "stdout",
     "output_type": "stream",
     "text": [
      "Ttest_1sampResult(statistic=-0.24954900645045788, pvalue=0.8029845786482239)\n",
      "False\n",
      "We accept H0\n"
     ]
    }
   ],
   "source": [
    "#H0: ave number of reviews in Hobbies and Die-Cast & Toy Vehicles are not statisticaly different\n",
    "\n",
    "alpha = 0.05\n",
    "r = stats.ttest_1samp(hobbies['num_reviews'], df_main_cat[0])\n",
    "print(r)\n",
    "print(r.pvalue < alpha) \n",
    "\n",
    "if (r.pvalue < alpha):\n",
    "    print(\"We reject H0, the average number of reviews in these two groups is significantly different\")\n",
    "else: \n",
    "    print('We accept H0')"
   ]
  },
  {
   "cell_type": "markdown",
   "metadata": {},
   "source": [
    "Our assumption was correct, there is no significant difference between the numbers of reviews in Hobbies and Die-Cast & Toy Vehicles\n",
    "\n",
    "Let's investigate Hobbies and Figures & Playsets:"
   ]
  },
  {
   "cell_type": "code",
   "execution_count": 56,
   "metadata": {
    "ExecuteTime": {
     "end_time": "2020-03-26T12:21:37.214098Z",
     "start_time": "2020-03-26T12:21:37.204150Z"
    }
   },
   "outputs": [
    {
     "name": "stdout",
     "output_type": "stream",
     "text": [
      "Ttest_1sampResult(statistic=-7.132378204364325, pvalue=1.826225538196523e-12)\n",
      "True\n",
      "We reject H0, the average number of reviews in these two groups is significantly different\n"
     ]
    }
   ],
   "source": [
    "#H0: ave number of reviews in Hobbies and Figures & Playsets are not statisticaly different\n",
    "\n",
    "alpha = 0.05\n",
    "r = stats.ttest_1samp(hobbies['num_reviews'], df_main_cat[1])\n",
    "print(r)\n",
    "print(r.pvalue < alpha) \n",
    "\n",
    "if (r.pvalue < alpha):\n",
    "    print(\"We reject H0, the average number of reviews in these two groups is significantly different\")\n",
    "else: \n",
    "    print('We accept H0')"
   ]
  },
  {
   "cell_type": "markdown",
   "metadata": {},
   "source": [
    "We can see that the average is significantly different between these two groups. What about Die-Cast & Toy Vehicles and Figures & Playsets:"
   ]
  },
  {
   "cell_type": "code",
   "execution_count": 57,
   "metadata": {
    "ExecuteTime": {
     "end_time": "2020-03-26T12:21:37.229528Z",
     "start_time": "2020-03-26T12:21:37.216127Z"
    }
   },
   "outputs": [
    {
     "name": "stdout",
     "output_type": "stream",
     "text": [
      "Ttest_1sampResult(statistic=13.578639979273598, pvalue=1.3045485997663468e-38)\n",
      "True\n",
      "We reject H0, the average price in these two groups is significantly different\n"
     ]
    }
   ],
   "source": [
    "#filtering Die-Cast & Toy Vehicles \n",
    "\n",
    "die_cast = df.loc[df.main_cat == 'Die-Cast & Toy Vehicles']\n",
    "\n",
    "alpha = 0.05\n",
    "r = stats.ttest_1samp(die_cast['price'], df_main_cat[1])\n",
    "print(r)\n",
    "print(r.pvalue < alpha) \n",
    "\n",
    "if (r.pvalue < alpha):\n",
    "    print(\"We reject H0, the average price in these two groups is significantly different\")\n",
    "else: \n",
    "    print('We accept H0')"
   ]
  },
  {
   "cell_type": "markdown",
   "metadata": {},
   "source": [
    "The average number of reviews is also significantly different between Die-Cast & Toy Vehicles and Figures & Playsets.\n",
    "\n",
    "We now know that out of 3 most selling categories, only Figures & Playsets, has a significantly different average number of reviews."
   ]
  },
  {
   "cell_type": "markdown",
   "metadata": {},
   "source": [
    "Let's check if Figures & Playsets average number of reviews is significantly different from the overall average (of all categories):"
   ]
  },
  {
   "cell_type": "code",
   "execution_count": 69,
   "metadata": {
    "ExecuteTime": {
     "end_time": "2020-03-26T13:38:13.034139Z",
     "start_time": "2020-03-26T13:38:13.021616Z"
    }
   },
   "outputs": [
    {
     "data": {
      "text/plain": [
       "9.726808634772462"
      ]
     },
     "execution_count": 69,
     "metadata": {},
     "output_type": "execute_result"
    }
   ],
   "source": [
    "all_ave_rev = df.num_reviews.mean()\n",
    "all_ave_rev"
   ]
  },
  {
   "cell_type": "code",
   "execution_count": 70,
   "metadata": {
    "ExecuteTime": {
     "end_time": "2020-03-26T13:39:51.607494Z",
     "start_time": "2020-03-26T13:39:51.592135Z"
    }
   },
   "outputs": [
    {
     "name": "stdout",
     "output_type": "stream",
     "text": [
      "Ttest_1sampResult(statistic=-3.5765750191079646, pvalue=0.00036872420142975397)\n",
      "True\n",
      "We reject H0, the average number of reviews in these two groups is significantly different\n"
     ]
    }
   ],
   "source": [
    "figures = df.loc[df.main_cat == 'Figures & Playsets']\n",
    "\n",
    "\n",
    "alpha = 0.05\n",
    "r = stats.ttest_1samp(figures['num_reviews'], all_ave_rev)\n",
    "print(r)\n",
    "print(r.pvalue < alpha) \n",
    "\n",
    "if (r.pvalue < alpha):\n",
    "    print(\"We reject H0, the average number of reviews in these two groups is significantly different\")\n",
    "else: \n",
    "    print('We accept H0')"
   ]
  },
  {
   "cell_type": "code",
   "execution_count": 73,
   "metadata": {
    "ExecuteTime": {
     "end_time": "2020-03-26T13:41:03.142018Z",
     "start_time": "2020-03-26T13:41:03.134314Z"
    }
   },
   "outputs": [
    {
     "data": {
      "text/plain": [
       "7.412054120541206"
      ]
     },
     "execution_count": 73,
     "metadata": {},
     "output_type": "execute_result"
    }
   ],
   "source": [
    "figures_ave = df.loc[df.main_cat == 'Figures & Playsets']['num_reviews'].mean()\n",
    "figures_ave"
   ]
  },
  {
   "cell_type": "markdown",
   "metadata": {},
   "source": [
    "We see that Figures & Playsets has a significantly different number of reviews not only between the top selling categories but also comapred to the overall average."
   ]
  },
  {
   "cell_type": "markdown",
   "metadata": {},
   "source": [
    "##  Analysis of variance - ANOVA"
   ]
  },
  {
   "cell_type": "markdown",
   "metadata": {},
   "source": [
    "We will perform an analysis of variance to determine whether the factors in our model create a significant difference in the group means.\n",
    "\n",
    "P<0.05 suggests that at least one group mean is significantly different from the others.\n",
    "\n",
    "Null hypothesis: all population means are equal\n",
    "\n",
    "Alternative hypothesis: at least one population mean is different from the rest."
   ]
  },
  {
   "cell_type": "markdown",
   "metadata": {},
   "source": [
    "### Checking whether average rating is different per main category"
   ]
  },
  {
   "cell_type": "code",
   "execution_count": 58,
   "metadata": {
    "ExecuteTime": {
     "end_time": "2020-03-26T12:21:37.244639Z",
     "start_time": "2020-03-26T12:21:37.231524Z"
    },
    "scrolled": true
   },
   "outputs": [
    {
     "data": {
      "text/plain": [
       "main_cat\n",
       "Indoor Lighting                     5.000000\n",
       "Laundry, Storage & Organisation     5.000000\n",
       "Bags                                5.000000\n",
       "Dogs                                5.000000\n",
       "Novelty Jewellery                   5.000000\n",
       "Novelty & Special Use               4.900000\n",
       "Gardening                           4.833333\n",
       "Dolls & Accessories                 4.809292\n",
       "Die-Cast & Toy Vehicles             4.760285\n",
       "Hobbies                             4.745892\n",
       "Jigsaws & Puzzles                   4.741748\n",
       "Puppets & Puppet Theatres           4.726638\n",
       "Figures & Playsets                  4.725338\n",
       "Party Supplies                      4.711400\n",
       "Arts & Crafts                       4.697703\n",
       "Characters & Brands                 4.683155\n",
       "Games                               4.672969\n",
       "Worlds Apart                        4.666667\n",
       "Pretend Play                        4.645161\n",
       "Baby & Toddler Toys                 4.631884\n",
       "Fancy Dress                         4.606264\n",
       "Sports Toys & Outdoor               4.579381\n",
       "Home Accessories                    4.575000\n",
       "Cooking & Dining                    4.566667\n",
       "Office Supplies                     4.560000\n",
       "Musical Toy Instruments             4.541667\n",
       "Storage, Cleaning & Ring Sizers     4.500000\n",
       "Medication & Remedies               4.500000\n",
       "Educational Toys                    4.433333\n",
       "Sweets, Chocolate & Gum             4.400000\n",
       "Pens, Pencils & Writing Supplies    4.385714\n",
       "Camping & Hiking                    4.200000\n",
       "Electronic Toys                     4.200000\n",
       "Men                                 4.100000\n",
       "Bedding & Linens                    4.100000\n",
       "Sex & Sensuality                    4.000000\n",
       "Women                               4.000000\n",
       "Jams, Honey & Spreads               4.000000\n",
       "Name: ave_review_rating, dtype: float64"
      ]
     },
     "execution_count": 58,
     "metadata": {},
     "output_type": "execute_result"
    }
   ],
   "source": [
    "df.groupby('main_cat').ave_review_rating.mean().sort_values(ascending=False)"
   ]
  },
  {
   "cell_type": "markdown",
   "metadata": {},
   "source": [
    "From the first look it's hard to say, we see that the values differ from 4 to 5. Indoor Lighting, Dogs, Laundry, Storage & Organisation, Novelty Jewellery have the highest score."
   ]
  },
  {
   "cell_type": "code",
   "execution_count": 59,
   "metadata": {
    "ExecuteTime": {
     "end_time": "2020-03-26T12:21:38.818851Z",
     "start_time": "2020-03-26T12:21:37.245632Z"
    }
   },
   "outputs": [
    {
     "data": {
      "image/png": "[encoded data removed]",
      "text/plain": [
       "<Figure size 576x432 with 1 Axes>"
      ]
     },
     "metadata": {
      "needs_background": "light"
     },
     "output_type": "display_data"
    }
   ],
   "source": [
    "#box plot ave rating/category\n",
    "var = 'ave_review_rating'\n",
    "data = pd.concat([df['main_cat'], df[var]], axis=1)\n",
    "f, ax = plt.subplots(figsize=(8, 6))\n",
    "fig = sns.boxplot(x=var, y=\"main_cat\", data=df)"
   ]
  },
  {
   "cell_type": "markdown",
   "metadata": {},
   "source": [
    "The same conclusion checking the box plot, the total variance is between 4 and 5, it would be more interesting to check the single category, for example Hobbies:"
   ]
  },
  {
   "cell_type": "code",
   "execution_count": 60,
   "metadata": {
    "ExecuteTime": {
     "end_time": "2020-03-26T12:21:38.998127Z",
     "start_time": "2020-03-26T12:21:38.820845Z"
    }
   },
   "outputs": [
    {
     "data": {
      "image/png": "[encoded data removed]",
      "text/plain": [
       "<Figure size 576x432 with 1 Axes>"
      ]
     },
     "metadata": {
      "needs_background": "light"
     },
     "output_type": "display_data"
    }
   ],
   "source": [
    "#box plot ave rating/hobbies\n",
    "\n",
    "df_hobbies = df.loc[df.main_cat == 'Hobbies']\n",
    "\n",
    "var = 'main_cat'\n",
    "data = pd.concat([df_hobbies['ave_review_rating'], df_hobbies[var]], axis=1)\n",
    "f, ax = plt.subplots(figsize=(8, 6))\n",
    "fig = sns.boxplot(x=var, y=\"ave_review_rating\", data=df_hobbies)"
   ]
  },
  {
   "cell_type": "markdown",
   "metadata": {},
   "source": [
    "Checking the signle category we can see that the range is slighlty different, in case of Hobbies, we have 4.5 to 5 average rating"
   ]
  },
  {
   "cell_type": "code",
   "execution_count": 61,
   "metadata": {
    "ExecuteTime": {
     "end_time": "2020-03-26T12:21:39.084597Z",
     "start_time": "2020-03-26T12:21:38.998127Z"
    }
   },
   "outputs": [
    {
     "data": {
      "text/html": [
       "<div>\n",
       "<style scoped>\n",
       "    .dataframe tbody tr th:only-of-type {\n",
       "        vertical-align: middle;\n",
       "    }\n",
       "\n",
       "    .dataframe tbody tr th {\n",
       "        vertical-align: top;\n",
       "    }\n",
       "\n",
       "    .dataframe thead th {\n",
       "        text-align: right;\n",
       "    }\n",
       "</style>\n",
       "<table border=\"1\" class=\"dataframe\">\n",
       "  <thead>\n",
       "    <tr style=\"text-align: right;\">\n",
       "      <th></th>\n",
       "      <th>sum_sq</th>\n",
       "      <th>df</th>\n",
       "      <th>F</th>\n",
       "      <th>PR(&gt;F)</th>\n",
       "    </tr>\n",
       "  </thead>\n",
       "  <tbody>\n",
       "    <tr>\n",
       "      <td>C(df[\"main_cat\"])</td>\n",
       "      <td>24.844854</td>\n",
       "      <td>37.0</td>\n",
       "      <td>4.994499</td>\n",
       "      <td>3.441513e-21</td>\n",
       "    </tr>\n",
       "    <tr>\n",
       "      <td>Residual</td>\n",
       "      <td>916.642077</td>\n",
       "      <td>6818.0</td>\n",
       "      <td>NaN</td>\n",
       "      <td>NaN</td>\n",
       "    </tr>\n",
       "  </tbody>\n",
       "</table>\n",
       "</div>"
      ],
      "text/plain": [
       "                       sum_sq      df         F        PR(>F)\n",
       "C(df[\"main_cat\"])   24.844854    37.0  4.994499  3.441513e-21\n",
       "Residual           916.642077  6818.0       NaN           NaN"
      ]
     },
     "execution_count": 61,
     "metadata": {},
     "output_type": "execute_result"
    }
   ],
   "source": [
    "#conducting ANOVA\n",
    "\n",
    "model = ols('df.ave_review_rating ~ C(df[\"main_cat\"])', data=df).fit()\n",
    "anova_table = sm.stats.anova_lm(model, typ=2)\n",
    "anova_table\n",
    "\n",
    "#ave rating by main category"
   ]
  },
  {
   "cell_type": "code",
   "execution_count": 62,
   "metadata": {
    "ExecuteTime": {
     "end_time": "2020-03-26T12:21:39.096012Z",
     "start_time": "2020-03-26T12:21:39.087405Z"
    }
   },
   "outputs": [
    {
     "name": "stdout",
     "output_type": "stream",
     "text": [
      "True\n"
     ]
    }
   ],
   "source": [
    "print(anova_table['PR(>F)'][0] < 0.05)"
   ]
  },
  {
   "cell_type": "markdown",
   "metadata": {},
   "source": [
    "P<0.05 suggests that at least one group mean is significantly different from the others (we reject H0). In our data, we saw that the average ratings were similar, but thanks to ANOVA we realized that there is actually a significant difference between the categories and we can say that in general the average review rating is significantly different per category.\n"
   ]
  },
  {
   "cell_type": "code",
   "execution_count": null,
   "metadata": {},
   "outputs": [],
   "source": []
  },
  {
   "cell_type": "markdown",
   "metadata": {},
   "source": [
    "## Linear regression"
   ]
  },
  {
   "cell_type": "markdown",
   "metadata": {},
   "source": [
    "Conducting linear regression:"
   ]
  },
  {
   "cell_type": "code",
   "execution_count": 63,
   "metadata": {
    "ExecuteTime": {
     "end_time": "2020-03-26T12:21:39.139436Z",
     "start_time": "2020-03-26T12:21:39.099087Z"
    }
   },
   "outputs": [
    {
     "name": "stderr",
     "output_type": "stream",
     "text": [
      "C:\\Users\\krist\\Anaconda3\\lib\\site-packages\\numpy\\core\\fromnumeric.py:2389: FutureWarning: Method .ptp is deprecated and will be removed in a future version. Use numpy.ptp instead.\n",
      "  return ptp(axis=axis, out=out, **kwargs)\n"
     ]
    },
    {
     "data": {
      "text/html": [
       "<table class=\"simpletable\">\n",
       "<caption>OLS Regression Results</caption>\n",
       "<tr>\n",
       "  <th>Dep. Variable:</th>       <td>num_reviews</td>   <th>  R-squared:         </th> <td>   0.032</td> \n",
       "</tr>\n",
       "<tr>\n",
       "  <th>Model:</th>                   <td>OLS</td>       <th>  Adj. R-squared:    </th> <td>   0.032</td> \n",
       "</tr>\n",
       "<tr>\n",
       "  <th>Method:</th>             <td>Least Squares</td>  <th>  F-statistic:       </th> <td>   75.57</td> \n",
       "</tr>\n",
       "<tr>\n",
       "  <th>Date:</th>             <td>Thu, 26 Mar 2020</td> <th>  Prob (F-statistic):</th> <td>4.35e-48</td> \n",
       "</tr>\n",
       "<tr>\n",
       "  <th>Time:</th>                 <td>13:21:39</td>     <th>  Log-Likelihood:    </th> <td> -34457.</td> \n",
       "</tr>\n",
       "<tr>\n",
       "  <th>No. Observations:</th>      <td>  6856</td>      <th>  AIC:               </th> <td>6.892e+04</td>\n",
       "</tr>\n",
       "<tr>\n",
       "  <th>Df Residuals:</th>          <td>  6852</td>      <th>  BIC:               </th> <td>6.895e+04</td>\n",
       "</tr>\n",
       "<tr>\n",
       "  <th>Df Model:</th>              <td>     3</td>      <th>                     </th>     <td> </td>    \n",
       "</tr>\n",
       "<tr>\n",
       "  <th>Covariance Type:</th>      <td>nonrobust</td>    <th>                     </th>     <td> </td>    \n",
       "</tr>\n",
       "</table>\n",
       "<table class=\"simpletable\">\n",
       "<tr>\n",
       "           <td></td>             <th>coef</th>     <th>std err</th>      <th>t</th>      <th>P>|t|</th>  <th>[0.025</th>    <th>0.975]</th>  \n",
       "</tr>\n",
       "<tr>\n",
       "  <th>const</th>              <td>   54.5163</td> <td>    5.718</td> <td>    9.534</td> <td> 0.000</td> <td>   43.308</td> <td>   65.725</td>\n",
       "</tr>\n",
       "<tr>\n",
       "  <th>num_answ_questions</th> <td>    1.5753</td> <td>    0.170</td> <td>    9.263</td> <td> 0.000</td> <td>    1.242</td> <td>    1.909</td>\n",
       "</tr>\n",
       "<tr>\n",
       "  <th>ave_review_rating</th>  <td>  -10.8177</td> <td>    1.202</td> <td>   -9.000</td> <td> 0.000</td> <td>  -13.174</td> <td>   -8.461</td>\n",
       "</tr>\n",
       "<tr>\n",
       "  <th>description_len</th>    <td>    0.0078</td> <td>    0.001</td> <td>    7.096</td> <td> 0.000</td> <td>    0.006</td> <td>    0.010</td>\n",
       "</tr>\n",
       "</table>\n",
       "<table class=\"simpletable\">\n",
       "<tr>\n",
       "  <th>Omnibus:</th>       <td>14211.951</td> <th>  Durbin-Watson:     </th>   <td>   1.966</td>  \n",
       "</tr>\n",
       "<tr>\n",
       "  <th>Prob(Omnibus):</th>  <td> 0.000</td>   <th>  Jarque-Bera (JB):  </th> <td>63695309.065</td>\n",
       "</tr>\n",
       "<tr>\n",
       "  <th>Skew:</th>           <td>17.476</td>   <th>  Prob(JB):          </th>   <td>    0.00</td>  \n",
       "</tr>\n",
       "<tr>\n",
       "  <th>Kurtosis:</th>       <td>473.902</td>  <th>  Cond. No.          </th>   <td>7.58e+03</td>  \n",
       "</tr>\n",
       "</table><br/><br/>Warnings:<br/>[1] Standard Errors assume that the covariance matrix of the errors is correctly specified.<br/>[2] The condition number is large, 7.58e+03. This might indicate that there are<br/>strong multicollinearity or other numerical problems."
      ],
      "text/plain": [
       "<class 'statsmodels.iolib.summary.Summary'>\n",
       "\"\"\"\n",
       "                            OLS Regression Results                            \n",
       "==============================================================================\n",
       "Dep. Variable:            num_reviews   R-squared:                       0.032\n",
       "Model:                            OLS   Adj. R-squared:                  0.032\n",
       "Method:                 Least Squares   F-statistic:                     75.57\n",
       "Date:                Thu, 26 Mar 2020   Prob (F-statistic):           4.35e-48\n",
       "Time:                        13:21:39   Log-Likelihood:                -34457.\n",
       "No. Observations:                6856   AIC:                         6.892e+04\n",
       "Df Residuals:                    6852   BIC:                         6.895e+04\n",
       "Df Model:                           3                                         \n",
       "Covariance Type:            nonrobust                                         \n",
       "======================================================================================\n",
       "                         coef    std err          t      P>|t|      [0.025      0.975]\n",
       "--------------------------------------------------------------------------------------\n",
       "const                 54.5163      5.718      9.534      0.000      43.308      65.725\n",
       "num_answ_questions     1.5753      0.170      9.263      0.000       1.242       1.909\n",
       "ave_review_rating    -10.8177      1.202     -9.000      0.000     -13.174      -8.461\n",
       "description_len        0.0078      0.001      7.096      0.000       0.006       0.010\n",
       "==============================================================================\n",
       "Omnibus:                    14211.951   Durbin-Watson:                   1.966\n",
       "Prob(Omnibus):                  0.000   Jarque-Bera (JB):         63695309.065\n",
       "Skew:                          17.476   Prob(JB):                         0.00\n",
       "Kurtosis:                     473.902   Cond. No.                     7.58e+03\n",
       "==============================================================================\n",
       "\n",
       "Warnings:\n",
       "[1] Standard Errors assume that the covariance matrix of the errors is correctly specified.\n",
       "[2] The condition number is large, 7.58e+03. This might indicate that there are\n",
       "strong multicollinearity or other numerical problems.\n",
       "\"\"\""
      ]
     },
     "execution_count": 63,
     "metadata": {},
     "output_type": "execute_result"
    }
   ],
   "source": [
    "X = df[['num_answ_questions', 'ave_review_rating', 'description_len']] # X our input variables (or independent variables)\n",
    "y = df['num_reviews'] # Y our output/dependent variable\n",
    "X = sm.add_constant(X) # adding an intercept (beta_0) to our model\n",
    "\n",
    "# Note the difference in argument order\n",
    "model = sm.OLS(y, X).fit() # sm.OLS(output, input)\n",
    "predictions = model.predict(X) # make the predictions by the model\n",
    "\n",
    "# Print out the statistics\n",
    "model.summary()"
   ]
  },
  {
   "cell_type": "code",
   "execution_count": 64,
   "metadata": {
    "ExecuteTime": {
     "end_time": "2020-03-26T12:21:39.150737Z",
     "start_time": "2020-03-26T12:21:39.142428Z"
    }
   },
   "outputs": [
    {
     "name": "stdout",
     "output_type": "stream",
     "text": [
      "True\n"
     ]
    }
   ],
   "source": [
    "pvalue = 4.35e-48\n",
    "alpha = 0.05\n",
    "\n",
    "print(pvalue<alpha)"
   ]
  },
  {
   "cell_type": "markdown",
   "metadata": {},
   "source": [
    "We can see that this model has a very low R-squared value — 0.032, meaning that this model explains only 3.2% of the variance in our dependent variable.\n",
    "\n",
    "The pvalue is lower than 0.05, meaning we can reject the Null hypothesis and accept the alternate hypothesis. There is a statistically significant impact on the number of reviews from number of questions, average review rating and the length of description."
   ]
  },
  {
   "cell_type": "markdown",
   "metadata": {},
   "source": [
    "Let's plot our results:"
   ]
  },
  {
   "cell_type": "code",
   "execution_count": 65,
   "metadata": {
    "ExecuteTime": {
     "end_time": "2020-03-26T12:21:39.485198Z",
     "start_time": "2020-03-26T12:21:39.153649Z"
    }
   },
   "outputs": [
    {
     "data": {
      "text/plain": [
       "Text(0, 0.5, 'Predicted values')"
      ]
     },
     "execution_count": 65,
     "metadata": {},
     "output_type": "execute_result"
    },
    {
     "data": {
      "image/png": "[encoded data removed]",
      "text/plain": [
       "<Figure size 432x288 with 1 Axes>"
      ]
     },
     "metadata": {
      "needs_background": "light"
     },
     "output_type": "display_data"
    }
   ],
   "source": [
    "predictions = model.predict(X)\n",
    "plt.scatter(y, predictions)\n",
    "plt.xlabel(\"Actual values\")\n",
    "plt.ylabel(\"Predicted values\")"
   ]
  },
  {
   "cell_type": "markdown",
   "metadata": {},
   "source": [
    "From the graph we can see that the predicted and actual values are very far from each other."
   ]
  },
  {
   "cell_type": "code",
   "execution_count": null,
   "metadata": {},
   "outputs": [],
   "source": []
  },
  {
   "cell_type": "code",
   "execution_count": 75,
   "metadata": {
    "ExecuteTime": {
     "end_time": "2020-03-26T13:59:05.496670Z",
     "start_time": "2020-03-26T13:59:05.485648Z"
    }
   },
   "outputs": [],
   "source": [
    "#adding column with average rating labels\n",
    "\n",
    "df['rating_label'] = df['ave_review_rating'].apply(lambda x: 'good' if x > 4 else ('medium' if (x < 4) & (x > 3) else 'low'))"
   ]
  },
  {
   "cell_type": "code",
   "execution_count": 81,
   "metadata": {
    "ExecuteTime": {
     "end_time": "2020-03-26T14:00:24.975024Z",
     "start_time": "2020-03-26T14:00:24.940920Z"
    },
    "scrolled": true
   },
   "outputs": [
    {
     "data": {
      "text/html": [
       "<div>\n",
       "<style scoped>\n",
       "    .dataframe tbody tr th:only-of-type {\n",
       "        vertical-align: middle;\n",
       "    }\n",
       "\n",
       "    .dataframe tbody tr th {\n",
       "        vertical-align: top;\n",
       "    }\n",
       "\n",
       "    .dataframe thead th {\n",
       "        text-align: right;\n",
       "    }\n",
       "</style>\n",
       "<table border=\"1\" class=\"dataframe\">\n",
       "  <thead>\n",
       "    <tr style=\"text-align: right;\">\n",
       "      <th>rating_label</th>\n",
       "      <th>good</th>\n",
       "      <th>low</th>\n",
       "      <th>medium</th>\n",
       "    </tr>\n",
       "    <tr>\n",
       "      <th>main_cat</th>\n",
       "      <th></th>\n",
       "      <th></th>\n",
       "      <th></th>\n",
       "    </tr>\n",
       "  </thead>\n",
       "  <tbody>\n",
       "    <tr>\n",
       "      <td>Hobbies</td>\n",
       "      <td>913</td>\n",
       "      <td>143</td>\n",
       "      <td>3</td>\n",
       "    </tr>\n",
       "    <tr>\n",
       "      <td>Die-Cast &amp; Toy Vehicles</td>\n",
       "      <td>851</td>\n",
       "      <td>129</td>\n",
       "      <td>2</td>\n",
       "    </tr>\n",
       "    <tr>\n",
       "      <td>Figures &amp; Playsets</td>\n",
       "      <td>718</td>\n",
       "      <td>95</td>\n",
       "      <td>0</td>\n",
       "    </tr>\n",
       "    <tr>\n",
       "      <td>Games</td>\n",
       "      <td>631</td>\n",
       "      <td>82</td>\n",
       "      <td>1</td>\n",
       "    </tr>\n",
       "    <tr>\n",
       "      <td>Characters &amp; Brands</td>\n",
       "      <td>578</td>\n",
       "      <td>73</td>\n",
       "      <td>2</td>\n",
       "    </tr>\n",
       "    <tr>\n",
       "      <td>Arts &amp; Crafts</td>\n",
       "      <td>502</td>\n",
       "      <td>63</td>\n",
       "      <td>1</td>\n",
       "    </tr>\n",
       "    <tr>\n",
       "      <td>Party Supplies</td>\n",
       "      <td>432</td>\n",
       "      <td>68</td>\n",
       "      <td>0</td>\n",
       "    </tr>\n",
       "    <tr>\n",
       "      <td>Fancy Dress</td>\n",
       "      <td>363</td>\n",
       "      <td>84</td>\n",
       "      <td>0</td>\n",
       "    </tr>\n",
       "    <tr>\n",
       "      <td>Sports Toys &amp; Outdoor</td>\n",
       "      <td>237</td>\n",
       "      <td>53</td>\n",
       "      <td>1</td>\n",
       "    </tr>\n",
       "    <tr>\n",
       "      <td>Puppets &amp; Puppet Theatres</td>\n",
       "      <td>209</td>\n",
       "      <td>20</td>\n",
       "      <td>0</td>\n",
       "    </tr>\n",
       "    <tr>\n",
       "      <td>Dolls &amp; Accessories</td>\n",
       "      <td>204</td>\n",
       "      <td>22</td>\n",
       "      <td>0</td>\n",
       "    </tr>\n",
       "    <tr>\n",
       "      <td>Jigsaws &amp; Puzzles</td>\n",
       "      <td>184</td>\n",
       "      <td>22</td>\n",
       "      <td>0</td>\n",
       "    </tr>\n",
       "    <tr>\n",
       "      <td>Baby &amp; Toddler Toys</td>\n",
       "      <td>59</td>\n",
       "      <td>10</td>\n",
       "      <td>0</td>\n",
       "    </tr>\n",
       "    <tr>\n",
       "      <td>Pretend Play</td>\n",
       "      <td>28</td>\n",
       "      <td>3</td>\n",
       "      <td>0</td>\n",
       "    </tr>\n",
       "    <tr>\n",
       "      <td>Musical Toy Instruments</td>\n",
       "      <td>11</td>\n",
       "      <td>1</td>\n",
       "      <td>0</td>\n",
       "    </tr>\n",
       "    <tr>\n",
       "      <td>Novelty &amp; Special Use</td>\n",
       "      <td>9</td>\n",
       "      <td>1</td>\n",
       "      <td>0</td>\n",
       "    </tr>\n",
       "    <tr>\n",
       "      <td>Pens, Pencils &amp; Writing Supplies</td>\n",
       "      <td>4</td>\n",
       "      <td>3</td>\n",
       "      <td>0</td>\n",
       "    </tr>\n",
       "    <tr>\n",
       "      <td>Gardening</td>\n",
       "      <td>3</td>\n",
       "      <td>0</td>\n",
       "      <td>0</td>\n",
       "    </tr>\n",
       "    <tr>\n",
       "      <td>Home Accessories</td>\n",
       "      <td>3</td>\n",
       "      <td>1</td>\n",
       "      <td>0</td>\n",
       "    </tr>\n",
       "    <tr>\n",
       "      <td>Office Supplies</td>\n",
       "      <td>3</td>\n",
       "      <td>2</td>\n",
       "      <td>0</td>\n",
       "    </tr>\n",
       "    <tr>\n",
       "      <td>Medication &amp; Remedies</td>\n",
       "      <td>2</td>\n",
       "      <td>0</td>\n",
       "      <td>0</td>\n",
       "    </tr>\n",
       "    <tr>\n",
       "      <td>Worlds Apart</td>\n",
       "      <td>2</td>\n",
       "      <td>1</td>\n",
       "      <td>0</td>\n",
       "    </tr>\n",
       "    <tr>\n",
       "      <td>Electronic Toys</td>\n",
       "      <td>2</td>\n",
       "      <td>0</td>\n",
       "      <td>1</td>\n",
       "    </tr>\n",
       "    <tr>\n",
       "      <td>Educational Toys</td>\n",
       "      <td>2</td>\n",
       "      <td>1</td>\n",
       "      <td>0</td>\n",
       "    </tr>\n",
       "    <tr>\n",
       "      <td>Dogs</td>\n",
       "      <td>2</td>\n",
       "      <td>0</td>\n",
       "      <td>0</td>\n",
       "    </tr>\n",
       "    <tr>\n",
       "      <td>Cooking &amp; Dining</td>\n",
       "      <td>2</td>\n",
       "      <td>1</td>\n",
       "      <td>0</td>\n",
       "    </tr>\n",
       "    <tr>\n",
       "      <td>Laundry, Storage &amp; Organisation</td>\n",
       "      <td>1</td>\n",
       "      <td>0</td>\n",
       "      <td>0</td>\n",
       "    </tr>\n",
       "    <tr>\n",
       "      <td>Men</td>\n",
       "      <td>1</td>\n",
       "      <td>0</td>\n",
       "      <td>0</td>\n",
       "    </tr>\n",
       "    <tr>\n",
       "      <td>Indoor Lighting</td>\n",
       "      <td>1</td>\n",
       "      <td>0</td>\n",
       "      <td>0</td>\n",
       "    </tr>\n",
       "    <tr>\n",
       "      <td>Novelty Jewellery</td>\n",
       "      <td>1</td>\n",
       "      <td>0</td>\n",
       "      <td>0</td>\n",
       "    </tr>\n",
       "    <tr>\n",
       "      <td>Camping &amp; Hiking</td>\n",
       "      <td>1</td>\n",
       "      <td>0</td>\n",
       "      <td>0</td>\n",
       "    </tr>\n",
       "    <tr>\n",
       "      <td>Bedding &amp; Linens</td>\n",
       "      <td>1</td>\n",
       "      <td>0</td>\n",
       "      <td>0</td>\n",
       "    </tr>\n",
       "    <tr>\n",
       "      <td>Bags</td>\n",
       "      <td>1</td>\n",
       "      <td>0</td>\n",
       "      <td>0</td>\n",
       "    </tr>\n",
       "    <tr>\n",
       "      <td>Storage, Cleaning &amp; Ring Sizers</td>\n",
       "      <td>1</td>\n",
       "      <td>0</td>\n",
       "      <td>0</td>\n",
       "    </tr>\n",
       "    <tr>\n",
       "      <td>Sweets, Chocolate &amp; Gum</td>\n",
       "      <td>1</td>\n",
       "      <td>0</td>\n",
       "      <td>0</td>\n",
       "    </tr>\n",
       "    <tr>\n",
       "      <td>Sex &amp; Sensuality</td>\n",
       "      <td>0</td>\n",
       "      <td>1</td>\n",
       "      <td>0</td>\n",
       "    </tr>\n",
       "    <tr>\n",
       "      <td>Women</td>\n",
       "      <td>0</td>\n",
       "      <td>2</td>\n",
       "      <td>0</td>\n",
       "    </tr>\n",
       "    <tr>\n",
       "      <td>Jams, Honey &amp; Spreads</td>\n",
       "      <td>0</td>\n",
       "      <td>1</td>\n",
       "      <td>0</td>\n",
       "    </tr>\n",
       "  </tbody>\n",
       "</table>\n",
       "</div>"
      ],
      "text/plain": [
       "rating_label                      good  low  medium\n",
       "main_cat                                           \n",
       "Hobbies                            913  143       3\n",
       "Die-Cast & Toy Vehicles            851  129       2\n",
       "Figures & Playsets                 718   95       0\n",
       "Games                              631   82       1\n",
       "Characters & Brands                578   73       2\n",
       "Arts & Crafts                      502   63       1\n",
       "Party Supplies                     432   68       0\n",
       "Fancy Dress                        363   84       0\n",
       "Sports Toys & Outdoor              237   53       1\n",
       "Puppets & Puppet Theatres          209   20       0\n",
       "Dolls & Accessories                204   22       0\n",
       "Jigsaws & Puzzles                  184   22       0\n",
       "Baby & Toddler Toys                 59   10       0\n",
       "Pretend Play                        28    3       0\n",
       "Musical Toy Instruments             11    1       0\n",
       "Novelty & Special Use                9    1       0\n",
       "Pens, Pencils & Writing Supplies     4    3       0\n",
       "Gardening                            3    0       0\n",
       "Home Accessories                     3    1       0\n",
       "Office Supplies                      3    2       0\n",
       "Medication & Remedies                2    0       0\n",
       "Worlds Apart                         2    1       0\n",
       "Electronic Toys                      2    0       1\n",
       "Educational Toys                     2    1       0\n",
       "Dogs                                 2    0       0\n",
       "Cooking & Dining                     2    1       0\n",
       "Laundry, Storage & Organisation      1    0       0\n",
       "Men                                  1    0       0\n",
       "Indoor Lighting                      1    0       0\n",
       "Novelty Jewellery                    1    0       0\n",
       "Camping & Hiking                     1    0       0\n",
       "Bedding & Linens                     1    0       0\n",
       "Bags                                 1    0       0\n",
       "Storage, Cleaning & Ring Sizers      1    0       0\n",
       "Sweets, Chocolate & Gum              1    0       0\n",
       "Sex & Sensuality                     0    1       0\n",
       "Women                                0    2       0\n",
       "Jams, Honey & Spreads                0    1       0"
      ]
     },
     "execution_count": 81,
     "metadata": {},
     "output_type": "execute_result"
    }
   ],
   "source": [
    "#checking which categories have most good ratings\n",
    "\n",
    "df_crosstab = pd.crosstab(df['main_cat'], df['rating_label'], margins = False, )\n",
    "\n",
    "df_crosstab.sort_values('good', ascending=False) #sorting by good"
   ]
  },
  {
   "cell_type": "code",
   "execution_count": null,
   "metadata": {},
   "outputs": [],
   "source": []
  },
  {
   "cell_type": "code",
   "execution_count": null,
   "metadata": {},
   "outputs": [],
   "source": []
  }
 ],
 "metadata": {
  "kernelspec": {
   "display_name": "Python 3",
   "language": "python",
   "name": "python3"
  },
  "language_info": {
   "codemirror_mode": {
    "name": "ipython",
    "version": 3
   },
   "file_extension": ".py",
   "mimetype": "text/x-python",
   "name": "python",
   "nbconvert_exporter": "python",
   "pygments_lexer": "ipython3",
   "version": "3.7.4"
  },
  "toc": {
   "base_numbering": 1,
   "nav_menu": {},
   "number_sections": true,
   "sideBar": true,
   "skip_h1_title": false,
   "title_cell": "Table of Contents",
   "title_sidebar": "Contents",
   "toc_cell": true,
   "toc_position": {},
   "toc_section_display": true,
   "toc_window_display": false
  }
 },
 "nbformat": 4,
 "nbformat_minor": 2
}
