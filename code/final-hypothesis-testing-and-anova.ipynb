{
 "cells": [
  {
   "cell_type": "markdown",
   "metadata": {
    "toc": true
   },
   "source": [
    "<h1>Table of Contents<span class=\"tocSkip\"></span></h1>\n",
    "<div class=\"toc\"><ul class=\"toc-item\"><li><span><a href=\"#Cleaning-data\" data-toc-modified-id=\"Cleaning-data-1\"><span class=\"toc-item-num\">1&nbsp;&nbsp;</span>Cleaning data</a></span><ul class=\"toc-item\"><li><span><a href=\"#Missing-values\" data-toc-modified-id=\"Missing-values-1.1\"><span class=\"toc-item-num\">1.1&nbsp;&nbsp;</span>Missing values</a></span><ul class=\"toc-item\"><li><span><a href=\"#Deleting-columns-with-more-than-20%-missing-values\" data-toc-modified-id=\"Deleting-columns-with-more-than-20%-missing-values-1.1.1\"><span class=\"toc-item-num\">1.1.1&nbsp;&nbsp;</span>Deleting columns with more than 20% missing values</a></span></li><li><span><a href=\"#Filtering-only-necessary-columns\" data-toc-modified-id=\"Filtering-only-necessary-columns-1.1.2\"><span class=\"toc-item-num\">1.1.2&nbsp;&nbsp;</span>Filtering only necessary columns</a></span></li><li><span><a href=\"#Deleting-rows-that-have-null-values\" data-toc-modified-id=\"Deleting-rows-that-have-null-values-1.1.3\"><span class=\"toc-item-num\">1.1.3&nbsp;&nbsp;</span>Deleting rows that have null values</a></span></li></ul></li><li><span><a href=\"#Cleaning-price\" data-toc-modified-id=\"Cleaning-price-1.2\"><span class=\"toc-item-num\">1.2&nbsp;&nbsp;</span>Cleaning price</a></span><ul class=\"toc-item\"><li><span><a href=\"#Deleting-pound-symbol\" data-toc-modified-id=\"Deleting-pound-symbol-1.2.1\"><span class=\"toc-item-num\">1.2.1&nbsp;&nbsp;</span>Deleting pound symbol</a></span></li><li><span><a href=\"#Deleting-comma-from-the-price\" data-toc-modified-id=\"Deleting-comma-from-the-price-1.2.2\"><span class=\"toc-item-num\">1.2.2&nbsp;&nbsp;</span>Deleting comma from the price</a></span></li><li><span><a href=\"#Converting-double-prices-to-average-price\" data-toc-modified-id=\"Converting-double-prices-to-average-price-1.2.3\"><span class=\"toc-item-num\">1.2.3&nbsp;&nbsp;</span>Converting double prices to average price</a></span></li><li><span><a href=\"#Converting-price-to-numeric\" data-toc-modified-id=\"Converting-price-to-numeric-1.2.4\"><span class=\"toc-item-num\">1.2.4&nbsp;&nbsp;</span>Converting price to numeric</a></span></li></ul></li><li><span><a href=\"#Cleaning-average-review-column\" data-toc-modified-id=\"Cleaning-average-review-column-1.3\"><span class=\"toc-item-num\">1.3&nbsp;&nbsp;</span>Cleaning average review column</a></span></li></ul></li><li><span><a href=\"#Understanding-and-manipulating-data\" data-toc-modified-id=\"Understanding-and-manipulating-data-2\"><span class=\"toc-item-num\">2&nbsp;&nbsp;</span>Understanding and manipulating data</a></span><ul class=\"toc-item\"><li><span><a href=\"#Renaming-columns\" data-toc-modified-id=\"Renaming-columns-2.1\"><span class=\"toc-item-num\">2.1&nbsp;&nbsp;</span>Renaming columns</a></span></li><li><span><a href=\"#Checking-values-per-column\" data-toc-modified-id=\"Checking-values-per-column-2.2\"><span class=\"toc-item-num\">2.2&nbsp;&nbsp;</span>Checking values per column</a></span><ul class=\"toc-item\"><li><span><a href=\"#How-many-different-products?\" data-toc-modified-id=\"How-many-different-products?-2.2.1\"><span class=\"toc-item-num\">2.2.1&nbsp;&nbsp;</span>How many different products?</a></span></li><li><span><a href=\"#How-many-different-manufacturers?\" data-toc-modified-id=\"How-many-different-manufacturers?-2.2.2\"><span class=\"toc-item-num\">2.2.2&nbsp;&nbsp;</span>How many different manufacturers?</a></span></li><li><span><a href=\"#How-many-different-categories?\" data-toc-modified-id=\"How-many-different-categories?-2.2.3\"><span class=\"toc-item-num\">2.2.3&nbsp;&nbsp;</span>How many different categories?</a></span></li><li><span><a href=\"#How-many-different-average-reviews?\" data-toc-modified-id=\"How-many-different-average-reviews?-2.2.4\"><span class=\"toc-item-num\">2.2.4&nbsp;&nbsp;</span>How many different average reviews?</a></span></li></ul></li><li><span><a href=\"#Splitting-to-main-and-sub-categories\" data-toc-modified-id=\"Splitting-to-main-and-sub-categories-2.3\"><span class=\"toc-item-num\">2.3&nbsp;&nbsp;</span>Splitting to main and sub categories</a></span></li><li><span><a href=\"#Changing-types-of-columns-(final-check)\" data-toc-modified-id=\"Changing-types-of-columns-(final-check)-2.4\"><span class=\"toc-item-num\">2.4&nbsp;&nbsp;</span>Changing types of columns (final check)</a></span></li></ul></li><li><span><a href=\"#Hypothesis-testing\" data-toc-modified-id=\"Hypothesis-testing-3\"><span class=\"toc-item-num\">3&nbsp;&nbsp;</span>Hypothesis testing</a></span><ul class=\"toc-item\"><li><span><a href=\"#Testing-average-price-in-3-top-categories\" data-toc-modified-id=\"Testing-average-price-in-3-top-categories-3.1\"><span class=\"toc-item-num\">3.1&nbsp;&nbsp;</span>Testing average price in 3 top categories</a></span><ul class=\"toc-item\"><li><span><a href=\"#Identifying-3-top-selling-categories-and-calculating-their-ave-prices\" data-toc-modified-id=\"Identifying-3-top-selling-categories-and-calculating-their-ave-prices-3.1.1\"><span class=\"toc-item-num\">3.1.1&nbsp;&nbsp;</span>Identifying 3 top selling categories and calculating their ave prices</a></span></li><li><span><a href=\"#Testing-hypothesis\" data-toc-modified-id=\"Testing-hypothesis-3.1.2\"><span class=\"toc-item-num\">3.1.2&nbsp;&nbsp;</span>Testing hypothesis</a></span></li></ul></li><li><span><a href=\"#Testing-ave-number-of-reviews-in-3-top-categories\" data-toc-modified-id=\"Testing-ave-number-of-reviews-in-3-top-categories-3.2\"><span class=\"toc-item-num\">3.2&nbsp;&nbsp;</span>Testing ave number of reviews in 3 top categories</a></span><ul class=\"toc-item\"><li><span><a href=\"#Identifying-3-top-selling-categories-and-calculating-their-average-number-of-reviews\" data-toc-modified-id=\"Identifying-3-top-selling-categories-and-calculating-their-average-number-of-reviews-3.2.1\"><span class=\"toc-item-num\">3.2.1&nbsp;&nbsp;</span>Identifying 3 top selling categories and calculating their average number of reviews</a></span></li><li><span><a href=\"#Testing-hypothesis\" data-toc-modified-id=\"Testing-hypothesis-3.2.2\"><span class=\"toc-item-num\">3.2.2&nbsp;&nbsp;</span>Testing hypothesis</a></span></li></ul></li></ul></li><li><span><a href=\"#Additional-testing\" data-toc-modified-id=\"Additional-testing-4\"><span class=\"toc-item-num\">4&nbsp;&nbsp;</span>Additional testing</a></span><ul class=\"toc-item\"><li><span><a href=\"#ANOVA\" data-toc-modified-id=\"ANOVA-4.1\"><span class=\"toc-item-num\">4.1&nbsp;&nbsp;</span>ANOVA</a></span></li></ul></li></ul></div>"
   ]
  },
  {
   "cell_type": "code",
   "execution_count": 92,
   "metadata": {
    "ExecuteTime": {
     "end_time": "2020-03-25T20:49:10.726766Z",
     "start_time": "2020-03-25T20:49:10.472413Z"
    }
   },
   "outputs": [],
   "source": [
    "import numpy as np\n",
    "import pandas as pd\n",
    "import seaborn as sns\n",
    "import matplotlib.pyplot as plt\n",
    "from scipy import stats \n",
    "import statsmodels.api as sm\n",
    "from statsmodels.formula.api import ols"
   ]
  },
  {
   "cell_type": "code",
   "execution_count": 2,
   "metadata": {
    "ExecuteTime": {
     "end_time": "2020-03-25T19:48:56.233403Z",
     "start_time": "2020-03-25T19:48:56.229414Z"
    }
   },
   "outputs": [],
   "source": [
    "#option to see more data\n",
    "\n",
    "#pd.set_option('display.max_rows', None)\n",
    "#pd.set_option('display.max_columns', None)"
   ]
  },
  {
   "cell_type": "code",
   "execution_count": 3,
   "metadata": {
    "ExecuteTime": {
     "end_time": "2020-03-25T19:48:56.566527Z",
     "start_time": "2020-03-25T19:48:56.234423Z"
    }
   },
   "outputs": [],
   "source": [
    "data = pd.read_csv('../data/amazon_co-ecommerce_sample.csv')"
   ]
  },
  {
   "cell_type": "code",
   "execution_count": 4,
   "metadata": {
    "ExecuteTime": {
     "end_time": "2020-03-25T19:48:56.572497Z",
     "start_time": "2020-03-25T19:48:56.567510Z"
    }
   },
   "outputs": [
    {
     "data": {
      "text/plain": [
       "(10000, 17)"
      ]
     },
     "execution_count": 4,
     "metadata": {},
     "output_type": "execute_result"
    }
   ],
   "source": [
    "data.shape"
   ]
  },
  {
   "cell_type": "code",
   "execution_count": 5,
   "metadata": {
    "ExecuteTime": {
     "end_time": "2020-03-25T19:48:56.594438Z",
     "start_time": "2020-03-25T19:48:56.574492Z"
    },
    "scrolled": true
   },
   "outputs": [
    {
     "data": {
      "text/html": [
       "<div>\n",
       "<style scoped>\n",
       "    .dataframe tbody tr th:only-of-type {\n",
       "        vertical-align: middle;\n",
       "    }\n",
       "\n",
       "    .dataframe tbody tr th {\n",
       "        vertical-align: top;\n",
       "    }\n",
       "\n",
       "    .dataframe thead th {\n",
       "        text-align: right;\n",
       "    }\n",
       "</style>\n",
       "<table border=\"1\" class=\"dataframe\">\n",
       "  <thead>\n",
       "    <tr style=\"text-align: right;\">\n",
       "      <th></th>\n",
       "      <th>uniq_id</th>\n",
       "      <th>product_name</th>\n",
       "      <th>manufacturer</th>\n",
       "      <th>price</th>\n",
       "      <th>number_available_in_stock</th>\n",
       "      <th>number_of_reviews</th>\n",
       "      <th>number_of_answered_questions</th>\n",
       "      <th>average_review_rating</th>\n",
       "      <th>amazon_category_and_sub_category</th>\n",
       "      <th>customers_who_bought_this_item_also_bought</th>\n",
       "      <th>description</th>\n",
       "      <th>product_information</th>\n",
       "      <th>product_description</th>\n",
       "      <th>items_customers_buy_after_viewing_this_item</th>\n",
       "      <th>customer_questions_and_answers</th>\n",
       "      <th>customer_reviews</th>\n",
       "      <th>sellers</th>\n",
       "    </tr>\n",
       "  </thead>\n",
       "  <tbody>\n",
       "    <tr>\n",
       "      <td>0</td>\n",
       "      <td>eac7efa5dbd3d667f26eb3d3ab504464</td>\n",
       "      <td>Hornby 2014 Catalogue</td>\n",
       "      <td>Hornby</td>\n",
       "      <td>£3.42</td>\n",
       "      <td>5 new</td>\n",
       "      <td>15</td>\n",
       "      <td>1.0</td>\n",
       "      <td>4.9 out of 5 stars</td>\n",
       "      <td>Hobbies &gt; Model Trains &amp; Railway Sets &gt; Rail V...</td>\n",
       "      <td>http://www.amazon.co.uk/Hornby-R8150-Catalogue...</td>\n",
       "      <td>Product Description Hornby 2014 Catalogue Box ...</td>\n",
       "      <td>Technical Details Item Weight640 g Product Dim...</td>\n",
       "      <td>Product Description Hornby 2014 Catalogue Box ...</td>\n",
       "      <td>http://www.amazon.co.uk/Hornby-R8150-Catalogue...</td>\n",
       "      <td>Does this catalogue detail all the previous Ho...</td>\n",
       "      <td>Worth Buying For The Pictures Alone (As Ever) ...</td>\n",
       "      <td>{\"seller\"=&gt;[{\"Seller_name_1\"=&gt;\"Amazon.co.uk\", ...</td>\n",
       "    </tr>\n",
       "    <tr>\n",
       "      <td>1</td>\n",
       "      <td>b17540ef7e86e461d37f3ae58b7b72ac</td>\n",
       "      <td>FunkyBuys® Large Christmas Holiday Express Fes...</td>\n",
       "      <td>FunkyBuys</td>\n",
       "      <td>£16.99</td>\n",
       "      <td>NaN</td>\n",
       "      <td>2</td>\n",
       "      <td>1.0</td>\n",
       "      <td>4.5 out of 5 stars</td>\n",
       "      <td>Hobbies &gt; Model Trains &amp; Railway Sets &gt; Rail V...</td>\n",
       "      <td>http://www.amazon.co.uk/Christmas-Holiday-Expr...</td>\n",
       "      <td>Size Name:Large FunkyBuys® Large Christmas Hol...</td>\n",
       "      <td>Technical Details Manufacturer recommended age...</td>\n",
       "      <td>Size Name:Large FunkyBuys® Large Christmas Hol...</td>\n",
       "      <td>http://www.amazon.co.uk/Christmas-Holiday-Expr...</td>\n",
       "      <td>can you turn off sounds // hi no you cant turn...</td>\n",
       "      <td>Four Stars // 4.0 // 18 Dec. 2015 // By\\n    \\...</td>\n",
       "      <td>{\"seller\"=&gt;{\"Seller_name_1\"=&gt;\"UHD WHOLESALE\", ...</td>\n",
       "    </tr>\n",
       "  </tbody>\n",
       "</table>\n",
       "</div>"
      ],
      "text/plain": [
       "                            uniq_id  \\\n",
       "0  eac7efa5dbd3d667f26eb3d3ab504464   \n",
       "1  b17540ef7e86e461d37f3ae58b7b72ac   \n",
       "\n",
       "                                        product_name manufacturer   price  \\\n",
       "0                              Hornby 2014 Catalogue       Hornby   £3.42   \n",
       "1  FunkyBuys® Large Christmas Holiday Express Fes...    FunkyBuys  £16.99   \n",
       "\n",
       "  number_available_in_stock number_of_reviews  number_of_answered_questions  \\\n",
       "0                     5 new                15                           1.0   \n",
       "1                       NaN                 2                           1.0   \n",
       "\n",
       "  average_review_rating                   amazon_category_and_sub_category  \\\n",
       "0    4.9 out of 5 stars  Hobbies > Model Trains & Railway Sets > Rail V...   \n",
       "1    4.5 out of 5 stars  Hobbies > Model Trains & Railway Sets > Rail V...   \n",
       "\n",
       "          customers_who_bought_this_item_also_bought  \\\n",
       "0  http://www.amazon.co.uk/Hornby-R8150-Catalogue...   \n",
       "1  http://www.amazon.co.uk/Christmas-Holiday-Expr...   \n",
       "\n",
       "                                         description  \\\n",
       "0  Product Description Hornby 2014 Catalogue Box ...   \n",
       "1  Size Name:Large FunkyBuys® Large Christmas Hol...   \n",
       "\n",
       "                                 product_information  \\\n",
       "0  Technical Details Item Weight640 g Product Dim...   \n",
       "1  Technical Details Manufacturer recommended age...   \n",
       "\n",
       "                                 product_description  \\\n",
       "0  Product Description Hornby 2014 Catalogue Box ...   \n",
       "1  Size Name:Large FunkyBuys® Large Christmas Hol...   \n",
       "\n",
       "         items_customers_buy_after_viewing_this_item  \\\n",
       "0  http://www.amazon.co.uk/Hornby-R8150-Catalogue...   \n",
       "1  http://www.amazon.co.uk/Christmas-Holiday-Expr...   \n",
       "\n",
       "                      customer_questions_and_answers  \\\n",
       "0  Does this catalogue detail all the previous Ho...   \n",
       "1  can you turn off sounds // hi no you cant turn...   \n",
       "\n",
       "                                    customer_reviews  \\\n",
       "0  Worth Buying For The Pictures Alone (As Ever) ...   \n",
       "1  Four Stars // 4.0 // 18 Dec. 2015 // By\\n    \\...   \n",
       "\n",
       "                                             sellers  \n",
       "0  {\"seller\"=>[{\"Seller_name_1\"=>\"Amazon.co.uk\", ...  \n",
       "1  {\"seller\"=>{\"Seller_name_1\"=>\"UHD WHOLESALE\", ...  "
      ]
     },
     "execution_count": 5,
     "metadata": {},
     "output_type": "execute_result"
    }
   ],
   "source": [
    "data.head(2)"
   ]
  },
  {
   "cell_type": "markdown",
   "metadata": {},
   "source": [
    "## Cleaning data"
   ]
  },
  {
   "cell_type": "markdown",
   "metadata": {},
   "source": [
    "### Missing values"
   ]
  },
  {
   "cell_type": "code",
   "execution_count": 6,
   "metadata": {
    "ExecuteTime": {
     "end_time": "2020-03-25T19:48:56.617395Z",
     "start_time": "2020-03-25T19:48:56.595435Z"
    }
   },
   "outputs": [
    {
     "data": {
      "text/plain": [
       "customer_questions_and_answers                 90.86\n",
       "sellers                                        30.82\n",
       "items_customers_buy_after_viewing_this_item    30.65\n",
       "number_available_in_stock                      25.00\n",
       "price                                          14.35\n",
       "customers_who_bought_this_item_also_bought     10.62\n",
       "number_of_answered_questions                    7.65\n",
       "amazon_category_and_sub_category                6.90\n",
       "description                                     6.51\n",
       "product_description                             6.51\n",
       "product_information                             0.58\n",
       "customer_reviews                                0.21\n",
       "average_review_rating                           0.18\n",
       "number_of_reviews                               0.18\n",
       "manufacturer                                    0.07\n",
       "product_name                                    0.00\n",
       "uniq_id                                         0.00\n",
       "dtype: float64"
      ]
     },
     "execution_count": 6,
     "metadata": {},
     "output_type": "execute_result"
    }
   ],
   "source": [
    "#checking missing values\n",
    "\n",
    "percent_missing = data.isnull().sum() * 100 / len(data)\n",
    "percent_missing.sort_values(ascending=False)"
   ]
  },
  {
   "cell_type": "markdown",
   "metadata": {},
   "source": [
    "#### Deleting columns with more than 20% missing values"
   ]
  },
  {
   "cell_type": "code",
   "execution_count": 7,
   "metadata": {
    "ExecuteTime": {
     "end_time": "2020-03-25T19:48:56.639318Z",
     "start_time": "2020-03-25T19:48:56.618373Z"
    }
   },
   "outputs": [],
   "source": [
    "missing_value_df = pd.DataFrame({'column_name': data.columns,\n",
    "                                 'percent_missing': percent_missing})\n",
    "\n",
    "df_missing_20 = missing_value_df.loc[missing_value_df.percent_missing > 20]\n",
    "\n",
    "col_drop = df_missing_20.column_name\n",
    "\n",
    "for col in col_drop:\n",
    "    data = data.drop(col, axis=1)\n"
   ]
  },
  {
   "cell_type": "code",
   "execution_count": 8,
   "metadata": {
    "ExecuteTime": {
     "end_time": "2020-03-25T19:48:56.645302Z",
     "start_time": "2020-03-25T19:48:56.641342Z"
    }
   },
   "outputs": [
    {
     "data": {
      "text/plain": [
       "(10000, 13)"
      ]
     },
     "execution_count": 8,
     "metadata": {},
     "output_type": "execute_result"
    }
   ],
   "source": [
    "data.shape"
   ]
  },
  {
   "cell_type": "code",
   "execution_count": 9,
   "metadata": {
    "ExecuteTime": {
     "end_time": "2020-03-25T19:48:56.660262Z",
     "start_time": "2020-03-25T19:48:56.646300Z"
    }
   },
   "outputs": [
    {
     "data": {
      "text/plain": [
       "price                                         14.35\n",
       "customers_who_bought_this_item_also_bought    10.62\n",
       "number_of_answered_questions                   7.65\n",
       "amazon_category_and_sub_category               6.90\n",
       "product_description                            6.51\n",
       "description                                    6.51\n",
       "product_information                            0.58\n",
       "customer_reviews                               0.21\n",
       "average_review_rating                          0.18\n",
       "number_of_reviews                              0.18\n",
       "manufacturer                                   0.07\n",
       "product_name                                   0.00\n",
       "uniq_id                                        0.00\n",
       "dtype: float64"
      ]
     },
     "execution_count": 9,
     "metadata": {},
     "output_type": "execute_result"
    }
   ],
   "source": [
    "percent_missing = data.isnull().sum() * 100 / len(data)\n",
    "percent_missing.sort_values(ascending=False)"
   ]
  },
  {
   "cell_type": "markdown",
   "metadata": {},
   "source": [
    "#### Filtering only necessary columns"
   ]
  },
  {
   "cell_type": "code",
   "execution_count": 10,
   "metadata": {
    "ExecuteTime": {
     "end_time": "2020-03-25T19:48:56.666246Z",
     "start_time": "2020-03-25T19:48:56.661259Z"
    }
   },
   "outputs": [],
   "source": [
    "df = data.loc[:,['uniq_id', 'product_name', 'manufacturer', 'price', 'number_of_reviews',\n",
    "       'number_of_answered_questions', 'average_review_rating', 'amazon_category_and_sub_category']]"
   ]
  },
  {
   "cell_type": "code",
   "execution_count": 11,
   "metadata": {
    "ExecuteTime": {
     "end_time": "2020-03-25T19:48:56.672229Z",
     "start_time": "2020-03-25T19:48:56.667244Z"
    }
   },
   "outputs": [
    {
     "data": {
      "text/plain": [
       "(10000, 8)"
      ]
     },
     "execution_count": 11,
     "metadata": {},
     "output_type": "execute_result"
    }
   ],
   "source": [
    "df.shape"
   ]
  },
  {
   "cell_type": "markdown",
   "metadata": {},
   "source": [
    "#### Deleting rows that have null values"
   ]
  },
  {
   "cell_type": "code",
   "execution_count": 12,
   "metadata": {
    "ExecuteTime": {
     "end_time": "2020-03-25T19:48:56.681206Z",
     "start_time": "2020-03-25T19:48:56.673227Z"
    }
   },
   "outputs": [],
   "source": [
    "#how=any for any NaN to delete rows\n",
    "\n",
    "df.dropna(axis=0, how='any', inplace=True)"
   ]
  },
  {
   "cell_type": "code",
   "execution_count": 13,
   "metadata": {
    "ExecuteTime": {
     "end_time": "2020-03-25T19:48:56.686193Z",
     "start_time": "2020-03-25T19:48:56.682202Z"
    }
   },
   "outputs": [
    {
     "data": {
      "text/plain": [
       "(7366, 8)"
      ]
     },
     "execution_count": 13,
     "metadata": {},
     "output_type": "execute_result"
    }
   ],
   "source": [
    "df.shape"
   ]
  },
  {
   "cell_type": "markdown",
   "metadata": {},
   "source": [
    "### Cleaning price"
   ]
  },
  {
   "cell_type": "code",
   "execution_count": 14,
   "metadata": {
    "ExecuteTime": {
     "end_time": "2020-03-25T19:48:56.698161Z",
     "start_time": "2020-03-25T19:48:56.688188Z"
    }
   },
   "outputs": [
    {
     "data": {
      "text/plain": [
       "£9.99     158\n",
       "£4.99     126\n",
       "£14.99    117\n",
       "£12.99    111\n",
       "£5.99     108\n",
       "Name: price, dtype: int64"
      ]
     },
     "execution_count": 14,
     "metadata": {},
     "output_type": "execute_result"
    }
   ],
   "source": [
    "df.price.value_counts().head()"
   ]
  },
  {
   "cell_type": "markdown",
   "metadata": {},
   "source": [
    "#### Deleting pound symbol"
   ]
  },
  {
   "cell_type": "code",
   "execution_count": 15,
   "metadata": {
    "ExecuteTime": {
     "end_time": "2020-03-25T19:48:56.706140Z",
     "start_time": "2020-03-25T19:48:56.700156Z"
    }
   },
   "outputs": [],
   "source": [
    "df['price'] = df['price'].str.replace('£', '')"
   ]
  },
  {
   "cell_type": "markdown",
   "metadata": {},
   "source": [
    "#### Deleting comma from the price"
   ]
  },
  {
   "cell_type": "code",
   "execution_count": 16,
   "metadata": {
    "ExecuteTime": {
     "end_time": "2020-03-25T19:48:56.715115Z",
     "start_time": "2020-03-25T19:48:56.707136Z"
    }
   },
   "outputs": [],
   "source": [
    "df['price'] = df['price'].str.replace(',', '')"
   ]
  },
  {
   "cell_type": "markdown",
   "metadata": {},
   "source": [
    "#### Converting double prices to average price"
   ]
  },
  {
   "cell_type": "code",
   "execution_count": 17,
   "metadata": {
    "ExecuteTime": {
     "end_time": "2020-03-25T19:48:56.731072Z",
     "start_time": "2020-03-25T19:48:56.716113Z"
    }
   },
   "outputs": [],
   "source": [
    "#splitting double prices to two columns\n",
    "\n",
    "df[['price1', 'price2']] = df.price.str.split(' - ', expand = True)"
   ]
  },
  {
   "cell_type": "code",
   "execution_count": 18,
   "metadata": {
    "ExecuteTime": {
     "end_time": "2020-03-25T19:48:56.747029Z",
     "start_time": "2020-03-25T19:48:56.732070Z"
    }
   },
   "outputs": [
    {
     "data": {
      "text/html": [
       "<div>\n",
       "<style scoped>\n",
       "    .dataframe tbody tr th:only-of-type {\n",
       "        vertical-align: middle;\n",
       "    }\n",
       "\n",
       "    .dataframe tbody tr th {\n",
       "        vertical-align: top;\n",
       "    }\n",
       "\n",
       "    .dataframe thead th {\n",
       "        text-align: right;\n",
       "    }\n",
       "</style>\n",
       "<table border=\"1\" class=\"dataframe\">\n",
       "  <thead>\n",
       "    <tr style=\"text-align: right;\">\n",
       "      <th></th>\n",
       "      <th>uniq_id</th>\n",
       "      <th>product_name</th>\n",
       "      <th>manufacturer</th>\n",
       "      <th>price</th>\n",
       "      <th>number_of_reviews</th>\n",
       "      <th>number_of_answered_questions</th>\n",
       "      <th>average_review_rating</th>\n",
       "      <th>amazon_category_and_sub_category</th>\n",
       "      <th>price1</th>\n",
       "      <th>price2</th>\n",
       "    </tr>\n",
       "  </thead>\n",
       "  <tbody>\n",
       "    <tr>\n",
       "      <td>1808</td>\n",
       "      <td>e429e677677a754741ef6c75141cb4f2</td>\n",
       "      <td>TAVERN WENCH ADULT FANCY DRESS COSTUME LADIES ...</td>\n",
       "      <td>Sancto</td>\n",
       "      <td>22.39 - 41.23</td>\n",
       "      <td>6</td>\n",
       "      <td>1.0</td>\n",
       "      <td>4.3 out of 5 stars</td>\n",
       "      <td>Fancy Dress &gt; Accessories &gt; Sets &amp; Kits</td>\n",
       "      <td>22.39</td>\n",
       "      <td>41.23</td>\n",
       "    </tr>\n",
       "    <tr>\n",
       "      <td>1814</td>\n",
       "      <td>52de34eff5c983e74c2cd3be60bb76cf</td>\n",
       "      <td>HEAVY FABRIC CARDINAL FANCY DRESS COSTUME MENS...</td>\n",
       "      <td>Sancto</td>\n",
       "      <td>25.34 - 56.44</td>\n",
       "      <td>5</td>\n",
       "      <td>3.0</td>\n",
       "      <td>4.6 out of 5 stars</td>\n",
       "      <td>Fancy Dress &gt; Costumes &gt; Adults</td>\n",
       "      <td>25.34</td>\n",
       "      <td>56.44</td>\n",
       "    </tr>\n",
       "    <tr>\n",
       "      <td>1837</td>\n",
       "      <td>6fdbfde4f2bc42a4671164f418066ca2</td>\n",
       "      <td>Mr Incredible - Adult Fancy Dress Costume</td>\n",
       "      <td>RUBBIES FRANCE</td>\n",
       "      <td>39.94 - 76.46</td>\n",
       "      <td>15</td>\n",
       "      <td>1.0</td>\n",
       "      <td>4.7 out of 5 stars</td>\n",
       "      <td>Fancy Dress &gt; Accessories &gt; Sets &amp; Kits</td>\n",
       "      <td>39.94</td>\n",
       "      <td>76.46</td>\n",
       "    </tr>\n",
       "    <tr>\n",
       "      <td>3178</td>\n",
       "      <td>58f68b5d440489e0582a1e40ebd3fac0</td>\n",
       "      <td>MEN'S HORROR FILM SCREAMER HALLOWEEN FANCY DRE...</td>\n",
       "      <td>Wicked</td>\n",
       "      <td>9.95 - 16.95</td>\n",
       "      <td>1</td>\n",
       "      <td>2.0</td>\n",
       "      <td>5.0 out of 5 stars</td>\n",
       "      <td>Fancy Dress &gt; Costumes &gt; Adults</td>\n",
       "      <td>9.95</td>\n",
       "      <td>16.95</td>\n",
       "    </tr>\n",
       "    <tr>\n",
       "      <td>3235</td>\n",
       "      <td>cb7e11d70bebee92013e45699700fc39</td>\n",
       "      <td>Smiffy's Roman Warrior Deluxe Costume</td>\n",
       "      <td>Smiffy's</td>\n",
       "      <td>23.94 - 46.50</td>\n",
       "      <td>4</td>\n",
       "      <td>1.0</td>\n",
       "      <td>4.3 out of 5 stars</td>\n",
       "      <td>Fancy Dress &gt; Costumes</td>\n",
       "      <td>23.94</td>\n",
       "      <td>46.50</td>\n",
       "    </tr>\n",
       "  </tbody>\n",
       "</table>\n",
       "</div>"
      ],
      "text/plain": [
       "                               uniq_id  \\\n",
       "1808  e429e677677a754741ef6c75141cb4f2   \n",
       "1814  52de34eff5c983e74c2cd3be60bb76cf   \n",
       "1837  6fdbfde4f2bc42a4671164f418066ca2   \n",
       "3178  58f68b5d440489e0582a1e40ebd3fac0   \n",
       "3235  cb7e11d70bebee92013e45699700fc39   \n",
       "\n",
       "                                           product_name    manufacturer  \\\n",
       "1808  TAVERN WENCH ADULT FANCY DRESS COSTUME LADIES ...          Sancto   \n",
       "1814  HEAVY FABRIC CARDINAL FANCY DRESS COSTUME MENS...          Sancto   \n",
       "1837          Mr Incredible - Adult Fancy Dress Costume  RUBBIES FRANCE   \n",
       "3178  MEN'S HORROR FILM SCREAMER HALLOWEEN FANCY DRE...          Wicked   \n",
       "3235              Smiffy's Roman Warrior Deluxe Costume        Smiffy's   \n",
       "\n",
       "              price number_of_reviews  number_of_answered_questions  \\\n",
       "1808  22.39 - 41.23                 6                           1.0   \n",
       "1814  25.34 - 56.44                 5                           3.0   \n",
       "1837  39.94 - 76.46                15                           1.0   \n",
       "3178   9.95 - 16.95                 1                           2.0   \n",
       "3235  23.94 - 46.50                 4                           1.0   \n",
       "\n",
       "     average_review_rating         amazon_category_and_sub_category price1  \\\n",
       "1808    4.3 out of 5 stars  Fancy Dress > Accessories > Sets & Kits  22.39   \n",
       "1814    4.6 out of 5 stars          Fancy Dress > Costumes > Adults  25.34   \n",
       "1837    4.7 out of 5 stars  Fancy Dress > Accessories > Sets & Kits  39.94   \n",
       "3178    5.0 out of 5 stars          Fancy Dress > Costumes > Adults   9.95   \n",
       "3235    4.3 out of 5 stars                   Fancy Dress > Costumes  23.94   \n",
       "\n",
       "     price2  \n",
       "1808  41.23  \n",
       "1814  56.44  \n",
       "1837  76.46  \n",
       "3178  16.95  \n",
       "3235  46.50  "
      ]
     },
     "execution_count": 18,
     "metadata": {},
     "output_type": "execute_result"
    }
   ],
   "source": [
    "#checking only the prices with -\n",
    "\n",
    "df.loc[df['price'].str.contains('-')].head()"
   ]
  },
  {
   "cell_type": "code",
   "execution_count": 19,
   "metadata": {
    "ExecuteTime": {
     "end_time": "2020-03-25T19:48:56.751018Z",
     "start_time": "2020-03-25T19:48:56.748027Z"
    }
   },
   "outputs": [],
   "source": [
    "#function to change column to numeric\n",
    "\n",
    "def price_to_numeric(x):\n",
    "    df[x] = pd.to_numeric(df[x])"
   ]
  },
  {
   "cell_type": "code",
   "execution_count": 20,
   "metadata": {
    "ExecuteTime": {
     "end_time": "2020-03-25T19:48:56.763039Z",
     "start_time": "2020-03-25T19:48:56.752016Z"
    }
   },
   "outputs": [],
   "source": [
    "#changing types to numeric to be able to calculate mean\n",
    "\n",
    "price_to_numeric('price1')\n",
    "price_to_numeric('price2')"
   ]
  },
  {
   "cell_type": "code",
   "execution_count": 21,
   "metadata": {
    "ExecuteTime": {
     "end_time": "2020-03-25T19:48:56.767996Z",
     "start_time": "2020-03-25T19:48:56.764018Z"
    }
   },
   "outputs": [
    {
     "data": {
      "text/plain": [
       "numpy.float64"
      ]
     },
     "execution_count": 21,
     "metadata": {},
     "output_type": "execute_result"
    }
   ],
   "source": [
    "#checking the type\n",
    "\n",
    "type(df.price1[0])"
   ]
  },
  {
   "cell_type": "code",
   "execution_count": 22,
   "metadata": {
    "ExecuteTime": {
     "end_time": "2020-03-25T19:48:56.774954Z",
     "start_time": "2020-03-25T19:48:56.768971Z"
    }
   },
   "outputs": [],
   "source": [
    "#creating new column with final prices: apply mean for the rows with double price\n",
    "\n",
    "df['new_price'] = np.where(df['price2'].notnull(), (df['price1']+df['price2'])/2, df['price1'])"
   ]
  },
  {
   "cell_type": "code",
   "execution_count": 23,
   "metadata": {
    "ExecuteTime": {
     "end_time": "2020-03-25T19:48:56.788917Z",
     "start_time": "2020-03-25T19:48:56.780939Z"
    }
   },
   "outputs": [],
   "source": [
    "#Deleting additional columns, leaving one clean price\n",
    "\n",
    "df.drop(['price', 'price1', 'price2'], axis=1, inplace=True)"
   ]
  },
  {
   "cell_type": "code",
   "execution_count": 24,
   "metadata": {
    "ExecuteTime": {
     "end_time": "2020-03-25T19:48:56.800886Z",
     "start_time": "2020-03-25T19:48:56.790913Z"
    }
   },
   "outputs": [
    {
     "data": {
      "text/html": [
       "<div>\n",
       "<style scoped>\n",
       "    .dataframe tbody tr th:only-of-type {\n",
       "        vertical-align: middle;\n",
       "    }\n",
       "\n",
       "    .dataframe tbody tr th {\n",
       "        vertical-align: top;\n",
       "    }\n",
       "\n",
       "    .dataframe thead th {\n",
       "        text-align: right;\n",
       "    }\n",
       "</style>\n",
       "<table border=\"1\" class=\"dataframe\">\n",
       "  <thead>\n",
       "    <tr style=\"text-align: right;\">\n",
       "      <th></th>\n",
       "      <th>uniq_id</th>\n",
       "      <th>product_name</th>\n",
       "      <th>manufacturer</th>\n",
       "      <th>number_of_reviews</th>\n",
       "      <th>number_of_answered_questions</th>\n",
       "      <th>average_review_rating</th>\n",
       "      <th>amazon_category_and_sub_category</th>\n",
       "      <th>new_price</th>\n",
       "    </tr>\n",
       "  </thead>\n",
       "  <tbody>\n",
       "    <tr>\n",
       "      <td>0</td>\n",
       "      <td>eac7efa5dbd3d667f26eb3d3ab504464</td>\n",
       "      <td>Hornby 2014 Catalogue</td>\n",
       "      <td>Hornby</td>\n",
       "      <td>15</td>\n",
       "      <td>1.0</td>\n",
       "      <td>4.9 out of 5 stars</td>\n",
       "      <td>Hobbies &gt; Model Trains &amp; Railway Sets &gt; Rail V...</td>\n",
       "      <td>3.42</td>\n",
       "    </tr>\n",
       "    <tr>\n",
       "      <td>1</td>\n",
       "      <td>b17540ef7e86e461d37f3ae58b7b72ac</td>\n",
       "      <td>FunkyBuys® Large Christmas Holiday Express Fes...</td>\n",
       "      <td>FunkyBuys</td>\n",
       "      <td>2</td>\n",
       "      <td>1.0</td>\n",
       "      <td>4.5 out of 5 stars</td>\n",
       "      <td>Hobbies &gt; Model Trains &amp; Railway Sets &gt; Rail V...</td>\n",
       "      <td>16.99</td>\n",
       "    </tr>\n",
       "    <tr>\n",
       "      <td>2</td>\n",
       "      <td>348f344247b0c1a935b1223072ef9d8a</td>\n",
       "      <td>CLASSIC TOY TRAIN SET TRACK CARRIAGES LIGHT EN...</td>\n",
       "      <td>ccf</td>\n",
       "      <td>17</td>\n",
       "      <td>2.0</td>\n",
       "      <td>3.9 out of 5 stars</td>\n",
       "      <td>Hobbies &gt; Model Trains &amp; Railway Sets &gt; Rail V...</td>\n",
       "      <td>9.99</td>\n",
       "    </tr>\n",
       "    <tr>\n",
       "      <td>3</td>\n",
       "      <td>e12b92dbb8eaee78b22965d2a9bbbd9f</td>\n",
       "      <td>HORNBY Coach R4410A BR Hawksworth Corridor 3rd</td>\n",
       "      <td>Hornby</td>\n",
       "      <td>1</td>\n",
       "      <td>2.0</td>\n",
       "      <td>5.0 out of 5 stars</td>\n",
       "      <td>Hobbies &gt; Model Trains &amp; Railway Sets &gt; Rail V...</td>\n",
       "      <td>39.99</td>\n",
       "    </tr>\n",
       "    <tr>\n",
       "      <td>4</td>\n",
       "      <td>e33a9adeed5f36840ccc227db4682a36</td>\n",
       "      <td>Hornby 00 Gauge 0-4-0 Gildenlow Salt Co. Steam...</td>\n",
       "      <td>Hornby</td>\n",
       "      <td>3</td>\n",
       "      <td>2.0</td>\n",
       "      <td>4.7 out of 5 stars</td>\n",
       "      <td>Hobbies &gt; Model Trains &amp; Railway Sets &gt; Rail V...</td>\n",
       "      <td>32.19</td>\n",
       "    </tr>\n",
       "  </tbody>\n",
       "</table>\n",
       "</div>"
      ],
      "text/plain": [
       "                            uniq_id  \\\n",
       "0  eac7efa5dbd3d667f26eb3d3ab504464   \n",
       "1  b17540ef7e86e461d37f3ae58b7b72ac   \n",
       "2  348f344247b0c1a935b1223072ef9d8a   \n",
       "3  e12b92dbb8eaee78b22965d2a9bbbd9f   \n",
       "4  e33a9adeed5f36840ccc227db4682a36   \n",
       "\n",
       "                                        product_name manufacturer  \\\n",
       "0                              Hornby 2014 Catalogue       Hornby   \n",
       "1  FunkyBuys® Large Christmas Holiday Express Fes...    FunkyBuys   \n",
       "2  CLASSIC TOY TRAIN SET TRACK CARRIAGES LIGHT EN...          ccf   \n",
       "3     HORNBY Coach R4410A BR Hawksworth Corridor 3rd       Hornby   \n",
       "4  Hornby 00 Gauge 0-4-0 Gildenlow Salt Co. Steam...       Hornby   \n",
       "\n",
       "  number_of_reviews  number_of_answered_questions average_review_rating  \\\n",
       "0                15                           1.0    4.9 out of 5 stars   \n",
       "1                 2                           1.0    4.5 out of 5 stars   \n",
       "2                17                           2.0    3.9 out of 5 stars   \n",
       "3                 1                           2.0    5.0 out of 5 stars   \n",
       "4                 3                           2.0    4.7 out of 5 stars   \n",
       "\n",
       "                    amazon_category_and_sub_category  new_price  \n",
       "0  Hobbies > Model Trains & Railway Sets > Rail V...       3.42  \n",
       "1  Hobbies > Model Trains & Railway Sets > Rail V...      16.99  \n",
       "2  Hobbies > Model Trains & Railway Sets > Rail V...       9.99  \n",
       "3  Hobbies > Model Trains & Railway Sets > Rail V...      39.99  \n",
       "4  Hobbies > Model Trains & Railway Sets > Rail V...      32.19  "
      ]
     },
     "execution_count": 24,
     "metadata": {},
     "output_type": "execute_result"
    }
   ],
   "source": [
    "df.head()"
   ]
  },
  {
   "cell_type": "markdown",
   "metadata": {},
   "source": [
    "#### Converting price to numeric"
   ]
  },
  {
   "cell_type": "code",
   "execution_count": 25,
   "metadata": {
    "ExecuteTime": {
     "end_time": "2020-03-25T19:48:56.804884Z",
     "start_time": "2020-03-25T19:48:56.801883Z"
    }
   },
   "outputs": [],
   "source": [
    "price_to_numeric('new_price')"
   ]
  },
  {
   "cell_type": "code",
   "execution_count": 26,
   "metadata": {
    "ExecuteTime": {
     "end_time": "2020-03-25T19:48:56.811856Z",
     "start_time": "2020-03-25T19:48:56.805872Z"
    }
   },
   "outputs": [
    {
     "data": {
      "text/plain": [
       "numpy.float64"
      ]
     },
     "execution_count": 26,
     "metadata": {},
     "output_type": "execute_result"
    }
   ],
   "source": [
    "type(df['new_price'][0])"
   ]
  },
  {
   "cell_type": "markdown",
   "metadata": {},
   "source": [
    "### Cleaning average review column"
   ]
  },
  {
   "cell_type": "code",
   "execution_count": 27,
   "metadata": {
    "ExecuteTime": {
     "end_time": "2020-03-25T19:48:56.818838Z",
     "start_time": "2020-03-25T19:48:56.812854Z"
    }
   },
   "outputs": [
    {
     "data": {
      "text/plain": [
       "5.0 out of 5 stars    3793\n",
       "4.0 out of 5 stars     957\n",
       "4.5 out of 5 stars     523\n",
       "4.8 out of 5 stars     418\n",
       "4.7 out of 5 stars     393\n",
       "4.3 out of 5 stars     305\n",
       "4.6 out of 5 stars     297\n",
       "4.4 out of 5 stars     220\n",
       "4.9 out of 5 stars     168\n",
       "4.2 out of 5 stars     163\n",
       "4.1 out of 5 stars     115\n",
       "3.9 out of 5 stars       5\n",
       "3.5 out of 5 stars       2\n",
       "3.3 out of 5 stars       2\n",
       "3.6 out of 5 stars       2\n",
       "2.3 out of 5 stars       1\n",
       "3.0 out of 5 stars       1\n",
       "3.7 out of 5 stars       1\n",
       "Name: average_review_rating, dtype: int64"
      ]
     },
     "execution_count": 27,
     "metadata": {},
     "output_type": "execute_result"
    }
   ],
   "source": [
    "df.average_review_rating.value_counts()"
   ]
  },
  {
   "cell_type": "code",
   "execution_count": 28,
   "metadata": {
    "ExecuteTime": {
     "end_time": "2020-03-25T19:48:56.832800Z",
     "start_time": "2020-03-25T19:48:56.819835Z"
    }
   },
   "outputs": [],
   "source": [
    "#extracting only the evaluation from the string\n",
    "\n",
    "df['ave_review_rating'] = df.average_review_rating.str.extract('(\\d+\\.?\\d+)', expand=False)"
   ]
  },
  {
   "cell_type": "code",
   "execution_count": 29,
   "metadata": {
    "ExecuteTime": {
     "end_time": "2020-03-25T19:48:56.841776Z",
     "start_time": "2020-03-25T19:48:56.833797Z"
    }
   },
   "outputs": [],
   "source": [
    "#converting to numeric\n",
    "\n",
    "price_to_numeric('ave_review_rating')"
   ]
  },
  {
   "cell_type": "code",
   "execution_count": 30,
   "metadata": {
    "ExecuteTime": {
     "end_time": "2020-03-25T19:48:56.848759Z",
     "start_time": "2020-03-25T19:48:56.843772Z"
    }
   },
   "outputs": [
    {
     "data": {
      "text/plain": [
       "numpy.float64"
      ]
     },
     "execution_count": 30,
     "metadata": {},
     "output_type": "execute_result"
    }
   ],
   "source": [
    "type(df['ave_review_rating'][0])"
   ]
  },
  {
   "cell_type": "code",
   "execution_count": 31,
   "metadata": {
    "ExecuteTime": {
     "end_time": "2020-03-25T19:48:56.855740Z",
     "start_time": "2020-03-25T19:48:56.849754Z"
    }
   },
   "outputs": [],
   "source": [
    "#deleting old column\n",
    "\n",
    "df.drop('average_review_rating', axis=1, inplace=True)"
   ]
  },
  {
   "cell_type": "markdown",
   "metadata": {},
   "source": [
    "## Understanding and manipulating data"
   ]
  },
  {
   "cell_type": "markdown",
   "metadata": {},
   "source": [
    "### Renaming columns"
   ]
  },
  {
   "cell_type": "code",
   "execution_count": 32,
   "metadata": {
    "ExecuteTime": {
     "end_time": "2020-03-25T19:48:56.860726Z",
     "start_time": "2020-03-25T19:48:56.856737Z"
    }
   },
   "outputs": [],
   "source": [
    "colnames = ['uniq_id', 'product_name', 'manufacturer', 'num_reviews',\n",
    "       'num_answ_questions', 'cat_and_subcat', 'price', 'ave_review_rating']"
   ]
  },
  {
   "cell_type": "code",
   "execution_count": 33,
   "metadata": {
    "ExecuteTime": {
     "end_time": "2020-03-25T19:48:56.865712Z",
     "start_time": "2020-03-25T19:48:56.861723Z"
    }
   },
   "outputs": [],
   "source": [
    "df.columns=colnames"
   ]
  },
  {
   "cell_type": "code",
   "execution_count": 34,
   "metadata": {
    "ExecuteTime": {
     "end_time": "2020-03-25T19:48:56.876683Z",
     "start_time": "2020-03-25T19:48:56.866710Z"
    }
   },
   "outputs": [
    {
     "data": {
      "text/html": [
       "<div>\n",
       "<style scoped>\n",
       "    .dataframe tbody tr th:only-of-type {\n",
       "        vertical-align: middle;\n",
       "    }\n",
       "\n",
       "    .dataframe tbody tr th {\n",
       "        vertical-align: top;\n",
       "    }\n",
       "\n",
       "    .dataframe thead th {\n",
       "        text-align: right;\n",
       "    }\n",
       "</style>\n",
       "<table border=\"1\" class=\"dataframe\">\n",
       "  <thead>\n",
       "    <tr style=\"text-align: right;\">\n",
       "      <th></th>\n",
       "      <th>uniq_id</th>\n",
       "      <th>product_name</th>\n",
       "      <th>manufacturer</th>\n",
       "      <th>num_reviews</th>\n",
       "      <th>num_answ_questions</th>\n",
       "      <th>cat_and_subcat</th>\n",
       "      <th>price</th>\n",
       "      <th>ave_review_rating</th>\n",
       "    </tr>\n",
       "  </thead>\n",
       "  <tbody>\n",
       "    <tr>\n",
       "      <td>0</td>\n",
       "      <td>eac7efa5dbd3d667f26eb3d3ab504464</td>\n",
       "      <td>Hornby 2014 Catalogue</td>\n",
       "      <td>Hornby</td>\n",
       "      <td>15</td>\n",
       "      <td>1.0</td>\n",
       "      <td>Hobbies &gt; Model Trains &amp; Railway Sets &gt; Rail V...</td>\n",
       "      <td>3.42</td>\n",
       "      <td>4.9</td>\n",
       "    </tr>\n",
       "    <tr>\n",
       "      <td>1</td>\n",
       "      <td>b17540ef7e86e461d37f3ae58b7b72ac</td>\n",
       "      <td>FunkyBuys® Large Christmas Holiday Express Fes...</td>\n",
       "      <td>FunkyBuys</td>\n",
       "      <td>2</td>\n",
       "      <td>1.0</td>\n",
       "      <td>Hobbies &gt; Model Trains &amp; Railway Sets &gt; Rail V...</td>\n",
       "      <td>16.99</td>\n",
       "      <td>4.5</td>\n",
       "    </tr>\n",
       "    <tr>\n",
       "      <td>2</td>\n",
       "      <td>348f344247b0c1a935b1223072ef9d8a</td>\n",
       "      <td>CLASSIC TOY TRAIN SET TRACK CARRIAGES LIGHT EN...</td>\n",
       "      <td>ccf</td>\n",
       "      <td>17</td>\n",
       "      <td>2.0</td>\n",
       "      <td>Hobbies &gt; Model Trains &amp; Railway Sets &gt; Rail V...</td>\n",
       "      <td>9.99</td>\n",
       "      <td>3.9</td>\n",
       "    </tr>\n",
       "    <tr>\n",
       "      <td>3</td>\n",
       "      <td>e12b92dbb8eaee78b22965d2a9bbbd9f</td>\n",
       "      <td>HORNBY Coach R4410A BR Hawksworth Corridor 3rd</td>\n",
       "      <td>Hornby</td>\n",
       "      <td>1</td>\n",
       "      <td>2.0</td>\n",
       "      <td>Hobbies &gt; Model Trains &amp; Railway Sets &gt; Rail V...</td>\n",
       "      <td>39.99</td>\n",
       "      <td>5.0</td>\n",
       "    </tr>\n",
       "    <tr>\n",
       "      <td>4</td>\n",
       "      <td>e33a9adeed5f36840ccc227db4682a36</td>\n",
       "      <td>Hornby 00 Gauge 0-4-0 Gildenlow Salt Co. Steam...</td>\n",
       "      <td>Hornby</td>\n",
       "      <td>3</td>\n",
       "      <td>2.0</td>\n",
       "      <td>Hobbies &gt; Model Trains &amp; Railway Sets &gt; Rail V...</td>\n",
       "      <td>32.19</td>\n",
       "      <td>4.7</td>\n",
       "    </tr>\n",
       "  </tbody>\n",
       "</table>\n",
       "</div>"
      ],
      "text/plain": [
       "                            uniq_id  \\\n",
       "0  eac7efa5dbd3d667f26eb3d3ab504464   \n",
       "1  b17540ef7e86e461d37f3ae58b7b72ac   \n",
       "2  348f344247b0c1a935b1223072ef9d8a   \n",
       "3  e12b92dbb8eaee78b22965d2a9bbbd9f   \n",
       "4  e33a9adeed5f36840ccc227db4682a36   \n",
       "\n",
       "                                        product_name manufacturer num_reviews  \\\n",
       "0                              Hornby 2014 Catalogue       Hornby          15   \n",
       "1  FunkyBuys® Large Christmas Holiday Express Fes...    FunkyBuys           2   \n",
       "2  CLASSIC TOY TRAIN SET TRACK CARRIAGES LIGHT EN...          ccf          17   \n",
       "3     HORNBY Coach R4410A BR Hawksworth Corridor 3rd       Hornby           1   \n",
       "4  Hornby 00 Gauge 0-4-0 Gildenlow Salt Co. Steam...       Hornby           3   \n",
       "\n",
       "   num_answ_questions                                     cat_and_subcat  \\\n",
       "0                 1.0  Hobbies > Model Trains & Railway Sets > Rail V...   \n",
       "1                 1.0  Hobbies > Model Trains & Railway Sets > Rail V...   \n",
       "2                 2.0  Hobbies > Model Trains & Railway Sets > Rail V...   \n",
       "3                 2.0  Hobbies > Model Trains & Railway Sets > Rail V...   \n",
       "4                 2.0  Hobbies > Model Trains & Railway Sets > Rail V...   \n",
       "\n",
       "   price  ave_review_rating  \n",
       "0   3.42                4.9  \n",
       "1  16.99                4.5  \n",
       "2   9.99                3.9  \n",
       "3  39.99                5.0  \n",
       "4  32.19                4.7  "
      ]
     },
     "execution_count": 34,
     "metadata": {},
     "output_type": "execute_result"
    }
   ],
   "source": [
    "df.head()"
   ]
  },
  {
   "cell_type": "markdown",
   "metadata": {},
   "source": [
    "### Checking values per column"
   ]
  },
  {
   "cell_type": "markdown",
   "metadata": {},
   "source": [
    "#### How many different products?"
   ]
  },
  {
   "cell_type": "code",
   "execution_count": 35,
   "metadata": {
    "ExecuteTime": {
     "end_time": "2020-03-25T19:48:56.884662Z",
     "start_time": "2020-03-25T19:48:56.877680Z"
    }
   },
   "outputs": [
    {
     "data": {
      "text/plain": [
       "7341"
      ]
     },
     "execution_count": 35,
     "metadata": {},
     "output_type": "execute_result"
    }
   ],
   "source": [
    "len(df.product_name.unique())\n",
    "\n",
    "#almost all products in the dataset are different"
   ]
  },
  {
   "cell_type": "markdown",
   "metadata": {},
   "source": [
    "#### How many different manufacturers?"
   ]
  },
  {
   "cell_type": "code",
   "execution_count": 36,
   "metadata": {
    "ExecuteTime": {
     "end_time": "2020-03-25T19:48:56.895632Z",
     "start_time": "2020-03-25T19:48:56.885659Z"
    },
    "scrolled": true
   },
   "outputs": [
    {
     "name": "stdout",
     "output_type": "stream",
     "text": [
      "2089\n",
      "Oxford Diecast        145\n",
      "Disney                128\n",
      "The Puppet Company     95\n",
      "Star Wars              87\n",
      "Playmobil              80\n",
      "                     ... \n",
      "Copag                   1\n",
      "Burger Boss             1\n",
      "i.LifeUK                1\n",
      "Topixo                  1\n",
      "Palmers                 1\n",
      "Name: manufacturer, Length: 2089, dtype: int64\n"
     ]
    }
   ],
   "source": [
    "print(len(df.manufacturer.unique()))\n",
    "print(df.manufacturer.value_counts())\n",
    "\n",
    "#could do some analysis per manufacturers (take top 10 or smth)"
   ]
  },
  {
   "cell_type": "markdown",
   "metadata": {},
   "source": [
    "#### How many different categories?"
   ]
  },
  {
   "cell_type": "code",
   "execution_count": 37,
   "metadata": {
    "ExecuteTime": {
     "end_time": "2020-03-25T19:48:56.905605Z",
     "start_time": "2020-03-25T19:48:56.896630Z"
    }
   },
   "outputs": [
    {
     "name": "stdout",
     "output_type": "stream",
     "text": [
      "232\n",
      "Die-Cast & Toy Vehicles > Toy Vehicles & Accessories > Scaled Models > Vehicles    732\n",
      "Figures & Playsets > Science Fiction & Fantasy                                     340\n",
      "Characters & Brands > Disney > Toys                                                272\n",
      "Arts & Crafts > Children's Craft Kits > Bead Art & Jewellery-Making                267\n",
      "Party Supplies > Banners, Stickers & Confetti > Banners                            256\n",
      "                                                                                  ... \n",
      "Supporters' Gear > Football > Memorabilia & Collectibles                             1\n",
      "Puppets & Puppet Theatres > Accessories                                              1\n",
      "Pens, Pencils & Writing Supplies > Markers & Highlighters > Art Markers              1\n",
      "Men > Tops & T-Shirts > T-Shirts                                                     1\n",
      "Pretend Play > Play Tools                                                            1\n",
      "Name: cat_and_subcat, Length: 232, dtype: int64\n"
     ]
    }
   ],
   "source": [
    "print(len(df.cat_and_subcat.unique()))\n",
    "print(df.cat_and_subcat.value_counts())\n",
    "\n",
    "#will split to main and sub categories"
   ]
  },
  {
   "cell_type": "markdown",
   "metadata": {},
   "source": [
    "#### How many different average reviews?"
   ]
  },
  {
   "cell_type": "code",
   "execution_count": 38,
   "metadata": {
    "ExecuteTime": {
     "end_time": "2020-03-25T19:48:56.912587Z",
     "start_time": "2020-03-25T19:48:56.906604Z"
    }
   },
   "outputs": [
    {
     "name": "stdout",
     "output_type": "stream",
     "text": [
      "18\n",
      "5.0    3793\n",
      "4.0     957\n",
      "4.5     523\n",
      "4.8     418\n",
      "4.7     393\n",
      "4.3     305\n",
      "4.6     297\n",
      "4.4     220\n",
      "4.9     168\n",
      "4.2     163\n",
      "4.1     115\n",
      "3.9       5\n",
      "3.3       2\n",
      "3.6       2\n",
      "3.5       2\n",
      "3.0       1\n",
      "2.3       1\n",
      "3.7       1\n",
      "Name: ave_review_rating, dtype: int64\n"
     ]
    }
   ],
   "source": [
    "print(len(df.ave_review_rating.unique()))\n",
    "print(df.ave_review_rating.value_counts())\n",
    "\n",
    "#all reviews out of 5, can delete this part to have a numeric column"
   ]
  },
  {
   "cell_type": "markdown",
   "metadata": {},
   "source": [
    "### Splitting to main and sub categories"
   ]
  },
  {
   "cell_type": "code",
   "execution_count": 39,
   "metadata": {
    "ExecuteTime": {
     "end_time": "2020-03-25T19:48:56.931535Z",
     "start_time": "2020-03-25T19:48:56.913585Z"
    }
   },
   "outputs": [],
   "source": [
    "df[['main_cat', 'sub_cat1', 'sub_cat2', 'sub_cat3', 'sub_cat4']] = df.cat_and_subcat.str.split(' > ', expand = True)"
   ]
  },
  {
   "cell_type": "code",
   "execution_count": 40,
   "metadata": {
    "ExecuteTime": {
     "end_time": "2020-03-25T19:48:56.945500Z",
     "start_time": "2020-03-25T19:48:56.932533Z"
    }
   },
   "outputs": [
    {
     "data": {
      "text/html": [
       "<div>\n",
       "<style scoped>\n",
       "    .dataframe tbody tr th:only-of-type {\n",
       "        vertical-align: middle;\n",
       "    }\n",
       "\n",
       "    .dataframe tbody tr th {\n",
       "        vertical-align: top;\n",
       "    }\n",
       "\n",
       "    .dataframe thead th {\n",
       "        text-align: right;\n",
       "    }\n",
       "</style>\n",
       "<table border=\"1\" class=\"dataframe\">\n",
       "  <thead>\n",
       "    <tr style=\"text-align: right;\">\n",
       "      <th></th>\n",
       "      <th>uniq_id</th>\n",
       "      <th>product_name</th>\n",
       "      <th>manufacturer</th>\n",
       "      <th>num_reviews</th>\n",
       "      <th>num_answ_questions</th>\n",
       "      <th>cat_and_subcat</th>\n",
       "      <th>price</th>\n",
       "      <th>ave_review_rating</th>\n",
       "      <th>main_cat</th>\n",
       "      <th>sub_cat1</th>\n",
       "      <th>sub_cat2</th>\n",
       "      <th>sub_cat3</th>\n",
       "      <th>sub_cat4</th>\n",
       "    </tr>\n",
       "  </thead>\n",
       "  <tbody>\n",
       "    <tr>\n",
       "      <td>0</td>\n",
       "      <td>eac7efa5dbd3d667f26eb3d3ab504464</td>\n",
       "      <td>Hornby 2014 Catalogue</td>\n",
       "      <td>Hornby</td>\n",
       "      <td>15</td>\n",
       "      <td>1.0</td>\n",
       "      <td>Hobbies &gt; Model Trains &amp; Railway Sets &gt; Rail V...</td>\n",
       "      <td>3.42</td>\n",
       "      <td>4.9</td>\n",
       "      <td>Hobbies</td>\n",
       "      <td>Model Trains &amp; Railway Sets</td>\n",
       "      <td>Rail Vehicles</td>\n",
       "      <td>Trains</td>\n",
       "      <td>None</td>\n",
       "    </tr>\n",
       "    <tr>\n",
       "      <td>1</td>\n",
       "      <td>b17540ef7e86e461d37f3ae58b7b72ac</td>\n",
       "      <td>FunkyBuys® Large Christmas Holiday Express Fes...</td>\n",
       "      <td>FunkyBuys</td>\n",
       "      <td>2</td>\n",
       "      <td>1.0</td>\n",
       "      <td>Hobbies &gt; Model Trains &amp; Railway Sets &gt; Rail V...</td>\n",
       "      <td>16.99</td>\n",
       "      <td>4.5</td>\n",
       "      <td>Hobbies</td>\n",
       "      <td>Model Trains &amp; Railway Sets</td>\n",
       "      <td>Rail Vehicles</td>\n",
       "      <td>Trains</td>\n",
       "      <td>None</td>\n",
       "    </tr>\n",
       "    <tr>\n",
       "      <td>2</td>\n",
       "      <td>348f344247b0c1a935b1223072ef9d8a</td>\n",
       "      <td>CLASSIC TOY TRAIN SET TRACK CARRIAGES LIGHT EN...</td>\n",
       "      <td>ccf</td>\n",
       "      <td>17</td>\n",
       "      <td>2.0</td>\n",
       "      <td>Hobbies &gt; Model Trains &amp; Railway Sets &gt; Rail V...</td>\n",
       "      <td>9.99</td>\n",
       "      <td>3.9</td>\n",
       "      <td>Hobbies</td>\n",
       "      <td>Model Trains &amp; Railway Sets</td>\n",
       "      <td>Rail Vehicles</td>\n",
       "      <td>Trains</td>\n",
       "      <td>None</td>\n",
       "    </tr>\n",
       "  </tbody>\n",
       "</table>\n",
       "</div>"
      ],
      "text/plain": [
       "                            uniq_id  \\\n",
       "0  eac7efa5dbd3d667f26eb3d3ab504464   \n",
       "1  b17540ef7e86e461d37f3ae58b7b72ac   \n",
       "2  348f344247b0c1a935b1223072ef9d8a   \n",
       "\n",
       "                                        product_name manufacturer num_reviews  \\\n",
       "0                              Hornby 2014 Catalogue       Hornby          15   \n",
       "1  FunkyBuys® Large Christmas Holiday Express Fes...    FunkyBuys           2   \n",
       "2  CLASSIC TOY TRAIN SET TRACK CARRIAGES LIGHT EN...          ccf          17   \n",
       "\n",
       "   num_answ_questions                                     cat_and_subcat  \\\n",
       "0                 1.0  Hobbies > Model Trains & Railway Sets > Rail V...   \n",
       "1                 1.0  Hobbies > Model Trains & Railway Sets > Rail V...   \n",
       "2                 2.0  Hobbies > Model Trains & Railway Sets > Rail V...   \n",
       "\n",
       "   price  ave_review_rating main_cat                     sub_cat1  \\\n",
       "0   3.42                4.9  Hobbies  Model Trains & Railway Sets   \n",
       "1  16.99                4.5  Hobbies  Model Trains & Railway Sets   \n",
       "2   9.99                3.9  Hobbies  Model Trains & Railway Sets   \n",
       "\n",
       "        sub_cat2 sub_cat3 sub_cat4  \n",
       "0  Rail Vehicles   Trains     None  \n",
       "1  Rail Vehicles   Trains     None  \n",
       "2  Rail Vehicles   Trains     None  "
      ]
     },
     "execution_count": 40,
     "metadata": {},
     "output_type": "execute_result"
    }
   ],
   "source": [
    "df.head(3)"
   ]
  },
  {
   "cell_type": "code",
   "execution_count": 41,
   "metadata": {
    "ExecuteTime": {
     "end_time": "2020-03-25T19:48:56.954484Z",
     "start_time": "2020-03-25T19:48:56.947495Z"
    }
   },
   "outputs": [],
   "source": [
    "#deleting old column\n",
    "\n",
    "df.drop('cat_and_subcat', axis=1, inplace=True)"
   ]
  },
  {
   "cell_type": "code",
   "execution_count": 42,
   "metadata": {
    "ExecuteTime": {
     "end_time": "2020-03-25T19:48:56.967441Z",
     "start_time": "2020-03-25T19:48:56.955471Z"
    }
   },
   "outputs": [
    {
     "data": {
      "text/html": [
       "<div>\n",
       "<style scoped>\n",
       "    .dataframe tbody tr th:only-of-type {\n",
       "        vertical-align: middle;\n",
       "    }\n",
       "\n",
       "    .dataframe tbody tr th {\n",
       "        vertical-align: top;\n",
       "    }\n",
       "\n",
       "    .dataframe thead th {\n",
       "        text-align: right;\n",
       "    }\n",
       "</style>\n",
       "<table border=\"1\" class=\"dataframe\">\n",
       "  <thead>\n",
       "    <tr style=\"text-align: right;\">\n",
       "      <th></th>\n",
       "      <th>uniq_id</th>\n",
       "      <th>product_name</th>\n",
       "      <th>manufacturer</th>\n",
       "      <th>num_reviews</th>\n",
       "      <th>num_answ_questions</th>\n",
       "      <th>price</th>\n",
       "      <th>ave_review_rating</th>\n",
       "      <th>main_cat</th>\n",
       "      <th>sub_cat1</th>\n",
       "      <th>sub_cat2</th>\n",
       "      <th>sub_cat3</th>\n",
       "      <th>sub_cat4</th>\n",
       "    </tr>\n",
       "  </thead>\n",
       "  <tbody>\n",
       "    <tr>\n",
       "      <td>0</td>\n",
       "      <td>eac7efa5dbd3d667f26eb3d3ab504464</td>\n",
       "      <td>Hornby 2014 Catalogue</td>\n",
       "      <td>Hornby</td>\n",
       "      <td>15</td>\n",
       "      <td>1.0</td>\n",
       "      <td>3.42</td>\n",
       "      <td>4.9</td>\n",
       "      <td>Hobbies</td>\n",
       "      <td>Model Trains &amp; Railway Sets</td>\n",
       "      <td>Rail Vehicles</td>\n",
       "      <td>Trains</td>\n",
       "      <td>None</td>\n",
       "    </tr>\n",
       "    <tr>\n",
       "      <td>1</td>\n",
       "      <td>b17540ef7e86e461d37f3ae58b7b72ac</td>\n",
       "      <td>FunkyBuys® Large Christmas Holiday Express Fes...</td>\n",
       "      <td>FunkyBuys</td>\n",
       "      <td>2</td>\n",
       "      <td>1.0</td>\n",
       "      <td>16.99</td>\n",
       "      <td>4.5</td>\n",
       "      <td>Hobbies</td>\n",
       "      <td>Model Trains &amp; Railway Sets</td>\n",
       "      <td>Rail Vehicles</td>\n",
       "      <td>Trains</td>\n",
       "      <td>None</td>\n",
       "    </tr>\n",
       "  </tbody>\n",
       "</table>\n",
       "</div>"
      ],
      "text/plain": [
       "                            uniq_id  \\\n",
       "0  eac7efa5dbd3d667f26eb3d3ab504464   \n",
       "1  b17540ef7e86e461d37f3ae58b7b72ac   \n",
       "\n",
       "                                        product_name manufacturer num_reviews  \\\n",
       "0                              Hornby 2014 Catalogue       Hornby          15   \n",
       "1  FunkyBuys® Large Christmas Holiday Express Fes...    FunkyBuys           2   \n",
       "\n",
       "   num_answ_questions  price  ave_review_rating main_cat  \\\n",
       "0                 1.0   3.42                4.9  Hobbies   \n",
       "1                 1.0  16.99                4.5  Hobbies   \n",
       "\n",
       "                      sub_cat1       sub_cat2 sub_cat3 sub_cat4  \n",
       "0  Model Trains & Railway Sets  Rail Vehicles   Trains     None  \n",
       "1  Model Trains & Railway Sets  Rail Vehicles   Trains     None  "
      ]
     },
     "execution_count": 42,
     "metadata": {},
     "output_type": "execute_result"
    }
   ],
   "source": [
    "df.head(2)"
   ]
  },
  {
   "cell_type": "markdown",
   "metadata": {},
   "source": [
    "### Changing types of columns (final check)"
   ]
  },
  {
   "cell_type": "code",
   "execution_count": 43,
   "metadata": {
    "ExecuteTime": {
     "end_time": "2020-03-25T19:48:56.977414Z",
     "start_time": "2020-03-25T19:48:56.968474Z"
    }
   },
   "outputs": [
    {
     "name": "stdout",
     "output_type": "stream",
     "text": [
      "<class 'pandas.core.frame.DataFrame'>\n",
      "Int64Index: 7366 entries, 0 to 9999\n",
      "Data columns (total 12 columns):\n",
      "uniq_id               7366 non-null object\n",
      "product_name          7366 non-null object\n",
      "manufacturer          7366 non-null object\n",
      "num_reviews           7366 non-null object\n",
      "num_answ_questions    7366 non-null float64\n",
      "price                 7366 non-null float64\n",
      "ave_review_rating     7366 non-null float64\n",
      "main_cat              7366 non-null object\n",
      "sub_cat1              7366 non-null object\n",
      "sub_cat2              4278 non-null object\n",
      "sub_cat3              1156 non-null object\n",
      "sub_cat4              75 non-null object\n",
      "dtypes: float64(3), object(9)\n",
      "memory usage: 1.0+ MB\n"
     ]
    }
   ],
   "source": [
    "df.info()\n",
    "\n",
    "#only need to change num:reviews to numeric"
   ]
  },
  {
   "cell_type": "code",
   "execution_count": 44,
   "metadata": {
    "ExecuteTime": {
     "end_time": "2020-03-25T19:48:56.985392Z",
     "start_time": "2020-03-25T19:48:56.978411Z"
    }
   },
   "outputs": [],
   "source": [
    "#deleting comma from number of reviews\n",
    "\n",
    "df['num_reviews'] = df['num_reviews'].str.replace(',', '')"
   ]
  },
  {
   "cell_type": "code",
   "execution_count": 45,
   "metadata": {
    "ExecuteTime": {
     "end_time": "2020-03-25T19:48:56.994368Z",
     "start_time": "2020-03-25T19:48:56.986395Z"
    }
   },
   "outputs": [],
   "source": [
    "#converting to numeric\n",
    "\n",
    "price_to_numeric('num_reviews')"
   ]
  },
  {
   "cell_type": "code",
   "execution_count": 46,
   "metadata": {
    "ExecuteTime": {
     "end_time": "2020-03-25T19:48:57.003343Z",
     "start_time": "2020-03-25T19:48:56.995365Z"
    },
    "scrolled": true
   },
   "outputs": [
    {
     "name": "stdout",
     "output_type": "stream",
     "text": [
      "<class 'pandas.core.frame.DataFrame'>\n",
      "Int64Index: 7366 entries, 0 to 9999\n",
      "Data columns (total 12 columns):\n",
      "uniq_id               7366 non-null object\n",
      "product_name          7366 non-null object\n",
      "manufacturer          7366 non-null object\n",
      "num_reviews           7366 non-null int64\n",
      "num_answ_questions    7366 non-null float64\n",
      "price                 7366 non-null float64\n",
      "ave_review_rating     7366 non-null float64\n",
      "main_cat              7366 non-null object\n",
      "sub_cat1              7366 non-null object\n",
      "sub_cat2              4278 non-null object\n",
      "sub_cat3              1156 non-null object\n",
      "sub_cat4              75 non-null object\n",
      "dtypes: float64(3), int64(1), object(8)\n",
      "memory usage: 1.0+ MB\n"
     ]
    }
   ],
   "source": [
    "df.info()\n",
    "\n",
    "#now all numeric columns have a correct type"
   ]
  },
  {
   "cell_type": "markdown",
   "metadata": {},
   "source": [
    "## Hypothesis testing"
   ]
  },
  {
   "cell_type": "markdown",
   "metadata": {},
   "source": [
    "### Testing average price in 3 top categories"
   ]
  },
  {
   "cell_type": "markdown",
   "metadata": {},
   "source": [
    "#### Identifying 3 top selling categories and calculating their ave prices"
   ]
  },
  {
   "cell_type": "code",
   "execution_count": 49,
   "metadata": {
    "ExecuteTime": {
     "end_time": "2020-03-25T19:50:12.251812Z",
     "start_time": "2020-03-25T19:50:12.244856Z"
    },
    "scrolled": true
   },
   "outputs": [
    {
     "data": {
      "text/plain": [
       "Hobbies                             1151\n",
       "Die-Cast & Toy Vehicles             1006\n",
       "Figures & Playsets                   843\n",
       "Games                                751\n",
       "Characters & Brands                  695\n",
       "Arts & Crafts                        623\n",
       "Party Supplies                       587\n",
       "Fancy Dress                          484\n",
       "Sports Toys & Outdoor                323\n",
       "Dolls & Accessories                  264\n",
       "Puppets & Puppet Theatres            235\n",
       "Jigsaws & Puzzles                    218\n",
       "Baby & Toddler Toys                   72\n",
       "Pretend Play                          38\n",
       "Musical Toy Instruments               12\n",
       "Novelty & Special Use                 10\n",
       "Pens, Pencils & Writing Supplies       7\n",
       "Home Accessories                       5\n",
       "Office Supplies                        5\n",
       "Bags                                   4\n",
       "Electronic Toys                        3\n",
       "Educational Toys                       3\n",
       "Gardening                              3\n",
       "Cooking & Dining                       3\n",
       "Worlds Apart                           3\n",
       "Women                                  2\n",
       "Medication & Remedies                  2\n",
       "Dogs                                   2\n",
       "Men                                    1\n",
       "Jams, Honey & Spreads                  1\n",
       "Sex & Sensuality                       1\n",
       "Sweets, Chocolate & Gum                1\n",
       "Novelty Jewellery                      1\n",
       "Laundry, Storage & Organisation        1\n",
       "Storage, Cleaning & Ring Sizers        1\n",
       "Bedding & Linens                       1\n",
       "Indoor Lighting                        1\n",
       "Camping & Hiking                       1\n",
       "Supporters' Gear                       1\n",
       "Handbags & Shoulder Bags               1\n",
       "Name: main_cat, dtype: int64"
      ]
     },
     "execution_count": 49,
     "metadata": {},
     "output_type": "execute_result"
    }
   ],
   "source": [
    "df.main_cat.value_counts()"
   ]
  },
  {
   "cell_type": "code",
   "execution_count": 78,
   "metadata": {
    "ExecuteTime": {
     "end_time": "2020-03-25T20:16:36.380301Z",
     "start_time": "2020-03-25T20:16:36.372315Z"
    }
   },
   "outputs": [
    {
     "data": {
      "text/plain": [
       "main_cat\n",
       "Die-Cast & Toy Vehicles    26.973907\n",
       "Figures & Playsets         27.133132\n",
       "Hobbies                    36.721633\n",
       "Name: price, dtype: float64"
      ]
     },
     "execution_count": 78,
     "metadata": {},
     "output_type": "execute_result"
    }
   ],
   "source": [
    "sales_top = ['Hobbies', 'Die-Cast & Toy Vehicles', 'Figures & Playsets']\n",
    "\n",
    "df_main_cat = df[df.main_cat.isin(sales_top)].groupby('main_cat')['price'].mean()\n",
    "df_main_cat"
   ]
  },
  {
   "cell_type": "markdown",
   "metadata": {},
   "source": [
    "It looks like the averages are similar, maybe only Hobbies has a higher average. Let's investigate."
   ]
  },
  {
   "cell_type": "markdown",
   "metadata": {},
   "source": [
    "#### Testing hypothesis"
   ]
  },
  {
   "cell_type": "markdown",
   "metadata": {},
   "source": [
    "First check Hobbie with Die-Cast & Toy Vehicles:"
   ]
  },
  {
   "cell_type": "code",
   "execution_count": 79,
   "metadata": {
    "ExecuteTime": {
     "end_time": "2020-03-25T20:17:45.979923Z",
     "start_time": "2020-03-25T20:17:45.972942Z"
    }
   },
   "outputs": [
    {
     "name": "stdout",
     "output_type": "stream",
     "text": [
      "Ttest_1sampResult(statistic=3.5335734681420066, pvalue=0.00042625255609518163)\n",
      "True\n",
      "We reject H0, the average price in these two groups is significantly different\n"
     ]
    }
   ],
   "source": [
    "#H0: ave price in Hobbies and Die-Cast & Toy Vehicles are not statisticaly different\n",
    "\n",
    "#filtering hobbies \n",
    "\n",
    "hobbies = df.loc[df.main_cat == 'Hobbies']\n",
    "\n",
    "alpha = 0.05\n",
    "r = stats.ttest_1samp(hobbies['price'], df_main_cat[0])\n",
    "print(r)\n",
    "print(r.pvalue < alpha) \n",
    "\n",
    "if (r.pvalue < alpha):\n",
    "    print(\"We reject H0, the average price in these two groups is significantly different\")\n",
    "else: \n",
    "    print('We accept H0')"
   ]
  },
  {
   "cell_type": "markdown",
   "metadata": {},
   "source": [
    "Now check Hobbies and Figures & Playsets:"
   ]
  },
  {
   "cell_type": "code",
   "execution_count": 80,
   "metadata": {
    "ExecuteTime": {
     "end_time": "2020-03-25T20:18:57.131548Z",
     "start_time": "2020-03-25T20:18:57.124568Z"
    }
   },
   "outputs": [
    {
     "name": "stdout",
     "output_type": "stream",
     "text": [
      "Ttest_1sampResult(statistic=3.475853997486181, pvalue=0.0005282169127201912)\n",
      "True\n",
      "We reject H0, the average price in these two groups is significantly different\n"
     ]
    }
   ],
   "source": [
    "alpha = 0.05\n",
    "r = stats.ttest_1samp(hobbies['price'], df_main_cat[1])\n",
    "print(r)\n",
    "print(r.pvalue < alpha) \n",
    "\n",
    "if (r.pvalue < alpha):\n",
    "    print(\"We reject H0, the average price in these two groups is significantly different\")\n",
    "else: \n",
    "    print('We accept H0')"
   ]
  },
  {
   "cell_type": "markdown",
   "metadata": {},
   "source": [
    "We now know that there is a significant difference of the average price in Hobbies, what about between Die-Cast & Toy Vehicles and Figures & Playsets:"
   ]
  },
  {
   "cell_type": "code",
   "execution_count": 81,
   "metadata": {
    "ExecuteTime": {
     "end_time": "2020-03-25T20:20:33.169901Z",
     "start_time": "2020-03-25T20:20:33.162967Z"
    }
   },
   "outputs": [
    {
     "name": "stdout",
     "output_type": "stream",
     "text": [
      "Ttest_1sampResult(statistic=-0.11235934392984534, pvalue=0.9105609275513958)\n",
      "False\n",
      "We accept H0\n"
     ]
    }
   ],
   "source": [
    "#filtering Die-Cast & Toy Vehicles \n",
    "\n",
    "die_cast = df.loc[df.main_cat == 'Die-Cast & Toy Vehicles']\n",
    "\n",
    "alpha = 0.05\n",
    "r = stats.ttest_1samp(die_cast['price'], df_main_cat[1])\n",
    "print(r)\n",
    "print(r.pvalue < alpha) \n",
    "\n",
    "if (r.pvalue < alpha):\n",
    "    print(\"We reject H0, the average price in these two groups is significantly different\")\n",
    "else: \n",
    "    print('We accept H0')"
   ]
  },
  {
   "cell_type": "markdown",
   "metadata": {},
   "source": [
    "There is no significant difference between these two groups. \n",
    "\n",
    "We now know that out of 3 most selling categories, only Hobbies (the top one), has a significantly different average price."
   ]
  },
  {
   "cell_type": "markdown",
   "metadata": {},
   "source": [
    "### Testing ave number of reviews in 3 top categories"
   ]
  },
  {
   "cell_type": "markdown",
   "metadata": {},
   "source": [
    "#### Identifying 3 top selling categories and calculating their average number of reviews"
   ]
  },
  {
   "cell_type": "code",
   "execution_count": 49,
   "metadata": {
    "ExecuteTime": {
     "end_time": "2020-03-25T19:50:12.251812Z",
     "start_time": "2020-03-25T19:50:12.244856Z"
    },
    "scrolled": true
   },
   "outputs": [
    {
     "data": {
      "text/plain": [
       "Hobbies                             1151\n",
       "Die-Cast & Toy Vehicles             1006\n",
       "Figures & Playsets                   843\n",
       "Games                                751\n",
       "Characters & Brands                  695\n",
       "Arts & Crafts                        623\n",
       "Party Supplies                       587\n",
       "Fancy Dress                          484\n",
       "Sports Toys & Outdoor                323\n",
       "Dolls & Accessories                  264\n",
       "Puppets & Puppet Theatres            235\n",
       "Jigsaws & Puzzles                    218\n",
       "Baby & Toddler Toys                   72\n",
       "Pretend Play                          38\n",
       "Musical Toy Instruments               12\n",
       "Novelty & Special Use                 10\n",
       "Pens, Pencils & Writing Supplies       7\n",
       "Home Accessories                       5\n",
       "Office Supplies                        5\n",
       "Bags                                   4\n",
       "Electronic Toys                        3\n",
       "Educational Toys                       3\n",
       "Gardening                              3\n",
       "Cooking & Dining                       3\n",
       "Worlds Apart                           3\n",
       "Women                                  2\n",
       "Medication & Remedies                  2\n",
       "Dogs                                   2\n",
       "Men                                    1\n",
       "Jams, Honey & Spreads                  1\n",
       "Sex & Sensuality                       1\n",
       "Sweets, Chocolate & Gum                1\n",
       "Novelty Jewellery                      1\n",
       "Laundry, Storage & Organisation        1\n",
       "Storage, Cleaning & Ring Sizers        1\n",
       "Bedding & Linens                       1\n",
       "Indoor Lighting                        1\n",
       "Camping & Hiking                       1\n",
       "Supporters' Gear                       1\n",
       "Handbags & Shoulder Bags               1\n",
       "Name: main_cat, dtype: int64"
      ]
     },
     "execution_count": 49,
     "metadata": {},
     "output_type": "execute_result"
    }
   ],
   "source": [
    "df.main_cat.value_counts()"
   ]
  },
  {
   "cell_type": "code",
   "execution_count": 84,
   "metadata": {
    "ExecuteTime": {
     "end_time": "2020-03-25T20:29:41.433111Z",
     "start_time": "2020-03-25T20:29:41.425142Z"
    }
   },
   "outputs": [
    {
     "data": {
      "text/plain": [
       "main_cat\n",
       "Die-Cast & Toy Vehicles    4.728628\n",
       "Figures & Playsets         7.354686\n",
       "Hobbies                    4.503910\n",
       "Name: num_reviews, dtype: float64"
      ]
     },
     "execution_count": 84,
     "metadata": {},
     "output_type": "execute_result"
    }
   ],
   "source": [
    "sales_top = ['Hobbies', 'Die-Cast & Toy Vehicles', 'Figures & Playsets']\n",
    "\n",
    "df_main_cat = df[df.main_cat.isin(sales_top)].groupby('main_cat')['num_reviews'].mean()\n",
    "df_main_cat"
   ]
  },
  {
   "cell_type": "markdown",
   "metadata": {},
   "source": [
    "It looks like the averages are similar, maybe only Figures & Playsets has a higher average. Let's investigate."
   ]
  },
  {
   "cell_type": "markdown",
   "metadata": {},
   "source": [
    "#### Testing hypothesis"
   ]
  },
  {
   "cell_type": "markdown",
   "metadata": {},
   "source": [
    "First check Hobbie with Die-Cast & Toy Vehicles:"
   ]
  },
  {
   "cell_type": "code",
   "execution_count": 85,
   "metadata": {
    "ExecuteTime": {
     "end_time": "2020-03-25T20:32:51.763043Z",
     "start_time": "2020-03-25T20:32:51.756062Z"
    }
   },
   "outputs": [
    {
     "name": "stdout",
     "output_type": "stream",
     "text": [
      "Ttest_1sampResult(statistic=-0.6447855984240352, pvalue=0.5191947349436974)\n",
      "False\n",
      "We accept H0\n"
     ]
    }
   ],
   "source": [
    "#H0: ave number of reviews in Hobbies and Die-Cast & Toy Vehicles are not statisticaly different\n",
    "\n",
    "alpha = 0.05\n",
    "r = stats.ttest_1samp(hobbies['num_reviews'], df_main_cat[0])\n",
    "print(r)\n",
    "print(r.pvalue < alpha) \n",
    "\n",
    "if (r.pvalue < alpha):\n",
    "    print(\"We reject H0, the average number of reviews in these two groups is significantly different\")\n",
    "else: \n",
    "    print('We accept H0')"
   ]
  },
  {
   "cell_type": "markdown",
   "metadata": {},
   "source": [
    "Our assumption was correct, there is no significant difference between the numbers of reviews in Hobbies and Die-Cast & Toy Vehicles\n",
    "\n",
    "Let's investigate Hobbies and Figures & Playsets:"
   ]
  },
  {
   "cell_type": "code",
   "execution_count": 86,
   "metadata": {
    "ExecuteTime": {
     "end_time": "2020-03-25T20:34:43.208633Z",
     "start_time": "2020-03-25T20:34:43.200655Z"
    }
   },
   "outputs": [
    {
     "name": "stdout",
     "output_type": "stream",
     "text": [
      "Ttest_1sampResult(statistic=-8.179738653689732, pvalue=7.467243750014787e-16)\n",
      "True\n",
      "We reject H0, the average number of reviews in these two groups is significantly different\n"
     ]
    }
   ],
   "source": [
    "#H0: ave number of reviews in Hobbies and Figures & Playsets are not statisticaly different\n",
    "\n",
    "alpha = 0.05\n",
    "r = stats.ttest_1samp(hobbies['num_reviews'], df_main_cat[1])\n",
    "print(r)\n",
    "print(r.pvalue < alpha) \n",
    "\n",
    "if (r.pvalue < alpha):\n",
    "    print(\"We reject H0, the average number of reviews in these two groups is significantly different\")\n",
    "else: \n",
    "    print('We accept H0')"
   ]
  },
  {
   "cell_type": "markdown",
   "metadata": {},
   "source": [
    "We can see that the average is significantly different between these two groups. What about Die-Cast & Toy Vehicles and Figures & Playsets:"
   ]
  },
  {
   "cell_type": "code",
   "execution_count": 87,
   "metadata": {
    "ExecuteTime": {
     "end_time": "2020-03-25T20:36:18.040256Z",
     "start_time": "2020-03-25T20:36:18.032278Z"
    }
   },
   "outputs": [
    {
     "name": "stdout",
     "output_type": "stream",
     "text": [
      "Ttest_1sampResult(statistic=13.844567374876727, pvalue=5.036857276284809e-40)\n",
      "True\n",
      "We reject H0, the average price in these two groups is significantly different\n"
     ]
    }
   ],
   "source": [
    "#filtering Die-Cast & Toy Vehicles \n",
    "\n",
    "die_cast = df.loc[df.main_cat == 'Die-Cast & Toy Vehicles']\n",
    "\n",
    "alpha = 0.05\n",
    "r = stats.ttest_1samp(die_cast['price'], df_main_cat[1])\n",
    "print(r)\n",
    "print(r.pvalue < alpha) \n",
    "\n",
    "if (r.pvalue < alpha):\n",
    "    print(\"We reject H0, the average price in these two groups is significantly different\")\n",
    "else: \n",
    "    print('We accept H0')"
   ]
  },
  {
   "cell_type": "markdown",
   "metadata": {},
   "source": [
    "The average number of reviews is also significantly different between Die-Cast & Toy Vehicles and Figures & Playsets.\n",
    "\n",
    "We now know that out of 3 most selling categories, only Figures & Playsets, has a significantly different average number of reviews."
   ]
  },
  {
   "cell_type": "code",
   "execution_count": null,
   "metadata": {},
   "outputs": [],
   "source": []
  },
  {
   "cell_type": "markdown",
   "metadata": {},
   "source": [
    "## Additional testing"
   ]
  },
  {
   "cell_type": "markdown",
   "metadata": {},
   "source": [
    "### ANOVA"
   ]
  },
  {
   "cell_type": "code",
   "execution_count": 90,
   "metadata": {
    "ExecuteTime": {
     "end_time": "2020-03-25T20:48:12.043584Z",
     "start_time": "2020-03-25T20:48:12.037600Z"
    }
   },
   "outputs": [],
   "source": [
    "#adding column with labels\n",
    "\n",
    "df['rating_label'] = df['ave_review_rating'].apply(lambda x: 'good' if x > 4 else ('medium' if (x < 4) & (x > 3) else 'low'))"
   ]
  },
  {
   "cell_type": "code",
   "execution_count": 103,
   "metadata": {
    "ExecuteTime": {
     "end_time": "2020-03-25T20:58:06.090733Z",
     "start_time": "2020-03-25T20:58:06.087754Z"
    }
   },
   "outputs": [],
   "source": [
    "#adding column for transaction (in all cases 1)\n",
    "\n",
    "df['sale'] = 1"
   ]
  },
  {
   "cell_type": "code",
   "execution_count": 105,
   "metadata": {
    "ExecuteTime": {
     "end_time": "2020-03-25T20:59:43.424736Z",
     "start_time": "2020-03-25T20:59:43.383846Z"
    }
   },
   "outputs": [
    {
     "data": {
      "text/html": [
       "<div>\n",
       "<style scoped>\n",
       "    .dataframe tbody tr th:only-of-type {\n",
       "        vertical-align: middle;\n",
       "    }\n",
       "\n",
       "    .dataframe tbody tr th {\n",
       "        vertical-align: top;\n",
       "    }\n",
       "\n",
       "    .dataframe thead th {\n",
       "        text-align: right;\n",
       "    }\n",
       "</style>\n",
       "<table border=\"1\" class=\"dataframe\">\n",
       "  <thead>\n",
       "    <tr style=\"text-align: right;\">\n",
       "      <th></th>\n",
       "      <th>sum_sq</th>\n",
       "      <th>df</th>\n",
       "      <th>F</th>\n",
       "      <th>PR(&gt;F)</th>\n",
       "    </tr>\n",
       "  </thead>\n",
       "  <tbody>\n",
       "    <tr>\n",
       "      <td>C(df[\"rating_label\"])</td>\n",
       "      <td>1.876863e-28</td>\n",
       "      <td>2.0</td>\n",
       "      <td>9.34902</td>\n",
       "      <td>0.000088</td>\n",
       "    </tr>\n",
       "    <tr>\n",
       "      <td>Residual</td>\n",
       "      <td>7.390798e-26</td>\n",
       "      <td>7363.0</td>\n",
       "      <td>NaN</td>\n",
       "      <td>NaN</td>\n",
       "    </tr>\n",
       "  </tbody>\n",
       "</table>\n",
       "</div>"
      ],
      "text/plain": [
       "                             sum_sq      df        F    PR(>F)\n",
       "C(df[\"rating_label\"])  1.876863e-28     2.0  9.34902  0.000088\n",
       "Residual               7.390798e-26  7363.0      NaN       NaN"
      ]
     },
     "execution_count": 105,
     "metadata": {},
     "output_type": "execute_result"
    }
   ],
   "source": [
    "#conducting ANOVA\n",
    "\n",
    "model = ols('df.sale ~ C(df[\"rating_label\"])', data=df).fit()\n",
    "anova_table = sm.stats.anova_lm(model, typ=2)\n",
    "anova_table\n",
    "\n",
    "#Sale by rating label"
   ]
  },
  {
   "cell_type": "code",
   "execution_count": 106,
   "metadata": {
    "ExecuteTime": {
     "end_time": "2020-03-25T21:00:09.472353Z",
     "start_time": "2020-03-25T21:00:09.468363Z"
    }
   },
   "outputs": [
    {
     "name": "stdout",
     "output_type": "stream",
     "text": [
      "True\n"
     ]
    }
   ],
   "source": [
    "print(anova_table['PR(>F)'][0] < 0.05)"
   ]
  },
  {
   "cell_type": "markdown",
   "metadata": {
    "ExecuteTime": {
     "end_time": "2020-03-25T21:00:47.009383Z",
     "start_time": "2020-03-25T21:00:47.006393Z"
    }
   },
   "source": [
    "The p value is lower than 0.05 so it's statistically significant, the number of sales is different if the rating label is different"
   ]
  },
  {
   "cell_type": "code",
   "execution_count": null,
   "metadata": {},
   "outputs": [],
   "source": []
  },
  {
   "cell_type": "code",
   "execution_count": null,
   "metadata": {},
   "outputs": [],
   "source": []
  },
  {
   "cell_type": "code",
   "execution_count": null,
   "metadata": {},
   "outputs": [],
   "source": [
    "#predict which category will have best revies. But need to know what a good review depend on: price? answered questions?"
   ]
  },
  {
   "cell_type": "code",
   "execution_count": 109,
   "metadata": {
    "ExecuteTime": {
     "end_time": "2020-03-25T21:15:10.742339Z",
     "start_time": "2020-03-25T21:15:10.733362Z"
    }
   },
   "outputs": [
    {
     "data": {
      "text/html": [
       "<div>\n",
       "<style scoped>\n",
       "    .dataframe tbody tr th:only-of-type {\n",
       "        vertical-align: middle;\n",
       "    }\n",
       "\n",
       "    .dataframe tbody tr th {\n",
       "        vertical-align: top;\n",
       "    }\n",
       "\n",
       "    .dataframe thead th {\n",
       "        text-align: right;\n",
       "    }\n",
       "</style>\n",
       "<table border=\"1\" class=\"dataframe\">\n",
       "  <thead>\n",
       "    <tr style=\"text-align: right;\">\n",
       "      <th></th>\n",
       "      <th>num_reviews</th>\n",
       "      <th>num_answ_questions</th>\n",
       "      <th>price</th>\n",
       "      <th>ave_review_rating</th>\n",
       "      <th>sale</th>\n",
       "    </tr>\n",
       "  </thead>\n",
       "  <tbody>\n",
       "    <tr>\n",
       "      <td>num_reviews</td>\n",
       "      <td>1.000000</td>\n",
       "      <td>0.112026</td>\n",
       "      <td>-0.029144</td>\n",
       "      <td>-0.112962</td>\n",
       "      <td>NaN</td>\n",
       "    </tr>\n",
       "    <tr>\n",
       "      <td>num_answ_questions</td>\n",
       "      <td>0.112026</td>\n",
       "      <td>1.000000</td>\n",
       "      <td>0.003391</td>\n",
       "      <td>-0.028188</td>\n",
       "      <td>NaN</td>\n",
       "    </tr>\n",
       "    <tr>\n",
       "      <td>price</td>\n",
       "      <td>-0.029144</td>\n",
       "      <td>0.003391</td>\n",
       "      <td>1.000000</td>\n",
       "      <td>0.021314</td>\n",
       "      <td>NaN</td>\n",
       "    </tr>\n",
       "    <tr>\n",
       "      <td>ave_review_rating</td>\n",
       "      <td>-0.112962</td>\n",
       "      <td>-0.028188</td>\n",
       "      <td>0.021314</td>\n",
       "      <td>1.000000</td>\n",
       "      <td>NaN</td>\n",
       "    </tr>\n",
       "    <tr>\n",
       "      <td>sale</td>\n",
       "      <td>NaN</td>\n",
       "      <td>NaN</td>\n",
       "      <td>NaN</td>\n",
       "      <td>NaN</td>\n",
       "      <td>NaN</td>\n",
       "    </tr>\n",
       "  </tbody>\n",
       "</table>\n",
       "</div>"
      ],
      "text/plain": [
       "                    num_reviews  num_answ_questions     price  \\\n",
       "num_reviews            1.000000            0.112026 -0.029144   \n",
       "num_answ_questions     0.112026            1.000000  0.003391   \n",
       "price                 -0.029144            0.003391  1.000000   \n",
       "ave_review_rating     -0.112962           -0.028188  0.021314   \n",
       "sale                        NaN                 NaN       NaN   \n",
       "\n",
       "                    ave_review_rating  sale  \n",
       "num_reviews                 -0.112962   NaN  \n",
       "num_answ_questions          -0.028188   NaN  \n",
       "price                        0.021314   NaN  \n",
       "ave_review_rating            1.000000   NaN  \n",
       "sale                              NaN   NaN  "
      ]
     },
     "execution_count": 109,
     "metadata": {},
     "output_type": "execute_result"
    }
   ],
   "source": [
    "df.corr()\n"
   ]
  },
  {
   "cell_type": "code",
   "execution_count": null,
   "metadata": {},
   "outputs": [],
   "source": []
  }
 ],
 "metadata": {
  "kernelspec": {
   "display_name": "Python 3",
   "language": "python",
   "name": "python3"
  },
  "language_info": {
   "codemirror_mode": {
    "name": "ipython",
    "version": 3
   },
   "file_extension": ".py",
   "mimetype": "text/x-python",
   "name": "python",
   "nbconvert_exporter": "python",
   "pygments_lexer": "ipython3",
   "version": "3.7.4"
  },
  "toc": {
   "base_numbering": 1,
   "nav_menu": {},
   "number_sections": true,
   "sideBar": true,
   "skip_h1_title": false,
   "title_cell": "Table of Contents",
   "title_sidebar": "Contents",
   "toc_cell": true,
   "toc_position": {},
   "toc_section_display": true,
   "toc_window_display": false
  }
 },
 "nbformat": 4,
 "nbformat_minor": 2
}
